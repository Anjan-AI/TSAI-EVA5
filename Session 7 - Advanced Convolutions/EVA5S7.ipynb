{
  "nbformat": 4,
  "nbformat_minor": 0,
  "metadata": {
    "colab": {
      "name": "EVA5S7.ipynb",
      "provenance": [],
      "collapsed_sections": []
    },
    "kernelspec": {
      "name": "python3",
      "display_name": "Python 3"
    },
    "accelerator": "GPU"
  },
  "cells": [
    {
      "cell_type": "code",
      "metadata": {
        "id": "tFb35Lz1IGWb",
        "colab_type": "code",
        "colab": {}
      },
      "source": [
        "from train_test import train, test\n",
        "from utilities import set_cuda, print_model_summary\n",
        "from dataset import Dataset\n",
        "from image_augmentations import train_transforms, test_transforms\n",
        "from models.s7_model import Net"
      ],
      "execution_count": 2,
      "outputs": []
    },
    {
      "cell_type": "code",
      "metadata": {
        "id": "w-M3x46ZJ5DX",
        "colab_type": "code",
        "colab": {
          "base_uri": "https://localhost:8080/",
          "height": 51
        },
        "outputId": "41b22e9f-8d84-4ac7-de62-38103d44fa50"
      },
      "source": [
        "Data = Dataset(train_transforms, test_transforms)\n",
        "trainset = Data.set_dataset(train = True)\n",
        "testset = Data.set_dataset(train = False)"
      ],
      "execution_count": 3,
      "outputs": [
        {
          "output_type": "stream",
          "text": [
            "Files already downloaded and verified\n",
            "Files already downloaded and verified\n"
          ],
          "name": "stdout"
        }
      ]
    },
    {
      "cell_type": "code",
      "metadata": {
        "id": "X45pzba6J_TX",
        "colab_type": "code",
        "colab": {}
      },
      "source": [
        "train_loader = Data.get_dataset(trainset)\n",
        "test_loader = Data.get_dataset(testset)"
      ],
      "execution_count": 4,
      "outputs": []
    },
    {
      "cell_type": "code",
      "metadata": {
        "id": "UlEQaEvsKBz3",
        "colab_type": "code",
        "colab": {}
      },
      "source": [
        "device = set_cuda()"
      ],
      "execution_count": 5,
      "outputs": []
    },
    {
      "cell_type": "code",
      "metadata": {
        "id": "b3ZWQEG7KF2v",
        "colab_type": "code",
        "colab": {}
      },
      "source": [
        "model_class = Net()"
      ],
      "execution_count": 6,
      "outputs": []
    },
    {
      "cell_type": "code",
      "metadata": {
        "id": "y2XszY7oKXQ2",
        "colab_type": "code",
        "colab": {
          "base_uri": "https://localhost:8080/",
          "height": 912
        },
        "outputId": "71ddfa5d-4543-4438-9066-56a1f51c16f1"
      },
      "source": [
        "print_model_summary(model_class,input_size = (3,32,32))"
      ],
      "execution_count": 7,
      "outputs": [
        {
          "output_type": "stream",
          "text": [
            "cuda\n",
            "----------------------------------------------------------------\n",
            "        Layer (type)               Output Shape         Param #\n",
            "================================================================\n",
            "            Conv2d-1           [-1, 16, 32, 32]             432\n",
            "              ReLU-2           [-1, 16, 32, 32]               0\n",
            "       BatchNorm2d-3           [-1, 16, 32, 32]              32\n",
            "           Dropout-4           [-1, 16, 32, 32]               0\n",
            "            Conv2d-5           [-1, 32, 32, 32]           4,608\n",
            "              ReLU-6           [-1, 32, 32, 32]               0\n",
            "       BatchNorm2d-7           [-1, 32, 32, 32]              64\n",
            "           Dropout-8           [-1, 32, 32, 32]               0\n",
            "         MaxPool2d-9           [-1, 32, 16, 16]               0\n",
            "           Conv2d-10           [-1, 64, 16, 16]          18,432\n",
            "             ReLU-11           [-1, 64, 16, 16]               0\n",
            "      BatchNorm2d-12           [-1, 64, 16, 16]             128\n",
            "          Dropout-13           [-1, 64, 16, 16]               0\n",
            "           Conv2d-14           [-1, 64, 16, 16]          36,864\n",
            "             ReLU-15           [-1, 64, 16, 16]               0\n",
            "      BatchNorm2d-16           [-1, 64, 16, 16]             128\n",
            "          Dropout-17           [-1, 64, 16, 16]               0\n",
            "        MaxPool2d-18             [-1, 64, 8, 8]               0\n",
            "           Conv2d-19            [-1, 128, 8, 8]          73,728\n",
            "             ReLU-20            [-1, 128, 8, 8]               0\n",
            "      BatchNorm2d-21            [-1, 128, 8, 8]             256\n",
            "          Dropout-22            [-1, 128, 8, 8]               0\n",
            "           Conv2d-23            [-1, 128, 8, 8]         147,456\n",
            "             ReLU-24            [-1, 128, 8, 8]               0\n",
            "      BatchNorm2d-25            [-1, 128, 8, 8]             256\n",
            "          Dropout-26            [-1, 128, 8, 8]               0\n",
            "        MaxPool2d-27            [-1, 128, 4, 4]               0\n",
            "           Conv2d-28            [-1, 128, 4, 4]         147,456\n",
            "             ReLU-29            [-1, 128, 4, 4]               0\n",
            "      BatchNorm2d-30            [-1, 128, 4, 4]             256\n",
            "          Dropout-31            [-1, 128, 4, 4]               0\n",
            "           Conv2d-32            [-1, 128, 4, 4]           1,152\n",
            "           Conv2d-33            [-1, 256, 4, 4]          32,768\n",
            "             ReLU-34            [-1, 256, 4, 4]               0\n",
            "      BatchNorm2d-35            [-1, 256, 4, 4]             512\n",
            "          Dropout-36            [-1, 256, 4, 4]               0\n",
            "AdaptiveAvgPool2d-37            [-1, 256, 1, 1]               0\n",
            "           Linear-38                   [-1, 10]           2,570\n",
            "================================================================\n",
            "Total params: 467,098\n",
            "Trainable params: 467,098\n",
            "Non-trainable params: 0\n",
            "----------------------------------------------------------------\n",
            "Input size (MB): 0.01\n",
            "Forward/backward pass size (MB): 3.31\n",
            "Params size (MB): 1.78\n",
            "Estimated Total Size (MB): 5.11\n",
            "----------------------------------------------------------------\n",
            "None\n"
          ],
          "name": "stdout"
        }
      ]
    },
    {
      "cell_type": "code",
      "metadata": {
        "id": "pa-uZbdVKX71",
        "colab_type": "code",
        "colab": {}
      },
      "source": [
        "from torch import optim\n",
        "model =  model_class.to(device)\n",
        "optimizer = optim.SGD(model.parameters(), lr=.01, momentum=0.9)"
      ],
      "execution_count": 8,
      "outputs": []
    },
    {
      "cell_type": "code",
      "metadata": {
        "id": "z3NrpzO3KwHm",
        "colab_type": "code",
        "colab": {
          "base_uri": "https://localhost:8080/",
          "height": 34
        },
        "outputId": "608f846a-3ca3-42cf-9da8-10a0bf99851c"
      },
      "source": [
        "device"
      ],
      "execution_count": 9,
      "outputs": [
        {
          "output_type": "execute_result",
          "data": {
            "text/plain": [
              "device(type='cuda')"
            ]
          },
          "metadata": {
            "tags": []
          },
          "execution_count": 9
        }
      ]
    },
    {
      "cell_type": "code",
      "metadata": {
        "id": "BOrEohhjKbnF",
        "colab_type": "code",
        "colab": {
          "base_uri": "https://localhost:8080/",
          "height": 1000
        },
        "outputId": "25cf76e9-a9ef-4660-8361-f4dde4cad9dd"
      },
      "source": [
        "EPOCHS = 20\n",
        "for epoch in range(EPOCHS):\n",
        "    print(\"EPOCH:\", epoch)\n",
        "    train(model, device, train_loader, optimizer, epoch)\n",
        "    # scheduler.step()\n",
        "    test(model, device, test_loader)"
      ],
      "execution_count": 10,
      "outputs": [
        {
          "output_type": "stream",
          "text": [
            "\r  0%|          | 0/391 [00:00<?, ?it/s]"
          ],
          "name": "stderr"
        },
        {
          "output_type": "stream",
          "text": [
            "EPOCH: 0\n"
          ],
          "name": "stdout"
        },
        {
          "output_type": "stream",
          "text": [
            "Loss=1.2670176029205322 Batch_id=390 Accuracy=47.83: 100%|██████████| 391/391 [00:17<00:00, 21.82it/s]\n",
            "  0%|          | 0/391 [00:00<?, ?it/s]"
          ],
          "name": "stderr"
        },
        {
          "output_type": "stream",
          "text": [
            "\n",
            "Test set: Average loss: 0.0100, Accuracy: 5534/10000 (55.34%)\n",
            "\n",
            "EPOCH: 1\n"
          ],
          "name": "stdout"
        },
        {
          "output_type": "stream",
          "text": [
            "Loss=0.8131823539733887 Batch_id=390 Accuracy=61.92: 100%|██████████| 391/391 [00:18<00:00, 21.12it/s]\n",
            "  0%|          | 0/391 [00:00<?, ?it/s]"
          ],
          "name": "stderr"
        },
        {
          "output_type": "stream",
          "text": [
            "\n",
            "Test set: Average loss: 0.0071, Accuracy: 6849/10000 (68.49%)\n",
            "\n",
            "EPOCH: 2\n"
          ],
          "name": "stdout"
        },
        {
          "output_type": "stream",
          "text": [
            "Loss=0.8417479395866394 Batch_id=390 Accuracy=67.61: 100%|██████████| 391/391 [00:18<00:00, 21.59it/s]\n",
            "  0%|          | 0/391 [00:00<?, ?it/s]"
          ],
          "name": "stderr"
        },
        {
          "output_type": "stream",
          "text": [
            "\n",
            "Test set: Average loss: 0.0067, Accuracy: 7109/10000 (71.09%)\n",
            "\n",
            "EPOCH: 3\n"
          ],
          "name": "stdout"
        },
        {
          "output_type": "stream",
          "text": [
            "Loss=0.978293240070343 Batch_id=390 Accuracy=70.84: 100%|██████████| 391/391 [00:17<00:00, 21.74it/s]\n",
            "  0%|          | 0/391 [00:00<?, ?it/s]"
          ],
          "name": "stderr"
        },
        {
          "output_type": "stream",
          "text": [
            "\n",
            "Test set: Average loss: 0.0061, Accuracy: 7338/10000 (73.38%)\n",
            "\n",
            "EPOCH: 4\n"
          ],
          "name": "stdout"
        },
        {
          "output_type": "stream",
          "text": [
            "Loss=0.7869402170181274 Batch_id=390 Accuracy=73.25: 100%|██████████| 391/391 [00:18<00:00, 21.26it/s]\n",
            "  0%|          | 0/391 [00:00<?, ?it/s]"
          ],
          "name": "stderr"
        },
        {
          "output_type": "stream",
          "text": [
            "\n",
            "Test set: Average loss: 0.0058, Accuracy: 7533/10000 (75.33%)\n",
            "\n",
            "EPOCH: 5\n"
          ],
          "name": "stdout"
        },
        {
          "output_type": "stream",
          "text": [
            "Loss=0.6825851202011108 Batch_id=390 Accuracy=75.18: 100%|██████████| 391/391 [00:18<00:00, 21.56it/s]\n",
            "  0%|          | 0/391 [00:00<?, ?it/s]"
          ],
          "name": "stderr"
        },
        {
          "output_type": "stream",
          "text": [
            "\n",
            "Test set: Average loss: 0.0055, Accuracy: 7667/10000 (76.67%)\n",
            "\n",
            "EPOCH: 6\n"
          ],
          "name": "stdout"
        },
        {
          "output_type": "stream",
          "text": [
            "Loss=0.8117278814315796 Batch_id=390 Accuracy=76.60: 100%|██████████| 391/391 [00:19<00:00, 20.40it/s]\n",
            "  0%|          | 0/391 [00:00<?, ?it/s]"
          ],
          "name": "stderr"
        },
        {
          "output_type": "stream",
          "text": [
            "\n",
            "Test set: Average loss: 0.0053, Accuracy: 7682/10000 (76.82%)\n",
            "\n",
            "EPOCH: 7\n"
          ],
          "name": "stdout"
        },
        {
          "output_type": "stream",
          "text": [
            "Loss=0.7736882567405701 Batch_id=390 Accuracy=77.59: 100%|██████████| 391/391 [00:19<00:00, 20.41it/s]\n",
            "  0%|          | 0/391 [00:00<?, ?it/s]"
          ],
          "name": "stderr"
        },
        {
          "output_type": "stream",
          "text": [
            "\n",
            "Test set: Average loss: 0.0052, Accuracy: 7807/10000 (78.07%)\n",
            "\n",
            "EPOCH: 8\n"
          ],
          "name": "stdout"
        },
        {
          "output_type": "stream",
          "text": [
            "Loss=1.0532768964767456 Batch_id=390 Accuracy=78.55: 100%|██████████| 391/391 [00:19<00:00, 20.47it/s]\n",
            "  0%|          | 0/391 [00:00<?, ?it/s]"
          ],
          "name": "stderr"
        },
        {
          "output_type": "stream",
          "text": [
            "\n",
            "Test set: Average loss: 0.0050, Accuracy: 7883/10000 (78.83%)\n",
            "\n",
            "EPOCH: 9\n"
          ],
          "name": "stdout"
        },
        {
          "output_type": "stream",
          "text": [
            "Loss=0.49845701456069946 Batch_id=390 Accuracy=79.36: 100%|██████████| 391/391 [00:19<00:00, 20.08it/s]\n",
            "  0%|          | 0/391 [00:00<?, ?it/s]"
          ],
          "name": "stderr"
        },
        {
          "output_type": "stream",
          "text": [
            "\n",
            "Test set: Average loss: 0.0045, Accuracy: 8072/10000 (80.72%)\n",
            "\n",
            "EPOCH: 10\n"
          ],
          "name": "stdout"
        },
        {
          "output_type": "stream",
          "text": [
            "Loss=0.5687121748924255 Batch_id=390 Accuracy=80.11: 100%|██████████| 391/391 [00:19<00:00, 20.20it/s]\n",
            "  0%|          | 0/391 [00:00<?, ?it/s]"
          ],
          "name": "stderr"
        },
        {
          "output_type": "stream",
          "text": [
            "\n",
            "Test set: Average loss: 0.0047, Accuracy: 7966/10000 (79.66%)\n",
            "\n",
            "EPOCH: 11\n"
          ],
          "name": "stdout"
        },
        {
          "output_type": "stream",
          "text": [
            "Loss=0.5451533198356628 Batch_id=390 Accuracy=80.91: 100%|██████████| 391/391 [00:18<00:00, 20.78it/s]\n",
            "  0%|          | 0/391 [00:00<?, ?it/s]"
          ],
          "name": "stderr"
        },
        {
          "output_type": "stream",
          "text": [
            "\n",
            "Test set: Average loss: 0.0047, Accuracy: 8024/10000 (80.24%)\n",
            "\n",
            "EPOCH: 12\n"
          ],
          "name": "stdout"
        },
        {
          "output_type": "stream",
          "text": [
            "Loss=0.6770356297492981 Batch_id=390 Accuracy=81.41: 100%|██████████| 391/391 [00:18<00:00, 20.90it/s]\n",
            "  0%|          | 0/391 [00:00<?, ?it/s]"
          ],
          "name": "stderr"
        },
        {
          "output_type": "stream",
          "text": [
            "\n",
            "Test set: Average loss: 0.0045, Accuracy: 8075/10000 (80.75%)\n",
            "\n",
            "EPOCH: 13\n"
          ],
          "name": "stdout"
        },
        {
          "output_type": "stream",
          "text": [
            "Loss=0.3159541189670563 Batch_id=390 Accuracy=82.06: 100%|██████████| 391/391 [00:19<00:00, 20.37it/s]\n",
            "  0%|          | 0/391 [00:00<?, ?it/s]"
          ],
          "name": "stderr"
        },
        {
          "output_type": "stream",
          "text": [
            "\n",
            "Test set: Average loss: 0.0042, Accuracy: 8227/10000 (82.27%)\n",
            "\n",
            "EPOCH: 14\n"
          ],
          "name": "stdout"
        },
        {
          "output_type": "stream",
          "text": [
            "Loss=0.5060826539993286 Batch_id=390 Accuracy=82.55: 100%|██████████| 391/391 [00:19<00:00, 20.32it/s]\n",
            "  0%|          | 0/391 [00:00<?, ?it/s]"
          ],
          "name": "stderr"
        },
        {
          "output_type": "stream",
          "text": [
            "\n",
            "Test set: Average loss: 0.0041, Accuracy: 8253/10000 (82.53%)\n",
            "\n",
            "EPOCH: 15\n"
          ],
          "name": "stdout"
        },
        {
          "output_type": "stream",
          "text": [
            "Loss=0.548211932182312 Batch_id=390 Accuracy=82.61: 100%|██████████| 391/391 [00:19<00:00, 20.18it/s]\n",
            "  0%|          | 0/391 [00:00<?, ?it/s]"
          ],
          "name": "stderr"
        },
        {
          "output_type": "stream",
          "text": [
            "\n",
            "Test set: Average loss: 0.0039, Accuracy: 8294/10000 (82.94%)\n",
            "\n",
            "EPOCH: 16\n"
          ],
          "name": "stdout"
        },
        {
          "output_type": "stream",
          "text": [
            "Loss=0.4341511130332947 Batch_id=390 Accuracy=83.34: 100%|██████████| 391/391 [00:19<00:00, 19.95it/s]\n",
            "  0%|          | 0/391 [00:00<?, ?it/s]"
          ],
          "name": "stderr"
        },
        {
          "output_type": "stream",
          "text": [
            "\n",
            "Test set: Average loss: 0.0040, Accuracy: 8292/10000 (82.92%)\n",
            "\n",
            "EPOCH: 17\n"
          ],
          "name": "stdout"
        },
        {
          "output_type": "stream",
          "text": [
            "Loss=0.5264232158660889 Batch_id=390 Accuracy=83.84: 100%|██████████| 391/391 [00:19<00:00, 19.96it/s]\n",
            "  0%|          | 0/391 [00:00<?, ?it/s]"
          ],
          "name": "stderr"
        },
        {
          "output_type": "stream",
          "text": [
            "\n",
            "Test set: Average loss: 0.0040, Accuracy: 8286/10000 (82.86%)\n",
            "\n",
            "EPOCH: 18\n"
          ],
          "name": "stdout"
        },
        {
          "output_type": "stream",
          "text": [
            "Loss=0.3640556037425995 Batch_id=390 Accuracy=83.85: 100%|██████████| 391/391 [00:19<00:00, 20.03it/s]\n",
            "  0%|          | 0/391 [00:00<?, ?it/s]"
          ],
          "name": "stderr"
        },
        {
          "output_type": "stream",
          "text": [
            "\n",
            "Test set: Average loss: 0.0041, Accuracy: 8354/10000 (83.54%)\n",
            "\n",
            "EPOCH: 19\n"
          ],
          "name": "stdout"
        },
        {
          "output_type": "stream",
          "text": [
            "Loss=0.3883877098560333 Batch_id=390 Accuracy=84.34: 100%|██████████| 391/391 [00:18<00:00, 20.79it/s]\n"
          ],
          "name": "stderr"
        },
        {
          "output_type": "stream",
          "text": [
            "\n",
            "Test set: Average loss: 0.0040, Accuracy: 8361/10000 (83.61%)\n",
            "\n"
          ],
          "name": "stdout"
        }
      ]
    },
    {
      "cell_type": "code",
      "metadata": {
        "id": "ygF5MbGOKd39",
        "colab_type": "code",
        "colab": {}
      },
      "source": [
        ""
      ],
      "execution_count": null,
      "outputs": []
    }
  ]
}