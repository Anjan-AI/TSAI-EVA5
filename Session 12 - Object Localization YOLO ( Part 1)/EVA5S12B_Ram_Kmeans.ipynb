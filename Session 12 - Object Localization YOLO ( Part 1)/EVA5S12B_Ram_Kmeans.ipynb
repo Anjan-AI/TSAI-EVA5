{
  "nbformat": 4,
  "nbformat_minor": 0,
  "metadata": {
    "colab": {
      "name": "EVA5S12B_Ram_Kmeans.ipynb",
      "provenance": []
    },
    "kernelspec": {
      "name": "python3",
      "display_name": "Python 3"
    }
  },
  "cells": [
    {
      "cell_type": "markdown",
      "metadata": {
        "id": "uZ5UPyrl2lEi"
      },
      "source": [
        "#Finding the best K using K-means and IOU method.\n",
        "##COCO JSON File\n",
        "###keys :\n",
        "\n",
        "#### 1. Info:\n",
        "\n",
        "Genric Infoormation on the file like year, version, url, description\n",
        "\n",
        "#### 2. images:\n",
        "This contains information of images\n",
        "\n",
        "1. id - unique value\n",
        "\n",
        "1. width - width of the image\n",
        "\n",
        "1. height - height of the image\n",
        "\n",
        "1. file_name - name of the file\n",
        "\n",
        "1. license - licence if any\n",
        "\n",
        "1. date_captured - date when captured\n",
        "\n",
        "#### 3. annotation\n",
        "Information about annotation that is done manually in vgg annotator\n",
        "\n",
        "1. id - unique value\n",
        "\n",
        "1. image_id - which is the id of images. By this we can join images and annottaion fields\n",
        "\n",
        "1. segmentation- Co-Ordinates of the bbox. For rectangle there will be 8 coordinates(4 x,y groups) - top-left,top-right, bottom-left, bottom-right.\n",
        "\n",
        "1. area- area of bounding box\n",
        "\n",
        "1. bbox - 4 points. top-left x point,top-left y point, width of bbox, height of bbox\n",
        "\n",
        "1. iscrowd - NA\n",
        "\n",
        "1. id - ID for each bounding box.\n",
        "\n",
        "1. image_id - Image ID\n",
        "\n",
        "1. category_id - NA\n",
        "\n",
        "#### 4. licence\n",
        "\n",
        "#### 5. Categories \n",
        "This will have the information of the field we annotated.like class, type -- whatever fields we chose\n",
        "\n",
        "\n"
      ]
    },
    {
      "cell_type": "markdown",
      "metadata": {
        "id": "5vgOu1-Q2trc"
      },
      "source": [
        "##Normal Json File\n",
        "\n",
        "1. \"8c7a0e82.jpg7937\": unique value of an image made by appending a number to image filename\n",
        "2. filename: image filename\n",
        "3. size: file size in bytes,\n",
        "4. regions: \"Holds all region information\" \n",
        "5. shape_attributes: bounding box information\n",
        "6. name: type of box like rect etc..\n",
        "7. x,y : centroid of bounding box\n",
        "8. width, height: width, height of bounding box\n",
        "9. region_attributes: label information \n",
        "10.\"class\" (name of label ): \"boots\" (label value)\n",
        "11. file_attributes\": file metadata\n",
        "12.caption: image caption \n",
        "13.public_domain: Is it a public image\n",
        "14.image_url: url of image if retrieved from the internet"
      ]
    },
    {
      "cell_type": "markdown",
      "metadata": {
        "id": "RnM5SdF2gM56"
      },
      "source": [
        "For some reason the coco json out has named all my image_ids as 8, but the normal json out from VIA came out fine. So using coco json just to get image sizes which seem to be present in the normal json."
      ]
    },
    {
      "cell_type": "code",
      "metadata": {
        "id": "UZKiiauof8b6",
        "outputId": "aa0c9189-6a00-4651-9a1d-475b1a0247ce",
        "colab": {
          "base_uri": "https://localhost:8080/",
          "height": 135
        }
      },
      "source": [
        "%rm -rf '/content/TSAI-EVA5/'\n",
        "!git clone --branch ram https://github.com/Anjan-AI/TSAI-EVA5.git\n",
        "import sys\n",
        "sys.path.append('/content/TSAI-EVA5/S12/')"
      ],
      "execution_count": 3,
      "outputs": [
        {
          "output_type": "stream",
          "text": [
            "Cloning into 'TSAI-EVA5'...\n",
            "remote: Enumerating objects: 465, done.\u001b[K\n",
            "remote: Counting objects: 100% (465/465), done.\u001b[K\n",
            "remote: Compressing objects: 100% (397/397), done.\u001b[K\n",
            "remote: Total 1072 (delta 145), reused 368 (delta 59), pack-reused 607\u001b[K\n",
            "Receiving objects: 100% (1072/1072), 63.88 MiB | 37.55 MiB/s, done.\n",
            "Resolving deltas: 100% (400/400), done.\n"
          ],
          "name": "stdout"
        }
      ]
    },
    {
      "cell_type": "code",
      "metadata": {
        "id": "fBJjhx3Kftqj"
      },
      "source": [
        "import json\n",
        "import pandas as pd"
      ],
      "execution_count": 1,
      "outputs": []
    },
    {
      "cell_type": "code",
      "metadata": {
        "id": "K3FxiqFmfxFl"
      },
      "source": [
        "with open('/content/TSAI-EVA5/S12/eva5_Ram_coco.json', 'r') as f:\n",
        "    coco_json = json.load(f)\n",
        "with open('/content/TSAI-EVA5/S12/eva5_Ram_normal_json.json', 'r') as f:\n",
        "    normal_json = json.load(f)"
      ],
      "execution_count": 4,
      "outputs": []
    },
    {
      "cell_type": "code",
      "metadata": {
        "id": "dS3O2my9hFSC",
        "outputId": "ac6502ce-1af7-4db6-a8e2-4d9068a2fc0c",
        "colab": {
          "base_uri": "https://localhost:8080/",
          "height": 54
        }
      },
      "source": [
        "normal_json.keys()"
      ],
      "execution_count": 5,
      "outputs": [
        {
          "output_type": "execute_result",
          "data": {
            "text/plain": [
              "dict_keys(['8c7a0e82.jpg7937', '8c7a6c2e.jpg3740', '8c7a9c70.jpg5326', '8c7a49f4.jpg5840', '8c7a58c2.jpg7054', '8c7a3576.jpg4832', '8c7a8476.jpg9799', '8c7aae36.jpg5131', '8c7aae37.jpg4769', '8c7ad1c0.jpg8161', '8c7ae42c.jpg6233', '8c7af8c6.jpg5217', '8c7b0f70.jpg7674', '8c7b58b0.jpg4424', '8c7b72ee.jpg7367', '8c7b72ef.jpg10491', '8c7b72f0.jpg10284', '8c7b489c.jpg6353', '8c7b2014.jpg3561', '8c7b2015.jpg7555', '8c7b2016.jpg8092', '8c7b6518.jpg11592', '8c7b9500.jpg7195', '8c7b9501.jpg5764', '8c7bbd8a.jpg6800', '8c7bcc02.jpg10812', '8c7bd934.jpg12314', '8c7be500.jpg11953', '8c7be501.jpg11638', '8c7be502.jpg6220', '8c7c8e76.jpg10174', '8c7c8e77.jpg12895', '8c7c13e6.jpg8525', '8c7c13e7.jpg7591', '8c7c73f6.jpg10451', '8c7c80a8.jpg10553', '8c7c383a.jpg5544', '8c7c4950.jpg5490', '8c7c5894.jpg7854', '8c7c6734.jpg12345', '8c7ca75c.jpg6677', '8c7ca75d.jpg11163', '8c7ca75e.jpg7123', '8c7cce80.jpg6588', '8c7cce81.jpg12664', '8c7cce82.jpg11762', '8c7cf57a.jpg10171', '8c7cf57b.jpg4735', '8c7cf57c.jpg9362', '8c7d1c8a.jpg7973', '8c7d1c8b.jpg11819', '8c7d1c8c.jpg10649', '8c7d69b6.jpg9510', '8c7d69b8.jpg9867', '8c7d91f6.jpg11734', '8c7d91f7.jpg10185', '8c7d91f8.jpg9239', '8c7d4392.jpg12404', '8c7d4393.jpg10091', '8c7db8ca.jpg11892', '8c7db8cb.jpg9301', '8c7db8cc.jpg13626', '8c7ddfec.jpg11360', '8c7ddfed.jpg10507', '8c7ddfee.jpg9205', '8c7e06ba.jpg9188', '8c7e7c36.jpg8377', '8c7e7c37.jpg14800', '8c7e7c38.jpg8051', '8c7e176c.jpg11009', '8c7e376a.jpg6031', '8c7e551e.jpg9023', '8c7e551f.jpg7780', '8c7e2718.jpg7721', '8c7e3768.jpg14406', '8c7e3769.jpg11578', '8c7ea3b6.jpg11246', '8c7ea3b7.jpg12590', '8c7ea3b8.jpg13170', '8c7ecb0c.jpg15632', '8c7ecb0d.jpg9762', '8c7ecb0e.jpg8360', '8c7ef250.jpg8176', '8c79e762.jpg5264', '8c79e763.jpg4938'])"
            ]
          },
          "metadata": {
            "tags": []
          },
          "execution_count": 5
        }
      ]
    },
    {
      "cell_type": "markdown",
      "metadata": {
        "id": "aOquN_knhP3y"
      },
      "source": [
        "Removing wierd keys"
      ]
    },
    {
      "cell_type": "code",
      "metadata": {
        "id": "Np-g71mrhMUL"
      },
      "source": [
        "normal_json = normal_json.values()"
      ],
      "execution_count": 6,
      "outputs": []
    },
    {
      "cell_type": "code",
      "metadata": {
        "id": "6s29k-bdhbaB"
      },
      "source": [
        "normal_df =  pd.DataFrame(normal_json)"
      ],
      "execution_count": 11,
      "outputs": []
    },
    {
      "cell_type": "code",
      "metadata": {
        "id": "A5097QL_iDTx",
        "outputId": "efc4bfe9-af81-4916-90b6-d4711da5c7b1",
        "colab": {
          "base_uri": "https://localhost:8080/",
          "height": 202
        }
      },
      "source": [
        "normal_df.tail()"
      ],
      "execution_count": 15,
      "outputs": [
        {
          "output_type": "execute_result",
          "data": {
            "text/html": [
              "<div>\n",
              "<style scoped>\n",
              "    .dataframe tbody tr th:only-of-type {\n",
              "        vertical-align: middle;\n",
              "    }\n",
              "\n",
              "    .dataframe tbody tr th {\n",
              "        vertical-align: top;\n",
              "    }\n",
              "\n",
              "    .dataframe thead th {\n",
              "        text-align: right;\n",
              "    }\n",
              "</style>\n",
              "<table border=\"1\" class=\"dataframe\">\n",
              "  <thead>\n",
              "    <tr style=\"text-align: right;\">\n",
              "      <th></th>\n",
              "      <th>filename</th>\n",
              "      <th>size</th>\n",
              "      <th>regions</th>\n",
              "      <th>file_attributes</th>\n",
              "    </tr>\n",
              "  </thead>\n",
              "  <tbody>\n",
              "    <tr>\n",
              "      <th>80</th>\n",
              "      <td>8c7ecb0d.jpg</td>\n",
              "      <td>9762</td>\n",
              "      <td>[{'shape_attributes': {'name': 'rect', 'x': 14...</td>\n",
              "      <td>{'caption': '', 'public_domain': 'no', 'image_...</td>\n",
              "    </tr>\n",
              "    <tr>\n",
              "      <th>81</th>\n",
              "      <td>8c7ecb0e.jpg</td>\n",
              "      <td>8360</td>\n",
              "      <td>[{'shape_attributes': {'name': 'rect', 'x': 11...</td>\n",
              "      <td>{'caption': '', 'public_domain': 'no', 'image_...</td>\n",
              "    </tr>\n",
              "    <tr>\n",
              "      <th>82</th>\n",
              "      <td>8c7ef250.jpg</td>\n",
              "      <td>8176</td>\n",
              "      <td>[{'shape_attributes': {'name': 'rect', 'x': 59...</td>\n",
              "      <td>{'caption': '', 'public_domain': 'no', 'image_...</td>\n",
              "    </tr>\n",
              "    <tr>\n",
              "      <th>83</th>\n",
              "      <td>8c79e762.jpg</td>\n",
              "      <td>5264</td>\n",
              "      <td>[{'shape_attributes': {'name': 'rect', 'x': 3,...</td>\n",
              "      <td>{'caption': '', 'public_domain': 'no', 'image_...</td>\n",
              "    </tr>\n",
              "    <tr>\n",
              "      <th>84</th>\n",
              "      <td>8c79e763.jpg</td>\n",
              "      <td>4938</td>\n",
              "      <td>[{'shape_attributes': {'name': 'rect', 'x': 10...</td>\n",
              "      <td>{'caption': '', 'public_domain': 'no', 'image_...</td>\n",
              "    </tr>\n",
              "  </tbody>\n",
              "</table>\n",
              "</div>"
            ],
            "text/plain": [
              "        filename  ...                                    file_attributes\n",
              "80  8c7ecb0d.jpg  ...  {'caption': '', 'public_domain': 'no', 'image_...\n",
              "81  8c7ecb0e.jpg  ...  {'caption': '', 'public_domain': 'no', 'image_...\n",
              "82  8c7ef250.jpg  ...  {'caption': '', 'public_domain': 'no', 'image_...\n",
              "83  8c79e762.jpg  ...  {'caption': '', 'public_domain': 'no', 'image_...\n",
              "84  8c79e763.jpg  ...  {'caption': '', 'public_domain': 'no', 'image_...\n",
              "\n",
              "[5 rows x 4 columns]"
            ]
          },
          "metadata": {
            "tags": []
          },
          "execution_count": 15
        }
      ]
    },
    {
      "cell_type": "markdown",
      "metadata": {
        "id": "VA0ZzHKRhwFG"
      },
      "source": [
        "Getting image sizes from coco json"
      ]
    },
    {
      "cell_type": "code",
      "metadata": {
        "id": "UTuKjZvWhdKu"
      },
      "source": [
        "coco_df = pd.DataFrame(coco_json['images'])"
      ],
      "execution_count": 12,
      "outputs": []
    },
    {
      "cell_type": "code",
      "metadata": {
        "id": "_RovRFoBh4SG",
        "outputId": "66b37dc0-fc07-4f27-beba-be3400aa863f",
        "colab": {
          "base_uri": "https://localhost:8080/",
          "height": 202
        }
      },
      "source": [
        "coco_df.tail()"
      ],
      "execution_count": 16,
      "outputs": [
        {
          "output_type": "execute_result",
          "data": {
            "text/html": [
              "<div>\n",
              "<style scoped>\n",
              "    .dataframe tbody tr th:only-of-type {\n",
              "        vertical-align: middle;\n",
              "    }\n",
              "\n",
              "    .dataframe tbody tr th {\n",
              "        vertical-align: top;\n",
              "    }\n",
              "\n",
              "    .dataframe thead th {\n",
              "        text-align: right;\n",
              "    }\n",
              "</style>\n",
              "<table border=\"1\" class=\"dataframe\">\n",
              "  <thead>\n",
              "    <tr style=\"text-align: right;\">\n",
              "      <th></th>\n",
              "      <th>id</th>\n",
              "      <th>width</th>\n",
              "      <th>height</th>\n",
              "      <th>file_name</th>\n",
              "      <th>license</th>\n",
              "      <th>date_captured</th>\n",
              "    </tr>\n",
              "  </thead>\n",
              "  <tbody>\n",
              "    <tr>\n",
              "      <th>80</th>\n",
              "      <td>8</td>\n",
              "      <td>284</td>\n",
              "      <td>177</td>\n",
              "      <td>8c7ecb0d.jpg</td>\n",
              "      <td>0</td>\n",
              "      <td></td>\n",
              "    </tr>\n",
              "    <tr>\n",
              "      <th>81</th>\n",
              "      <td>8</td>\n",
              "      <td>294</td>\n",
              "      <td>171</td>\n",
              "      <td>8c7ecb0e.jpg</td>\n",
              "      <td>0</td>\n",
              "      <td></td>\n",
              "    </tr>\n",
              "    <tr>\n",
              "      <th>82</th>\n",
              "      <td>8</td>\n",
              "      <td>280</td>\n",
              "      <td>180</td>\n",
              "      <td>8c7ef250.jpg</td>\n",
              "      <td>0</td>\n",
              "      <td></td>\n",
              "    </tr>\n",
              "    <tr>\n",
              "      <th>83</th>\n",
              "      <td>8</td>\n",
              "      <td>225</td>\n",
              "      <td>225</td>\n",
              "      <td>8c79e762.jpg</td>\n",
              "      <td>0</td>\n",
              "      <td></td>\n",
              "    </tr>\n",
              "    <tr>\n",
              "      <th>84</th>\n",
              "      <td>8</td>\n",
              "      <td>194</td>\n",
              "      <td>259</td>\n",
              "      <td>8c79e763.jpg</td>\n",
              "      <td>0</td>\n",
              "      <td></td>\n",
              "    </tr>\n",
              "  </tbody>\n",
              "</table>\n",
              "</div>"
            ],
            "text/plain": [
              "    id  width  height     file_name  license date_captured\n",
              "80   8    284     177  8c7ecb0d.jpg        0              \n",
              "81   8    294     171  8c7ecb0e.jpg        0              \n",
              "82   8    280     180  8c7ef250.jpg        0              \n",
              "83   8    225     225  8c79e762.jpg        0              \n",
              "84   8    194     259  8c79e763.jpg        0              "
            ]
          },
          "metadata": {
            "tags": []
          },
          "execution_count": 16
        }
      ]
    },
    {
      "cell_type": "markdown",
      "metadata": {
        "id": "6QwSiVBwiL8Z"
      },
      "source": [
        "renaming filename to match"
      ]
    },
    {
      "cell_type": "code",
      "metadata": {
        "id": "JIkQ3nLLh6HK"
      },
      "source": [
        "coco_df = coco_df.rename(columns={'file_name':'filename'})"
      ],
      "execution_count": 17,
      "outputs": []
    },
    {
      "cell_type": "code",
      "metadata": {
        "id": "wAr7rl3diUrP",
        "outputId": "0887fd25-3b3c-44bb-8710-942c13a0b7d8",
        "colab": {
          "base_uri": "https://localhost:8080/",
          "height": 34
        }
      },
      "source": [
        "coco_df.keys()"
      ],
      "execution_count": 18,
      "outputs": [
        {
          "output_type": "execute_result",
          "data": {
            "text/plain": [
              "Index(['id', 'width', 'height', 'filename', 'license', 'date_captured'], dtype='object')"
            ]
          },
          "metadata": {
            "tags": []
          },
          "execution_count": 18
        }
      ]
    },
    {
      "cell_type": "code",
      "metadata": {
        "id": "EdE8drofiYiP"
      },
      "source": [
        "final_df = pd.merge(coco_df, normal_df, on='filename')"
      ],
      "execution_count": 29,
      "outputs": []
    },
    {
      "cell_type": "code",
      "metadata": {
        "id": "D14rx4nqild5",
        "outputId": "d359f65d-0704-4030-d319-786df3d9107b",
        "colab": {
          "base_uri": "https://localhost:8080/",
          "height": 202
        }
      },
      "source": [
        "final_df.tail()"
      ],
      "execution_count": 30,
      "outputs": [
        {
          "output_type": "execute_result",
          "data": {
            "text/html": [
              "<div>\n",
              "<style scoped>\n",
              "    .dataframe tbody tr th:only-of-type {\n",
              "        vertical-align: middle;\n",
              "    }\n",
              "\n",
              "    .dataframe tbody tr th {\n",
              "        vertical-align: top;\n",
              "    }\n",
              "\n",
              "    .dataframe thead th {\n",
              "        text-align: right;\n",
              "    }\n",
              "</style>\n",
              "<table border=\"1\" class=\"dataframe\">\n",
              "  <thead>\n",
              "    <tr style=\"text-align: right;\">\n",
              "      <th></th>\n",
              "      <th>id</th>\n",
              "      <th>width</th>\n",
              "      <th>height</th>\n",
              "      <th>filename</th>\n",
              "      <th>license</th>\n",
              "      <th>date_captured</th>\n",
              "      <th>size</th>\n",
              "      <th>regions</th>\n",
              "      <th>file_attributes</th>\n",
              "    </tr>\n",
              "  </thead>\n",
              "  <tbody>\n",
              "    <tr>\n",
              "      <th>80</th>\n",
              "      <td>8</td>\n",
              "      <td>284</td>\n",
              "      <td>177</td>\n",
              "      <td>8c7ecb0d.jpg</td>\n",
              "      <td>0</td>\n",
              "      <td></td>\n",
              "      <td>9762</td>\n",
              "      <td>[{'shape_attributes': {'name': 'rect', 'x': 14...</td>\n",
              "      <td>{'caption': '', 'public_domain': 'no', 'image_...</td>\n",
              "    </tr>\n",
              "    <tr>\n",
              "      <th>81</th>\n",
              "      <td>8</td>\n",
              "      <td>294</td>\n",
              "      <td>171</td>\n",
              "      <td>8c7ecb0e.jpg</td>\n",
              "      <td>0</td>\n",
              "      <td></td>\n",
              "      <td>8360</td>\n",
              "      <td>[{'shape_attributes': {'name': 'rect', 'x': 11...</td>\n",
              "      <td>{'caption': '', 'public_domain': 'no', 'image_...</td>\n",
              "    </tr>\n",
              "    <tr>\n",
              "      <th>82</th>\n",
              "      <td>8</td>\n",
              "      <td>280</td>\n",
              "      <td>180</td>\n",
              "      <td>8c7ef250.jpg</td>\n",
              "      <td>0</td>\n",
              "      <td></td>\n",
              "      <td>8176</td>\n",
              "      <td>[{'shape_attributes': {'name': 'rect', 'x': 59...</td>\n",
              "      <td>{'caption': '', 'public_domain': 'no', 'image_...</td>\n",
              "    </tr>\n",
              "    <tr>\n",
              "      <th>83</th>\n",
              "      <td>8</td>\n",
              "      <td>225</td>\n",
              "      <td>225</td>\n",
              "      <td>8c79e762.jpg</td>\n",
              "      <td>0</td>\n",
              "      <td></td>\n",
              "      <td>5264</td>\n",
              "      <td>[{'shape_attributes': {'name': 'rect', 'x': 3,...</td>\n",
              "      <td>{'caption': '', 'public_domain': 'no', 'image_...</td>\n",
              "    </tr>\n",
              "    <tr>\n",
              "      <th>84</th>\n",
              "      <td>8</td>\n",
              "      <td>194</td>\n",
              "      <td>259</td>\n",
              "      <td>8c79e763.jpg</td>\n",
              "      <td>0</td>\n",
              "      <td></td>\n",
              "      <td>4938</td>\n",
              "      <td>[{'shape_attributes': {'name': 'rect', 'x': 10...</td>\n",
              "      <td>{'caption': '', 'public_domain': 'no', 'image_...</td>\n",
              "    </tr>\n",
              "  </tbody>\n",
              "</table>\n",
              "</div>"
            ],
            "text/plain": [
              "    id  ...                                    file_attributes\n",
              "80   8  ...  {'caption': '', 'public_domain': 'no', 'image_...\n",
              "81   8  ...  {'caption': '', 'public_domain': 'no', 'image_...\n",
              "82   8  ...  {'caption': '', 'public_domain': 'no', 'image_...\n",
              "83   8  ...  {'caption': '', 'public_domain': 'no', 'image_...\n",
              "84   8  ...  {'caption': '', 'public_domain': 'no', 'image_...\n",
              "\n",
              "[5 rows x 9 columns]"
            ]
          },
          "metadata": {
            "tags": []
          },
          "execution_count": 30
        }
      ]
    },
    {
      "cell_type": "code",
      "metadata": {
        "id": "nhsT3_Aei9oC"
      },
      "source": [
        "final_df = final_df.drop(['id','license', 'date_captured','date_captured','file_attributes'], axis=1)"
      ],
      "execution_count": 31,
      "outputs": []
    },
    {
      "cell_type": "code",
      "metadata": {
        "id": "1Q4MGDZAjU-z",
        "outputId": "1f8f7277-23b1-48e7-ab1d-cb316e277f60",
        "colab": {
          "base_uri": "https://localhost:8080/",
          "height": 118
        }
      },
      "source": [
        "final_df['regions'][0]"
      ],
      "execution_count": 56,
      "outputs": [
        {
          "output_type": "execute_result",
          "data": {
            "text/plain": [
              "[{'region_attributes': {'class': 'boots'},\n",
              "  'shape_attributes': {'height': 226,\n",
              "   'name': 'rect',\n",
              "   'width': 196,\n",
              "   'x': 3,\n",
              "   'y': 16}}]"
            ]
          },
          "metadata": {
            "tags": []
          },
          "execution_count": 56
        }
      ]
    },
    {
      "cell_type": "markdown",
      "metadata": {
        "id": "M8UNldlxnGUK"
      },
      "source": [
        "Getting bbox dimensions out "
      ]
    },
    {
      "cell_type": "code",
      "metadata": {
        "id": "feiyYTV5jZbn"
      },
      "source": [
        "list_ = []\n",
        "for _, row in final_df.iterrows():\n",
        "    for i in row['regions']:\n",
        "        a = row.copy()\n",
        "        a['bbox_width'] = i['shape_attributes']['width']\n",
        "        a['bbox_height'] = i['shape_attributes']['height']\n",
        "        list_.append(a)"
      ],
      "execution_count": 76,
      "outputs": []
    },
    {
      "cell_type": "code",
      "metadata": {
        "id": "ZRkkwjnam3NX"
      },
      "source": [
        "final_df = pd.DataFrame(list_)"
      ],
      "execution_count": 94,
      "outputs": []
    },
    {
      "cell_type": "code",
      "metadata": {
        "id": "xfeX8PwGq63j",
        "outputId": "6de39a43-56c4-4d86-a69c-d344948914fa",
        "colab": {
          "base_uri": "https://localhost:8080/",
          "height": 202
        }
      },
      "source": [
        "final_df.tail()"
      ],
      "execution_count": 95,
      "outputs": [
        {
          "output_type": "execute_result",
          "data": {
            "text/html": [
              "<div>\n",
              "<style scoped>\n",
              "    .dataframe tbody tr th:only-of-type {\n",
              "        vertical-align: middle;\n",
              "    }\n",
              "\n",
              "    .dataframe tbody tr th {\n",
              "        vertical-align: top;\n",
              "    }\n",
              "\n",
              "    .dataframe thead th {\n",
              "        text-align: right;\n",
              "    }\n",
              "</style>\n",
              "<table border=\"1\" class=\"dataframe\">\n",
              "  <thead>\n",
              "    <tr style=\"text-align: right;\">\n",
              "      <th></th>\n",
              "      <th>width</th>\n",
              "      <th>height</th>\n",
              "      <th>filename</th>\n",
              "      <th>size</th>\n",
              "      <th>regions</th>\n",
              "      <th>bbox_width</th>\n",
              "      <th>bbox_height</th>\n",
              "    </tr>\n",
              "  </thead>\n",
              "  <tbody>\n",
              "    <tr>\n",
              "      <th>82</th>\n",
              "      <td>280</td>\n",
              "      <td>180</td>\n",
              "      <td>8c7ef250.jpg</td>\n",
              "      <td>8176</td>\n",
              "      <td>[{'shape_attributes': {'name': 'rect', 'x': 59...</td>\n",
              "      <td>31</td>\n",
              "      <td>30</td>\n",
              "    </tr>\n",
              "    <tr>\n",
              "      <th>82</th>\n",
              "      <td>280</td>\n",
              "      <td>180</td>\n",
              "      <td>8c7ef250.jpg</td>\n",
              "      <td>8176</td>\n",
              "      <td>[{'shape_attributes': {'name': 'rect', 'x': 59...</td>\n",
              "      <td>17</td>\n",
              "      <td>20</td>\n",
              "    </tr>\n",
              "    <tr>\n",
              "      <th>83</th>\n",
              "      <td>225</td>\n",
              "      <td>225</td>\n",
              "      <td>8c79e762.jpg</td>\n",
              "      <td>5264</td>\n",
              "      <td>[{'shape_attributes': {'name': 'rect', 'x': 3,...</td>\n",
              "      <td>221</td>\n",
              "      <td>163</td>\n",
              "    </tr>\n",
              "    <tr>\n",
              "      <th>84</th>\n",
              "      <td>194</td>\n",
              "      <td>259</td>\n",
              "      <td>8c79e763.jpg</td>\n",
              "      <td>4938</td>\n",
              "      <td>[{'shape_attributes': {'name': 'rect', 'x': 10...</td>\n",
              "      <td>78</td>\n",
              "      <td>95</td>\n",
              "    </tr>\n",
              "    <tr>\n",
              "      <th>84</th>\n",
              "      <td>194</td>\n",
              "      <td>259</td>\n",
              "      <td>8c79e763.jpg</td>\n",
              "      <td>4938</td>\n",
              "      <td>[{'shape_attributes': {'name': 'rect', 'x': 10...</td>\n",
              "      <td>94</td>\n",
              "      <td>85</td>\n",
              "    </tr>\n",
              "  </tbody>\n",
              "</table>\n",
              "</div>"
            ],
            "text/plain": [
              "    width  height  ... bbox_width  bbox_height\n",
              "82    280     180  ...         31           30\n",
              "82    280     180  ...         17           20\n",
              "83    225     225  ...        221          163\n",
              "84    194     259  ...         78           95\n",
              "84    194     259  ...         94           85\n",
              "\n",
              "[5 rows x 7 columns]"
            ]
          },
          "metadata": {
            "tags": []
          },
          "execution_count": 95
        }
      ]
    },
    {
      "cell_type": "code",
      "metadata": {
        "id": "DOONtFIGrnUW",
        "outputId": "b44a74c3-8995-4cb7-9f6c-8cb44597b861",
        "colab": {
          "base_uri": "https://localhost:8080/",
          "height": 34
        }
      },
      "source": [
        "final_df.shape"
      ],
      "execution_count": 96,
      "outputs": [
        {
          "output_type": "execute_result",
          "data": {
            "text/plain": [
              "(323, 7)"
            ]
          },
          "metadata": {
            "tags": []
          },
          "execution_count": 96
        }
      ]
    },
    {
      "cell_type": "markdown",
      "metadata": {
        "id": "JXQOE_lDr8m_"
      },
      "source": [
        "323 Objects in Total"
      ]
    },
    {
      "cell_type": "markdown",
      "metadata": {
        "id": "z9N2qvfbsahi"
      },
      "source": [
        "Normalizing bbox width and height"
      ]
    },
    {
      "cell_type": "code",
      "metadata": {
        "id": "adj7bO9PrnpP"
      },
      "source": [
        "final_df['bbox_width'] = final_df['bbox_width']/final_df['width']\n",
        "final_df['bbox_height'] = final_df['bbox_height']/final_df['height']\n",
        "final_df['width'] = final_df['width']/final_df['width']\n",
        "final_df['height'] = final_df['height']/final_df['height']"
      ],
      "execution_count": 97,
      "outputs": []
    },
    {
      "cell_type": "code",
      "metadata": {
        "id": "szpcBqJ2s3-m",
        "outputId": "559c37aa-1f3d-4757-e453-7e8724e6a8d7",
        "colab": {
          "base_uri": "https://localhost:8080/",
          "height": 202
        }
      },
      "source": [
        "final_df.tail()"
      ],
      "execution_count": 99,
      "outputs": [
        {
          "output_type": "execute_result",
          "data": {
            "text/html": [
              "<div>\n",
              "<style scoped>\n",
              "    .dataframe tbody tr th:only-of-type {\n",
              "        vertical-align: middle;\n",
              "    }\n",
              "\n",
              "    .dataframe tbody tr th {\n",
              "        vertical-align: top;\n",
              "    }\n",
              "\n",
              "    .dataframe thead th {\n",
              "        text-align: right;\n",
              "    }\n",
              "</style>\n",
              "<table border=\"1\" class=\"dataframe\">\n",
              "  <thead>\n",
              "    <tr style=\"text-align: right;\">\n",
              "      <th></th>\n",
              "      <th>width</th>\n",
              "      <th>height</th>\n",
              "      <th>filename</th>\n",
              "      <th>size</th>\n",
              "      <th>regions</th>\n",
              "      <th>bbox_width</th>\n",
              "      <th>bbox_height</th>\n",
              "    </tr>\n",
              "  </thead>\n",
              "  <tbody>\n",
              "    <tr>\n",
              "      <th>82</th>\n",
              "      <td>1.0</td>\n",
              "      <td>1.0</td>\n",
              "      <td>8c7ef250.jpg</td>\n",
              "      <td>8176</td>\n",
              "      <td>[{'shape_attributes': {'name': 'rect', 'x': 59...</td>\n",
              "      <td>0.110714</td>\n",
              "      <td>0.166667</td>\n",
              "    </tr>\n",
              "    <tr>\n",
              "      <th>82</th>\n",
              "      <td>1.0</td>\n",
              "      <td>1.0</td>\n",
              "      <td>8c7ef250.jpg</td>\n",
              "      <td>8176</td>\n",
              "      <td>[{'shape_attributes': {'name': 'rect', 'x': 59...</td>\n",
              "      <td>0.060714</td>\n",
              "      <td>0.111111</td>\n",
              "    </tr>\n",
              "    <tr>\n",
              "      <th>83</th>\n",
              "      <td>1.0</td>\n",
              "      <td>1.0</td>\n",
              "      <td>8c79e762.jpg</td>\n",
              "      <td>5264</td>\n",
              "      <td>[{'shape_attributes': {'name': 'rect', 'x': 3,...</td>\n",
              "      <td>0.982222</td>\n",
              "      <td>0.724444</td>\n",
              "    </tr>\n",
              "    <tr>\n",
              "      <th>84</th>\n",
              "      <td>1.0</td>\n",
              "      <td>1.0</td>\n",
              "      <td>8c79e763.jpg</td>\n",
              "      <td>4938</td>\n",
              "      <td>[{'shape_attributes': {'name': 'rect', 'x': 10...</td>\n",
              "      <td>0.402062</td>\n",
              "      <td>0.366795</td>\n",
              "    </tr>\n",
              "    <tr>\n",
              "      <th>84</th>\n",
              "      <td>1.0</td>\n",
              "      <td>1.0</td>\n",
              "      <td>8c79e763.jpg</td>\n",
              "      <td>4938</td>\n",
              "      <td>[{'shape_attributes': {'name': 'rect', 'x': 10...</td>\n",
              "      <td>0.484536</td>\n",
              "      <td>0.328185</td>\n",
              "    </tr>\n",
              "  </tbody>\n",
              "</table>\n",
              "</div>"
            ],
            "text/plain": [
              "    width  height  ... bbox_width  bbox_height\n",
              "82    1.0     1.0  ...   0.110714     0.166667\n",
              "82    1.0     1.0  ...   0.060714     0.111111\n",
              "83    1.0     1.0  ...   0.982222     0.724444\n",
              "84    1.0     1.0  ...   0.402062     0.366795\n",
              "84    1.0     1.0  ...   0.484536     0.328185\n",
              "\n",
              "[5 rows x 7 columns]"
            ]
          },
          "metadata": {
            "tags": []
          },
          "execution_count": 99
        }
      ]
    },
    {
      "cell_type": "markdown",
      "metadata": {
        "id": "BjZupj3ptR_i"
      },
      "source": [
        "For Kmeans we only need normalized bbox width and height"
      ]
    },
    {
      "cell_type": "code",
      "metadata": {
        "id": "uSCDsCMTs5Hy"
      },
      "source": [
        "final_df = final_df[['bbox_width', 'bbox_height']]"
      ],
      "execution_count": 100,
      "outputs": []
    },
    {
      "cell_type": "code",
      "metadata": {
        "id": "dBW0As2Ftfor",
        "outputId": "7401c5a6-264e-4c25-bf55-ae77caa54a4f",
        "colab": {
          "base_uri": "https://localhost:8080/",
          "height": 415
        }
      },
      "source": [
        "final_df"
      ],
      "execution_count": 101,
      "outputs": [
        {
          "output_type": "execute_result",
          "data": {
            "text/html": [
              "<div>\n",
              "<style scoped>\n",
              "    .dataframe tbody tr th:only-of-type {\n",
              "        vertical-align: middle;\n",
              "    }\n",
              "\n",
              "    .dataframe tbody tr th {\n",
              "        vertical-align: top;\n",
              "    }\n",
              "\n",
              "    .dataframe thead th {\n",
              "        text-align: right;\n",
              "    }\n",
              "</style>\n",
              "<table border=\"1\" class=\"dataframe\">\n",
              "  <thead>\n",
              "    <tr style=\"text-align: right;\">\n",
              "      <th></th>\n",
              "      <th>bbox_width</th>\n",
              "      <th>bbox_height</th>\n",
              "    </tr>\n",
              "  </thead>\n",
              "  <tbody>\n",
              "    <tr>\n",
              "      <th>0</th>\n",
              "      <td>0.975124</td>\n",
              "      <td>0.900398</td>\n",
              "    </tr>\n",
              "    <tr>\n",
              "      <th>1</th>\n",
              "      <td>0.855721</td>\n",
              "      <td>0.752988</td>\n",
              "    </tr>\n",
              "    <tr>\n",
              "      <th>2</th>\n",
              "      <td>0.351220</td>\n",
              "      <td>0.865854</td>\n",
              "    </tr>\n",
              "    <tr>\n",
              "      <th>2</th>\n",
              "      <td>0.395122</td>\n",
              "      <td>0.182927</td>\n",
              "    </tr>\n",
              "    <tr>\n",
              "      <th>3</th>\n",
              "      <td>0.660793</td>\n",
              "      <td>0.716216</td>\n",
              "    </tr>\n",
              "    <tr>\n",
              "      <th>...</th>\n",
              "      <td>...</td>\n",
              "      <td>...</td>\n",
              "    </tr>\n",
              "    <tr>\n",
              "      <th>82</th>\n",
              "      <td>0.110714</td>\n",
              "      <td>0.166667</td>\n",
              "    </tr>\n",
              "    <tr>\n",
              "      <th>82</th>\n",
              "      <td>0.060714</td>\n",
              "      <td>0.111111</td>\n",
              "    </tr>\n",
              "    <tr>\n",
              "      <th>83</th>\n",
              "      <td>0.982222</td>\n",
              "      <td>0.724444</td>\n",
              "    </tr>\n",
              "    <tr>\n",
              "      <th>84</th>\n",
              "      <td>0.402062</td>\n",
              "      <td>0.366795</td>\n",
              "    </tr>\n",
              "    <tr>\n",
              "      <th>84</th>\n",
              "      <td>0.484536</td>\n",
              "      <td>0.328185</td>\n",
              "    </tr>\n",
              "  </tbody>\n",
              "</table>\n",
              "<p>323 rows × 2 columns</p>\n",
              "</div>"
            ],
            "text/plain": [
              "    bbox_width  bbox_height\n",
              "0     0.975124     0.900398\n",
              "1     0.855721     0.752988\n",
              "2     0.351220     0.865854\n",
              "2     0.395122     0.182927\n",
              "3     0.660793     0.716216\n",
              "..         ...          ...\n",
              "82    0.110714     0.166667\n",
              "82    0.060714     0.111111\n",
              "83    0.982222     0.724444\n",
              "84    0.402062     0.366795\n",
              "84    0.484536     0.328185\n",
              "\n",
              "[323 rows x 2 columns]"
            ]
          },
          "metadata": {
            "tags": []
          },
          "execution_count": 101
        }
      ]
    },
    {
      "cell_type": "markdown",
      "metadata": {
        "id": "rt2mkGjyuLdl"
      },
      "source": [
        "Plotting Normalized values"
      ]
    },
    {
      "cell_type": "code",
      "metadata": {
        "id": "Dh1cHhzttgxj"
      },
      "source": [
        "import matplotlib.pyplot as plt\n",
        "%matplotlib inline"
      ],
      "execution_count": 102,
      "outputs": []
    },
    {
      "cell_type": "code",
      "metadata": {
        "id": "hXKFoijEuSnA",
        "outputId": "7c5c7ff7-343b-4cf7-cd90-db43bb51950f",
        "colab": {
          "base_uri": "https://localhost:8080/",
          "height": 282
        }
      },
      "source": [
        "plt.style.use('dark_background')\n",
        "plt.plot(final_df['bbox_width'],final_df['bbox_height'], '.')"
      ],
      "execution_count": 104,
      "outputs": [
        {
          "output_type": "execute_result",
          "data": {
            "text/plain": [
              "[<matplotlib.lines.Line2D at 0x7f9ed4ef4c50>]"
            ]
          },
          "metadata": {
            "tags": []
          },
          "execution_count": 104
        },
        {
          "output_type": "display_data",
          "data": {
            "image/png": "[encoded data removed]",
            "text/plain": [
              "<Figure size 432x288 with 1 Axes>"
            ]
          },
          "metadata": {
            "tags": []
          }
        }
      ]
    },
    {
      "cell_type": "markdown",
      "metadata": {
        "id": "NT38GcuCurHx"
      },
      "source": [
        "##Elbow Method to find K."
      ]
    },
    {
      "cell_type": "code",
      "metadata": {
        "id": "UB9RiUC4ucQp"
      },
      "source": [
        "from sklearn.cluster import KMeans\n",
        "from sklearn import  metrics\n",
        "from scipy.spatial.distance import cdist\n",
        "import numpy as np"
      ],
      "execution_count": 105,
      "outputs": []
    },
    {
      "cell_type": "code",
      "metadata": {
        "id": "--FbK4AavAcH"
      },
      "source": [
        "distortions = []\n",
        "K = range(1, 10)\n",
        "for k in K:\n",
        "    kmeanModel = KMeans(n_clusters=k).fit(final_df)\n",
        "    kmeanModel.fit(final_df)\n",
        "    distortions.append(sum(np.min(cdist(final_df, kmeanModel.cluster_centers_, 'euclidean'), axis=1)) / final_df.shape[0])"
      ],
      "execution_count": 108,
      "outputs": []
    },
    {
      "cell_type": "code",
      "metadata": {
        "id": "ZRLzVpe-vy9L",
        "outputId": "a3fee881-a0c7-422b-96aa-4b8b52cc1774",
        "colab": {
          "base_uri": "https://localhost:8080/",
          "height": 169
        }
      },
      "source": [
        "distortions"
      ],
      "execution_count": 109,
      "outputs": [
        {
          "output_type": "execute_result",
          "data": {
            "text/plain": [
              "[0.25310250203571766,\n",
              " 0.14887115583829721,\n",
              " 0.11502628457453376,\n",
              " 0.09955967590962862,\n",
              " 0.08879219653182689,\n",
              " 0.0801309252755381,\n",
              " 0.07321311819808851,\n",
              " 0.07059702811765992,\n",
              " 0.0668986614198056]"
            ]
          },
          "metadata": {
            "tags": []
          },
          "execution_count": 109
        }
      ]
    },
    {
      "cell_type": "code",
      "metadata": {
        "id": "OhyBDBa6wHfx",
        "outputId": "2eaf37de-a327-472a-999b-33d6051dc751",
        "colab": {
          "base_uri": "https://localhost:8080/",
          "height": 312
        }
      },
      "source": [
        "#lets Plot these distortions\n",
        "plt.style.use('dark_background')\n",
        "plt.plot(K, distortions, '.-')\n",
        "plt.xlabel('k')\n",
        "plt.ylabel('Distortion')\n",
        "plt.title('Elbow Method to show optimal K')"
      ],
      "execution_count": 111,
      "outputs": [
        {
          "output_type": "execute_result",
          "data": {
            "text/plain": [
              "Text(0.5, 1.0, 'Elbow Method to show optimal K')"
            ]
          },
          "metadata": {
            "tags": []
          },
          "execution_count": 111
        },
        {
          "output_type": "display_data",
          "data": {
            "image/png": "[encoded data removed]",
            "text/plain": [
              "<Figure size 432x288 with 1 Axes>"
            ]
          },
          "metadata": {
            "tags": []
          }
        }
      ]
    },
    {
      "cell_type": "markdown",
      "metadata": {
        "id": "caA9szrqyUFI"
      },
      "source": [
        "K = 7  from Elbow Plot"
      ]
    },
    {
      "cell_type": "markdown",
      "metadata": {
        "id": "_0W7eD6zw2MG"
      },
      "source": [
        "\n",
        "##IOU Method to find out K\n",
        "IOU(Intersection over union) = intersected area of bbox and anchor box/ Union area of bbox and anchor box\n",
        "\n",
        "bw = bounding box width, bh - bounding box height, aw - anchor box width, ah - anchor box height\n",
        "\n",
        "IOU = min(bw,aw) min(bh, ah)/bwbh + awah - min(bw,aw) min(bh, ah)\n",
        "\n",
        "mean IOU = sum(IOU)/len(IOU)"
      ]
    },
    {
      "cell_type": "code",
      "metadata": {
        "id": "FF4YBY77wMnl"
      },
      "source": [
        "height = list(final_df['bbox_height'])\n",
        "width = list(final_df['bbox_width'])\n",
        "ks = range(1,10)\n",
        "meaniou = []\n",
        "for k in ks:\n",
        "    cl = KMeans(n_clusters=k)\n",
        "    cl.fit(final_df)\n",
        "    cx = []\n",
        "    cy = []\n",
        "    mapcx  = {}\n",
        "    mapcy = {}\n",
        "    iou = []\n",
        "    for i in range(len(width)):\n",
        "        \n",
        "        l = cl.labels_[i]\n",
        "        cx.append(cl.cluster_centers_[l][0])\n",
        "        cy.append(cl.cluster_centers_[l][1])\n",
        "        iou.append(min(width[i] ,cx[i])* min(height[i] , cy[i])/(height[i]*width[i]+ cx[i]*cy[i]- min(width[i] , cx[i])* min(height[i] ,cy[i])))\n",
        "    meaniou.append(sum(iou)/len(width))"
      ],
      "execution_count": 113,
      "outputs": []
    },
    {
      "cell_type": "code",
      "metadata": {
        "id": "xcaxZctdxVNv",
        "outputId": "e1233ebd-6018-4b96-86d3-780b9af50802",
        "colab": {
          "base_uri": "https://localhost:8080/",
          "height": 295
        }
      },
      "source": [
        "plt.style.use(\"dark_background\")\n",
        "plt.plot(range(1,10),meaniou,'.-',label = \"iou\")\n",
        "plt.plot([5,5],[0.5,0.95],label = \"k = 5\")\n",
        "plt.plot([7,7],[0.5,0.95],label = \"k = 7\")\n",
        "plt.xlabel('centroids')\n",
        "plt.ylabel('Mean Iou')\n",
        "plt.title('The Mean IOU for each k')\n",
        "plt.legend()\n",
        "plt.show()"
      ],
      "execution_count": 116,
      "outputs": [
        {
          "output_type": "display_data",
          "data": {
            "image/png": "[encoded data removed]",
            "text/plain": [
              "<Figure size 432x288 with 1 Axes>"
            ]
          },
          "metadata": {
            "tags": []
          }
        }
      ]
    },
    {
      "cell_type": "markdown",
      "metadata": {
        "id": "9CK8xSPB1IL7"
      },
      "source": [
        "K=5 From the Graph"
      ]
    },
    {
      "cell_type": "code",
      "metadata": {
        "id": "MBnMX_vB1Nmy"
      },
      "source": [
        ""
      ],
      "execution_count": null,
      "outputs": []
    },
    {
      "cell_type": "markdown",
      "metadata": {
        "id": "54PSk2-y1OH3"
      },
      "source": [
        "####K=5"
      ]
    },
    {
      "cell_type": "code",
      "metadata": {
        "id": "pnAUbos60E_I",
        "outputId": "7e9f61cc-7617-4145-bf0b-7605e9a42b50",
        "colab": {
          "base_uri": "https://localhost:8080/",
          "height": 296
        }
      },
      "source": [
        "import numpy as np\n",
        "array_points = np.array(final_df)\n",
        "cl3 = KMeans(5)\n",
        "cl3.fit(array_points)\n",
        "\n",
        "plt.scatter(cl3.cluster_centers_[:,0] ,cl3.cluster_centers_[:,1], color='red',s = 100,marker = 'o', label='centroids')\n",
        "plt.scatter(list(final_df['bbox_width']), list(final_df['bbox_height']), marker=\"v\",c=list(cl3.labels_.astype(float)), label = \"data\")\n",
        "plt.legend()\n",
        "plt.xlabel('bbox_width')\n",
        "plt.ylabel('bbox_height')\n",
        "plt.title('K Means for k = 5')\n",
        "plt.legend()\n",
        "plt.show()"
      ],
      "execution_count": 119,
      "outputs": [
        {
          "output_type": "display_data",
          "data": {
            "image/png": "[encoded data removed]",
            "text/plain": [
              "<Figure size 432x288 with 1 Axes>"
            ]
          },
          "metadata": {
            "tags": []
          }
        }
      ]
    },
    {
      "cell_type": "markdown",
      "metadata": {
        "id": "ZWkaxAPZ1V2C"
      },
      "source": [
        "####K=7"
      ]
    },
    {
      "cell_type": "code",
      "metadata": {
        "id": "4n-VXLsRxe-6",
        "outputId": "a2df9cba-42dc-4e0b-e2e7-a221cabae478",
        "colab": {
          "base_uri": "https://localhost:8080/",
          "height": 296
        }
      },
      "source": [
        "import numpy as np\n",
        "array_points = np.array(final_df)\n",
        "cl3 = KMeans(7)\n",
        "cl3.fit(array_points)\n",
        "\n",
        "plt.scatter(cl3.cluster_centers_[:,0] ,cl3.cluster_centers_[:,1], color='red',s = 100,marker = 'o', label='centroids')\n",
        "plt.scatter(list(final_df['bbox_width']), list(final_df['bbox_height']), marker=\"v\",c=list(cl3.labels_.astype(float)), label = \"data\")\n",
        "plt.legend()\n",
        "plt.xlabel('bbox_width')\n",
        "plt.ylabel('bbox_height')\n",
        "plt.title('K Means for k = 7')\n",
        "plt.legend()\n",
        "plt.show()"
      ],
      "execution_count": 120,
      "outputs": [
        {
          "output_type": "display_data",
          "data": {
            "image/png": "[encoded data removed]",
            "text/plain": [
              "<Figure size 432x288 with 1 Axes>"
            ]
          },
          "metadata": {
            "tags": []
          }
        }
      ]
    },
    {
      "cell_type": "markdown",
      "metadata": {
        "id": "trReckF31ZP6"
      },
      "source": [
        "####K=7"
      ]
    },
    {
      "cell_type": "code",
      "metadata": {
        "id": "UGwL0vqH0w5f",
        "outputId": "4b7b2697-17b0-4388-b6d0-e5d21ae872d3",
        "colab": {
          "base_uri": "https://localhost:8080/",
          "height": 296
        }
      },
      "source": [
        "import numpy as np\n",
        "array_points = np.array(final_df)\n",
        "cl3 = KMeans(6)\n",
        "cl3.fit(array_points)\n",
        "\n",
        "plt.scatter(cl3.cluster_centers_[:,0] ,cl3.cluster_centers_[:,1], color='red',s = 100,marker = 'o', label='centroids')\n",
        "plt.scatter(list(final_df['bbox_width']), list(final_df['bbox_height']), marker=\"v\",c=list(cl3.labels_.astype(float)), label = \"data\")\n",
        "plt.legend()\n",
        "plt.xlabel('bbox_width')\n",
        "plt.ylabel('bbox_height')\n",
        "plt.title('K Means for k = 6')\n",
        "plt.legend()\n",
        "plt.show()"
      ],
      "execution_count": 121,
      "outputs": [
        {
          "output_type": "display_data",
          "data": {
            "image/png": "[encoded data removed]",
            "text/plain": [
              "<Figure size 432x288 with 1 Axes>"
            ]
          },
          "metadata": {
            "tags": []
          }
        }
      ]
    },
    {
      "cell_type": "markdown",
      "metadata": {
        "id": "_xgUYdM-1ehf"
      },
      "source": [
        "Looking at the plots, the data seems enough differentiated even on K=5, So I think we should choose K=5."
      ]
    },
    {
      "cell_type": "code",
      "metadata": {
        "id": "o2nlE7vM1w8y"
      },
      "source": [
        ""
      ],
      "execution_count": null,
      "outputs": []
    },
    {
      "cell_type": "code",
      "metadata": {
        "id": "chzV-fQA04WW"
      },
      "source": [
        ""
      ],
      "execution_count": null,
      "outputs": []
    }
  ]
}