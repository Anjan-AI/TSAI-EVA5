{
  "nbformat": 4,
  "nbformat_minor": 0,
  "metadata": {
    "colab": {
      "name": "Session_12_Assignment_2_Findinng K_value_imageset1.ipynb",
      "provenance": [],
      "collapsed_sections": [],
      "authorship_tag": "ABX9TyM/aBiEMjT3VXVsm5G73s7C",
      "include_colab_link": true
    },
    "kernelspec": {
      "name": "python3",
      "display_name": "Python 3"
    }
  },
  "cells": [
    {
      "cell_type": "markdown",
      "metadata": {
        "id": "view-in-github",
        "colab_type": "text"
      },
      "source": [
        "<a href=\"https://colab.research.google.com/github/Anjan-AI/TSAI-EVA5/blob/master/Session%2012%20-%20Object%20Localization%20YOLO%20(%20Part%201)/Session_12_Assignment_2_Findinng_K_value_imageset1.ipynb\" target=\"_parent\"><img src=\"https://colab.research.google.com/assets/colab-badge.svg\" alt=\"Open In Colab\"/></a>"
      ]
    },
    {
      "cell_type": "markdown",
      "metadata": {
        "id": "zgBaHc_pVfIR"
      },
      "source": [
        "### Finding the best K using K-means and IOU method.\n",
        "\n",
        "## Organisation of JSON File\n",
        "keys :\n",
        "   1. info - Genric Infoormation on the file like year, version, url, description\n",
        "   2. images - this contains information of images\n",
        "        * id - unique value\n",
        "        * width - width of the image\n",
        "        * height - height of the image\n",
        "        * file_name - name of the file\n",
        "        * license   - licence if any\n",
        "        * date_captured - date when captured\n",
        "   3.   annotation - information about annotation that is done manually in vgg annotator\n",
        "        * id  - unique value\n",
        "        * image_id - which is the id of images. By this we can join images and annottaion fields\n",
        "        * segmentation- Co-Ordinates of the bbox. For rectangle there will be 8 coordinates(4 x,y groups) - top-left,top-right, bottom-left, bottom-right.\n",
        "        * area- area of bounding box\n",
        "        * bbox - 4 points. top-left x point,top-left y point, width of bbox, height of bbox \n",
        "        * iscrowd - NA\n",
        "        * id - ID for each bounding box.\n",
        "        * image_id - Image ID \n",
        "        * category_id - NA \n",
        "   4.   licence\n",
        "   5.  Categories - This will have the information of the field we annotated.like class, type -- whatever fields we chose\n"
      ]
    },
    {
      "cell_type": "code",
      "metadata": {
        "id": "Dg1itlMd82EP"
      },
      "source": [
        "%rm -rf TSAI-EVA5/"
      ],
      "execution_count": 1,
      "outputs": []
    },
    {
      "cell_type": "code",
      "metadata": {
        "id": "1BpYmMpT8-BJ",
        "outputId": "a6c71850-a560-4c67-9522-89566bf62536",
        "colab": {
          "base_uri": "https://localhost:8080/",
          "height": 136
        }
      },
      "source": [
        "!git clone https://github.com/Anjan-AI/TSAI-EVA5.git"
      ],
      "execution_count": 2,
      "outputs": [
        {
          "output_type": "stream",
          "text": [
            "Cloning into 'TSAI-EVA5'...\n",
            "remote: Enumerating objects: 239, done.\u001b[K\n",
            "remote: Counting objects: 100% (239/239), done.\u001b[K\n",
            "remote: Compressing objects: 100% (198/198), done.\u001b[K\n",
            "remote: Total 846 (delta 78), reused 187 (delta 33), pack-reused 607\u001b[K\n",
            "Receiving objects: 100% (846/846), 47.36 MiB | 17.31 MiB/s, done.\n",
            "Resolving deltas: 100% (333/333), done.\n"
          ],
          "name": "stdout"
        }
      ]
    },
    {
      "cell_type": "code",
      "metadata": {
        "id": "N2M4fPhM9Frs"
      },
      "source": [
        "import sys\n",
        "sys.path.append('/content/TSAI-EVA5/Session 12 - Object Localization YOLO ( Part 1)/')"
      ],
      "execution_count": 165,
      "outputs": []
    },
    {
      "cell_type": "code",
      "metadata": {
        "id": "0cQIk3fm9JD5",
        "outputId": "9dcd6c13-96c8-46e6-b979-160ba1e8de34",
        "colab": {
          "base_uri": "https://localhost:8080/",
          "height": 272
        }
      },
      "source": [
        "import json \n",
        "import pandas as pd\n",
        "\n",
        "path = '/content/TSAI-EVA5/Session 12 - Object Localization YOLO ( Part 1)/Dataset/Images/ImagesSet1_coco.json' # path of the json file  \n",
        "# Opening JSON file \n",
        "f = open(path) \n",
        "  \n",
        "# returns JSON object as  \n",
        "\n",
        "data = json.load(f) \n",
        " \n",
        "\n",
        "print(data.keys())\n",
        "print('\\n\\n')\n",
        "images = pd.DataFrame(data['images'], columns = data['images'][0].keys())\n",
        "annotations = pd.DataFrame(data['annotations'], columns = data['annotations'][0].keys())\n",
        " \n",
        "# Closing file \n",
        "f.close()\n",
        "images.tail()"
      ],
      "execution_count": 166,
      "outputs": [
        {
          "output_type": "stream",
          "text": [
            "dict_keys(['info', 'images', 'annotations', 'licenses', 'categories'])\n",
            "\n",
            "\n",
            "\n"
          ],
          "name": "stdout"
        },
        {
          "output_type": "execute_result",
          "data": {
            "text/html": [
              "<div>\n",
              "<style scoped>\n",
              "    .dataframe tbody tr th:only-of-type {\n",
              "        vertical-align: middle;\n",
              "    }\n",
              "\n",
              "    .dataframe tbody tr th {\n",
              "        vertical-align: top;\n",
              "    }\n",
              "\n",
              "    .dataframe thead th {\n",
              "        text-align: right;\n",
              "    }\n",
              "</style>\n",
              "<table border=\"1\" class=\"dataframe\">\n",
              "  <thead>\n",
              "    <tr style=\"text-align: right;\">\n",
              "      <th></th>\n",
              "      <th>id</th>\n",
              "      <th>width</th>\n",
              "      <th>height</th>\n",
              "      <th>file_name</th>\n",
              "      <th>license</th>\n",
              "      <th>date_captured</th>\n",
              "    </tr>\n",
              "  </thead>\n",
              "  <tbody>\n",
              "    <tr>\n",
              "      <th>65</th>\n",
              "      <td>66</td>\n",
              "      <td>626</td>\n",
              "      <td>417</td>\n",
              "      <td>66.jpg</td>\n",
              "      <td>0</td>\n",
              "      <td></td>\n",
              "    </tr>\n",
              "    <tr>\n",
              "      <th>66</th>\n",
              "      <td>67</td>\n",
              "      <td>626</td>\n",
              "      <td>417</td>\n",
              "      <td>67.jpg</td>\n",
              "      <td>0</td>\n",
              "      <td></td>\n",
              "    </tr>\n",
              "    <tr>\n",
              "      <th>67</th>\n",
              "      <td>68</td>\n",
              "      <td>724</td>\n",
              "      <td>483</td>\n",
              "      <td>68.jpg</td>\n",
              "      <td>0</td>\n",
              "      <td></td>\n",
              "    </tr>\n",
              "    <tr>\n",
              "      <th>68</th>\n",
              "      <td>69</td>\n",
              "      <td>800</td>\n",
              "      <td>533</td>\n",
              "      <td>69.jpg</td>\n",
              "      <td>0</td>\n",
              "      <td></td>\n",
              "    </tr>\n",
              "    <tr>\n",
              "      <th>69</th>\n",
              "      <td>70</td>\n",
              "      <td>640</td>\n",
              "      <td>336</td>\n",
              "      <td>70.jpg</td>\n",
              "      <td>0</td>\n",
              "      <td></td>\n",
              "    </tr>\n",
              "  </tbody>\n",
              "</table>\n",
              "</div>"
            ],
            "text/plain": [
              "    id  width  height file_name  license date_captured\n",
              "65  66    626     417    66.jpg        0              \n",
              "66  67    626     417    67.jpg        0              \n",
              "67  68    724     483    68.jpg        0              \n",
              "68  69    800     533    69.jpg        0              \n",
              "69  70    640     336    70.jpg        0              "
            ]
          },
          "metadata": {
            "tags": []
          },
          "execution_count": 166
        }
      ]
    },
    {
      "cell_type": "markdown",
      "metadata": {
        "id": "3d7eYO4QX0L7"
      },
      "source": [
        "## display the data frames"
      ]
    },
    {
      "cell_type": "code",
      "metadata": {
        "id": "RVgsMr4fbKFo",
        "outputId": "44987090-8a81-4464-c138-d1f31bd9ec47",
        "colab": {
          "base_uri": "https://localhost:8080/",
          "height": 204
        }
      },
      "source": [
        "annotations.tail()\n",
        "#print(annotations.shape[0])"
      ],
      "execution_count": 167,
      "outputs": [
        {
          "output_type": "execute_result",
          "data": {
            "text/html": [
              "<div>\n",
              "<style scoped>\n",
              "    .dataframe tbody tr th:only-of-type {\n",
              "        vertical-align: middle;\n",
              "    }\n",
              "\n",
              "    .dataframe tbody tr th {\n",
              "        vertical-align: top;\n",
              "    }\n",
              "\n",
              "    .dataframe thead th {\n",
              "        text-align: right;\n",
              "    }\n",
              "</style>\n",
              "<table border=\"1\" class=\"dataframe\">\n",
              "  <thead>\n",
              "    <tr style=\"text-align: right;\">\n",
              "      <th></th>\n",
              "      <th>segmentation</th>\n",
              "      <th>area</th>\n",
              "      <th>bbox</th>\n",
              "      <th>iscrowd</th>\n",
              "      <th>id</th>\n",
              "      <th>image_id</th>\n",
              "      <th>category_id</th>\n",
              "    </tr>\n",
              "  </thead>\n",
              "  <tbody>\n",
              "    <tr>\n",
              "      <th>461</th>\n",
              "      <td>[[85, 78, 119, 78, 119, 111, 85, 111]]</td>\n",
              "      <td>1122</td>\n",
              "      <td>[85, 78, 34, 33]</td>\n",
              "      <td>0</td>\n",
              "      <td>462</td>\n",
              "      <td>70</td>\n",
              "      <td>None</td>\n",
              "    </tr>\n",
              "    <tr>\n",
              "      <th>462</th>\n",
              "      <td>[[43, 122, 120, 122, 120, 285, 43, 285]]</td>\n",
              "      <td>12551</td>\n",
              "      <td>[43, 122, 77, 163]</td>\n",
              "      <td>0</td>\n",
              "      <td>463</td>\n",
              "      <td>70</td>\n",
              "      <td>None</td>\n",
              "    </tr>\n",
              "    <tr>\n",
              "      <th>463</th>\n",
              "      <td>[[124, 117, 278, 117, 278, 319, 124, 319]]</td>\n",
              "      <td>31108</td>\n",
              "      <td>[124, 117, 154, 202]</td>\n",
              "      <td>0</td>\n",
              "      <td>464</td>\n",
              "      <td>70</td>\n",
              "      <td>None</td>\n",
              "    </tr>\n",
              "    <tr>\n",
              "      <th>464</th>\n",
              "      <td>[[324, 115, 439, 115, 439, 261, 324, 261]]</td>\n",
              "      <td>16790</td>\n",
              "      <td>[324, 115, 115, 146]</td>\n",
              "      <td>0</td>\n",
              "      <td>465</td>\n",
              "      <td>70</td>\n",
              "      <td>None</td>\n",
              "    </tr>\n",
              "    <tr>\n",
              "      <th>465</th>\n",
              "      <td>[[451, 149, 591, 149, 591, 332, 451, 332]]</td>\n",
              "      <td>25620</td>\n",
              "      <td>[451, 149, 140, 183]</td>\n",
              "      <td>0</td>\n",
              "      <td>466</td>\n",
              "      <td>70</td>\n",
              "      <td>None</td>\n",
              "    </tr>\n",
              "  </tbody>\n",
              "</table>\n",
              "</div>"
            ],
            "text/plain": [
              "                                   segmentation   area  ... image_id  category_id\n",
              "461      [[85, 78, 119, 78, 119, 111, 85, 111]]   1122  ...       70         None\n",
              "462    [[43, 122, 120, 122, 120, 285, 43, 285]]  12551  ...       70         None\n",
              "463  [[124, 117, 278, 117, 278, 319, 124, 319]]  31108  ...       70         None\n",
              "464  [[324, 115, 439, 115, 439, 261, 324, 261]]  16790  ...       70         None\n",
              "465  [[451, 149, 591, 149, 591, 332, 451, 332]]  25620  ...       70         None\n",
              "\n",
              "[5 rows x 7 columns]"
            ]
          },
          "metadata": {
            "tags": []
          },
          "execution_count": 167
        }
      ]
    },
    {
      "cell_type": "markdown",
      "metadata": {
        "id": "3CWRDvJiblQp"
      },
      "source": [
        "## Preprocessing the data , remove unwanted cols "
      ]
    },
    {
      "cell_type": "code",
      "metadata": {
        "id": "QROFoBckbZXC",
        "outputId": "e5c5d8d4-3d69-4801-9d63-2afd6b788cd5",
        "colab": {
          "base_uri": "https://localhost:8080/",
          "height": 204
        }
      },
      "source": [
        "bbwidth = []\n",
        "bbheight = []\n",
        "bbx = []\n",
        "bby = []\n",
        "bbox = list(annotations['bbox'])\n",
        "for i in bbox:\n",
        "    #print(i)\n",
        "    bbx.append(i[0])\n",
        "    bby.append(i[1])\n",
        "    bbwidth.append(i[2])\n",
        "    bbheight.append(i[3])\n",
        "annotations['bbx'] = bbx\n",
        "annotations['bby'] = bby\n",
        "annotations['bbwidth'] = bbwidth\n",
        "annotations['bbheight'] = bbheight\n",
        "annotations = annotations.rename(columns={\"id\": \"bbox_no\"}) #changing the ID so that this kyworrd can be used for assignign the image ID\n",
        "annotations = annotations.rename(columns={\"image_id\": \"id\"}) # changed Image_ID to ID as its the nmae used in Image dataframe and  will be used for merging. \n",
        "annotations = annotations.drop([\"bbox\",\"bbx\",\"bby\",\"bbox_no\",\"category_id\",\"segmentation\",\"area\",\"iscrowd\"],axis =1)\n",
        "annotations.tail()"
      ],
      "execution_count": 168,
      "outputs": [
        {
          "output_type": "execute_result",
          "data": {
            "text/html": [
              "<div>\n",
              "<style scoped>\n",
              "    .dataframe tbody tr th:only-of-type {\n",
              "        vertical-align: middle;\n",
              "    }\n",
              "\n",
              "    .dataframe tbody tr th {\n",
              "        vertical-align: top;\n",
              "    }\n",
              "\n",
              "    .dataframe thead th {\n",
              "        text-align: right;\n",
              "    }\n",
              "</style>\n",
              "<table border=\"1\" class=\"dataframe\">\n",
              "  <thead>\n",
              "    <tr style=\"text-align: right;\">\n",
              "      <th></th>\n",
              "      <th>id</th>\n",
              "      <th>bbwidth</th>\n",
              "      <th>bbheight</th>\n",
              "    </tr>\n",
              "  </thead>\n",
              "  <tbody>\n",
              "    <tr>\n",
              "      <th>461</th>\n",
              "      <td>70</td>\n",
              "      <td>34</td>\n",
              "      <td>33</td>\n",
              "    </tr>\n",
              "    <tr>\n",
              "      <th>462</th>\n",
              "      <td>70</td>\n",
              "      <td>77</td>\n",
              "      <td>163</td>\n",
              "    </tr>\n",
              "    <tr>\n",
              "      <th>463</th>\n",
              "      <td>70</td>\n",
              "      <td>154</td>\n",
              "      <td>202</td>\n",
              "    </tr>\n",
              "    <tr>\n",
              "      <th>464</th>\n",
              "      <td>70</td>\n",
              "      <td>115</td>\n",
              "      <td>146</td>\n",
              "    </tr>\n",
              "    <tr>\n",
              "      <th>465</th>\n",
              "      <td>70</td>\n",
              "      <td>140</td>\n",
              "      <td>183</td>\n",
              "    </tr>\n",
              "  </tbody>\n",
              "</table>\n",
              "</div>"
            ],
            "text/plain": [
              "     id  bbwidth  bbheight\n",
              "461  70       34        33\n",
              "462  70       77       163\n",
              "463  70      154       202\n",
              "464  70      115       146\n",
              "465  70      140       183"
            ]
          },
          "metadata": {
            "tags": []
          },
          "execution_count": 168
        }
      ]
    },
    {
      "cell_type": "code",
      "metadata": {
        "id": "sKUrj8Awb2v-",
        "outputId": "6fe7a97f-a15a-4666-c45e-dd3496e35cd7",
        "colab": {
          "base_uri": "https://localhost:8080/",
          "height": 204
        }
      },
      "source": [
        "images = images.drop([\"license\",\"date_captured\"],axis = 1)\n",
        "images.tail()\n"
      ],
      "execution_count": 169,
      "outputs": [
        {
          "output_type": "execute_result",
          "data": {
            "text/html": [
              "<div>\n",
              "<style scoped>\n",
              "    .dataframe tbody tr th:only-of-type {\n",
              "        vertical-align: middle;\n",
              "    }\n",
              "\n",
              "    .dataframe tbody tr th {\n",
              "        vertical-align: top;\n",
              "    }\n",
              "\n",
              "    .dataframe thead th {\n",
              "        text-align: right;\n",
              "    }\n",
              "</style>\n",
              "<table border=\"1\" class=\"dataframe\">\n",
              "  <thead>\n",
              "    <tr style=\"text-align: right;\">\n",
              "      <th></th>\n",
              "      <th>id</th>\n",
              "      <th>width</th>\n",
              "      <th>height</th>\n",
              "      <th>file_name</th>\n",
              "    </tr>\n",
              "  </thead>\n",
              "  <tbody>\n",
              "    <tr>\n",
              "      <th>65</th>\n",
              "      <td>66</td>\n",
              "      <td>626</td>\n",
              "      <td>417</td>\n",
              "      <td>66.jpg</td>\n",
              "    </tr>\n",
              "    <tr>\n",
              "      <th>66</th>\n",
              "      <td>67</td>\n",
              "      <td>626</td>\n",
              "      <td>417</td>\n",
              "      <td>67.jpg</td>\n",
              "    </tr>\n",
              "    <tr>\n",
              "      <th>67</th>\n",
              "      <td>68</td>\n",
              "      <td>724</td>\n",
              "      <td>483</td>\n",
              "      <td>68.jpg</td>\n",
              "    </tr>\n",
              "    <tr>\n",
              "      <th>68</th>\n",
              "      <td>69</td>\n",
              "      <td>800</td>\n",
              "      <td>533</td>\n",
              "      <td>69.jpg</td>\n",
              "    </tr>\n",
              "    <tr>\n",
              "      <th>69</th>\n",
              "      <td>70</td>\n",
              "      <td>640</td>\n",
              "      <td>336</td>\n",
              "      <td>70.jpg</td>\n",
              "    </tr>\n",
              "  </tbody>\n",
              "</table>\n",
              "</div>"
            ],
            "text/plain": [
              "    id  width  height file_name\n",
              "65  66    626     417    66.jpg\n",
              "66  67    626     417    67.jpg\n",
              "67  68    724     483    68.jpg\n",
              "68  69    800     533    69.jpg\n",
              "69  70    640     336    70.jpg"
            ]
          },
          "metadata": {
            "tags": []
          },
          "execution_count": 169
        }
      ]
    },
    {
      "cell_type": "markdown",
      "metadata": {
        "id": "2veleV_wdbZX"
      },
      "source": [
        "### merging both the data frames."
      ]
    },
    {
      "cell_type": "code",
      "metadata": {
        "id": "VitAY22U5Mjq",
        "outputId": "d2e85069-241b-4153-eebf-0eda16542a4b",
        "colab": {
          "base_uri": "https://localhost:8080/",
          "height": 34
        }
      },
      "source": [
        "list(images.columns)"
      ],
      "execution_count": 170,
      "outputs": [
        {
          "output_type": "execute_result",
          "data": {
            "text/plain": [
              "['id', 'width', 'height', 'file_name']"
            ]
          },
          "metadata": {
            "tags": []
          },
          "execution_count": 170
        }
      ]
    },
    {
      "cell_type": "code",
      "metadata": {
        "id": "SNnhfiio5QRf",
        "outputId": "1a0fb6ef-acda-4736-c219-ece62e6ec040",
        "colab": {
          "base_uri": "https://localhost:8080/",
          "height": 34
        }
      },
      "source": [
        "list(annotations.columns)"
      ],
      "execution_count": 171,
      "outputs": [
        {
          "output_type": "execute_result",
          "data": {
            "text/plain": [
              "['id', 'bbwidth', 'bbheight']"
            ]
          },
          "metadata": {
            "tags": []
          },
          "execution_count": 171
        }
      ]
    },
    {
      "cell_type": "code",
      "metadata": {
        "id": "M8GCJa4cdaCU",
        "outputId": "c0893f6f-cb4a-4eca-a6de-93800164b322",
        "colab": {
          "base_uri": "https://localhost:8080/",
          "height": 204
        }
      },
      "source": [
        "\n",
        "finalfile = pd.merge(images, annotations,on='id')\n",
        "\n",
        "finalfile.tail()"
      ],
      "execution_count": 173,
      "outputs": [
        {
          "output_type": "execute_result",
          "data": {
            "text/html": [
              "<div>\n",
              "<style scoped>\n",
              "    .dataframe tbody tr th:only-of-type {\n",
              "        vertical-align: middle;\n",
              "    }\n",
              "\n",
              "    .dataframe tbody tr th {\n",
              "        vertical-align: top;\n",
              "    }\n",
              "\n",
              "    .dataframe thead th {\n",
              "        text-align: right;\n",
              "    }\n",
              "</style>\n",
              "<table border=\"1\" class=\"dataframe\">\n",
              "  <thead>\n",
              "    <tr style=\"text-align: right;\">\n",
              "      <th></th>\n",
              "      <th>id</th>\n",
              "      <th>width</th>\n",
              "      <th>height</th>\n",
              "      <th>file_name</th>\n",
              "      <th>bbwidth</th>\n",
              "      <th>bbheight</th>\n",
              "    </tr>\n",
              "  </thead>\n",
              "  <tbody>\n",
              "    <tr>\n",
              "      <th>461</th>\n",
              "      <td>70</td>\n",
              "      <td>640</td>\n",
              "      <td>336</td>\n",
              "      <td>70.jpg</td>\n",
              "      <td>34</td>\n",
              "      <td>33</td>\n",
              "    </tr>\n",
              "    <tr>\n",
              "      <th>462</th>\n",
              "      <td>70</td>\n",
              "      <td>640</td>\n",
              "      <td>336</td>\n",
              "      <td>70.jpg</td>\n",
              "      <td>77</td>\n",
              "      <td>163</td>\n",
              "    </tr>\n",
              "    <tr>\n",
              "      <th>463</th>\n",
              "      <td>70</td>\n",
              "      <td>640</td>\n",
              "      <td>336</td>\n",
              "      <td>70.jpg</td>\n",
              "      <td>154</td>\n",
              "      <td>202</td>\n",
              "    </tr>\n",
              "    <tr>\n",
              "      <th>464</th>\n",
              "      <td>70</td>\n",
              "      <td>640</td>\n",
              "      <td>336</td>\n",
              "      <td>70.jpg</td>\n",
              "      <td>115</td>\n",
              "      <td>146</td>\n",
              "    </tr>\n",
              "    <tr>\n",
              "      <th>465</th>\n",
              "      <td>70</td>\n",
              "      <td>640</td>\n",
              "      <td>336</td>\n",
              "      <td>70.jpg</td>\n",
              "      <td>140</td>\n",
              "      <td>183</td>\n",
              "    </tr>\n",
              "  </tbody>\n",
              "</table>\n",
              "</div>"
            ],
            "text/plain": [
              "     id  width  height file_name  bbwidth  bbheight\n",
              "461  70    640     336    70.jpg       34        33\n",
              "462  70    640     336    70.jpg       77       163\n",
              "463  70    640     336    70.jpg      154       202\n",
              "464  70    640     336    70.jpg      115       146\n",
              "465  70    640     336    70.jpg      140       183"
            ]
          },
          "metadata": {
            "tags": []
          },
          "execution_count": 173
        }
      ]
    },
    {
      "cell_type": "markdown",
      "metadata": {
        "id": "rF55Ud03dxsZ"
      },
      "source": [
        "## Normalize the Bounding Box values"
      ]
    },
    {
      "cell_type": "code",
      "metadata": {
        "id": "ITgyXtzBp7i7",
        "outputId": "0911bded-f76e-430e-997e-afb6dc0435ea",
        "colab": {
          "base_uri": "https://localhost:8080/",
          "height": 204
        }
      },
      "source": [
        "finalfile['bbwidth'] = finalfile['bbwidth'].div(finalfile['width'])\n",
        "finalfile['bbheight'] = finalfile['bbheight'].div(finalfile['height'])\n",
        "finalfile['height'] = finalfile['height'].div(finalfile['height'])\n",
        "finalfile['width'] = finalfile['width'].div(finalfile['width'])\n",
        "\n",
        "finalfile.tail()"
      ],
      "execution_count": 174,
      "outputs": [
        {
          "output_type": "execute_result",
          "data": {
            "text/html": [
              "<div>\n",
              "<style scoped>\n",
              "    .dataframe tbody tr th:only-of-type {\n",
              "        vertical-align: middle;\n",
              "    }\n",
              "\n",
              "    .dataframe tbody tr th {\n",
              "        vertical-align: top;\n",
              "    }\n",
              "\n",
              "    .dataframe thead th {\n",
              "        text-align: right;\n",
              "    }\n",
              "</style>\n",
              "<table border=\"1\" class=\"dataframe\">\n",
              "  <thead>\n",
              "    <tr style=\"text-align: right;\">\n",
              "      <th></th>\n",
              "      <th>id</th>\n",
              "      <th>width</th>\n",
              "      <th>height</th>\n",
              "      <th>file_name</th>\n",
              "      <th>bbwidth</th>\n",
              "      <th>bbheight</th>\n",
              "    </tr>\n",
              "  </thead>\n",
              "  <tbody>\n",
              "    <tr>\n",
              "      <th>461</th>\n",
              "      <td>70</td>\n",
              "      <td>1.0</td>\n",
              "      <td>1.0</td>\n",
              "      <td>70.jpg</td>\n",
              "      <td>0.053125</td>\n",
              "      <td>0.098214</td>\n",
              "    </tr>\n",
              "    <tr>\n",
              "      <th>462</th>\n",
              "      <td>70</td>\n",
              "      <td>1.0</td>\n",
              "      <td>1.0</td>\n",
              "      <td>70.jpg</td>\n",
              "      <td>0.120313</td>\n",
              "      <td>0.485119</td>\n",
              "    </tr>\n",
              "    <tr>\n",
              "      <th>463</th>\n",
              "      <td>70</td>\n",
              "      <td>1.0</td>\n",
              "      <td>1.0</td>\n",
              "      <td>70.jpg</td>\n",
              "      <td>0.240625</td>\n",
              "      <td>0.601190</td>\n",
              "    </tr>\n",
              "    <tr>\n",
              "      <th>464</th>\n",
              "      <td>70</td>\n",
              "      <td>1.0</td>\n",
              "      <td>1.0</td>\n",
              "      <td>70.jpg</td>\n",
              "      <td>0.179688</td>\n",
              "      <td>0.434524</td>\n",
              "    </tr>\n",
              "    <tr>\n",
              "      <th>465</th>\n",
              "      <td>70</td>\n",
              "      <td>1.0</td>\n",
              "      <td>1.0</td>\n",
              "      <td>70.jpg</td>\n",
              "      <td>0.218750</td>\n",
              "      <td>0.544643</td>\n",
              "    </tr>\n",
              "  </tbody>\n",
              "</table>\n",
              "</div>"
            ],
            "text/plain": [
              "     id  width  height file_name   bbwidth  bbheight\n",
              "461  70    1.0     1.0    70.jpg  0.053125  0.098214\n",
              "462  70    1.0     1.0    70.jpg  0.120313  0.485119\n",
              "463  70    1.0     1.0    70.jpg  0.240625  0.601190\n",
              "464  70    1.0     1.0    70.jpg  0.179688  0.434524\n",
              "465  70    1.0     1.0    70.jpg  0.218750  0.544643"
            ]
          },
          "metadata": {
            "tags": []
          },
          "execution_count": 174
        }
      ]
    },
    {
      "cell_type": "code",
      "metadata": {
        "id": "CzENdLN9d3PD",
        "outputId": "f71997f5-db7f-4f5a-f2e6-5d2fd3426409",
        "colab": {
          "base_uri": "https://localhost:8080/",
          "height": 204
        }
      },
      "source": [
        "table_for_kmeans = finalfile.drop([\"width\",\"height\",\"file_name\",\"id\"],axis = 1)\n",
        "table_for_kmeans.head()"
      ],
      "execution_count": 176,
      "outputs": [
        {
          "output_type": "execute_result",
          "data": {
            "text/html": [
              "<div>\n",
              "<style scoped>\n",
              "    .dataframe tbody tr th:only-of-type {\n",
              "        vertical-align: middle;\n",
              "    }\n",
              "\n",
              "    .dataframe tbody tr th {\n",
              "        vertical-align: top;\n",
              "    }\n",
              "\n",
              "    .dataframe thead th {\n",
              "        text-align: right;\n",
              "    }\n",
              "</style>\n",
              "<table border=\"1\" class=\"dataframe\">\n",
              "  <thead>\n",
              "    <tr style=\"text-align: right;\">\n",
              "      <th></th>\n",
              "      <th>bbwidth</th>\n",
              "      <th>bbheight</th>\n",
              "    </tr>\n",
              "  </thead>\n",
              "  <tbody>\n",
              "    <tr>\n",
              "      <th>0</th>\n",
              "      <td>0.244361</td>\n",
              "      <td>0.222222</td>\n",
              "    </tr>\n",
              "    <tr>\n",
              "      <th>1</th>\n",
              "      <td>0.436090</td>\n",
              "      <td>0.608466</td>\n",
              "    </tr>\n",
              "    <tr>\n",
              "      <th>2</th>\n",
              "      <td>0.080078</td>\n",
              "      <td>0.081818</td>\n",
              "    </tr>\n",
              "    <tr>\n",
              "      <th>3</th>\n",
              "      <td>0.085938</td>\n",
              "      <td>0.084848</td>\n",
              "    </tr>\n",
              "    <tr>\n",
              "      <th>4</th>\n",
              "      <td>0.056641</td>\n",
              "      <td>0.072727</td>\n",
              "    </tr>\n",
              "  </tbody>\n",
              "</table>\n",
              "</div>"
            ],
            "text/plain": [
              "    bbwidth  bbheight\n",
              "0  0.244361  0.222222\n",
              "1  0.436090  0.608466\n",
              "2  0.080078  0.081818\n",
              "3  0.085938  0.084848\n",
              "4  0.056641  0.072727"
            ]
          },
          "metadata": {
            "tags": []
          },
          "execution_count": 176
        }
      ]
    },
    {
      "cell_type": "code",
      "metadata": {
        "id": "mkpZjIGDfjcc",
        "outputId": "1f5a80eb-8fb6-44a7-d407-fbc58dff85fa",
        "colab": {
          "base_uri": "https://localhost:8080/",
          "height": 204
        }
      },
      "source": [
        "table_for_kmeans.tail()"
      ],
      "execution_count": 177,
      "outputs": [
        {
          "output_type": "execute_result",
          "data": {
            "text/html": [
              "<div>\n",
              "<style scoped>\n",
              "    .dataframe tbody tr th:only-of-type {\n",
              "        vertical-align: middle;\n",
              "    }\n",
              "\n",
              "    .dataframe tbody tr th {\n",
              "        vertical-align: top;\n",
              "    }\n",
              "\n",
              "    .dataframe thead th {\n",
              "        text-align: right;\n",
              "    }\n",
              "</style>\n",
              "<table border=\"1\" class=\"dataframe\">\n",
              "  <thead>\n",
              "    <tr style=\"text-align: right;\">\n",
              "      <th></th>\n",
              "      <th>bbwidth</th>\n",
              "      <th>bbheight</th>\n",
              "    </tr>\n",
              "  </thead>\n",
              "  <tbody>\n",
              "    <tr>\n",
              "      <th>461</th>\n",
              "      <td>0.053125</td>\n",
              "      <td>0.098214</td>\n",
              "    </tr>\n",
              "    <tr>\n",
              "      <th>462</th>\n",
              "      <td>0.120313</td>\n",
              "      <td>0.485119</td>\n",
              "    </tr>\n",
              "    <tr>\n",
              "      <th>463</th>\n",
              "      <td>0.240625</td>\n",
              "      <td>0.601190</td>\n",
              "    </tr>\n",
              "    <tr>\n",
              "      <th>464</th>\n",
              "      <td>0.179688</td>\n",
              "      <td>0.434524</td>\n",
              "    </tr>\n",
              "    <tr>\n",
              "      <th>465</th>\n",
              "      <td>0.218750</td>\n",
              "      <td>0.544643</td>\n",
              "    </tr>\n",
              "  </tbody>\n",
              "</table>\n",
              "</div>"
            ],
            "text/plain": [
              "      bbwidth  bbheight\n",
              "461  0.053125  0.098214\n",
              "462  0.120313  0.485119\n",
              "463  0.240625  0.601190\n",
              "464  0.179688  0.434524\n",
              "465  0.218750  0.544643"
            ]
          },
          "metadata": {
            "tags": []
          },
          "execution_count": 177
        }
      ]
    },
    {
      "cell_type": "markdown",
      "metadata": {
        "id": "LP6SAl-fYJkL"
      },
      "source": [
        "## Plotting the Nomralized values "
      ]
    },
    {
      "cell_type": "code",
      "metadata": {
        "id": "AaYJEJkpeRNJ",
        "outputId": "f1cd6558-af8f-4b6e-b4b6-25b5ff4f5bcc",
        "colab": {
          "base_uri": "https://localhost:8080/",
          "height": 282
        }
      },
      "source": [
        "import matplotlib.pyplot as plt\n",
        "plt.style.use(\"dark_background\")\n",
        "plt.plot(table_for_kmeans['bbwidth'],table_for_kmeans['bbheight'],'.')"
      ],
      "execution_count": 178,
      "outputs": [
        {
          "output_type": "execute_result",
          "data": {
            "text/plain": [
              "[<matplotlib.lines.Line2D at 0x7fe6e0d1ff28>]"
            ]
          },
          "metadata": {
            "tags": []
          },
          "execution_count": 178
        },
        {
          "output_type": "display_data",
          "data": {
            "image/png": "[encoded data removed]",
            "text/plain": [
              "<Figure size 432x288 with 1 Axes>"
            ]
          },
          "metadata": {
            "tags": []
          }
        }
      ]
    },
    {
      "cell_type": "markdown",
      "metadata": {
        "id": "LMacWm9xechD"
      },
      "source": [
        "### Apply Elbow method to find out K"
      ]
    },
    {
      "cell_type": "code",
      "metadata": {
        "id": "qyrssRJKebwr",
        "outputId": "7a763d3e-7053-4716-9cd1-09d698c534e2",
        "colab": {
          "base_uri": "https://localhost:8080/",
          "height": 295
        }
      },
      "source": [
        "\n",
        "from sklearn.cluster import KMeans\n",
        "from sklearn import metrics\n",
        "from scipy.spatial.distance import cdist\n",
        "import numpy as np\n",
        "import matplotlib.pyplot as plt\n",
        "\n",
        "\n",
        "\n",
        "# k means determine k\n",
        "distortions = []\n",
        "K = range(1,10)\n",
        "for k in K:\n",
        "    kmeanModel = KMeans(n_clusters=k).fit(table_for_kmeans)\n",
        "    kmeanModel.fit(table_for_kmeans)\n",
        "    distortions.append(sum(np.min(cdist(table_for_kmeans, kmeanModel.cluster_centers_, 'euclidean'), axis=1)) /table_for_kmeans.shape[0])\n",
        "\n",
        "# Plot the elbow\n",
        "plt.style.use(\"dark_background\")\n",
        "plt.plot(K, distortions, '.-')\n",
        "plt.xlabel('k')\n",
        "plt.ylabel('Distortion')\n",
        "plt.title('The Elbow Method showing the optimal k')\n",
        "plt.show()\n"
      ],
      "execution_count": 179,
      "outputs": [
        {
          "output_type": "display_data",
          "data": {
            "image/png": "[encoded data removed]",
            "text/plain": [
              "<Figure size 432x288 with 1 Axes>"
            ]
          },
          "metadata": {
            "tags": []
          }
        }
      ]
    },
    {
      "cell_type": "markdown",
      "metadata": {
        "id": "kHVUT3g97AyG"
      },
      "source": [
        "# Iou Method to find out K\n",
        "###IOU(Intersection over union) = intersected area of bbox and anchor box/ Union area of bbox and anchor box\n",
        "\n",
        "###bw = bounding box width, bh - bounding box height, aw - anchor box width, ah - anchor box height\n",
        "\n",
        "###IOU = min(bw,aw) min(bh, ah)/bwbh + awah - min(bw,aw) min(bh, ah)\n",
        "\n",
        "###mean IOU = sum(IOU)/len(IOU)\n"
      ]
    },
    {
      "cell_type": "code",
      "metadata": {
        "id": "LnUQ_wiW7V7n"
      },
      "source": [
        "height = list(table_for_kmeans['bbheight'])\n",
        "width = list(table_for_kmeans['bbwidth'])\n",
        "ks = range(1,10)\n",
        "meaniou = []\n",
        "for k in ks:\n",
        "    cl = KMeans(n_clusters=k)\n",
        "    cl.fit(table_for_kmeans)\n",
        "    cx = []\n",
        "    cy = []\n",
        "    mapcx  = {}\n",
        "    mapcy = {}\n",
        "    iou = []\n",
        "    for i in range(len(width)):\n",
        "        \n",
        "        l = cl.labels_[i]\n",
        "        cx.append(cl.cluster_centers_[l][0])\n",
        "        cy.append(cl.cluster_centers_[l][1])\n",
        "        iou.append(min(width[i] ,cx[i])* min(height[i] , cy[i])/(height[i]*width[i]+ cx[i]*cy[i]- min(width[i] , cx[i])* min(height[i] ,cy[i])))\n",
        "    meaniou.append(sum(iou)/len(width))"
      ],
      "execution_count": 180,
      "outputs": []
    },
    {
      "cell_type": "code",
      "metadata": {
        "id": "jE95c7LN8Lyc",
        "outputId": "b2dc217c-1225-46f6-92ac-8e03c00c89b0",
        "colab": {
          "base_uri": "https://localhost:8080/",
          "height": 295
        }
      },
      "source": [
        "plt.style.use(\"dark_background\")\n",
        "plt.plot(range(1,10),meaniou,'.-',label = \"iou\")\n",
        "plt.plot([5,5],[0.5,0.95],label = \"k = 5\")\n",
        "plt.plot([6,6],[0.5,0.95],label = \"k = 6\")\n",
        "plt.xlabel('centroids')\n",
        "plt.ylabel('Mean Iou')\n",
        "plt.title('The Mean IOU for each k')\n",
        "plt.legend()\n",
        "plt.show()"
      ],
      "execution_count": 182,
      "outputs": [
        {
          "output_type": "display_data",
          "data": {
            "image/png": "[encoded data removed]",
            "text/plain": [
              "<Figure size 432x288 with 1 Axes>"
            ]
          },
          "metadata": {
            "tags": []
          }
        }
      ]
    },
    {
      "cell_type": "code",
      "metadata": {
        "id": "TcyC4AkXG0NU",
        "outputId": "49286b6a-48d4-4279-ecf5-5099b3e57fc0",
        "colab": {
          "base_uri": "https://localhost:8080/",
          "height": 85
        }
      },
      "source": [
        "meaniou[3],meaniou[4],meaniou[5],meaniou[6]"
      ],
      "execution_count": 183,
      "outputs": [
        {
          "output_type": "execute_result",
          "data": {
            "text/plain": [
              "(0.6540287273186097,\n",
              " 0.6709012681295348,\n",
              " 0.7030518780771059,\n",
              " 0.7218901810933637)"
            ]
          },
          "metadata": {
            "tags": []
          },
          "execution_count": 183
        }
      ]
    },
    {
      "cell_type": "markdown",
      "metadata": {
        "id": "iGKsLX4aR67G"
      },
      "source": [
        "K =6 from elbow method and K =5 from the IOU method."
      ]
    },
    {
      "cell_type": "code",
      "metadata": {
        "id": "O7Y93kCpR6cc",
        "outputId": "000a2002-492a-4075-eb3c-8710d3b14c98",
        "colab": {
          "base_uri": "https://localhost:8080/",
          "height": 295
        }
      },
      "source": [
        "import numpy as np\n",
        "array_points = np.array(table_for_kmeans)\n",
        "cl3 = KMeans(5)\n",
        "cl3.fit(array_points)\n",
        "\n",
        "plt.scatter(cl3.cluster_centers_[:,0] ,cl3.cluster_centers_[:,1], color='red',s = 100,marker = 'o', label='centroids')\n",
        "plt.scatter(list(table_for_kmeans['bbwidth']), list(table_for_kmeans['bbheight']), marker=\"v\",c=list(cl3.labels_.astype(float)), label = \"data\")\n",
        "plt.legend()\n",
        "plt.xlabel('bbwidth')\n",
        "plt.ylabel('bbheight')\n",
        "plt.title('K Means for k = 5')\n",
        "plt.legend()\n",
        "plt.show()"
      ],
      "execution_count": 184,
      "outputs": [
        {
          "output_type": "display_data",
          "data": {
            "image/png": "[encoded data removed]",
            "text/plain": [
              "<Figure size 432x288 with 1 Axes>"
            ]
          },
          "metadata": {
            "tags": []
          }
        }
      ]
    },
    {
      "cell_type": "code",
      "metadata": {
        "id": "dSqDkLmmSnlM",
        "outputId": "c109be58-3243-4801-c89f-cf0ef0508241",
        "colab": {
          "base_uri": "https://localhost:8080/",
          "height": 295
        }
      },
      "source": [
        "import numpy as np\n",
        "array_points = np.array(table_for_kmeans)\n",
        "cl3 = KMeans(6)\n",
        "cl3.fit(array_points)\n",
        "\n",
        "plt.scatter(cl3.cluster_centers_[:,0] ,cl3.cluster_centers_[:,1], color='red',s = 100,marker = 'o', label='centroids')\n",
        "plt.scatter(list(table_for_kmeans['bbwidth']), list(table_for_kmeans['bbheight']), marker=\"v\",c=list(cl3.labels_.astype(float)), label = \"data\")\n",
        "plt.legend()\n",
        "plt.xlabel('bbwidth')\n",
        "plt.ylabel('bbheight')\n",
        "plt.title('K Means for k = 6')\n",
        "plt.legend()\n",
        "plt.show()"
      ],
      "execution_count": 185,
      "outputs": [
        {
          "output_type": "display_data",
          "data": {
            "image/png": "[encoded data removed]",
            "text/plain": [
              "<Figure size 432x288 with 1 Axes>"
            ]
          },
          "metadata": {
            "tags": []
          }
        }
      ]
    },
    {
      "cell_type": "markdown",
      "metadata": {
        "id": "FbDfQdXgZlxd"
      },
      "source": [
        "### by looking at the plot K=6 and K =5 looks almost same, so k=5 would be a good no."
      ]
    }
  ]
}