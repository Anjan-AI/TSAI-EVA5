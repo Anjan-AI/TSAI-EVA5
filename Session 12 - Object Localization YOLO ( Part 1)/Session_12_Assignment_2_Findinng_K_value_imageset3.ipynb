{
  "nbformat": 4,
  "nbformat_minor": 0,
  "metadata": {
    "colab": {
      "name": "Session_12_Assignment_2_Findinng K_value_imageset3.ipynb",
      "provenance": [],
      "collapsed_sections": []
    },
    "kernelspec": {
      "name": "python3",
      "display_name": "Python 3"
    }
  },
  "cells": [
    {
      "cell_type": "markdown",
      "metadata": {
        "id": "zgBaHc_pVfIR"
      },
      "source": [
        "### Finding the best K using K-means and IOU method.\n",
        "\n",
        "## Organisation of JSON File\n",
        "keys :\n",
        "   1. info - Genric Infoormation on the file like year, version, url, description\n",
        "   2. images - this contains information of images\n",
        "        * id - unique value\n",
        "        * width - width of the image\n",
        "        * height - height of the image\n",
        "        * file_name - name of the file\n",
        "        * license   - licence if any\n",
        "        * date_captured - date when captured\n",
        "   3.   annotation - information about annotation that is done manually in vgg annotator\n",
        "        * id  - unique value\n",
        "        * image_id - which is the id of images. By this we can join images and annottaion fields\n",
        "        * segmentation- Co-Ordinates of the bbox. For rectangle there will be 8 coordinates(4 x,y groups) - top-left,top-right, bottom-left, bottom-right.\n",
        "        * area- area of bounding box\n",
        "        * bbox - 4 points. top-left x point,top-left y point, width of bbox, height of bbox \n",
        "        * iscrowd - NA\n",
        "        * id - ID for each bounding box.\n",
        "        * image_id - Image ID \n",
        "        * category_id - NA \n",
        "   4.   licence\n",
        "   5.  Categories - This will have the information of the field we annotated.like class, type -- whatever fields we chose\n"
      ]
    },
    {
      "cell_type": "code",
      "metadata": {
        "id": "Dg1itlMd82EP"
      },
      "source": [
        "%rm -rf TSAI-EVA5/"
      ],
      "execution_count": 25,
      "outputs": []
    },
    {
      "cell_type": "code",
      "metadata": {
        "id": "1BpYmMpT8-BJ",
        "outputId": "54764a8c-ea63-45ec-889b-b291e2b6374a",
        "colab": {
          "base_uri": "https://localhost:8080/",
          "height": 170
        }
      },
      "source": [
        "!git clone https://github.com/Anjan-AI/TSAI-EVA5.git\n",
        "!ls\n",
        "!pwd"
      ],
      "execution_count": 26,
      "outputs": [
        {
          "output_type": "stream",
          "text": [
            "Cloning into 'TSAI-EVA5'...\n",
            "remote: Enumerating objects: 496, done.\u001b[K\n",
            "remote: Counting objects: 100% (496/496), done.\u001b[K\n",
            "remote: Compressing objects: 100% (422/422), done.\u001b[K\n",
            "remote: Total 1103 (delta 158), reused 388 (delta 63), pack-reused 607\u001b[K\n",
            "Receiving objects: 100% (1103/1103), 65.87 MiB | 32.72 MiB/s, done.\n",
            "Resolving deltas: 100% (413/413), done.\n",
            "sample_data  TSAI-EVA5\n",
            "/content\n"
          ],
          "name": "stdout"
        }
      ]
    },
    {
      "cell_type": "code",
      "metadata": {
        "id": "N2M4fPhM9Frs"
      },
      "source": [
        "import sys\n",
        "sys.path.append('/content/TSAI-EVA5/Session 12 - Object Localization YOLO ( Part 1)/')"
      ],
      "execution_count": 27,
      "outputs": []
    },
    {
      "cell_type": "code",
      "metadata": {
        "id": "0cQIk3fm9JD5",
        "outputId": "e083421b-fdcd-4632-bdd4-13823e14b954",
        "colab": {
          "base_uri": "https://localhost:8080/",
          "height": 272
        }
      },
      "source": [
        "import json \n",
        "import pandas as pd\n",
        "\n",
        "path = '/content/TSAI-EVA5/Session 12 - Object Localization YOLO ( Part 1)/Image_Data/Images/ImagesSet3_coco.json' # path of the json file  \n",
        "# Opening JSON file \n",
        "f = open(path) \n",
        "  \n",
        "# returns JSON object as  \n",
        "\n",
        "data = json.load(f) \n",
        " \n",
        "\n",
        "print(data.keys())\n",
        "print('\\n\\n')\n",
        "images = pd.DataFrame(data['images'], columns = data['images'][0].keys())\n",
        "annotations = pd.DataFrame(data['annotations'], columns = data['annotations'][0].keys())\n",
        " \n",
        "# Closing file \n",
        "f.close()\n",
        "images.tail()"
      ],
      "execution_count": 28,
      "outputs": [
        {
          "output_type": "stream",
          "text": [
            "dict_keys(['info', 'images', 'annotations', 'licenses', 'categories'])\n",
            "\n",
            "\n",
            "\n"
          ],
          "name": "stdout"
        },
        {
          "output_type": "execute_result",
          "data": {
            "text/html": [
              "<div>\n",
              "<style scoped>\n",
              "    .dataframe tbody tr th:only-of-type {\n",
              "        vertical-align: middle;\n",
              "    }\n",
              "\n",
              "    .dataframe tbody tr th {\n",
              "        vertical-align: top;\n",
              "    }\n",
              "\n",
              "    .dataframe thead th {\n",
              "        text-align: right;\n",
              "    }\n",
              "</style>\n",
              "<table border=\"1\" class=\"dataframe\">\n",
              "  <thead>\n",
              "    <tr style=\"text-align: right;\">\n",
              "      <th></th>\n",
              "      <th>id</th>\n",
              "      <th>width</th>\n",
              "      <th>height</th>\n",
              "      <th>file_name</th>\n",
              "      <th>license</th>\n",
              "      <th>date_captured</th>\n",
              "    </tr>\n",
              "  </thead>\n",
              "  <tbody>\n",
              "    <tr>\n",
              "      <th>33</th>\n",
              "      <td>34</td>\n",
              "      <td>2560</td>\n",
              "      <td>1920</td>\n",
              "      <td>34.jpg</td>\n",
              "      <td>0</td>\n",
              "      <td></td>\n",
              "    </tr>\n",
              "    <tr>\n",
              "      <th>34</th>\n",
              "      <td>35</td>\n",
              "      <td>335</td>\n",
              "      <td>150</td>\n",
              "      <td>35.jpg</td>\n",
              "      <td>0</td>\n",
              "      <td></td>\n",
              "    </tr>\n",
              "    <tr>\n",
              "      <th>35</th>\n",
              "      <td>36</td>\n",
              "      <td>1300</td>\n",
              "      <td>957</td>\n",
              "      <td>36.jpg</td>\n",
              "      <td>0</td>\n",
              "      <td></td>\n",
              "    </tr>\n",
              "    <tr>\n",
              "      <th>36</th>\n",
              "      <td>37</td>\n",
              "      <td>862</td>\n",
              "      <td>575</td>\n",
              "      <td>37.jpg</td>\n",
              "      <td>0</td>\n",
              "      <td></td>\n",
              "    </tr>\n",
              "    <tr>\n",
              "      <th>37</th>\n",
              "      <td>38</td>\n",
              "      <td>6000</td>\n",
              "      <td>3069</td>\n",
              "      <td>38.jpg</td>\n",
              "      <td>0</td>\n",
              "      <td></td>\n",
              "    </tr>\n",
              "  </tbody>\n",
              "</table>\n",
              "</div>"
            ],
            "text/plain": [
              "    id  width  height file_name  license date_captured\n",
              "33  34   2560    1920    34.jpg        0              \n",
              "34  35    335     150    35.jpg        0              \n",
              "35  36   1300     957    36.jpg        0              \n",
              "36  37    862     575    37.jpg        0              \n",
              "37  38   6000    3069    38.jpg        0              "
            ]
          },
          "metadata": {
            "tags": []
          },
          "execution_count": 28
        }
      ]
    },
    {
      "cell_type": "markdown",
      "metadata": {
        "id": "3d7eYO4QX0L7"
      },
      "source": [
        "## display the data frames"
      ]
    },
    {
      "cell_type": "code",
      "metadata": {
        "id": "RVgsMr4fbKFo",
        "outputId": "8d6997e6-2fda-4904-f9eb-e600ddbd3ec9",
        "colab": {
          "base_uri": "https://localhost:8080/",
          "height": 204
        }
      },
      "source": [
        "annotations.tail()\n",
        "#print(annotations.shape[0])"
      ],
      "execution_count": 29,
      "outputs": [
        {
          "output_type": "execute_result",
          "data": {
            "text/html": [
              "<div>\n",
              "<style scoped>\n",
              "    .dataframe tbody tr th:only-of-type {\n",
              "        vertical-align: middle;\n",
              "    }\n",
              "\n",
              "    .dataframe tbody tr th {\n",
              "        vertical-align: top;\n",
              "    }\n",
              "\n",
              "    .dataframe thead th {\n",
              "        text-align: right;\n",
              "    }\n",
              "</style>\n",
              "<table border=\"1\" class=\"dataframe\">\n",
              "  <thead>\n",
              "    <tr style=\"text-align: right;\">\n",
              "      <th></th>\n",
              "      <th>segmentation</th>\n",
              "      <th>area</th>\n",
              "      <th>bbox</th>\n",
              "      <th>iscrowd</th>\n",
              "      <th>id</th>\n",
              "      <th>image_id</th>\n",
              "      <th>category_id</th>\n",
              "    </tr>\n",
              "  </thead>\n",
              "  <tbody>\n",
              "    <tr>\n",
              "      <th>242</th>\n",
              "      <td>[[2650, 800, 2783, 800, 2783, 938, 2650, 938]]</td>\n",
              "      <td>18354</td>\n",
              "      <td>[2650, 800, 133, 138]</td>\n",
              "      <td>0</td>\n",
              "      <td>243</td>\n",
              "      <td>38</td>\n",
              "      <td>None</td>\n",
              "    </tr>\n",
              "    <tr>\n",
              "      <th>243</th>\n",
              "      <td>[[5475, 583, 5560, 583, 5560, 721, 5475, 721]]</td>\n",
              "      <td>11730</td>\n",
              "      <td>[5475, 583, 85, 138]</td>\n",
              "      <td>0</td>\n",
              "      <td>244</td>\n",
              "      <td>38</td>\n",
              "      <td>None</td>\n",
              "    </tr>\n",
              "    <tr>\n",
              "      <th>244</th>\n",
              "      <td>[[4966, 620, 5072, 620, 5072, 715, 4966, 715]]</td>\n",
              "      <td>10070</td>\n",
              "      <td>[4966, 620, 106, 95]</td>\n",
              "      <td>0</td>\n",
              "      <td>245</td>\n",
              "      <td>38</td>\n",
              "      <td>None</td>\n",
              "    </tr>\n",
              "    <tr>\n",
              "      <th>245</th>\n",
              "      <td>[[5687, 567, 5777, 567, 5777, 662, 5687, 662]]</td>\n",
              "      <td>8550</td>\n",
              "      <td>[5687, 567, 90, 95]</td>\n",
              "      <td>0</td>\n",
              "      <td>246</td>\n",
              "      <td>38</td>\n",
              "      <td>None</td>\n",
              "    </tr>\n",
              "    <tr>\n",
              "      <th>246</th>\n",
              "      <td>[[4049, 625, 4113, 625, 4113, 726, 4049, 726]]</td>\n",
              "      <td>6464</td>\n",
              "      <td>[4049, 625, 64, 101]</td>\n",
              "      <td>0</td>\n",
              "      <td>247</td>\n",
              "      <td>38</td>\n",
              "      <td>None</td>\n",
              "    </tr>\n",
              "  </tbody>\n",
              "</table>\n",
              "</div>"
            ],
            "text/plain": [
              "                                       segmentation  ...  category_id\n",
              "242  [[2650, 800, 2783, 800, 2783, 938, 2650, 938]]  ...         None\n",
              "243  [[5475, 583, 5560, 583, 5560, 721, 5475, 721]]  ...         None\n",
              "244  [[4966, 620, 5072, 620, 5072, 715, 4966, 715]]  ...         None\n",
              "245  [[5687, 567, 5777, 567, 5777, 662, 5687, 662]]  ...         None\n",
              "246  [[4049, 625, 4113, 625, 4113, 726, 4049, 726]]  ...         None\n",
              "\n",
              "[5 rows x 7 columns]"
            ]
          },
          "metadata": {
            "tags": []
          },
          "execution_count": 29
        }
      ]
    },
    {
      "cell_type": "markdown",
      "metadata": {
        "id": "3CWRDvJiblQp"
      },
      "source": [
        "## Preprocessing the data , remove unwanted cols "
      ]
    },
    {
      "cell_type": "code",
      "metadata": {
        "id": "QROFoBckbZXC",
        "outputId": "1c43ed38-3f39-4e30-c8bc-cb1e79f9d51a",
        "colab": {
          "base_uri": "https://localhost:8080/",
          "height": 204
        }
      },
      "source": [
        "bbwidth = []\n",
        "bbheight = []\n",
        "bbx = []\n",
        "bby = []\n",
        "bbox = list(annotations['bbox'])\n",
        "for i in bbox:\n",
        "    #print(i)\n",
        "    bbx.append(i[0])\n",
        "    bby.append(i[1])\n",
        "    bbwidth.append(i[2])\n",
        "    bbheight.append(i[3])\n",
        "annotations['bbx'] = bbx\n",
        "annotations['bby'] = bby\n",
        "annotations['bbwidth'] = bbwidth\n",
        "annotations['bbheight'] = bbheight\n",
        "annotations = annotations.rename(columns={\"id\": \"bbox_no\"}) #changing the ID so that this kyworrd can be used for assignign the image ID\n",
        "annotations = annotations.rename(columns={\"image_id\": \"id\"}) # changed Image_ID to ID as its the nmae used in Image dataframe and  will be used for merging. \n",
        "annotations = annotations.drop([\"bbox\",\"bbx\",\"bby\",\"bbox_no\",\"category_id\",\"segmentation\",\"area\",\"iscrowd\"],axis =1)\n",
        "annotations.tail()"
      ],
      "execution_count": 30,
      "outputs": [
        {
          "output_type": "execute_result",
          "data": {
            "text/html": [
              "<div>\n",
              "<style scoped>\n",
              "    .dataframe tbody tr th:only-of-type {\n",
              "        vertical-align: middle;\n",
              "    }\n",
              "\n",
              "    .dataframe tbody tr th {\n",
              "        vertical-align: top;\n",
              "    }\n",
              "\n",
              "    .dataframe thead th {\n",
              "        text-align: right;\n",
              "    }\n",
              "</style>\n",
              "<table border=\"1\" class=\"dataframe\">\n",
              "  <thead>\n",
              "    <tr style=\"text-align: right;\">\n",
              "      <th></th>\n",
              "      <th>id</th>\n",
              "      <th>bbwidth</th>\n",
              "      <th>bbheight</th>\n",
              "    </tr>\n",
              "  </thead>\n",
              "  <tbody>\n",
              "    <tr>\n",
              "      <th>242</th>\n",
              "      <td>38</td>\n",
              "      <td>133</td>\n",
              "      <td>138</td>\n",
              "    </tr>\n",
              "    <tr>\n",
              "      <th>243</th>\n",
              "      <td>38</td>\n",
              "      <td>85</td>\n",
              "      <td>138</td>\n",
              "    </tr>\n",
              "    <tr>\n",
              "      <th>244</th>\n",
              "      <td>38</td>\n",
              "      <td>106</td>\n",
              "      <td>95</td>\n",
              "    </tr>\n",
              "    <tr>\n",
              "      <th>245</th>\n",
              "      <td>38</td>\n",
              "      <td>90</td>\n",
              "      <td>95</td>\n",
              "    </tr>\n",
              "    <tr>\n",
              "      <th>246</th>\n",
              "      <td>38</td>\n",
              "      <td>64</td>\n",
              "      <td>101</td>\n",
              "    </tr>\n",
              "  </tbody>\n",
              "</table>\n",
              "</div>"
            ],
            "text/plain": [
              "     id  bbwidth  bbheight\n",
              "242  38      133       138\n",
              "243  38       85       138\n",
              "244  38      106        95\n",
              "245  38       90        95\n",
              "246  38       64       101"
            ]
          },
          "metadata": {
            "tags": []
          },
          "execution_count": 30
        }
      ]
    },
    {
      "cell_type": "code",
      "metadata": {
        "id": "sKUrj8Awb2v-",
        "outputId": "3a58862a-e06d-4b4e-be37-ee133fb2a057",
        "colab": {
          "base_uri": "https://localhost:8080/",
          "height": 204
        }
      },
      "source": [
        "images = images.drop([\"license\",\"date_captured\"],axis = 1)\n",
        "images.tail()\n"
      ],
      "execution_count": 31,
      "outputs": [
        {
          "output_type": "execute_result",
          "data": {
            "text/html": [
              "<div>\n",
              "<style scoped>\n",
              "    .dataframe tbody tr th:only-of-type {\n",
              "        vertical-align: middle;\n",
              "    }\n",
              "\n",
              "    .dataframe tbody tr th {\n",
              "        vertical-align: top;\n",
              "    }\n",
              "\n",
              "    .dataframe thead th {\n",
              "        text-align: right;\n",
              "    }\n",
              "</style>\n",
              "<table border=\"1\" class=\"dataframe\">\n",
              "  <thead>\n",
              "    <tr style=\"text-align: right;\">\n",
              "      <th></th>\n",
              "      <th>id</th>\n",
              "      <th>width</th>\n",
              "      <th>height</th>\n",
              "      <th>file_name</th>\n",
              "    </tr>\n",
              "  </thead>\n",
              "  <tbody>\n",
              "    <tr>\n",
              "      <th>33</th>\n",
              "      <td>34</td>\n",
              "      <td>2560</td>\n",
              "      <td>1920</td>\n",
              "      <td>34.jpg</td>\n",
              "    </tr>\n",
              "    <tr>\n",
              "      <th>34</th>\n",
              "      <td>35</td>\n",
              "      <td>335</td>\n",
              "      <td>150</td>\n",
              "      <td>35.jpg</td>\n",
              "    </tr>\n",
              "    <tr>\n",
              "      <th>35</th>\n",
              "      <td>36</td>\n",
              "      <td>1300</td>\n",
              "      <td>957</td>\n",
              "      <td>36.jpg</td>\n",
              "    </tr>\n",
              "    <tr>\n",
              "      <th>36</th>\n",
              "      <td>37</td>\n",
              "      <td>862</td>\n",
              "      <td>575</td>\n",
              "      <td>37.jpg</td>\n",
              "    </tr>\n",
              "    <tr>\n",
              "      <th>37</th>\n",
              "      <td>38</td>\n",
              "      <td>6000</td>\n",
              "      <td>3069</td>\n",
              "      <td>38.jpg</td>\n",
              "    </tr>\n",
              "  </tbody>\n",
              "</table>\n",
              "</div>"
            ],
            "text/plain": [
              "    id  width  height file_name\n",
              "33  34   2560    1920    34.jpg\n",
              "34  35    335     150    35.jpg\n",
              "35  36   1300     957    36.jpg\n",
              "36  37    862     575    37.jpg\n",
              "37  38   6000    3069    38.jpg"
            ]
          },
          "metadata": {
            "tags": []
          },
          "execution_count": 31
        }
      ]
    },
    {
      "cell_type": "markdown",
      "metadata": {
        "id": "2veleV_wdbZX"
      },
      "source": [
        "### merging both the data frames."
      ]
    },
    {
      "cell_type": "code",
      "metadata": {
        "id": "VitAY22U5Mjq",
        "outputId": "8be8c804-02cd-466e-93de-a667e1bafb45",
        "colab": {
          "base_uri": "https://localhost:8080/",
          "height": 34
        }
      },
      "source": [
        "list(images.columns)"
      ],
      "execution_count": 32,
      "outputs": [
        {
          "output_type": "execute_result",
          "data": {
            "text/plain": [
              "['id', 'width', 'height', 'file_name']"
            ]
          },
          "metadata": {
            "tags": []
          },
          "execution_count": 32
        }
      ]
    },
    {
      "cell_type": "code",
      "metadata": {
        "id": "SNnhfiio5QRf",
        "outputId": "ab595b2e-813b-4524-a300-d4c3a7f3fbb9",
        "colab": {
          "base_uri": "https://localhost:8080/",
          "height": 34
        }
      },
      "source": [
        "list(annotations.columns)"
      ],
      "execution_count": 33,
      "outputs": [
        {
          "output_type": "execute_result",
          "data": {
            "text/plain": [
              "['id', 'bbwidth', 'bbheight']"
            ]
          },
          "metadata": {
            "tags": []
          },
          "execution_count": 33
        }
      ]
    },
    {
      "cell_type": "code",
      "metadata": {
        "id": "M8GCJa4cdaCU",
        "outputId": "ebd08721-6278-48e0-a967-5bae161a7c15",
        "colab": {
          "base_uri": "https://localhost:8080/",
          "height": 204
        }
      },
      "source": [
        "\n",
        "finalfile = pd.merge(images, annotations,on='id')\n",
        "\n",
        "finalfile.tail()"
      ],
      "execution_count": 34,
      "outputs": [
        {
          "output_type": "execute_result",
          "data": {
            "text/html": [
              "<div>\n",
              "<style scoped>\n",
              "    .dataframe tbody tr th:only-of-type {\n",
              "        vertical-align: middle;\n",
              "    }\n",
              "\n",
              "    .dataframe tbody tr th {\n",
              "        vertical-align: top;\n",
              "    }\n",
              "\n",
              "    .dataframe thead th {\n",
              "        text-align: right;\n",
              "    }\n",
              "</style>\n",
              "<table border=\"1\" class=\"dataframe\">\n",
              "  <thead>\n",
              "    <tr style=\"text-align: right;\">\n",
              "      <th></th>\n",
              "      <th>id</th>\n",
              "      <th>width</th>\n",
              "      <th>height</th>\n",
              "      <th>file_name</th>\n",
              "      <th>bbwidth</th>\n",
              "      <th>bbheight</th>\n",
              "    </tr>\n",
              "  </thead>\n",
              "  <tbody>\n",
              "    <tr>\n",
              "      <th>242</th>\n",
              "      <td>38</td>\n",
              "      <td>6000</td>\n",
              "      <td>3069</td>\n",
              "      <td>38.jpg</td>\n",
              "      <td>133</td>\n",
              "      <td>138</td>\n",
              "    </tr>\n",
              "    <tr>\n",
              "      <th>243</th>\n",
              "      <td>38</td>\n",
              "      <td>6000</td>\n",
              "      <td>3069</td>\n",
              "      <td>38.jpg</td>\n",
              "      <td>85</td>\n",
              "      <td>138</td>\n",
              "    </tr>\n",
              "    <tr>\n",
              "      <th>244</th>\n",
              "      <td>38</td>\n",
              "      <td>6000</td>\n",
              "      <td>3069</td>\n",
              "      <td>38.jpg</td>\n",
              "      <td>106</td>\n",
              "      <td>95</td>\n",
              "    </tr>\n",
              "    <tr>\n",
              "      <th>245</th>\n",
              "      <td>38</td>\n",
              "      <td>6000</td>\n",
              "      <td>3069</td>\n",
              "      <td>38.jpg</td>\n",
              "      <td>90</td>\n",
              "      <td>95</td>\n",
              "    </tr>\n",
              "    <tr>\n",
              "      <th>246</th>\n",
              "      <td>38</td>\n",
              "      <td>6000</td>\n",
              "      <td>3069</td>\n",
              "      <td>38.jpg</td>\n",
              "      <td>64</td>\n",
              "      <td>101</td>\n",
              "    </tr>\n",
              "  </tbody>\n",
              "</table>\n",
              "</div>"
            ],
            "text/plain": [
              "     id  width  height file_name  bbwidth  bbheight\n",
              "242  38   6000    3069    38.jpg      133       138\n",
              "243  38   6000    3069    38.jpg       85       138\n",
              "244  38   6000    3069    38.jpg      106        95\n",
              "245  38   6000    3069    38.jpg       90        95\n",
              "246  38   6000    3069    38.jpg       64       101"
            ]
          },
          "metadata": {
            "tags": []
          },
          "execution_count": 34
        }
      ]
    },
    {
      "cell_type": "markdown",
      "metadata": {
        "id": "rF55Ud03dxsZ"
      },
      "source": [
        "## Normalize the Bounding Box values"
      ]
    },
    {
      "cell_type": "code",
      "metadata": {
        "id": "ITgyXtzBp7i7",
        "outputId": "2d653a6a-e5f1-4a6a-d296-8274e35c4fc1",
        "colab": {
          "base_uri": "https://localhost:8080/",
          "height": 204
        }
      },
      "source": [
        "finalfile['bbwidth'] = finalfile['bbwidth'].div(finalfile['width'])\n",
        "finalfile['bbheight'] = finalfile['bbheight'].div(finalfile['height'])\n",
        "finalfile['height'] = finalfile['height'].div(finalfile['height'])\n",
        "finalfile['width'] = finalfile['width'].div(finalfile['width'])\n",
        "\n",
        "finalfile.tail()"
      ],
      "execution_count": 35,
      "outputs": [
        {
          "output_type": "execute_result",
          "data": {
            "text/html": [
              "<div>\n",
              "<style scoped>\n",
              "    .dataframe tbody tr th:only-of-type {\n",
              "        vertical-align: middle;\n",
              "    }\n",
              "\n",
              "    .dataframe tbody tr th {\n",
              "        vertical-align: top;\n",
              "    }\n",
              "\n",
              "    .dataframe thead th {\n",
              "        text-align: right;\n",
              "    }\n",
              "</style>\n",
              "<table border=\"1\" class=\"dataframe\">\n",
              "  <thead>\n",
              "    <tr style=\"text-align: right;\">\n",
              "      <th></th>\n",
              "      <th>id</th>\n",
              "      <th>width</th>\n",
              "      <th>height</th>\n",
              "      <th>file_name</th>\n",
              "      <th>bbwidth</th>\n",
              "      <th>bbheight</th>\n",
              "    </tr>\n",
              "  </thead>\n",
              "  <tbody>\n",
              "    <tr>\n",
              "      <th>242</th>\n",
              "      <td>38</td>\n",
              "      <td>1.0</td>\n",
              "      <td>1.0</td>\n",
              "      <td>38.jpg</td>\n",
              "      <td>0.022167</td>\n",
              "      <td>0.044966</td>\n",
              "    </tr>\n",
              "    <tr>\n",
              "      <th>243</th>\n",
              "      <td>38</td>\n",
              "      <td>1.0</td>\n",
              "      <td>1.0</td>\n",
              "      <td>38.jpg</td>\n",
              "      <td>0.014167</td>\n",
              "      <td>0.044966</td>\n",
              "    </tr>\n",
              "    <tr>\n",
              "      <th>244</th>\n",
              "      <td>38</td>\n",
              "      <td>1.0</td>\n",
              "      <td>1.0</td>\n",
              "      <td>38.jpg</td>\n",
              "      <td>0.017667</td>\n",
              "      <td>0.030955</td>\n",
              "    </tr>\n",
              "    <tr>\n",
              "      <th>245</th>\n",
              "      <td>38</td>\n",
              "      <td>1.0</td>\n",
              "      <td>1.0</td>\n",
              "      <td>38.jpg</td>\n",
              "      <td>0.015000</td>\n",
              "      <td>0.030955</td>\n",
              "    </tr>\n",
              "    <tr>\n",
              "      <th>246</th>\n",
              "      <td>38</td>\n",
              "      <td>1.0</td>\n",
              "      <td>1.0</td>\n",
              "      <td>38.jpg</td>\n",
              "      <td>0.010667</td>\n",
              "      <td>0.032910</td>\n",
              "    </tr>\n",
              "  </tbody>\n",
              "</table>\n",
              "</div>"
            ],
            "text/plain": [
              "     id  width  height file_name   bbwidth  bbheight\n",
              "242  38    1.0     1.0    38.jpg  0.022167  0.044966\n",
              "243  38    1.0     1.0    38.jpg  0.014167  0.044966\n",
              "244  38    1.0     1.0    38.jpg  0.017667  0.030955\n",
              "245  38    1.0     1.0    38.jpg  0.015000  0.030955\n",
              "246  38    1.0     1.0    38.jpg  0.010667  0.032910"
            ]
          },
          "metadata": {
            "tags": []
          },
          "execution_count": 35
        }
      ]
    },
    {
      "cell_type": "code",
      "metadata": {
        "id": "CzENdLN9d3PD",
        "outputId": "693bd29c-f5fa-4df9-9c7a-f1a9fdded09b",
        "colab": {
          "base_uri": "https://localhost:8080/",
          "height": 204
        }
      },
      "source": [
        "table_for_kmeans = finalfile.drop([\"width\",\"height\",\"file_name\",\"id\"],axis = 1)\n",
        "table_for_kmeans.head()"
      ],
      "execution_count": 36,
      "outputs": [
        {
          "output_type": "execute_result",
          "data": {
            "text/html": [
              "<div>\n",
              "<style scoped>\n",
              "    .dataframe tbody tr th:only-of-type {\n",
              "        vertical-align: middle;\n",
              "    }\n",
              "\n",
              "    .dataframe tbody tr th {\n",
              "        vertical-align: top;\n",
              "    }\n",
              "\n",
              "    .dataframe thead th {\n",
              "        text-align: right;\n",
              "    }\n",
              "</style>\n",
              "<table border=\"1\" class=\"dataframe\">\n",
              "  <thead>\n",
              "    <tr style=\"text-align: right;\">\n",
              "      <th></th>\n",
              "      <th>bbwidth</th>\n",
              "      <th>bbheight</th>\n",
              "    </tr>\n",
              "  </thead>\n",
              "  <tbody>\n",
              "    <tr>\n",
              "      <th>0</th>\n",
              "      <td>0.116406</td>\n",
              "      <td>0.134031</td>\n",
              "    </tr>\n",
              "    <tr>\n",
              "      <th>1</th>\n",
              "      <td>0.079687</td>\n",
              "      <td>0.093194</td>\n",
              "    </tr>\n",
              "    <tr>\n",
              "      <th>2</th>\n",
              "      <td>0.083594</td>\n",
              "      <td>0.106806</td>\n",
              "    </tr>\n",
              "    <tr>\n",
              "      <th>3</th>\n",
              "      <td>0.100781</td>\n",
              "      <td>0.107853</td>\n",
              "    </tr>\n",
              "    <tr>\n",
              "      <th>4</th>\n",
              "      <td>0.078125</td>\n",
              "      <td>0.159162</td>\n",
              "    </tr>\n",
              "  </tbody>\n",
              "</table>\n",
              "</div>"
            ],
            "text/plain": [
              "    bbwidth  bbheight\n",
              "0  0.116406  0.134031\n",
              "1  0.079687  0.093194\n",
              "2  0.083594  0.106806\n",
              "3  0.100781  0.107853\n",
              "4  0.078125  0.159162"
            ]
          },
          "metadata": {
            "tags": []
          },
          "execution_count": 36
        }
      ]
    },
    {
      "cell_type": "code",
      "metadata": {
        "id": "mkpZjIGDfjcc",
        "outputId": "9990b37d-90c6-4150-89c2-c7c7171f9be5",
        "colab": {
          "base_uri": "https://localhost:8080/",
          "height": 204
        }
      },
      "source": [
        "table_for_kmeans.tail()"
      ],
      "execution_count": 37,
      "outputs": [
        {
          "output_type": "execute_result",
          "data": {
            "text/html": [
              "<div>\n",
              "<style scoped>\n",
              "    .dataframe tbody tr th:only-of-type {\n",
              "        vertical-align: middle;\n",
              "    }\n",
              "\n",
              "    .dataframe tbody tr th {\n",
              "        vertical-align: top;\n",
              "    }\n",
              "\n",
              "    .dataframe thead th {\n",
              "        text-align: right;\n",
              "    }\n",
              "</style>\n",
              "<table border=\"1\" class=\"dataframe\">\n",
              "  <thead>\n",
              "    <tr style=\"text-align: right;\">\n",
              "      <th></th>\n",
              "      <th>bbwidth</th>\n",
              "      <th>bbheight</th>\n",
              "    </tr>\n",
              "  </thead>\n",
              "  <tbody>\n",
              "    <tr>\n",
              "      <th>242</th>\n",
              "      <td>0.022167</td>\n",
              "      <td>0.044966</td>\n",
              "    </tr>\n",
              "    <tr>\n",
              "      <th>243</th>\n",
              "      <td>0.014167</td>\n",
              "      <td>0.044966</td>\n",
              "    </tr>\n",
              "    <tr>\n",
              "      <th>244</th>\n",
              "      <td>0.017667</td>\n",
              "      <td>0.030955</td>\n",
              "    </tr>\n",
              "    <tr>\n",
              "      <th>245</th>\n",
              "      <td>0.015000</td>\n",
              "      <td>0.030955</td>\n",
              "    </tr>\n",
              "    <tr>\n",
              "      <th>246</th>\n",
              "      <td>0.010667</td>\n",
              "      <td>0.032910</td>\n",
              "    </tr>\n",
              "  </tbody>\n",
              "</table>\n",
              "</div>"
            ],
            "text/plain": [
              "      bbwidth  bbheight\n",
              "242  0.022167  0.044966\n",
              "243  0.014167  0.044966\n",
              "244  0.017667  0.030955\n",
              "245  0.015000  0.030955\n",
              "246  0.010667  0.032910"
            ]
          },
          "metadata": {
            "tags": []
          },
          "execution_count": 37
        }
      ]
    },
    {
      "cell_type": "markdown",
      "metadata": {
        "id": "LP6SAl-fYJkL"
      },
      "source": [
        "## Plotting the Nomralized values "
      ]
    },
    {
      "cell_type": "code",
      "metadata": {
        "id": "AaYJEJkpeRNJ",
        "outputId": "21a5044b-3fc1-404a-9c54-0fe26c820fdc",
        "colab": {
          "base_uri": "https://localhost:8080/",
          "height": 282
        }
      },
      "source": [
        "import matplotlib.pyplot as plt\n",
        "plt.style.use(\"dark_background\")\n",
        "plt.plot(table_for_kmeans['bbwidth'],table_for_kmeans['bbheight'],'.')"
      ],
      "execution_count": 38,
      "outputs": [
        {
          "output_type": "execute_result",
          "data": {
            "text/plain": [
              "[<matplotlib.lines.Line2D at 0x7f14c4fde5c0>]"
            ]
          },
          "metadata": {
            "tags": []
          },
          "execution_count": 38
        },
        {
          "output_type": "display_data",
          "data": {
            "image/png": "[encoded data removed]",
            "text/plain": [
              "<Figure size 432x288 with 1 Axes>"
            ]
          },
          "metadata": {
            "tags": []
          }
        }
      ]
    },
    {
      "cell_type": "markdown",
      "metadata": {
        "id": "LMacWm9xechD"
      },
      "source": [
        "### Apply Elbow method to find out K"
      ]
    },
    {
      "cell_type": "code",
      "metadata": {
        "id": "qyrssRJKebwr",
        "outputId": "f27c4132-b184-46f3-c564-2cf6b00f4a05",
        "colab": {
          "base_uri": "https://localhost:8080/",
          "height": 295
        }
      },
      "source": [
        "\n",
        "from sklearn.cluster import KMeans\n",
        "from sklearn import metrics\n",
        "from scipy.spatial.distance import cdist\n",
        "import numpy as np\n",
        "import matplotlib.pyplot as plt\n",
        "\n",
        "\n",
        "\n",
        "# k means determine k\n",
        "distortions = []\n",
        "K = range(1,10)\n",
        "for k in K:\n",
        "    kmeanModel = KMeans(n_clusters=k).fit(table_for_kmeans)\n",
        "    kmeanModel.fit(table_for_kmeans)\n",
        "    distortions.append(sum(np.min(cdist(table_for_kmeans, kmeanModel.cluster_centers_, 'euclidean'), axis=1)) /table_for_kmeans.shape[0])\n",
        "\n",
        "# Plot the elbow\n",
        "plt.style.use(\"dark_background\")\n",
        "plt.plot(K, distortions, '.-')\n",
        "plt.xlabel('k')\n",
        "plt.ylabel('Distortion')\n",
        "plt.title('The Elbow Method showing the optimal k')\n",
        "plt.show()\n"
      ],
      "execution_count": 39,
      "outputs": [
        {
          "output_type": "display_data",
          "data": {
            "image/png": "[encoded data removed]",
            "text/plain": [
              "<Figure size 432x288 with 1 Axes>"
            ]
          },
          "metadata": {
            "tags": []
          }
        }
      ]
    },
    {
      "cell_type": "markdown",
      "metadata": {
        "id": "kHVUT3g97AyG"
      },
      "source": [
        "# Iou Method to find out K\n",
        "###IOU(Intersection over union) = intersected area of bbox and anchor box/ Union area of bbox and anchor box\n",
        "\n",
        "###bw = bounding box width, bh - bounding box height, aw - anchor box width, ah - anchor box height\n",
        "\n",
        "###IOU = min(bw,aw) min(bh, ah)/bwbh + awah - min(bw,aw) min(bh, ah)\n",
        "\n",
        "###mean IOU = sum(IOU)/len(IOU)\n"
      ]
    },
    {
      "cell_type": "code",
      "metadata": {
        "id": "LnUQ_wiW7V7n"
      },
      "source": [
        "height = list(table_for_kmeans['bbheight'])\n",
        "width = list(table_for_kmeans['bbwidth'])\n",
        "ks = range(1,10)\n",
        "meaniou = []\n",
        "for k in ks:\n",
        "    cl = KMeans(n_clusters=k)\n",
        "    cl.fit(table_for_kmeans)\n",
        "    cx = []\n",
        "    cy = []\n",
        "    mapcx  = {}\n",
        "    mapcy = {}\n",
        "    iou = []\n",
        "    for i in range(len(width)):\n",
        "        \n",
        "        l = cl.labels_[i]\n",
        "        cx.append(cl.cluster_centers_[l][0])\n",
        "        cy.append(cl.cluster_centers_[l][1])\n",
        "        iou.append(min(width[i] ,cx[i])* min(height[i] , cy[i])/(height[i]*width[i]+ cx[i]*cy[i]- min(width[i] , cx[i])* min(height[i] ,cy[i])))\n",
        "    meaniou.append(sum(iou)/len(width))"
      ],
      "execution_count": 40,
      "outputs": []
    },
    {
      "cell_type": "code",
      "metadata": {
        "id": "jE95c7LN8Lyc",
        "outputId": "78904e95-f69c-494a-b29c-b7cd29e9a9fb",
        "colab": {
          "base_uri": "https://localhost:8080/",
          "height": 295
        }
      },
      "source": [
        "plt.style.use(\"dark_background\")\n",
        "plt.plot(range(1,10),meaniou,'.-',label = \"iou\")\n",
        "plt.plot([5,5],[0.5,0.95],label = \"k = 5\")\n",
        "plt.plot([6,6],[0.5,0.95],label = \"k = 6\")\n",
        "plt.xlabel('centroids')\n",
        "plt.ylabel('Mean Iou')\n",
        "plt.title('The Mean IOU for each k')\n",
        "plt.legend()\n",
        "plt.show()"
      ],
      "execution_count": 41,
      "outputs": [
        {
          "output_type": "display_data",
          "data": {
            "image/png": "[encoded data removed]",
            "text/plain": [
              "<Figure size 432x288 with 1 Axes>"
            ]
          },
          "metadata": {
            "tags": []
          }
        }
      ]
    },
    {
      "cell_type": "code",
      "metadata": {
        "id": "TcyC4AkXG0NU",
        "outputId": "fcaf521a-1661-480c-db0a-b7bb2e90a687",
        "colab": {
          "base_uri": "https://localhost:8080/",
          "height": 85
        }
      },
      "source": [
        "meaniou[3],meaniou[4],meaniou[5],meaniou[6]"
      ],
      "execution_count": 42,
      "outputs": [
        {
          "output_type": "execute_result",
          "data": {
            "text/plain": [
              "(0.5762601029789375,\n",
              " 0.6064154858702097,\n",
              " 0.6107116739254048,\n",
              " 0.6334513613015339)"
            ]
          },
          "metadata": {
            "tags": []
          },
          "execution_count": 42
        }
      ]
    },
    {
      "cell_type": "markdown",
      "metadata": {
        "id": "iGKsLX4aR67G"
      },
      "source": [
        "K =6 from elbow method and K =5 from the IOU method."
      ]
    },
    {
      "cell_type": "code",
      "metadata": {
        "id": "O7Y93kCpR6cc",
        "outputId": "eebe30a3-d6c3-4275-bb76-4f452b3b0962",
        "colab": {
          "base_uri": "https://localhost:8080/",
          "height": 295
        }
      },
      "source": [
        "import numpy as np\n",
        "array_points = np.array(table_for_kmeans)\n",
        "cl3 = KMeans(5)\n",
        "cl3.fit(array_points)\n",
        "\n",
        "plt.scatter(cl3.cluster_centers_[:,0] ,cl3.cluster_centers_[:,1], color='red',s = 100,marker = 'o', label='centroids')\n",
        "plt.scatter(list(table_for_kmeans['bbwidth']), list(table_for_kmeans['bbheight']), marker=\"v\",c=list(cl3.labels_.astype(float)), label = \"data\")\n",
        "plt.legend()\n",
        "plt.xlabel('bbwidth')\n",
        "plt.ylabel('bbheight')\n",
        "plt.title('K Means for k = 5')\n",
        "plt.legend()\n",
        "plt.show()"
      ],
      "execution_count": 43,
      "outputs": [
        {
          "output_type": "display_data",
          "data": {
            "image/png": "[encoded data removed]",
            "text/plain": [
              "<Figure size 432x288 with 1 Axes>"
            ]
          },
          "metadata": {
            "tags": []
          }
        }
      ]
    },
    {
      "cell_type": "code",
      "metadata": {
        "id": "dSqDkLmmSnlM",
        "outputId": "46caf3e1-d7e4-464a-ecbb-148441b37cbd",
        "colab": {
          "base_uri": "https://localhost:8080/",
          "height": 295
        }
      },
      "source": [
        "import numpy as np\n",
        "array_points = np.array(table_for_kmeans)\n",
        "cl3 = KMeans(6)\n",
        "cl3.fit(array_points)\n",
        "\n",
        "plt.scatter(cl3.cluster_centers_[:,0] ,cl3.cluster_centers_[:,1], color='red',s = 100,marker = 'o', label='centroids')\n",
        "plt.scatter(list(table_for_kmeans['bbwidth']), list(table_for_kmeans['bbheight']), marker=\"v\",c=list(cl3.labels_.astype(float)), label = \"data\")\n",
        "plt.legend()\n",
        "plt.xlabel('bbwidth')\n",
        "plt.ylabel('bbheight')\n",
        "plt.title('K Means for k = 6')\n",
        "plt.legend()\n",
        "plt.show()"
      ],
      "execution_count": 44,
      "outputs": [
        {
          "output_type": "display_data",
          "data": {
            "image/png": "[encoded data removed]",
            "text/plain": [
              "<Figure size 432x288 with 1 Axes>"
            ]
          },
          "metadata": {
            "tags": []
          }
        }
      ]
    },
    {
      "cell_type": "markdown",
      "metadata": {
        "id": "FbDfQdXgZlxd"
      },
      "source": [
        "### by looking at the plot K=6 and K =5 looks almost same, so k=5 would be a good no."
      ]
    }
  ]
}