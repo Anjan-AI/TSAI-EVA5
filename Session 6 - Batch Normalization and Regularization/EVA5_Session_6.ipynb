{
  "nbformat": 4,
  "nbformat_minor": 0,
  "metadata": {
    "colab": {
      "name": "EVA5_Session 6.ipynb",
      "provenance": [],
      "collapsed_sections": []
    },
    "kernelspec": {
      "name": "python3",
      "display_name": "Python 3"
    },
    "accelerator": "GPU"
  },
  "cells": [
    {
      "cell_type": "markdown",
      "metadata": {
        "id": "ZryMFKwj5oq0",
        "colab_type": "text"
      },
      "source": [
        "# Session 6:\n",
        "## Target: \n",
        "Run below versions for 25 epochs and report findings:<br>\n",
        "with L1 + BN <br>\n",
        "with L2 + BN <br>\n",
        "with L1 and L2 with BN <br>\n",
        "with GBN <br>\n",
        "with L1 and L2 with GBN <br>\n",
        "\n",
        "## Results:\n",
        "Parameters: 8786 <br>\n",
        "Base Model NLL with BN (Batch size 128) - Train Accuracy / Test Accuracy:  98.72% (max 98.79%) / 99.51% (max 99.53%) <br>\n",
        "with L1 + BN (Batch size 128) - Train Accuracy / Test Accuracy:  98.78% (max 98.83%) / 99.42% (max 99.43%) <br>\n",
        "with L2 + BN (Batch size 128) - Train Accuracy / Test Accuracy: 98.77% (max 98.79%) / 99.36% (max 99.38%) <br>\n",
        "with L1 and L2 with BN (Batch size 128) - Train Accuracy / Test Accuracy: 98.77% (max 98.80%) / 99.42% (max 99.45%) <br>\n",
        "with GBN (Batch size 512) - Train Accuracy / Test Accuracy: 98.3 (max 98.3) / 99.23 (max 99.24) <br>\n",
        "with L1 and L2 with GBN (Batch size 512) - Train Accuracy / Test Accuracy: 98.34% (max 98.34%) / 99.18% (max 99.20%) <br>\n",
        "\n",
        "## Analysis: <br>\n",
        "- L1 Regularization reduces the gap between train and test accuracies, in this case train accuracy increased and test accuracy decreased. As expected from regularization. <br>\n",
        "\n",
        "- L2 Regularization reduces the gap between train and test accuracies, in this case train accuracy increased and test accuracy decreased. As expected from regularization. <br>\n",
        "\n",
        "- L1+L2 regularisation seems to give better results, with test accuracy also increasing while the gap between train and test reduced.\n",
        "\n",
        "- For L1+L2 with / without GBN, it is seen that Ghost Batch normalisation seems to reduce the gap between train and test accuracy, in this case increased the train accuracy but decreased the test accuracy. <br>\n",
        "However, if we look NLL + BN and NLL + GBN comparison, NLL + BN gives higher train and test accuracy. <br>\n"
      ]
    },
    {
      "cell_type": "markdown",
      "metadata": {
        "id": "SQQkQgSFay9z",
        "colab_type": "text"
      },
      "source": [
        "# Import Libraries"
      ]
    },
    {
      "cell_type": "code",
      "metadata": {
        "id": "0m2JWFliFfKT",
        "colab_type": "code",
        "colab": {}
      },
      "source": [
        "# importing all the Python Packages & torch Library.\n",
        "from __future__ import print_function\n",
        "import torch\n",
        "import torch.nn as nn\n",
        "import torch.nn.functional as F\n",
        "import torch.optim as optim\n",
        "from torchvision import datasets, transforms"
      ],
      "execution_count": 1,
      "outputs": []
    },
    {
      "cell_type": "markdown",
      "metadata": {
        "id": "ZDxHd9SdWNJK",
        "colab_type": "text"
      },
      "source": [
        "# Define Data Transformations & Dataset for Train/Test"
      ]
    },
    {
      "cell_type": "code",
      "metadata": {
        "id": "_efQnbQuWLco",
        "colab_type": "code",
        "colab": {}
      },
      "source": [
        "train_transforms = transforms.Compose([\n",
        "                        transforms.RandomRotation((-10.0, 10.0), fill=(1,)),\n",
        "                        # transforms.RandomErasing(),\n",
        "                        transforms.ToTensor(),\n",
        "                        transforms.Normalize((0.1307,), (0.3081,))\n",
        "                    ])\n",
        "\n",
        "test_transforms = transforms.Compose([\n",
        "                        transforms.ToTensor(),\n",
        "                        transforms.Normalize((0.1307,), (0.3081,))\n",
        "                    ])\n",
        "\n",
        "train_data = datasets.MNIST('./data', train=True, download=True, transform=train_transforms)\n",
        "test_data = datasets.MNIST('./data', train=False, download=True, transform=test_transforms)"
      ],
      "execution_count": 2,
      "outputs": []
    },
    {
      "cell_type": "markdown",
      "metadata": {
        "id": "y4b0YpskaYd4",
        "colab_type": "text"
      },
      "source": [
        "# Dataloader Arguments & Train / Test Dataloaders"
      ]
    },
    {
      "cell_type": "code",
      "metadata": {
        "id": "2ueKm5zsaWcl",
        "colab_type": "code",
        "colab": {
          "base_uri": "https://localhost:8080/",
          "height": 34
        },
        "outputId": "1ffe5bc1-95d5-4369-b6a7-be69963f0c6f"
      },
      "source": [
        "# seed the model to obtain consistent results\n",
        "torch.manual_seed(1)\n",
        "# this is the batch size , in 1 pas no of images passed together.\n",
        "batch_size = 128\n",
        "num_splits = 2\n",
        "use_cuda = torch.cuda.is_available()\n",
        "\n",
        "print(\"CUDA Available?\", use_cuda)\n",
        "\n",
        "# kwargs = {'num_workers': 2, 'pin_memory': True} if use_cuda else {}\n",
        "\n",
        "# dataloader arguments - something you'll fetch these from cmdprmt\n",
        "# dataloader_args = dict(shuffle=True, batch_size=batch_size, num_workers=4, pin_memory=True) if use_cuda else dict(shuffle=True, batch_size=int(batch_size/2))\n",
        "\n",
        "\n",
        "\n",
        "# load the training data and perform standard normalization \n",
        "# parameter for normalization is mean and std dev.\n",
        "# train dataloader\n",
        "# train_loader = torch.utils.data.DataLoader(train, **dataloader_args)\n",
        "\n",
        "# test dataloader\n",
        "# test_loader = torch.utils.data.DataLoader(test, **dataloader_args)"
      ],
      "execution_count": 3,
      "outputs": [
        {
          "output_type": "stream",
          "text": [
            "CUDA Available? True\n"
          ],
          "name": "stdout"
        }
      ]
    },
    {
      "cell_type": "markdown",
      "metadata": {
        "id": "_Y30afb8J9qh",
        "colab_type": "text"
      },
      "source": [
        "# Ghost Batch Normalisation"
      ]
    },
    {
      "cell_type": "code",
      "metadata": {
        "id": "WEL7Y08lJ8tN",
        "colab_type": "code",
        "colab": {}
      },
      "source": [
        "import torch\n",
        "import torch.nn as nn\n",
        "import torch.nn.functional as F\n",
        "\n",
        "\n",
        "class GhostBatchNorm(nn.BatchNorm2d):\n",
        "    \"\"\"\n",
        "    From : https://github.com/davidcpage/cifar10-fast/blob/master/bag_of_tricks.ipynb\n",
        "\n",
        "    Batch norm seems to work best with batch size of around 32. The reasons presumably have to do \n",
        "    with noise in the batch statistics and specifically a balance between a beneficial regularising effect \n",
        "    at intermediate batch sizes and an excess of noise at small batches.\n",
        "    \n",
        "    Our batches are of size 512 and we can't afford to reduce them without taking a serious hit on training times, \n",
        "    but we can apply batch norm separately to subsets of a training batch. This technique, known as 'ghost' batch \n",
        "    norm, is usually used in a distributed setting but is just as useful when using large batches on a single node. \n",
        "    It isn't supported directly in PyTorch but we can roll our own easily enough.\n",
        "    \"\"\"\n",
        "    def __init__(self, num_features, num_splits, eps=1e-05, momentum=0.1, weight=True, bias=True):\n",
        "        super(GhostBatchNorm, self).__init__(num_features, eps=eps, momentum=momentum)\n",
        "        self.weight.data.fill_(1.0)\n",
        "        self.bias.data.fill_(0.0)\n",
        "        self.weight.requires_grad = weight\n",
        "        self.bias.requires_grad = bias        \n",
        "        self.num_splits = num_splits\n",
        "        self.register_buffer('running_mean', torch.zeros(num_features*self.num_splits))\n",
        "        self.register_buffer('running_var', torch.ones(num_features*self.num_splits))\n",
        "\n",
        "    def train(self, mode=True):\n",
        "        if (self.training is True) and (mode is False):\n",
        "            self.running_mean = torch.mean(self.running_mean.view(self.num_splits, self.num_features), dim=0).repeat(self.num_splits)\n",
        "            self.running_var = torch.mean(self.running_var.view(self.num_splits, self.num_features), dim=0).repeat(self.num_splits)\n",
        "        return super(GhostBatchNorm, self).train(mode)\n",
        "        \n",
        "    def forward(self, input):\n",
        "        N, C, H, W = input.shape\n",
        "        if self.training or not self.track_running_stats:\n",
        "            return F.batch_norm(\n",
        "                input.view(-1, C*self.num_splits, H, W), self.running_mean, self.running_var, \n",
        "                self.weight.repeat(self.num_splits), self.bias.repeat(self.num_splits),\n",
        "                True, self.momentum, self.eps).view(N, C, H, W) \n",
        "        else:\n",
        "            return F.batch_norm(\n",
        "                input, self.running_mean[:self.num_features], self.running_var[:self.num_features], \n",
        "                self.weight, self.bias, False, self.momentum, self.eps)\n",
        "\n"
      ],
      "execution_count": 4,
      "outputs": []
    },
    {
      "cell_type": "markdown",
      "metadata": {
        "id": "v3Og4dmBao2N",
        "colab_type": "text"
      },
      "source": [
        "# The Model"
      ]
    },
    {
      "cell_type": "code",
      "metadata": {
        "id": "h_Cx9q2QFgM7",
        "colab_type": "code",
        "colab": {}
      },
      "source": [
        "class Net(nn.Module):\n",
        "    def __init__(self, batchnorm):\n",
        "        super(Net, self).__init__()\n",
        "        \n",
        "        if (batchnorm == \"GBN\"):\n",
        "          self.conv1 = nn.Sequential(\n",
        "              \n",
        "              nn.Conv2d(in_channels=1, out_channels=4, kernel_size=(3, 3), padding=0, bias = True), # output 26X26X4 : RF- 3X3\n",
        "              nn.ReLU(),\n",
        "              GhostBatchNorm(4, num_splits, weight=False), # Ghost Batch Normalization after each convolution.\n",
        "              nn.Dropout2d(0.05), # dropout of 5% at each layer\n",
        "              \n",
        "              nn.Conv2d(4, 8, 3), # output 24X24X8 : RF - 5x5\n",
        "              nn.ReLU(),\n",
        "              GhostBatchNorm(8, num_splits, weight=False),  \n",
        "              nn.Dropout2d(0.05),  # dropout of 5% at each layer\n",
        "\n",
        "              nn.Conv2d(8, 16, 3), # output 22X22X16 : RF - 7X7\n",
        "              nn.ReLU(),\n",
        "              GhostBatchNorm(16, num_splits, weight=False),  \n",
        "              nn.Dropout2d(0.05),  # dropout of 5% at each layer\n",
        "\n",
        "              nn.MaxPool2d(2, 2)       # output 11X11X16 : RF - 8x8 \n",
        "              )\n",
        "          self.conv2 = nn.Sequential(\n",
        "              \n",
        "            \n",
        "              nn.Conv2d(16, 16, 3), # output 9X9X16 : RF - 12x12\n",
        "              nn.ReLU(),\n",
        "              GhostBatchNorm(16, num_splits, weight=False),\n",
        "              nn.Dropout2d(0.05), # 5% dropout\n",
        "\n",
        "              nn.Conv2d(16, 16, 3, padding=1), # output 9X9X16 : RF - 16x16\n",
        "              nn.ReLU(),\n",
        "              GhostBatchNorm(16, num_splits, weight=False),\n",
        "              nn.Dropout2d(0.05), # 5% dropout\n",
        "\n",
        "              )\n",
        "          self.conv3 = nn.Sequential(\n",
        "            \n",
        "              nn.Conv2d(16, 16, 3,padding=1), # output 9X9X16 : RF - 20 X 20\n",
        "              nn.ReLU(),\n",
        "              GhostBatchNorm(16, num_splits, weight=False),\n",
        "              nn.Dropout2d(0.05), # 5% dropout\n",
        "\n",
        "              nn.Conv2d(16, 10, 1), # output 7X7X10 : RF- 20 X 20\n",
        "              nn.AvgPool2d(7) # output 1x1x10 : RF - 32x32\n",
        "\n",
        "              )\n",
        "        else: # batchnorm == \"BN\"\n",
        "          self.conv1 = nn.Sequential(\n",
        "              \n",
        "              nn.Conv2d(in_channels=1, out_channels=4, kernel_size=(3, 3), padding=0, bias = True), # output 26X26X4 : RF- 3X3\n",
        "              nn.ReLU(),\n",
        "              nn.BatchNorm2d(4), # Batch Normalization after each convolution.\n",
        "              nn.Dropout2d(0.05), # dropout of 5% at each layer\n",
        "              \n",
        "              nn.Conv2d(4, 8, 3), # output 24X24X8 : RF - 5x5\n",
        "              nn.ReLU(),\n",
        "              nn.BatchNorm2d(8),  # Batch Normalization after each convolution.\n",
        "              nn.Dropout2d(0.05),  # dropout of 5% at each layer\n",
        "\n",
        "              nn.Conv2d(8, 16, 3), # output 22X22X16 : RF - 7X7\n",
        "              nn.ReLU(),\n",
        "              nn.BatchNorm2d(16),  # Batch Normalization after each convolution.\n",
        "              nn.Dropout2d(0.05),  # dropout of 5% at each layer\n",
        "\n",
        "              nn.MaxPool2d(2, 2)       # output 11X11X16 : RF - 8x8 \n",
        "              )\n",
        "          self.conv2 = nn.Sequential(\n",
        "              \n",
        "            \n",
        "              nn.Conv2d(16, 16, 3), # output 9X9X16 : RF - 12x12\n",
        "              nn.ReLU(),\n",
        "              nn.BatchNorm2d(16),\n",
        "              nn.Dropout2d(0.05), # 5% dropout\n",
        "\n",
        "              nn.Conv2d(16, 16, 3, padding=1), # output 9X9X16 : RF - 16x16\n",
        "              nn.ReLU(),\n",
        "              nn.BatchNorm2d(16),\n",
        "              nn.Dropout2d(0.05), # 5% dropout\n",
        "\n",
        "              )\n",
        "          self.conv3 = nn.Sequential(\n",
        "            \n",
        "              nn.Conv2d(16, 16, 3,padding=1), # output 9X9X16 : RF - 20 X 20\n",
        "              nn.ReLU(),\n",
        "              nn.BatchNorm2d(16),\n",
        "              nn.Dropout2d(0.05), # 5% dropout\n",
        "\n",
        "              nn.Conv2d(16, 10, 1), # output 7X7X10 : RF- 20 X 20\n",
        "              nn.AvgPool2d(7) # output 1x1x10 : RF - 32x32\n",
        "\n",
        "              )\n",
        "\n",
        "    def forward(self, x):\n",
        "        \n",
        "        x = self.conv1(x)\n",
        "        x= self.conv2(x)\n",
        "        x= self.conv3(x)\n",
        "        x = x.view(-1, 10)\n",
        "        return F.log_softmax(x, -1)"
      ],
      "execution_count": 5,
      "outputs": []
    },
    {
      "cell_type": "markdown",
      "metadata": {
        "id": "lMkoC-Q_a-cv",
        "colab_type": "text"
      },
      "source": [
        "# Print Summary of Model"
      ]
    },
    {
      "cell_type": "code",
      "metadata": {
        "colab_type": "code",
        "id": "xdydjYTZFyi3",
        "colab": {
          "base_uri": "https://localhost:8080/",
          "height": 729
        },
        "outputId": "182ce884-d228-4263-d745-7a26cbfc0880"
      },
      "source": [
        "!pip install torchsummary\n",
        "from torchsummary import summary\n",
        "device = torch.device(\"cuda\" if use_cuda else \"cpu\")\n",
        "model = Net(\"GBN\").to(device)\n",
        "summary(model, input_size=(1, 28, 28))"
      ],
      "execution_count": 6,
      "outputs": [
        {
          "output_type": "stream",
          "text": [
            "Requirement already satisfied: torchsummary in /usr/local/lib/python3.6/dist-packages (1.5.1)\n",
            "----------------------------------------------------------------\n",
            "        Layer (type)               Output Shape         Param #\n",
            "================================================================\n",
            "            Conv2d-1            [-1, 4, 26, 26]              40\n",
            "              ReLU-2            [-1, 4, 26, 26]               0\n",
            "    GhostBatchNorm-3            [-1, 4, 26, 26]               8\n",
            "         Dropout2d-4            [-1, 4, 26, 26]               0\n",
            "            Conv2d-5            [-1, 8, 24, 24]             296\n",
            "              ReLU-6            [-1, 8, 24, 24]               0\n",
            "    GhostBatchNorm-7            [-1, 8, 24, 24]              16\n",
            "         Dropout2d-8            [-1, 8, 24, 24]               0\n",
            "            Conv2d-9           [-1, 16, 22, 22]           1,168\n",
            "             ReLU-10           [-1, 16, 22, 22]               0\n",
            "   GhostBatchNorm-11           [-1, 16, 22, 22]              32\n",
            "        Dropout2d-12           [-1, 16, 22, 22]               0\n",
            "        MaxPool2d-13           [-1, 16, 11, 11]               0\n",
            "           Conv2d-14             [-1, 16, 9, 9]           2,320\n",
            "             ReLU-15             [-1, 16, 9, 9]               0\n",
            "   GhostBatchNorm-16             [-1, 16, 9, 9]              32\n",
            "        Dropout2d-17             [-1, 16, 9, 9]               0\n",
            "           Conv2d-18             [-1, 16, 9, 9]           2,320\n",
            "             ReLU-19             [-1, 16, 9, 9]               0\n",
            "   GhostBatchNorm-20             [-1, 16, 9, 9]              32\n",
            "        Dropout2d-21             [-1, 16, 9, 9]               0\n",
            "           Conv2d-22             [-1, 16, 9, 9]           2,320\n",
            "             ReLU-23             [-1, 16, 9, 9]               0\n",
            "   GhostBatchNorm-24             [-1, 16, 9, 9]              32\n",
            "        Dropout2d-25             [-1, 16, 9, 9]               0\n",
            "           Conv2d-26             [-1, 10, 9, 9]             170\n",
            "        AvgPool2d-27             [-1, 10, 1, 1]               0\n",
            "================================================================\n",
            "Total params: 8,786\n",
            "Trainable params: 8,634\n",
            "Non-trainable params: 152\n",
            "----------------------------------------------------------------\n",
            "Input size (MB): 0.00\n",
            "Forward/backward pass size (MB): 0.60\n",
            "Params size (MB): 0.03\n",
            "Estimated Total Size (MB): 0.64\n",
            "----------------------------------------------------------------\n"
          ],
          "name": "stdout"
        }
      ]
    },
    {
      "cell_type": "markdown",
      "metadata": {
        "id": "H6q9jwl0dhtx",
        "colab_type": "text"
      },
      "source": [
        "# Define Train and Test functions"
      ]
    },
    {
      "cell_type": "code",
      "metadata": {
        "id": "8fDefDhaFlwH",
        "colab_type": "code",
        "colab": {}
      },
      "source": [
        "from tqdm import tqdm\n",
        "from torch.autograd import Variable\n",
        "\n",
        "train_losses = []\n",
        "test_losses = []\n",
        "train_acc = []\n",
        "test_acc = []\n",
        "l1_factor = 0.00001\n",
        "\n",
        "\n",
        "  # Function to train \n",
        "'''\n",
        "  Args: \n",
        "  Model : created model to be used for training\n",
        "  device : GPU or cpu\n",
        "  train_laoded: data on which the training has to be done\n",
        "  Optimizer : the optimization algorithm to be used\n",
        "  epoch : no fo epoch \n",
        "\n",
        "'''\n",
        "def train(model, device, train_loader, optimizer, epoch, losstype):\n",
        "    model.train() # Set the model on training mode\n",
        "    pbar = tqdm(train_loader)\n",
        "    correct = 0\n",
        "    processed = 0\n",
        "    cross_entropy = nn.CrossEntropyLoss().to(device)\n",
        "\n",
        "\n",
        "    for batch_idx, (data, target) in enumerate(pbar):\n",
        "      data, target = data.to(device), target.to(device) # moving the data to device\n",
        "      optimizer.zero_grad() # zero the graidents \n",
        "      output = model(data) # getting the model output\n",
        "\n",
        "      loss = 0\n",
        "      if (losstype == \"nll\") or (losstype == \"L2\"):\n",
        "        loss = F.nll_loss(output, target) # calculating the The negative log likelihood loss\n",
        "      elif (losstype == \"L1\") or (losstype == \"L1L2\"):\n",
        "        # print (\"In Train, losstype = L1 / L1L2\")\n",
        "        # Calculate loss\n",
        "        # loss = F.nll_loss(y_pred, target)\n",
        "        loss = cross_entropy(output, target)\n",
        "        # l1_crit = nn.L1Loss(reduce=False)\n",
        "        reg_loss = 0\n",
        "        for param in model.parameters():\n",
        "            reg_loss += torch.sum(abs(param))\n",
        "\n",
        "        loss += l1_factor * reg_loss\n",
        "\n",
        "      train_losses.append(loss)\n",
        "      loss.backward() # flowing the gradients backward.\n",
        "      optimizer.step() # paameter updated basd on the current gradient.\n",
        "      \n",
        "      pred = output.argmax(dim=1, keepdim=True)  # get the index of the max log-probability\n",
        "      correct += pred.eq(target.view_as(pred)).sum().item()\n",
        "      processed += len(data)        \n",
        "      \n",
        "      pbar.set_description(desc= f'loss={loss.item()} batch_id={batch_idx} Train Accuracy={100*correct/processed:0.2f}')\n",
        "      train_acc.append(100*correct/processed)\n",
        "    return train_losses, train_acc\n",
        "\n",
        "  # Function to test \n",
        "'''\n",
        "  Args: \n",
        "  Model : created model to be used for training\n",
        "  device : GPU or cpu\n",
        "  test_laoded: data on which the testing has to be done\n",
        "  \n",
        "\n",
        "'''\n",
        "def test(model, device, test_loader): #, losstype):\n",
        "  model.eval() # seting up the model for evalaution.\n",
        "  test_loss = 0 # setting the test loss to 0\n",
        "  correct = 0 # countign the no of coorect classfication.\n",
        "  with torch.no_grad(): # turn off gradients, since we are in test mode\n",
        "    for data, target in test_loader:\n",
        "        data, target = data.to(device), target.to(device)   # copy the data to device.\n",
        "        output = model(data) # predict the output\n",
        "\n",
        "        test_loss += F.nll_loss(output, target, reduction='sum').item()  # sum up batch loss\n",
        "        pred = output.argmax(dim=1, keepdim=True)  # get the index of the max log-probability\n",
        "        correct += pred.eq(target.view_as(pred)).sum().item()\n",
        "\n",
        "  test_loss /= len(test_loader.dataset) # calculating the test loss.\n",
        "  test_losses.append(test_loss)\n",
        "\n",
        "  print('\\nTest set: Average loss: {:.4f}, Test Accuracy: {}/{} ({:.2f}%)\\n'.format(\n",
        "    test_loss, correct, len(test_loader.dataset),\n",
        "    100. * correct / len(test_loader.dataset)))\n",
        "  test_acc.append(100. * correct / len(test_loader.dataset))\n",
        "  return test_losses, test_acc"
      ],
      "execution_count": 7,
      "outputs": []
    },
    {
      "cell_type": "code",
      "metadata": {
        "id": "CI4lpKLeGsfG",
        "colab_type": "code",
        "colab": {}
      },
      "source": [
        "def getmisclassifiedImage(model, device, test_loader):\n",
        "  misclassified = []\n",
        "  misclassified_pred = []\n",
        "  misclassified_target = []\n",
        "  misclassfiled_list = []\n",
        "  model.eval()\n",
        "\n",
        "  with torch.no_grad():\n",
        "    for data, target in test_loader:\n",
        "      data, target = data.to(device), target.to(device)\n",
        "     \n",
        "      output = model(data)\n",
        "      pred = output.argmax(dim =1, keepdim =True)\n",
        "      \n",
        "      list_misclassified = (pred.eq(target.view_as(pred)) == False)\n",
        "      batch_misclassified = data[list_misclassified]\n",
        "      batch_mis_pred = pred[list_misclassified]\n",
        "      batch_mis_target = target.view_as(pred)[list_misclassified]\n",
        "\n",
        "      misclassified.append(batch_misclassified)\n",
        "      misclassified_pred.append(batch_mis_pred)\n",
        "      misclassified_target.append(batch_mis_target)\n",
        "                                  \n",
        "  # group all the batched together\n",
        "  \n",
        "  misclassified = torch.cat(misclassified)\n",
        "  misclassified_pred = torch.cat(misclassified_pred)\n",
        "  misclassified_target = torch.cat(misclassified_target)  \n",
        "                                \n",
        " \n",
        "  misclassfiled_list.append(misclassified)\n",
        "  misclassfiled_list.append(misclassified_pred)\n",
        "  misclassfiled_list.append(misclassified_pred)\n",
        "\n",
        "  return list(map(lambda x, y, z: (x, y, z), misclassified, misclassified_pred, misclassified_target))\n"
      ],
      "execution_count": 8,
      "outputs": []
    },
    {
      "cell_type": "code",
      "metadata": {
        "id": "uOvku-NVGqbB",
        "colab_type": "code",
        "colab": {}
      },
      "source": [
        "%matplotlib inline\n",
        "import matplotlib.pyplot as plt\n",
        "import random\n",
        "def Plot_misclassifed(model, device, test_loader):\n",
        " plt.style.use(\"dark_background\")\n",
        " misclassified = getmisclassifiedImage(model, device, test_loader)\n",
        " num_images = 25\n",
        " fig = plt.figure(figsize=(12, 12))\n",
        " for idx, (image, pred, target) in enumerate(random.choices(misclassified, k=num_images)):\n",
        "     image, pred, target = image.cpu().numpy(), pred.cpu(), target.cpu()\n",
        "     ax = fig.add_subplot(5, 5, idx+1)\n",
        "     ax.axis('off')\n",
        "     ax.set_title('target {}\\npred {}'.format(target.item(), pred.item()), fontsize=12)\n",
        "     ax.imshow(image.squeeze())\n",
        " plt.show()"
      ],
      "execution_count": 9,
      "outputs": []
    },
    {
      "cell_type": "markdown",
      "metadata": {
        "id": "H3tYkzvQdWbc",
        "colab_type": "text"
      },
      "source": [
        "# Run the model"
      ]
    },
    {
      "cell_type": "code",
      "metadata": {
        "id": "MMWbLWO6FuHb",
        "colab_type": "code",
        "colab": {
          "base_uri": "https://localhost:8080/",
          "height": 1000
        },
        "outputId": "34d889dd-3781-4383-e6ad-b4ec59d4ee75"
      },
      "source": [
        "from torch.optim.lr_scheduler import StepLR\n",
        "import pickle, os\n",
        "\n",
        "\n",
        "# with L1 + BN\n",
        "# with L2 + BN\n",
        "# with L1 and L2 with BN\n",
        "# with GBN\n",
        "# with L1 and L2 with GBN \n",
        "approach_options = [[\"nll\", \"BN\"],[\"L1\", \"BN\"], [\"L2\", \"BN\"], [\"L1L2\", \"BN\"], [\"nll\", \"GBN\"], [\"L1L2\", \"GBN\"]]\n",
        "# approach_options = [[\"nll\", \"GBN\"], [\"L1\", \"BN\"], [\"L2\", \"BN\"], [\"L1L2\", \"BN\"],  [\"L1L2\", \"GBN\"]]\n",
        "approach_dicts = {}\n",
        "gbn_misclassified = []\n",
        "gbn_predictions = []\n",
        "overwrite = True\n",
        "\n",
        "for approach in approach_options:\n",
        "  train_losses = []\n",
        "  test_losses = []\n",
        "  train_acc = []\n",
        "  test_acc = []\n",
        "\n",
        "  # print (\"approach = \", approach)\n",
        "  label = approach[0] + ' with ' + approach[1]\n",
        "  if (overwrite == False) and os.path.isfile('EVAS6-' + label + '.pkl'):\n",
        "    with open ('EVAS6-' + label + '.pkl','rb') as f:\n",
        "      approach_dicts[label] = pickle.load(f)\n",
        "    #from google.colab import files\n",
        "    #files.download('EVAS6-' + label + '.pkl')\n",
        "\n",
        "  else:\n",
        "    model = Net(approach[1]).to(device) # move the model to device.\n",
        "    if (approach[0] == \"L2\") or (approach[0] == \"L1L2\"):\n",
        "      optimizer = optim.SGD(model.parameters(), lr=0.1, momentum=0.9, weight_decay=1e-5)  # intiating the SGD optimizer\n",
        "    else:\n",
        "      optimizer = optim.SGD(model.parameters(), lr=0.1, momentum=0.9)  # intiating the SGD optimizer\n",
        "\n",
        "    scheduler = StepLR(optimizer, step_size=6, gamma=0.1)\n",
        "    approach_dict = {}\n",
        "\n",
        "    if approach[1] == \"GBN\":\n",
        "      batch_size = 512\n",
        "      num_splits = 4   \n",
        "    else:\n",
        "      batch_size = 128\n",
        "      num_splits = 2 \n",
        "      #train_loader.batch_size = 512\n",
        "      #test_loader.batch_size = 512\n",
        "      # dataloader arguments - something you'll fetch these from cmdprmt\n",
        "    dataloader_args = dict(shuffle=True, batch_size=batch_size, num_workers=4, pin_memory=True) if use_cuda else dict(shuffle=True, batch_size=int(batch_size/2))\n",
        "\n",
        "    # load the training data and perform standard normalization \n",
        "    # parameter for normalization is mean and std dev.\n",
        "    # train dataloader\n",
        "    train_loader = torch.utils.data.DataLoader(train_data, **dataloader_args)\n",
        "\n",
        "    # test dataloader\n",
        "    test_loader = torch.utils.data.DataLoader(test_data, **dataloader_args)\n",
        "\n",
        "    for epoch in range(1, 26):\n",
        "        print(\"Approach: Loss, BN = \",approach[0], approach[1],\"epoch =\", epoch)\n",
        "        train(model, device, train_loader, optimizer, epoch, approach[0])\n",
        "        scheduler.step()\n",
        "        test(model, device, test_loader)\n",
        "    \n",
        "    approach_dict[\"train_losses\"] = train_losses\n",
        "    approach_dict[\"train_acc\"] = train_acc\n",
        "    approach_dict[\"test_losses\"] = test_losses\n",
        "    approach_dict[\"test_acc\"] = test_acc\n",
        "    approach_dicts[label] = approach_dict\n",
        "    val_data = {'test_acc':test_acc,'test_losses':test_losses}\n",
        "    if (overwrite == True) and os.path.exists('EVAS6-' + label + '.pkl'):\n",
        "        os.remove('EVAS6-' + label + '.pkl') #this deletes the file\n",
        "    with open('EVAS6-' + label + '.pkl','wb') as f:\n",
        "      pickle.dump(val_data,f)\n",
        "  if (approach[0] == \"nll\") and (approach[1] == \"GBN\"):\n",
        "    #gbn_misclassified, _, gbn_predictions = find_missclassified(model)\n",
        "    Plot_misclassifed(model, device, test_loader)\n",
        "\n"
      ],
      "execution_count": 10,
      "outputs": [
        {
          "output_type": "stream",
          "text": [
            "\r  0%|          | 0/469 [00:00<?, ?it/s]"
          ],
          "name": "stderr"
        },
        {
          "output_type": "stream",
          "text": [
            "Approach: Loss, BN =  nll BN epoch = 1\n"
          ],
          "name": "stdout"
        },
        {
          "output_type": "stream",
          "text": [
            "loss=0.18689189851284027 batch_id=468 Train Accuracy=90.54: 100%|██████████| 469/469 [00:13<00:00, 33.57it/s]\n",
            "  0%|          | 0/469 [00:00<?, ?it/s]"
          ],
          "name": "stderr"
        },
        {
          "output_type": "stream",
          "text": [
            "\n",
            "Test set: Average loss: 0.0481, Test Accuracy: 9861/10000 (98.61%)\n",
            "\n",
            "Approach: Loss, BN =  nll BN epoch = 2\n"
          ],
          "name": "stdout"
        },
        {
          "output_type": "stream",
          "text": [
            "loss=0.04215162992477417 batch_id=468 Train Accuracy=96.92: 100%|██████████| 469/469 [00:14<00:00, 33.14it/s]\n",
            "  0%|          | 0/469 [00:00<?, ?it/s]"
          ],
          "name": "stderr"
        },
        {
          "output_type": "stream",
          "text": [
            "\n",
            "Test set: Average loss: 0.0468, Test Accuracy: 9870/10000 (98.70%)\n",
            "\n",
            "Approach: Loss, BN =  nll BN epoch = 3\n"
          ],
          "name": "stdout"
        },
        {
          "output_type": "stream",
          "text": [
            "loss=0.03562098369002342 batch_id=468 Train Accuracy=97.48: 100%|██████████| 469/469 [00:13<00:00, 33.66it/s]\n",
            "  0%|          | 0/469 [00:00<?, ?it/s]"
          ],
          "name": "stderr"
        },
        {
          "output_type": "stream",
          "text": [
            "\n",
            "Test set: Average loss: 0.0339, Test Accuracy: 9893/10000 (98.93%)\n",
            "\n",
            "Approach: Loss, BN =  nll BN epoch = 4\n"
          ],
          "name": "stdout"
        },
        {
          "output_type": "stream",
          "text": [
            "loss=0.10883014649152756 batch_id=468 Train Accuracy=97.81: 100%|██████████| 469/469 [00:13<00:00, 33.60it/s]\n",
            "  0%|          | 0/469 [00:00<?, ?it/s]"
          ],
          "name": "stderr"
        },
        {
          "output_type": "stream",
          "text": [
            "\n",
            "Test set: Average loss: 0.0251, Test Accuracy: 9923/10000 (99.23%)\n",
            "\n",
            "Approach: Loss, BN =  nll BN epoch = 5\n"
          ],
          "name": "stdout"
        },
        {
          "output_type": "stream",
          "text": [
            "loss=0.0788092166185379 batch_id=468 Train Accuracy=97.99: 100%|██████████| 469/469 [00:13<00:00, 33.56it/s]\n",
            "  0%|          | 0/469 [00:00<?, ?it/s]"
          ],
          "name": "stderr"
        },
        {
          "output_type": "stream",
          "text": [
            "\n",
            "Test set: Average loss: 0.0292, Test Accuracy: 9908/10000 (99.08%)\n",
            "\n",
            "Approach: Loss, BN =  nll BN epoch = 6\n"
          ],
          "name": "stdout"
        },
        {
          "output_type": "stream",
          "text": [
            "loss=0.057114820927381516 batch_id=468 Train Accuracy=98.06: 100%|██████████| 469/469 [00:13<00:00, 33.60it/s]\n",
            "  0%|          | 0/469 [00:00<?, ?it/s]"
          ],
          "name": "stderr"
        },
        {
          "output_type": "stream",
          "text": [
            "\n",
            "Test set: Average loss: 0.0254, Test Accuracy: 9919/10000 (99.19%)\n",
            "\n",
            "Approach: Loss, BN =  nll BN epoch = 7\n"
          ],
          "name": "stdout"
        },
        {
          "output_type": "stream",
          "text": [
            "loss=0.006530730053782463 batch_id=468 Train Accuracy=98.49: 100%|██████████| 469/469 [00:13<00:00, 34.30it/s]\n",
            "  0%|          | 0/469 [00:00<?, ?it/s]"
          ],
          "name": "stderr"
        },
        {
          "output_type": "stream",
          "text": [
            "\n",
            "Test set: Average loss: 0.0198, Test Accuracy: 9950/10000 (99.50%)\n",
            "\n",
            "Approach: Loss, BN =  nll BN epoch = 8\n"
          ],
          "name": "stdout"
        },
        {
          "output_type": "stream",
          "text": [
            "loss=0.054726239293813705 batch_id=468 Train Accuracy=98.59: 100%|██████████| 469/469 [00:13<00:00, 33.71it/s]\n",
            "  0%|          | 0/469 [00:00<?, ?it/s]"
          ],
          "name": "stderr"
        },
        {
          "output_type": "stream",
          "text": [
            "\n",
            "Test set: Average loss: 0.0190, Test Accuracy: 9947/10000 (99.47%)\n",
            "\n",
            "Approach: Loss, BN =  nll BN epoch = 9\n"
          ],
          "name": "stdout"
        },
        {
          "output_type": "stream",
          "text": [
            "loss=0.12413019686937332 batch_id=468 Train Accuracy=98.61: 100%|██████████| 469/469 [00:13<00:00, 34.03it/s]\n",
            "  0%|          | 0/469 [00:00<?, ?it/s]"
          ],
          "name": "stderr"
        },
        {
          "output_type": "stream",
          "text": [
            "\n",
            "Test set: Average loss: 0.0184, Test Accuracy: 9948/10000 (99.48%)\n",
            "\n",
            "Approach: Loss, BN =  nll BN epoch = 10\n"
          ],
          "name": "stdout"
        },
        {
          "output_type": "stream",
          "text": [
            "loss=0.058394934982061386 batch_id=468 Train Accuracy=98.64: 100%|██████████| 469/469 [00:13<00:00, 34.35it/s]\n",
            "  0%|          | 0/469 [00:00<?, ?it/s]"
          ],
          "name": "stderr"
        },
        {
          "output_type": "stream",
          "text": [
            "\n",
            "Test set: Average loss: 0.0178, Test Accuracy: 9946/10000 (99.46%)\n",
            "\n",
            "Approach: Loss, BN =  nll BN epoch = 11\n"
          ],
          "name": "stdout"
        },
        {
          "output_type": "stream",
          "text": [
            "loss=0.12215068936347961 batch_id=468 Train Accuracy=98.75: 100%|██████████| 469/469 [00:13<00:00, 34.51it/s]\n",
            "  0%|          | 0/469 [00:00<?, ?it/s]"
          ],
          "name": "stderr"
        },
        {
          "output_type": "stream",
          "text": [
            "\n",
            "Test set: Average loss: 0.0181, Test Accuracy: 9946/10000 (99.46%)\n",
            "\n",
            "Approach: Loss, BN =  nll BN epoch = 12\n"
          ],
          "name": "stdout"
        },
        {
          "output_type": "stream",
          "text": [
            "loss=0.0814482793211937 batch_id=468 Train Accuracy=98.68: 100%|██████████| 469/469 [00:13<00:00, 33.97it/s]\n",
            "  0%|          | 0/469 [00:00<?, ?it/s]"
          ],
          "name": "stderr"
        },
        {
          "output_type": "stream",
          "text": [
            "\n",
            "Test set: Average loss: 0.0182, Test Accuracy: 9948/10000 (99.48%)\n",
            "\n",
            "Approach: Loss, BN =  nll BN epoch = 13\n"
          ],
          "name": "stdout"
        },
        {
          "output_type": "stream",
          "text": [
            "loss=0.0013519927160814404 batch_id=468 Train Accuracy=98.74: 100%|██████████| 469/469 [00:13<00:00, 34.09it/s]\n",
            "  0%|          | 0/469 [00:00<?, ?it/s]"
          ],
          "name": "stderr"
        },
        {
          "output_type": "stream",
          "text": [
            "\n",
            "Test set: Average loss: 0.0181, Test Accuracy: 9947/10000 (99.47%)\n",
            "\n",
            "Approach: Loss, BN =  nll BN epoch = 14\n"
          ],
          "name": "stdout"
        },
        {
          "output_type": "stream",
          "text": [
            "loss=0.039838675409555435 batch_id=468 Train Accuracy=98.71: 100%|██████████| 469/469 [00:13<00:00, 33.93it/s]\n",
            "  0%|          | 0/469 [00:00<?, ?it/s]"
          ],
          "name": "stderr"
        },
        {
          "output_type": "stream",
          "text": [
            "\n",
            "Test set: Average loss: 0.0175, Test Accuracy: 9950/10000 (99.50%)\n",
            "\n",
            "Approach: Loss, BN =  nll BN epoch = 15\n"
          ],
          "name": "stdout"
        },
        {
          "output_type": "stream",
          "text": [
            "loss=0.02562078833580017 batch_id=468 Train Accuracy=98.75: 100%|██████████| 469/469 [00:13<00:00, 34.54it/s]\n",
            "  0%|          | 0/469 [00:00<?, ?it/s]"
          ],
          "name": "stderr"
        },
        {
          "output_type": "stream",
          "text": [
            "\n",
            "Test set: Average loss: 0.0175, Test Accuracy: 9951/10000 (99.51%)\n",
            "\n",
            "Approach: Loss, BN =  nll BN epoch = 16\n"
          ],
          "name": "stdout"
        },
        {
          "output_type": "stream",
          "text": [
            "loss=0.04664911329746246 batch_id=468 Train Accuracy=98.77: 100%|██████████| 469/469 [00:13<00:00, 34.76it/s]\n",
            "  0%|          | 0/469 [00:00<?, ?it/s]"
          ],
          "name": "stderr"
        },
        {
          "output_type": "stream",
          "text": [
            "\n",
            "Test set: Average loss: 0.0174, Test Accuracy: 9949/10000 (99.49%)\n",
            "\n",
            "Approach: Loss, BN =  nll BN epoch = 17\n"
          ],
          "name": "stdout"
        },
        {
          "output_type": "stream",
          "text": [
            "loss=0.017479317262768745 batch_id=468 Train Accuracy=98.71: 100%|██████████| 469/469 [00:13<00:00, 33.97it/s]\n",
            "  0%|          | 0/469 [00:00<?, ?it/s]"
          ],
          "name": "stderr"
        },
        {
          "output_type": "stream",
          "text": [
            "\n",
            "Test set: Average loss: 0.0175, Test Accuracy: 9949/10000 (99.49%)\n",
            "\n",
            "Approach: Loss, BN =  nll BN epoch = 18\n"
          ],
          "name": "stdout"
        },
        {
          "output_type": "stream",
          "text": [
            "loss=0.07104865461587906 batch_id=468 Train Accuracy=98.77: 100%|██████████| 469/469 [00:13<00:00, 33.89it/s]\n",
            "  0%|          | 0/469 [00:00<?, ?it/s]"
          ],
          "name": "stderr"
        },
        {
          "output_type": "stream",
          "text": [
            "\n",
            "Test set: Average loss: 0.0171, Test Accuracy: 9953/10000 (99.53%)\n",
            "\n",
            "Approach: Loss, BN =  nll BN epoch = 19\n"
          ],
          "name": "stdout"
        },
        {
          "output_type": "stream",
          "text": [
            "loss=0.0033212576527148485 batch_id=468 Train Accuracy=98.79: 100%|██████████| 469/469 [00:13<00:00, 34.67it/s]\n",
            "  0%|          | 0/469 [00:00<?, ?it/s]"
          ],
          "name": "stderr"
        },
        {
          "output_type": "stream",
          "text": [
            "\n",
            "Test set: Average loss: 0.0172, Test Accuracy: 9951/10000 (99.51%)\n",
            "\n",
            "Approach: Loss, BN =  nll BN epoch = 20\n"
          ],
          "name": "stdout"
        },
        {
          "output_type": "stream",
          "text": [
            "loss=0.027683621272444725 batch_id=468 Train Accuracy=98.74: 100%|██████████| 469/469 [00:13<00:00, 34.62it/s]\n",
            "  0%|          | 0/469 [00:00<?, ?it/s]"
          ],
          "name": "stderr"
        },
        {
          "output_type": "stream",
          "text": [
            "\n",
            "Test set: Average loss: 0.0174, Test Accuracy: 9950/10000 (99.50%)\n",
            "\n",
            "Approach: Loss, BN =  nll BN epoch = 21\n"
          ],
          "name": "stdout"
        },
        {
          "output_type": "stream",
          "text": [
            "loss=0.03049454651772976 batch_id=468 Train Accuracy=98.72: 100%|██████████| 469/469 [00:13<00:00, 34.62it/s]\n",
            "  0%|          | 0/469 [00:00<?, ?it/s]"
          ],
          "name": "stderr"
        },
        {
          "output_type": "stream",
          "text": [
            "\n",
            "Test set: Average loss: 0.0172, Test Accuracy: 9951/10000 (99.51%)\n",
            "\n",
            "Approach: Loss, BN =  nll BN epoch = 22\n"
          ],
          "name": "stdout"
        },
        {
          "output_type": "stream",
          "text": [
            "loss=0.003945248667150736 batch_id=468 Train Accuracy=98.74: 100%|██████████| 469/469 [00:13<00:00, 34.85it/s]\n",
            "  0%|          | 0/469 [00:00<?, ?it/s]"
          ],
          "name": "stderr"
        },
        {
          "output_type": "stream",
          "text": [
            "\n",
            "Test set: Average loss: 0.0173, Test Accuracy: 9951/10000 (99.51%)\n",
            "\n",
            "Approach: Loss, BN =  nll BN epoch = 23\n"
          ],
          "name": "stdout"
        },
        {
          "output_type": "stream",
          "text": [
            "loss=0.023244088515639305 batch_id=468 Train Accuracy=98.69: 100%|██████████| 469/469 [00:13<00:00, 34.04it/s]\n",
            "  0%|          | 0/469 [00:00<?, ?it/s]"
          ],
          "name": "stderr"
        },
        {
          "output_type": "stream",
          "text": [
            "\n",
            "Test set: Average loss: 0.0173, Test Accuracy: 9950/10000 (99.50%)\n",
            "\n",
            "Approach: Loss, BN =  nll BN epoch = 24\n"
          ],
          "name": "stdout"
        },
        {
          "output_type": "stream",
          "text": [
            "loss=0.055161669850349426 batch_id=468 Train Accuracy=98.78: 100%|██████████| 469/469 [00:13<00:00, 34.87it/s]\n",
            "  0%|          | 0/469 [00:00<?, ?it/s]"
          ],
          "name": "stderr"
        },
        {
          "output_type": "stream",
          "text": [
            "\n",
            "Test set: Average loss: 0.0172, Test Accuracy: 9949/10000 (99.49%)\n",
            "\n",
            "Approach: Loss, BN =  nll BN epoch = 25\n"
          ],
          "name": "stdout"
        },
        {
          "output_type": "stream",
          "text": [
            "loss=0.04947298765182495 batch_id=468 Train Accuracy=98.72: 100%|██████████| 469/469 [00:13<00:00, 34.23it/s]\n",
            "  0%|          | 0/469 [00:00<?, ?it/s]"
          ],
          "name": "stderr"
        },
        {
          "output_type": "stream",
          "text": [
            "\n",
            "Test set: Average loss: 0.0172, Test Accuracy: 9951/10000 (99.51%)\n",
            "\n",
            "Approach: Loss, BN =  L1 BN epoch = 1\n"
          ],
          "name": "stdout"
        },
        {
          "output_type": "stream",
          "text": [
            "loss=0.12456288188695908 batch_id=468 Train Accuracy=90.81: 100%|██████████| 469/469 [00:15<00:00, 30.94it/s]\n",
            "  0%|          | 0/469 [00:00<?, ?it/s]"
          ],
          "name": "stderr"
        },
        {
          "output_type": "stream",
          "text": [
            "\n",
            "Test set: Average loss: 0.0592, Test Accuracy: 9816/10000 (98.16%)\n",
            "\n",
            "Approach: Loss, BN =  L1 BN epoch = 2\n"
          ],
          "name": "stdout"
        },
        {
          "output_type": "stream",
          "text": [
            "loss=0.09690205007791519 batch_id=468 Train Accuracy=97.02: 100%|██████████| 469/469 [00:15<00:00, 31.15it/s]\n",
            "  0%|          | 0/469 [00:00<?, ?it/s]"
          ],
          "name": "stderr"
        },
        {
          "output_type": "stream",
          "text": [
            "\n",
            "Test set: Average loss: 0.0397, Test Accuracy: 9865/10000 (98.65%)\n",
            "\n",
            "Approach: Loss, BN =  L1 BN epoch = 3\n"
          ],
          "name": "stdout"
        },
        {
          "output_type": "stream",
          "text": [
            "loss=0.10405441373586655 batch_id=468 Train Accuracy=97.52: 100%|██████████| 469/469 [00:15<00:00, 29.85it/s]\n",
            "  0%|          | 0/469 [00:00<?, ?it/s]"
          ],
          "name": "stderr"
        },
        {
          "output_type": "stream",
          "text": [
            "\n",
            "Test set: Average loss: 0.0334, Test Accuracy: 9889/10000 (98.89%)\n",
            "\n",
            "Approach: Loss, BN =  L1 BN epoch = 4\n"
          ],
          "name": "stdout"
        },
        {
          "output_type": "stream",
          "text": [
            "loss=0.0798422247171402 batch_id=468 Train Accuracy=97.83: 100%|██████████| 469/469 [00:14<00:00, 31.49it/s]\n",
            "  0%|          | 0/469 [00:00<?, ?it/s]"
          ],
          "name": "stderr"
        },
        {
          "output_type": "stream",
          "text": [
            "\n",
            "Test set: Average loss: 0.0269, Test Accuracy: 9910/10000 (99.10%)\n",
            "\n",
            "Approach: Loss, BN =  L1 BN epoch = 5\n"
          ],
          "name": "stdout"
        },
        {
          "output_type": "stream",
          "text": [
            "loss=0.10021563619375229 batch_id=468 Train Accuracy=98.05: 100%|██████████| 469/469 [00:15<00:00, 31.05it/s]\n",
            "  0%|          | 0/469 [00:00<?, ?it/s]"
          ],
          "name": "stderr"
        },
        {
          "output_type": "stream",
          "text": [
            "\n",
            "Test set: Average loss: 0.0251, Test Accuracy: 9920/10000 (99.20%)\n",
            "\n",
            "Approach: Loss, BN =  L1 BN epoch = 6\n"
          ],
          "name": "stdout"
        },
        {
          "output_type": "stream",
          "text": [
            "loss=0.0963265672326088 batch_id=468 Train Accuracy=98.06: 100%|██████████| 469/469 [00:15<00:00, 31.15it/s]\n",
            "  0%|          | 0/469 [00:00<?, ?it/s]"
          ],
          "name": "stderr"
        },
        {
          "output_type": "stream",
          "text": [
            "\n",
            "Test set: Average loss: 0.0250, Test Accuracy: 9927/10000 (99.27%)\n",
            "\n",
            "Approach: Loss, BN =  L1 BN epoch = 7\n"
          ],
          "name": "stdout"
        },
        {
          "output_type": "stream",
          "text": [
            "loss=0.05497833713889122 batch_id=468 Train Accuracy=98.49: 100%|██████████| 469/469 [00:14<00:00, 31.63it/s]\n",
            "  0%|          | 0/469 [00:00<?, ?it/s]"
          ],
          "name": "stderr"
        },
        {
          "output_type": "stream",
          "text": [
            "\n",
            "Test set: Average loss: 0.0187, Test Accuracy: 9934/10000 (99.34%)\n",
            "\n",
            "Approach: Loss, BN =  L1 BN epoch = 8\n"
          ],
          "name": "stdout"
        },
        {
          "output_type": "stream",
          "text": [
            "loss=0.043428175151348114 batch_id=468 Train Accuracy=98.69: 100%|██████████| 469/469 [00:14<00:00, 31.66it/s]\n",
            "  0%|          | 0/469 [00:00<?, ?it/s]"
          ],
          "name": "stderr"
        },
        {
          "output_type": "stream",
          "text": [
            "\n",
            "Test set: Average loss: 0.0177, Test Accuracy: 9940/10000 (99.40%)\n",
            "\n",
            "Approach: Loss, BN =  L1 BN epoch = 9\n"
          ],
          "name": "stdout"
        },
        {
          "output_type": "stream",
          "text": [
            "loss=0.08491208404302597 batch_id=468 Train Accuracy=98.67: 100%|██████████| 469/469 [00:14<00:00, 31.75it/s]\n",
            "  0%|          | 0/469 [00:00<?, ?it/s]"
          ],
          "name": "stderr"
        },
        {
          "output_type": "stream",
          "text": [
            "\n",
            "Test set: Average loss: 0.0173, Test Accuracy: 9935/10000 (99.35%)\n",
            "\n",
            "Approach: Loss, BN =  L1 BN epoch = 10\n"
          ],
          "name": "stdout"
        },
        {
          "output_type": "stream",
          "text": [
            "loss=0.038165945559740067 batch_id=468 Train Accuracy=98.68: 100%|██████████| 469/469 [00:14<00:00, 32.11it/s]\n",
            "  0%|          | 0/469 [00:00<?, ?it/s]"
          ],
          "name": "stderr"
        },
        {
          "output_type": "stream",
          "text": [
            "\n",
            "Test set: Average loss: 0.0173, Test Accuracy: 9936/10000 (99.36%)\n",
            "\n",
            "Approach: Loss, BN =  L1 BN epoch = 11\n"
          ],
          "name": "stdout"
        },
        {
          "output_type": "stream",
          "text": [
            "loss=0.028179127722978592 batch_id=468 Train Accuracy=98.76: 100%|██████████| 469/469 [00:14<00:00, 31.81it/s]\n",
            "  0%|          | 0/469 [00:00<?, ?it/s]"
          ],
          "name": "stderr"
        },
        {
          "output_type": "stream",
          "text": [
            "\n",
            "Test set: Average loss: 0.0173, Test Accuracy: 9939/10000 (99.39%)\n",
            "\n",
            "Approach: Loss, BN =  L1 BN epoch = 12\n"
          ],
          "name": "stdout"
        },
        {
          "output_type": "stream",
          "text": [
            "loss=0.02542097121477127 batch_id=468 Train Accuracy=98.73: 100%|██████████| 469/469 [00:15<00:00, 31.13it/s]\n",
            "  0%|          | 0/469 [00:00<?, ?it/s]"
          ],
          "name": "stderr"
        },
        {
          "output_type": "stream",
          "text": [
            "\n",
            "Test set: Average loss: 0.0173, Test Accuracy: 9939/10000 (99.39%)\n",
            "\n",
            "Approach: Loss, BN =  L1 BN epoch = 13\n"
          ],
          "name": "stdout"
        },
        {
          "output_type": "stream",
          "text": [
            "loss=0.02936451882123947 batch_id=468 Train Accuracy=98.65: 100%|██████████| 469/469 [00:15<00:00, 31.12it/s]\n",
            "  0%|          | 0/469 [00:00<?, ?it/s]"
          ],
          "name": "stderr"
        },
        {
          "output_type": "stream",
          "text": [
            "\n",
            "Test set: Average loss: 0.0171, Test Accuracy: 9938/10000 (99.38%)\n",
            "\n",
            "Approach: Loss, BN =  L1 BN epoch = 14\n"
          ],
          "name": "stdout"
        },
        {
          "output_type": "stream",
          "text": [
            "loss=0.03104674257338047 batch_id=468 Train Accuracy=98.78: 100%|██████████| 469/469 [00:14<00:00, 31.87it/s]\n",
            "  0%|          | 0/469 [00:00<?, ?it/s]"
          ],
          "name": "stderr"
        },
        {
          "output_type": "stream",
          "text": [
            "\n",
            "Test set: Average loss: 0.0169, Test Accuracy: 9940/10000 (99.40%)\n",
            "\n",
            "Approach: Loss, BN =  L1 BN epoch = 15\n"
          ],
          "name": "stdout"
        },
        {
          "output_type": "stream",
          "text": [
            "loss=0.12273377180099487 batch_id=468 Train Accuracy=98.78: 100%|██████████| 469/469 [00:14<00:00, 31.66it/s]\n",
            "  0%|          | 0/469 [00:00<?, ?it/s]"
          ],
          "name": "stderr"
        },
        {
          "output_type": "stream",
          "text": [
            "\n",
            "Test set: Average loss: 0.0169, Test Accuracy: 9938/10000 (99.38%)\n",
            "\n",
            "Approach: Loss, BN =  L1 BN epoch = 16\n"
          ],
          "name": "stdout"
        },
        {
          "output_type": "stream",
          "text": [
            "loss=0.09771868586540222 batch_id=468 Train Accuracy=98.74: 100%|██████████| 469/469 [00:14<00:00, 31.90it/s]\n",
            "  0%|          | 0/469 [00:00<?, ?it/s]"
          ],
          "name": "stderr"
        },
        {
          "output_type": "stream",
          "text": [
            "\n",
            "Test set: Average loss: 0.0169, Test Accuracy: 9940/10000 (99.40%)\n",
            "\n",
            "Approach: Loss, BN =  L1 BN epoch = 17\n"
          ],
          "name": "stdout"
        },
        {
          "output_type": "stream",
          "text": [
            "loss=0.05713941529393196 batch_id=468 Train Accuracy=98.83: 100%|██████████| 469/469 [00:14<00:00, 31.68it/s]\n",
            "  0%|          | 0/469 [00:00<?, ?it/s]"
          ],
          "name": "stderr"
        },
        {
          "output_type": "stream",
          "text": [
            "\n",
            "Test set: Average loss: 0.0168, Test Accuracy: 9941/10000 (99.41%)\n",
            "\n",
            "Approach: Loss, BN =  L1 BN epoch = 18\n"
          ],
          "name": "stdout"
        },
        {
          "output_type": "stream",
          "text": [
            "loss=0.07470354437828064 batch_id=468 Train Accuracy=98.78: 100%|██████████| 469/469 [00:14<00:00, 31.31it/s]\n",
            "  0%|          | 0/469 [00:00<?, ?it/s]"
          ],
          "name": "stderr"
        },
        {
          "output_type": "stream",
          "text": [
            "\n",
            "Test set: Average loss: 0.0166, Test Accuracy: 9943/10000 (99.43%)\n",
            "\n",
            "Approach: Loss, BN =  L1 BN epoch = 19\n"
          ],
          "name": "stdout"
        },
        {
          "output_type": "stream",
          "text": [
            "loss=0.04009656608104706 batch_id=468 Train Accuracy=98.75: 100%|██████████| 469/469 [00:14<00:00, 31.44it/s]\n",
            "  0%|          | 0/469 [00:00<?, ?it/s]"
          ],
          "name": "stderr"
        },
        {
          "output_type": "stream",
          "text": [
            "\n",
            "Test set: Average loss: 0.0166, Test Accuracy: 9943/10000 (99.43%)\n",
            "\n",
            "Approach: Loss, BN =  L1 BN epoch = 20\n"
          ],
          "name": "stdout"
        },
        {
          "output_type": "stream",
          "text": [
            "loss=0.03657764196395874 batch_id=468 Train Accuracy=98.78: 100%|██████████| 469/469 [00:14<00:00, 31.36it/s]\n",
            "  0%|          | 0/469 [00:00<?, ?it/s]"
          ],
          "name": "stderr"
        },
        {
          "output_type": "stream",
          "text": [
            "\n",
            "Test set: Average loss: 0.0166, Test Accuracy: 9942/10000 (99.42%)\n",
            "\n",
            "Approach: Loss, BN =  L1 BN epoch = 21\n"
          ],
          "name": "stdout"
        },
        {
          "output_type": "stream",
          "text": [
            "loss=0.02977053076028824 batch_id=468 Train Accuracy=98.81: 100%|██████████| 469/469 [00:14<00:00, 31.54it/s]\n",
            "  0%|          | 0/469 [00:00<?, ?it/s]"
          ],
          "name": "stderr"
        },
        {
          "output_type": "stream",
          "text": [
            "\n",
            "Test set: Average loss: 0.0167, Test Accuracy: 9941/10000 (99.41%)\n",
            "\n",
            "Approach: Loss, BN =  L1 BN epoch = 22\n"
          ],
          "name": "stdout"
        },
        {
          "output_type": "stream",
          "text": [
            "loss=0.03609078377485275 batch_id=468 Train Accuracy=98.78: 100%|██████████| 469/469 [00:14<00:00, 31.60it/s]\n",
            "  0%|          | 0/469 [00:00<?, ?it/s]"
          ],
          "name": "stderr"
        },
        {
          "output_type": "stream",
          "text": [
            "\n",
            "Test set: Average loss: 0.0166, Test Accuracy: 9942/10000 (99.42%)\n",
            "\n",
            "Approach: Loss, BN =  L1 BN epoch = 23\n"
          ],
          "name": "stdout"
        },
        {
          "output_type": "stream",
          "text": [
            "loss=0.06529971957206726 batch_id=468 Train Accuracy=98.72: 100%|██████████| 469/469 [00:14<00:00, 31.85it/s]\n",
            "  0%|          | 0/469 [00:00<?, ?it/s]"
          ],
          "name": "stderr"
        },
        {
          "output_type": "stream",
          "text": [
            "\n",
            "Test set: Average loss: 0.0166, Test Accuracy: 9943/10000 (99.43%)\n",
            "\n",
            "Approach: Loss, BN =  L1 BN epoch = 24\n"
          ],
          "name": "stdout"
        },
        {
          "output_type": "stream",
          "text": [
            "loss=0.03910171985626221 batch_id=468 Train Accuracy=98.78: 100%|██████████| 469/469 [00:14<00:00, 31.82it/s]\n",
            "  0%|          | 0/469 [00:00<?, ?it/s]"
          ],
          "name": "stderr"
        },
        {
          "output_type": "stream",
          "text": [
            "\n",
            "Test set: Average loss: 0.0165, Test Accuracy: 9943/10000 (99.43%)\n",
            "\n",
            "Approach: Loss, BN =  L1 BN epoch = 25\n"
          ],
          "name": "stdout"
        },
        {
          "output_type": "stream",
          "text": [
            "loss=0.02929689735174179 batch_id=468 Train Accuracy=98.78: 100%|██████████| 469/469 [00:14<00:00, 32.00it/s]\n",
            "  0%|          | 0/469 [00:00<?, ?it/s]"
          ],
          "name": "stderr"
        },
        {
          "output_type": "stream",
          "text": [
            "\n",
            "Test set: Average loss: 0.0166, Test Accuracy: 9942/10000 (99.42%)\n",
            "\n",
            "Approach: Loss, BN =  L2 BN epoch = 1\n"
          ],
          "name": "stdout"
        },
        {
          "output_type": "stream",
          "text": [
            "loss=0.07690749317407608 batch_id=468 Train Accuracy=90.65: 100%|██████████| 469/469 [00:13<00:00, 34.01it/s]\n",
            "  0%|          | 0/469 [00:00<?, ?it/s]"
          ],
          "name": "stderr"
        },
        {
          "output_type": "stream",
          "text": [
            "\n",
            "Test set: Average loss: 0.0579, Test Accuracy: 9815/10000 (98.15%)\n",
            "\n",
            "Approach: Loss, BN =  L2 BN epoch = 2\n"
          ],
          "name": "stdout"
        },
        {
          "output_type": "stream",
          "text": [
            "loss=0.10111075639724731 batch_id=468 Train Accuracy=96.97: 100%|██████████| 469/469 [00:13<00:00, 34.24it/s]\n",
            "  0%|          | 0/469 [00:00<?, ?it/s]"
          ],
          "name": "stderr"
        },
        {
          "output_type": "stream",
          "text": [
            "\n",
            "Test set: Average loss: 0.0441, Test Accuracy: 9867/10000 (98.67%)\n",
            "\n",
            "Approach: Loss, BN =  L2 BN epoch = 3\n"
          ],
          "name": "stdout"
        },
        {
          "output_type": "stream",
          "text": [
            "loss=0.03781940042972565 batch_id=468 Train Accuracy=97.49: 100%|██████████| 469/469 [00:13<00:00, 33.75it/s]\n",
            "  0%|          | 0/469 [00:00<?, ?it/s]"
          ],
          "name": "stderr"
        },
        {
          "output_type": "stream",
          "text": [
            "\n",
            "Test set: Average loss: 0.0343, Test Accuracy: 9883/10000 (98.83%)\n",
            "\n",
            "Approach: Loss, BN =  L2 BN epoch = 4\n"
          ],
          "name": "stdout"
        },
        {
          "output_type": "stream",
          "text": [
            "loss=0.06322764605283737 batch_id=468 Train Accuracy=97.86: 100%|██████████| 469/469 [00:13<00:00, 33.69it/s]\n",
            "  0%|          | 0/469 [00:00<?, ?it/s]"
          ],
          "name": "stderr"
        },
        {
          "output_type": "stream",
          "text": [
            "\n",
            "Test set: Average loss: 0.0283, Test Accuracy: 9895/10000 (98.95%)\n",
            "\n",
            "Approach: Loss, BN =  L2 BN epoch = 5\n"
          ],
          "name": "stdout"
        },
        {
          "output_type": "stream",
          "text": [
            "loss=0.006969341542571783 batch_id=468 Train Accuracy=98.03: 100%|██████████| 469/469 [00:13<00:00, 33.67it/s]\n",
            "  0%|          | 0/469 [00:00<?, ?it/s]"
          ],
          "name": "stderr"
        },
        {
          "output_type": "stream",
          "text": [
            "\n",
            "Test set: Average loss: 0.0289, Test Accuracy: 9911/10000 (99.11%)\n",
            "\n",
            "Approach: Loss, BN =  L2 BN epoch = 6\n"
          ],
          "name": "stdout"
        },
        {
          "output_type": "stream",
          "text": [
            "loss=0.05603799223899841 batch_id=468 Train Accuracy=98.04: 100%|██████████| 469/469 [00:14<00:00, 33.01it/s]\n",
            "  0%|          | 0/469 [00:00<?, ?it/s]"
          ],
          "name": "stderr"
        },
        {
          "output_type": "stream",
          "text": [
            "\n",
            "Test set: Average loss: 0.0286, Test Accuracy: 9912/10000 (99.12%)\n",
            "\n",
            "Approach: Loss, BN =  L2 BN epoch = 7\n"
          ],
          "name": "stdout"
        },
        {
          "output_type": "stream",
          "text": [
            "loss=0.04332553222775459 batch_id=468 Train Accuracy=98.43: 100%|██████████| 469/469 [00:13<00:00, 33.94it/s]\n",
            "  0%|          | 0/469 [00:00<?, ?it/s]"
          ],
          "name": "stderr"
        },
        {
          "output_type": "stream",
          "text": [
            "\n",
            "Test set: Average loss: 0.0211, Test Accuracy: 9930/10000 (99.30%)\n",
            "\n",
            "Approach: Loss, BN =  L2 BN epoch = 8\n"
          ],
          "name": "stdout"
        },
        {
          "output_type": "stream",
          "text": [
            "loss=0.057186584919691086 batch_id=468 Train Accuracy=98.56: 100%|██████████| 469/469 [00:13<00:00, 34.03it/s]\n",
            "  0%|          | 0/469 [00:00<?, ?it/s]"
          ],
          "name": "stderr"
        },
        {
          "output_type": "stream",
          "text": [
            "\n",
            "Test set: Average loss: 0.0199, Test Accuracy: 9929/10000 (99.29%)\n",
            "\n",
            "Approach: Loss, BN =  L2 BN epoch = 9\n"
          ],
          "name": "stdout"
        },
        {
          "output_type": "stream",
          "text": [
            "loss=0.07880591601133347 batch_id=468 Train Accuracy=98.67: 100%|██████████| 469/469 [00:13<00:00, 34.15it/s]\n",
            "  0%|          | 0/469 [00:00<?, ?it/s]"
          ],
          "name": "stderr"
        },
        {
          "output_type": "stream",
          "text": [
            "\n",
            "Test set: Average loss: 0.0197, Test Accuracy: 9931/10000 (99.31%)\n",
            "\n",
            "Approach: Loss, BN =  L2 BN epoch = 10\n"
          ],
          "name": "stdout"
        },
        {
          "output_type": "stream",
          "text": [
            "loss=0.021921329200267792 batch_id=468 Train Accuracy=98.61: 100%|██████████| 469/469 [00:13<00:00, 34.15it/s]\n",
            "  0%|          | 0/469 [00:00<?, ?it/s]"
          ],
          "name": "stderr"
        },
        {
          "output_type": "stream",
          "text": [
            "\n",
            "Test set: Average loss: 0.0195, Test Accuracy: 9932/10000 (99.32%)\n",
            "\n",
            "Approach: Loss, BN =  L2 BN epoch = 11\n"
          ],
          "name": "stdout"
        },
        {
          "output_type": "stream",
          "text": [
            "loss=0.023223362863063812 batch_id=468 Train Accuracy=98.70: 100%|██████████| 469/469 [00:13<00:00, 34.30it/s]\n",
            "  0%|          | 0/469 [00:00<?, ?it/s]"
          ],
          "name": "stderr"
        },
        {
          "output_type": "stream",
          "text": [
            "\n",
            "Test set: Average loss: 0.0196, Test Accuracy: 9932/10000 (99.32%)\n",
            "\n",
            "Approach: Loss, BN =  L2 BN epoch = 12\n"
          ],
          "name": "stdout"
        },
        {
          "output_type": "stream",
          "text": [
            "loss=0.07289233058691025 batch_id=468 Train Accuracy=98.70: 100%|██████████| 469/469 [00:13<00:00, 34.05it/s]\n",
            "  0%|          | 0/469 [00:00<?, ?it/s]"
          ],
          "name": "stderr"
        },
        {
          "output_type": "stream",
          "text": [
            "\n",
            "Test set: Average loss: 0.0190, Test Accuracy: 9936/10000 (99.36%)\n",
            "\n",
            "Approach: Loss, BN =  L2 BN epoch = 13\n"
          ],
          "name": "stdout"
        },
        {
          "output_type": "stream",
          "text": [
            "loss=0.028228191658854485 batch_id=468 Train Accuracy=98.74: 100%|██████████| 469/469 [00:14<00:00, 33.19it/s]\n",
            "  0%|          | 0/469 [00:00<?, ?it/s]"
          ],
          "name": "stderr"
        },
        {
          "output_type": "stream",
          "text": [
            "\n",
            "Test set: Average loss: 0.0189, Test Accuracy: 9937/10000 (99.37%)\n",
            "\n",
            "Approach: Loss, BN =  L2 BN epoch = 14\n"
          ],
          "name": "stdout"
        },
        {
          "output_type": "stream",
          "text": [
            "loss=0.04110744968056679 batch_id=468 Train Accuracy=98.68: 100%|██████████| 469/469 [00:13<00:00, 34.10it/s]\n",
            "  0%|          | 0/469 [00:00<?, ?it/s]"
          ],
          "name": "stderr"
        },
        {
          "output_type": "stream",
          "text": [
            "\n",
            "Test set: Average loss: 0.0190, Test Accuracy: 9936/10000 (99.36%)\n",
            "\n",
            "Approach: Loss, BN =  L2 BN epoch = 15\n"
          ],
          "name": "stdout"
        },
        {
          "output_type": "stream",
          "text": [
            "loss=0.029749488458037376 batch_id=468 Train Accuracy=98.79: 100%|██████████| 469/469 [00:13<00:00, 33.90it/s]\n",
            "  0%|          | 0/469 [00:00<?, ?it/s]"
          ],
          "name": "stderr"
        },
        {
          "output_type": "stream",
          "text": [
            "\n",
            "Test set: Average loss: 0.0188, Test Accuracy: 9936/10000 (99.36%)\n",
            "\n",
            "Approach: Loss, BN =  L2 BN epoch = 16\n"
          ],
          "name": "stdout"
        },
        {
          "output_type": "stream",
          "text": [
            "loss=0.024945296347141266 batch_id=468 Train Accuracy=98.78: 100%|██████████| 469/469 [00:13<00:00, 34.01it/s]\n",
            "  0%|          | 0/469 [00:00<?, ?it/s]"
          ],
          "name": "stderr"
        },
        {
          "output_type": "stream",
          "text": [
            "\n",
            "Test set: Average loss: 0.0186, Test Accuracy: 9931/10000 (99.31%)\n",
            "\n",
            "Approach: Loss, BN =  L2 BN epoch = 17\n"
          ],
          "name": "stdout"
        },
        {
          "output_type": "stream",
          "text": [
            "loss=0.021168401464819908 batch_id=468 Train Accuracy=98.70: 100%|██████████| 469/469 [00:13<00:00, 34.14it/s]\n",
            "  0%|          | 0/469 [00:00<?, ?it/s]"
          ],
          "name": "stderr"
        },
        {
          "output_type": "stream",
          "text": [
            "\n",
            "Test set: Average loss: 0.0186, Test Accuracy: 9937/10000 (99.37%)\n",
            "\n",
            "Approach: Loss, BN =  L2 BN epoch = 18\n"
          ],
          "name": "stdout"
        },
        {
          "output_type": "stream",
          "text": [
            "loss=0.10348013043403625 batch_id=468 Train Accuracy=98.75: 100%|██████████| 469/469 [00:14<00:00, 33.48it/s]\n",
            "  0%|          | 0/469 [00:00<?, ?it/s]"
          ],
          "name": "stderr"
        },
        {
          "output_type": "stream",
          "text": [
            "\n",
            "Test set: Average loss: 0.0188, Test Accuracy: 9936/10000 (99.36%)\n",
            "\n",
            "Approach: Loss, BN =  L2 BN epoch = 19\n"
          ],
          "name": "stdout"
        },
        {
          "output_type": "stream",
          "text": [
            "loss=0.06674559414386749 batch_id=468 Train Accuracy=98.66: 100%|██████████| 469/469 [00:14<00:00, 32.89it/s]\n",
            "  0%|          | 0/469 [00:00<?, ?it/s]"
          ],
          "name": "stderr"
        },
        {
          "output_type": "stream",
          "text": [
            "\n",
            "Test set: Average loss: 0.0186, Test Accuracy: 9934/10000 (99.34%)\n",
            "\n",
            "Approach: Loss, BN =  L2 BN epoch = 20\n"
          ],
          "name": "stdout"
        },
        {
          "output_type": "stream",
          "text": [
            "loss=0.03798484802246094 batch_id=468 Train Accuracy=98.76: 100%|██████████| 469/469 [00:14<00:00, 33.47it/s]\n",
            "  0%|          | 0/469 [00:00<?, ?it/s]"
          ],
          "name": "stderr"
        },
        {
          "output_type": "stream",
          "text": [
            "\n",
            "Test set: Average loss: 0.0187, Test Accuracy: 9937/10000 (99.37%)\n",
            "\n",
            "Approach: Loss, BN =  L2 BN epoch = 21\n"
          ],
          "name": "stdout"
        },
        {
          "output_type": "stream",
          "text": [
            "loss=0.022814543917775154 batch_id=468 Train Accuracy=98.73: 100%|██████████| 469/469 [00:13<00:00, 33.57it/s]\n",
            "  0%|          | 0/469 [00:00<?, ?it/s]"
          ],
          "name": "stderr"
        },
        {
          "output_type": "stream",
          "text": [
            "\n",
            "Test set: Average loss: 0.0186, Test Accuracy: 9938/10000 (99.38%)\n",
            "\n",
            "Approach: Loss, BN =  L2 BN epoch = 22\n"
          ],
          "name": "stdout"
        },
        {
          "output_type": "stream",
          "text": [
            "loss=0.06201263144612312 batch_id=468 Train Accuracy=98.79: 100%|██████████| 469/469 [00:13<00:00, 33.51it/s]\n",
            "  0%|          | 0/469 [00:00<?, ?it/s]"
          ],
          "name": "stderr"
        },
        {
          "output_type": "stream",
          "text": [
            "\n",
            "Test set: Average loss: 0.0187, Test Accuracy: 9936/10000 (99.36%)\n",
            "\n",
            "Approach: Loss, BN =  L2 BN epoch = 23\n"
          ],
          "name": "stdout"
        },
        {
          "output_type": "stream",
          "text": [
            "loss=0.027553917840123177 batch_id=468 Train Accuracy=98.79: 100%|██████████| 469/469 [00:14<00:00, 33.24it/s]\n",
            "  0%|          | 0/469 [00:00<?, ?it/s]"
          ],
          "name": "stderr"
        },
        {
          "output_type": "stream",
          "text": [
            "\n",
            "Test set: Average loss: 0.0186, Test Accuracy: 9938/10000 (99.38%)\n",
            "\n",
            "Approach: Loss, BN =  L2 BN epoch = 24\n"
          ],
          "name": "stdout"
        },
        {
          "output_type": "stream",
          "text": [
            "loss=0.0113364914432168 batch_id=468 Train Accuracy=98.70: 100%|██████████| 469/469 [00:13<00:00, 33.66it/s]\n",
            "  0%|          | 0/469 [00:00<?, ?it/s]"
          ],
          "name": "stderr"
        },
        {
          "output_type": "stream",
          "text": [
            "\n",
            "Test set: Average loss: 0.0188, Test Accuracy: 9937/10000 (99.37%)\n",
            "\n",
            "Approach: Loss, BN =  L2 BN epoch = 25\n"
          ],
          "name": "stdout"
        },
        {
          "output_type": "stream",
          "text": [
            "loss=0.09688317030668259 batch_id=468 Train Accuracy=98.77: 100%|██████████| 469/469 [00:13<00:00, 33.62it/s]\n",
            "  0%|          | 0/469 [00:00<?, ?it/s]"
          ],
          "name": "stderr"
        },
        {
          "output_type": "stream",
          "text": [
            "\n",
            "Test set: Average loss: 0.0186, Test Accuracy: 9936/10000 (99.36%)\n",
            "\n",
            "Approach: Loss, BN =  L1L2 BN epoch = 1\n"
          ],
          "name": "stdout"
        },
        {
          "output_type": "stream",
          "text": [
            "loss=0.04865102097392082 batch_id=468 Train Accuracy=91.72: 100%|██████████| 469/469 [00:15<00:00, 30.36it/s]\n",
            "  0%|          | 0/469 [00:00<?, ?it/s]"
          ],
          "name": "stderr"
        },
        {
          "output_type": "stream",
          "text": [
            "\n",
            "Test set: Average loss: 0.0427, Test Accuracy: 9859/10000 (98.59%)\n",
            "\n",
            "Approach: Loss, BN =  L1L2 BN epoch = 2\n"
          ],
          "name": "stdout"
        },
        {
          "output_type": "stream",
          "text": [
            "loss=0.10092423111200333 batch_id=468 Train Accuracy=97.14: 100%|██████████| 469/469 [00:15<00:00, 31.22it/s]\n",
            "  0%|          | 0/469 [00:00<?, ?it/s]"
          ],
          "name": "stderr"
        },
        {
          "output_type": "stream",
          "text": [
            "\n",
            "Test set: Average loss: 0.0317, Test Accuracy: 9895/10000 (98.95%)\n",
            "\n",
            "Approach: Loss, BN =  L1L2 BN epoch = 3\n"
          ],
          "name": "stdout"
        },
        {
          "output_type": "stream",
          "text": [
            "loss=0.1020260602235794 batch_id=468 Train Accuracy=97.57: 100%|██████████| 469/469 [00:15<00:00, 30.63it/s]\n",
            "  0%|          | 0/469 [00:00<?, ?it/s]"
          ],
          "name": "stderr"
        },
        {
          "output_type": "stream",
          "text": [
            "\n",
            "Test set: Average loss: 0.0305, Test Accuracy: 9909/10000 (99.09%)\n",
            "\n",
            "Approach: Loss, BN =  L1L2 BN epoch = 4\n"
          ],
          "name": "stdout"
        },
        {
          "output_type": "stream",
          "text": [
            "loss=0.049195487052202225 batch_id=468 Train Accuracy=97.84: 100%|██████████| 469/469 [00:15<00:00, 29.82it/s]\n",
            "  0%|          | 0/469 [00:00<?, ?it/s]"
          ],
          "name": "stderr"
        },
        {
          "output_type": "stream",
          "text": [
            "\n",
            "Test set: Average loss: 0.0229, Test Accuracy: 9931/10000 (99.31%)\n",
            "\n",
            "Approach: Loss, BN =  L1L2 BN epoch = 5\n"
          ],
          "name": "stdout"
        },
        {
          "output_type": "stream",
          "text": [
            "loss=0.07021890580654144 batch_id=468 Train Accuracy=97.98: 100%|██████████| 469/469 [00:16<00:00, 29.06it/s]\n",
            "  0%|          | 0/469 [00:00<?, ?it/s]"
          ],
          "name": "stderr"
        },
        {
          "output_type": "stream",
          "text": [
            "\n",
            "Test set: Average loss: 0.0265, Test Accuracy: 9910/10000 (99.10%)\n",
            "\n",
            "Approach: Loss, BN =  L1L2 BN epoch = 6\n"
          ],
          "name": "stdout"
        },
        {
          "output_type": "stream",
          "text": [
            "loss=0.17392031848430634 batch_id=468 Train Accuracy=98.03: 100%|██████████| 469/469 [00:16<00:00, 28.43it/s]\n",
            "  0%|          | 0/469 [00:00<?, ?it/s]"
          ],
          "name": "stderr"
        },
        {
          "output_type": "stream",
          "text": [
            "\n",
            "Test set: Average loss: 0.0207, Test Accuracy: 9931/10000 (99.31%)\n",
            "\n",
            "Approach: Loss, BN =  L1L2 BN epoch = 7\n"
          ],
          "name": "stdout"
        },
        {
          "output_type": "stream",
          "text": [
            "loss=0.047644730657339096 batch_id=468 Train Accuracy=98.43: 100%|██████████| 469/469 [00:16<00:00, 28.44it/s]\n",
            "  0%|          | 0/469 [00:00<?, ?it/s]"
          ],
          "name": "stderr"
        },
        {
          "output_type": "stream",
          "text": [
            "\n",
            "Test set: Average loss: 0.0168, Test Accuracy: 9942/10000 (99.42%)\n",
            "\n",
            "Approach: Loss, BN =  L1L2 BN epoch = 8\n"
          ],
          "name": "stdout"
        },
        {
          "output_type": "stream",
          "text": [
            "loss=0.06526688486337662 batch_id=468 Train Accuracy=98.62: 100%|██████████| 469/469 [00:15<00:00, 29.80it/s]\n",
            "  0%|          | 0/469 [00:00<?, ?it/s]"
          ],
          "name": "stderr"
        },
        {
          "output_type": "stream",
          "text": [
            "\n",
            "Test set: Average loss: 0.0167, Test Accuracy: 9945/10000 (99.45%)\n",
            "\n",
            "Approach: Loss, BN =  L1L2 BN epoch = 9\n"
          ],
          "name": "stdout"
        },
        {
          "output_type": "stream",
          "text": [
            "loss=0.02653328701853752 batch_id=468 Train Accuracy=98.67: 100%|██████████| 469/469 [00:15<00:00, 29.89it/s]\n",
            "  0%|          | 0/469 [00:00<?, ?it/s]"
          ],
          "name": "stderr"
        },
        {
          "output_type": "stream",
          "text": [
            "\n",
            "Test set: Average loss: 0.0167, Test Accuracy: 9945/10000 (99.45%)\n",
            "\n",
            "Approach: Loss, BN =  L1L2 BN epoch = 10\n"
          ],
          "name": "stdout"
        },
        {
          "output_type": "stream",
          "text": [
            "loss=0.03080168180167675 batch_id=468 Train Accuracy=98.60: 100%|██████████| 469/469 [00:15<00:00, 29.70it/s]\n",
            "  0%|          | 0/469 [00:00<?, ?it/s]"
          ],
          "name": "stderr"
        },
        {
          "output_type": "stream",
          "text": [
            "\n",
            "Test set: Average loss: 0.0165, Test Accuracy: 9945/10000 (99.45%)\n",
            "\n",
            "Approach: Loss, BN =  L1L2 BN epoch = 11\n"
          ],
          "name": "stdout"
        },
        {
          "output_type": "stream",
          "text": [
            "loss=0.06272891163825989 batch_id=468 Train Accuracy=98.69: 100%|██████████| 469/469 [00:15<00:00, 29.57it/s]\n",
            "  0%|          | 0/469 [00:00<?, ?it/s]"
          ],
          "name": "stderr"
        },
        {
          "output_type": "stream",
          "text": [
            "\n",
            "Test set: Average loss: 0.0169, Test Accuracy: 9942/10000 (99.42%)\n",
            "\n",
            "Approach: Loss, BN =  L1L2 BN epoch = 12\n"
          ],
          "name": "stdout"
        },
        {
          "output_type": "stream",
          "text": [
            "loss=0.09510196000337601 batch_id=468 Train Accuracy=98.71: 100%|██████████| 469/469 [00:15<00:00, 29.33it/s]\n",
            "  0%|          | 0/469 [00:00<?, ?it/s]"
          ],
          "name": "stderr"
        },
        {
          "output_type": "stream",
          "text": [
            "\n",
            "Test set: Average loss: 0.0165, Test Accuracy: 9943/10000 (99.43%)\n",
            "\n",
            "Approach: Loss, BN =  L1L2 BN epoch = 13\n"
          ],
          "name": "stdout"
        },
        {
          "output_type": "stream",
          "text": [
            "loss=0.04573488235473633 batch_id=468 Train Accuracy=98.77: 100%|██████████| 469/469 [00:15<00:00, 29.86it/s]\n",
            "  0%|          | 0/469 [00:00<?, ?it/s]"
          ],
          "name": "stderr"
        },
        {
          "output_type": "stream",
          "text": [
            "\n",
            "Test set: Average loss: 0.0163, Test Accuracy: 9942/10000 (99.42%)\n",
            "\n",
            "Approach: Loss, BN =  L1L2 BN epoch = 14\n"
          ],
          "name": "stdout"
        },
        {
          "output_type": "stream",
          "text": [
            "loss=0.026465557515621185 batch_id=468 Train Accuracy=98.74: 100%|██████████| 469/469 [00:16<00:00, 28.50it/s]\n",
            "  0%|          | 0/469 [00:00<?, ?it/s]"
          ],
          "name": "stderr"
        },
        {
          "output_type": "stream",
          "text": [
            "\n",
            "Test set: Average loss: 0.0161, Test Accuracy: 9941/10000 (99.41%)\n",
            "\n",
            "Approach: Loss, BN =  L1L2 BN epoch = 15\n"
          ],
          "name": "stdout"
        },
        {
          "output_type": "stream",
          "text": [
            "loss=0.023735210299491882 batch_id=468 Train Accuracy=98.78: 100%|██████████| 469/469 [00:15<00:00, 30.01it/s]\n",
            "  0%|          | 0/469 [00:00<?, ?it/s]"
          ],
          "name": "stderr"
        },
        {
          "output_type": "stream",
          "text": [
            "\n",
            "Test set: Average loss: 0.0161, Test Accuracy: 9943/10000 (99.43%)\n",
            "\n",
            "Approach: Loss, BN =  L1L2 BN epoch = 16\n"
          ],
          "name": "stdout"
        },
        {
          "output_type": "stream",
          "text": [
            "loss=0.059187598526477814 batch_id=468 Train Accuracy=98.80: 100%|██████████| 469/469 [00:15<00:00, 30.04it/s]\n",
            "  0%|          | 0/469 [00:00<?, ?it/s]"
          ],
          "name": "stderr"
        },
        {
          "output_type": "stream",
          "text": [
            "\n",
            "Test set: Average loss: 0.0161, Test Accuracy: 9943/10000 (99.43%)\n",
            "\n",
            "Approach: Loss, BN =  L1L2 BN epoch = 17\n"
          ],
          "name": "stdout"
        },
        {
          "output_type": "stream",
          "text": [
            "loss=0.029940126463770866 batch_id=468 Train Accuracy=98.76: 100%|██████████| 469/469 [00:15<00:00, 30.04it/s]\n",
            "  0%|          | 0/469 [00:00<?, ?it/s]"
          ],
          "name": "stderr"
        },
        {
          "output_type": "stream",
          "text": [
            "\n",
            "Test set: Average loss: 0.0159, Test Accuracy: 9945/10000 (99.45%)\n",
            "\n",
            "Approach: Loss, BN =  L1L2 BN epoch = 18\n"
          ],
          "name": "stdout"
        },
        {
          "output_type": "stream",
          "text": [
            "loss=0.03404603153467178 batch_id=468 Train Accuracy=98.76: 100%|██████████| 469/469 [00:15<00:00, 29.63it/s]\n",
            "  0%|          | 0/469 [00:00<?, ?it/s]"
          ],
          "name": "stderr"
        },
        {
          "output_type": "stream",
          "text": [
            "\n",
            "Test set: Average loss: 0.0159, Test Accuracy: 9941/10000 (99.41%)\n",
            "\n",
            "Approach: Loss, BN =  L1L2 BN epoch = 19\n"
          ],
          "name": "stdout"
        },
        {
          "output_type": "stream",
          "text": [
            "loss=0.04062527418136597 batch_id=468 Train Accuracy=98.81: 100%|██████████| 469/469 [00:15<00:00, 30.38it/s]\n",
            "  0%|          | 0/469 [00:00<?, ?it/s]"
          ],
          "name": "stderr"
        },
        {
          "output_type": "stream",
          "text": [
            "\n",
            "Test set: Average loss: 0.0160, Test Accuracy: 9943/10000 (99.43%)\n",
            "\n",
            "Approach: Loss, BN =  L1L2 BN epoch = 20\n"
          ],
          "name": "stdout"
        },
        {
          "output_type": "stream",
          "text": [
            "loss=0.08584210276603699 batch_id=468 Train Accuracy=98.69: 100%|██████████| 469/469 [00:15<00:00, 30.26it/s]\n",
            "  0%|          | 0/469 [00:00<?, ?it/s]"
          ],
          "name": "stderr"
        },
        {
          "output_type": "stream",
          "text": [
            "\n",
            "Test set: Average loss: 0.0161, Test Accuracy: 9943/10000 (99.43%)\n",
            "\n",
            "Approach: Loss, BN =  L1L2 BN epoch = 21\n"
          ],
          "name": "stdout"
        },
        {
          "output_type": "stream",
          "text": [
            "loss=0.11164306104183197 batch_id=468 Train Accuracy=98.75: 100%|██████████| 469/469 [00:15<00:00, 30.22it/s]\n",
            "  0%|          | 0/469 [00:00<?, ?it/s]"
          ],
          "name": "stderr"
        },
        {
          "output_type": "stream",
          "text": [
            "\n",
            "Test set: Average loss: 0.0162, Test Accuracy: 9941/10000 (99.41%)\n",
            "\n",
            "Approach: Loss, BN =  L1L2 BN epoch = 22\n"
          ],
          "name": "stdout"
        },
        {
          "output_type": "stream",
          "text": [
            "loss=0.07754459232091904 batch_id=468 Train Accuracy=98.79: 100%|██████████| 469/469 [00:15<00:00, 30.56it/s]\n",
            "  0%|          | 0/469 [00:00<?, ?it/s]"
          ],
          "name": "stderr"
        },
        {
          "output_type": "stream",
          "text": [
            "\n",
            "Test set: Average loss: 0.0160, Test Accuracy: 9944/10000 (99.44%)\n",
            "\n",
            "Approach: Loss, BN =  L1L2 BN epoch = 23\n"
          ],
          "name": "stdout"
        },
        {
          "output_type": "stream",
          "text": [
            "loss=0.041409194469451904 batch_id=468 Train Accuracy=98.78: 100%|██████████| 469/469 [00:15<00:00, 30.80it/s]\n",
            "  0%|          | 0/469 [00:00<?, ?it/s]"
          ],
          "name": "stderr"
        },
        {
          "output_type": "stream",
          "text": [
            "\n",
            "Test set: Average loss: 0.0160, Test Accuracy: 9942/10000 (99.42%)\n",
            "\n",
            "Approach: Loss, BN =  L1L2 BN epoch = 24\n"
          ],
          "name": "stdout"
        },
        {
          "output_type": "stream",
          "text": [
            "loss=0.08355729281902313 batch_id=468 Train Accuracy=98.76: 100%|██████████| 469/469 [00:15<00:00, 30.60it/s]\n",
            "  0%|          | 0/469 [00:00<?, ?it/s]"
          ],
          "name": "stderr"
        },
        {
          "output_type": "stream",
          "text": [
            "\n",
            "Test set: Average loss: 0.0160, Test Accuracy: 9940/10000 (99.40%)\n",
            "\n",
            "Approach: Loss, BN =  L1L2 BN epoch = 25\n"
          ],
          "name": "stdout"
        },
        {
          "output_type": "stream",
          "text": [
            "loss=0.07168102264404297 batch_id=468 Train Accuracy=98.77: 100%|██████████| 469/469 [00:15<00:00, 30.01it/s]\n",
            "  0%|          | 0/118 [00:00<?, ?it/s]"
          ],
          "name": "stderr"
        },
        {
          "output_type": "stream",
          "text": [
            "\n",
            "Test set: Average loss: 0.0159, Test Accuracy: 9942/10000 (99.42%)\n",
            "\n",
            "Approach: Loss, BN =  nll GBN epoch = 1\n"
          ],
          "name": "stdout"
        },
        {
          "output_type": "stream",
          "text": [
            "loss=0.2524660527706146 batch_id=117 Train Accuracy=79.53: 100%|██████████| 118/118 [00:11<00:00, 10.32it/s]\n",
            "  0%|          | 0/118 [00:00<?, ?it/s]"
          ],
          "name": "stderr"
        },
        {
          "output_type": "stream",
          "text": [
            "\n",
            "Test set: Average loss: 0.1096, Test Accuracy: 9712/10000 (97.12%)\n",
            "\n",
            "Approach: Loss, BN =  nll GBN epoch = 2\n"
          ],
          "name": "stdout"
        },
        {
          "output_type": "stream",
          "text": [
            "loss=0.0901539996266365 batch_id=117 Train Accuracy=95.44: 100%|██████████| 118/118 [00:11<00:00, 10.50it/s]\n",
            "  0%|          | 0/118 [00:00<?, ?it/s]"
          ],
          "name": "stderr"
        },
        {
          "output_type": "stream",
          "text": [
            "\n",
            "Test set: Average loss: 0.0632, Test Accuracy: 9829/10000 (98.29%)\n",
            "\n",
            "Approach: Loss, BN =  nll GBN epoch = 3\n"
          ],
          "name": "stdout"
        },
        {
          "output_type": "stream",
          "text": [
            "loss=0.14316122233867645 batch_id=117 Train Accuracy=96.62: 100%|██████████| 118/118 [00:11<00:00, 10.64it/s]\n",
            "  0%|          | 0/118 [00:00<?, ?it/s]"
          ],
          "name": "stderr"
        },
        {
          "output_type": "stream",
          "text": [
            "\n",
            "Test set: Average loss: 0.0507, Test Accuracy: 9856/10000 (98.56%)\n",
            "\n",
            "Approach: Loss, BN =  nll GBN epoch = 4\n"
          ],
          "name": "stdout"
        },
        {
          "output_type": "stream",
          "text": [
            "loss=0.11174138635396957 batch_id=117 Train Accuracy=97.03: 100%|██████████| 118/118 [00:11<00:00, 10.63it/s]\n",
            "  0%|          | 0/118 [00:00<?, ?it/s]"
          ],
          "name": "stderr"
        },
        {
          "output_type": "stream",
          "text": [
            "\n",
            "Test set: Average loss: 0.0420, Test Accuracy: 9875/10000 (98.75%)\n",
            "\n",
            "Approach: Loss, BN =  nll GBN epoch = 5\n"
          ],
          "name": "stdout"
        },
        {
          "output_type": "stream",
          "text": [
            "loss=0.07314560562372208 batch_id=117 Train Accuracy=97.38: 100%|██████████| 118/118 [00:11<00:00, 10.65it/s]\n",
            "  0%|          | 0/118 [00:00<?, ?it/s]"
          ],
          "name": "stderr"
        },
        {
          "output_type": "stream",
          "text": [
            "\n",
            "Test set: Average loss: 0.0367, Test Accuracy: 9894/10000 (98.94%)\n",
            "\n",
            "Approach: Loss, BN =  nll GBN epoch = 6\n"
          ],
          "name": "stdout"
        },
        {
          "output_type": "stream",
          "text": [
            "loss=0.04819164052605629 batch_id=117 Train Accuracy=97.59: 100%|██████████| 118/118 [00:11<00:00, 10.62it/s]\n",
            "  0%|          | 0/118 [00:00<?, ?it/s]"
          ],
          "name": "stderr"
        },
        {
          "output_type": "stream",
          "text": [
            "\n",
            "Test set: Average loss: 0.0373, Test Accuracy: 9893/10000 (98.93%)\n",
            "\n",
            "Approach: Loss, BN =  nll GBN epoch = 7\n"
          ],
          "name": "stdout"
        },
        {
          "output_type": "stream",
          "text": [
            "loss=0.04691389575600624 batch_id=117 Train Accuracy=98.02: 100%|██████████| 118/118 [00:11<00:00, 10.56it/s]\n",
            "  0%|          | 0/118 [00:00<?, ?it/s]"
          ],
          "name": "stderr"
        },
        {
          "output_type": "stream",
          "text": [
            "\n",
            "Test set: Average loss: 0.0291, Test Accuracy: 9921/10000 (99.21%)\n",
            "\n",
            "Approach: Loss, BN =  nll GBN epoch = 8\n"
          ],
          "name": "stdout"
        },
        {
          "output_type": "stream",
          "text": [
            "loss=0.10391915589570999 batch_id=117 Train Accuracy=98.05: 100%|██████████| 118/118 [00:11<00:00, 10.69it/s]\n",
            "  0%|          | 0/118 [00:00<?, ?it/s]"
          ],
          "name": "stderr"
        },
        {
          "output_type": "stream",
          "text": [
            "\n",
            "Test set: Average loss: 0.0282, Test Accuracy: 9924/10000 (99.24%)\n",
            "\n",
            "Approach: Loss, BN =  nll GBN epoch = 9\n"
          ],
          "name": "stdout"
        },
        {
          "output_type": "stream",
          "text": [
            "loss=0.03646950051188469 batch_id=117 Train Accuracy=98.14: 100%|██████████| 118/118 [00:11<00:00, 10.65it/s]\n",
            "  0%|          | 0/118 [00:00<?, ?it/s]"
          ],
          "name": "stderr"
        },
        {
          "output_type": "stream",
          "text": [
            "\n",
            "Test set: Average loss: 0.0274, Test Accuracy: 9920/10000 (99.20%)\n",
            "\n",
            "Approach: Loss, BN =  nll GBN epoch = 10\n"
          ],
          "name": "stdout"
        },
        {
          "output_type": "stream",
          "text": [
            "loss=0.0769939050078392 batch_id=117 Train Accuracy=98.19: 100%|██████████| 118/118 [00:10<00:00, 10.76it/s]\n",
            "  0%|          | 0/118 [00:00<?, ?it/s]"
          ],
          "name": "stderr"
        },
        {
          "output_type": "stream",
          "text": [
            "\n",
            "Test set: Average loss: 0.0277, Test Accuracy: 9920/10000 (99.20%)\n",
            "\n",
            "Approach: Loss, BN =  nll GBN epoch = 11\n"
          ],
          "name": "stdout"
        },
        {
          "output_type": "stream",
          "text": [
            "loss=0.09356725960969925 batch_id=117 Train Accuracy=98.19: 100%|██████████| 118/118 [00:11<00:00, 10.62it/s]\n",
            "  0%|          | 0/118 [00:00<?, ?it/s]"
          ],
          "name": "stderr"
        },
        {
          "output_type": "stream",
          "text": [
            "\n",
            "Test set: Average loss: 0.0279, Test Accuracy: 9918/10000 (99.18%)\n",
            "\n",
            "Approach: Loss, BN =  nll GBN epoch = 12\n"
          ],
          "name": "stdout"
        },
        {
          "output_type": "stream",
          "text": [
            "loss=0.04813344404101372 batch_id=117 Train Accuracy=98.12: 100%|██████████| 118/118 [00:10<00:00, 10.73it/s]\n",
            "  0%|          | 0/118 [00:00<?, ?it/s]"
          ],
          "name": "stderr"
        },
        {
          "output_type": "stream",
          "text": [
            "\n",
            "Test set: Average loss: 0.0275, Test Accuracy: 9917/10000 (99.17%)\n",
            "\n",
            "Approach: Loss, BN =  nll GBN epoch = 13\n"
          ],
          "name": "stdout"
        },
        {
          "output_type": "stream",
          "text": [
            "loss=0.11309441179037094 batch_id=117 Train Accuracy=98.15: 100%|██████████| 118/118 [00:11<00:00, 10.36it/s]\n",
            "  0%|          | 0/118 [00:00<?, ?it/s]"
          ],
          "name": "stderr"
        },
        {
          "output_type": "stream",
          "text": [
            "\n",
            "Test set: Average loss: 0.0271, Test Accuracy: 9918/10000 (99.18%)\n",
            "\n",
            "Approach: Loss, BN =  nll GBN epoch = 14\n"
          ],
          "name": "stdout"
        },
        {
          "output_type": "stream",
          "text": [
            "loss=0.10471674799919128 batch_id=117 Train Accuracy=98.14: 100%|██████████| 118/118 [00:11<00:00, 10.67it/s]\n",
            "  0%|          | 0/118 [00:00<?, ?it/s]"
          ],
          "name": "stderr"
        },
        {
          "output_type": "stream",
          "text": [
            "\n",
            "Test set: Average loss: 0.0269, Test Accuracy: 9922/10000 (99.22%)\n",
            "\n",
            "Approach: Loss, BN =  nll GBN epoch = 15\n"
          ],
          "name": "stdout"
        },
        {
          "output_type": "stream",
          "text": [
            "loss=0.04084571823477745 batch_id=117 Train Accuracy=98.24: 100%|██████████| 118/118 [00:11<00:00, 10.60it/s]\n",
            "  0%|          | 0/118 [00:00<?, ?it/s]"
          ],
          "name": "stderr"
        },
        {
          "output_type": "stream",
          "text": [
            "\n",
            "Test set: Average loss: 0.0268, Test Accuracy: 9923/10000 (99.23%)\n",
            "\n",
            "Approach: Loss, BN =  nll GBN epoch = 16\n"
          ],
          "name": "stdout"
        },
        {
          "output_type": "stream",
          "text": [
            "loss=0.034973252564668655 batch_id=117 Train Accuracy=98.19: 100%|██████████| 118/118 [00:10<00:00, 10.84it/s]\n",
            "  0%|          | 0/118 [00:00<?, ?it/s]"
          ],
          "name": "stderr"
        },
        {
          "output_type": "stream",
          "text": [
            "\n",
            "Test set: Average loss: 0.0268, Test Accuracy: 9921/10000 (99.21%)\n",
            "\n",
            "Approach: Loss, BN =  nll GBN epoch = 17\n"
          ],
          "name": "stdout"
        },
        {
          "output_type": "stream",
          "text": [
            "loss=0.0445869155228138 batch_id=117 Train Accuracy=98.30: 100%|██████████| 118/118 [00:10<00:00, 10.88it/s]\n",
            "  0%|          | 0/118 [00:00<?, ?it/s]"
          ],
          "name": "stderr"
        },
        {
          "output_type": "stream",
          "text": [
            "\n",
            "Test set: Average loss: 0.0268, Test Accuracy: 9922/10000 (99.22%)\n",
            "\n",
            "Approach: Loss, BN =  nll GBN epoch = 18\n"
          ],
          "name": "stdout"
        },
        {
          "output_type": "stream",
          "text": [
            "loss=0.030754337087273598 batch_id=117 Train Accuracy=98.23: 100%|██████████| 118/118 [00:10<00:00, 10.83it/s]\n",
            "  0%|          | 0/118 [00:00<?, ?it/s]"
          ],
          "name": "stderr"
        },
        {
          "output_type": "stream",
          "text": [
            "\n",
            "Test set: Average loss: 0.0269, Test Accuracy: 9923/10000 (99.23%)\n",
            "\n",
            "Approach: Loss, BN =  nll GBN epoch = 19\n"
          ],
          "name": "stdout"
        },
        {
          "output_type": "stream",
          "text": [
            "loss=0.12876076996326447 batch_id=117 Train Accuracy=98.17: 100%|██████████| 118/118 [00:10<00:00, 10.75it/s]\n",
            "  0%|          | 0/118 [00:00<?, ?it/s]"
          ],
          "name": "stderr"
        },
        {
          "output_type": "stream",
          "text": [
            "\n",
            "Test set: Average loss: 0.0266, Test Accuracy: 9921/10000 (99.21%)\n",
            "\n",
            "Approach: Loss, BN =  nll GBN epoch = 20\n"
          ],
          "name": "stdout"
        },
        {
          "output_type": "stream",
          "text": [
            "loss=0.033197443932294846 batch_id=117 Train Accuracy=98.21: 100%|██████████| 118/118 [00:11<00:00, 10.68it/s]\n",
            "  0%|          | 0/118 [00:00<?, ?it/s]"
          ],
          "name": "stderr"
        },
        {
          "output_type": "stream",
          "text": [
            "\n",
            "Test set: Average loss: 0.0268, Test Accuracy: 9923/10000 (99.23%)\n",
            "\n",
            "Approach: Loss, BN =  nll GBN epoch = 21\n"
          ],
          "name": "stdout"
        },
        {
          "output_type": "stream",
          "text": [
            "loss=0.08030039817094803 batch_id=117 Train Accuracy=98.26: 100%|██████████| 118/118 [00:10<00:00, 10.77it/s]\n",
            "  0%|          | 0/118 [00:00<?, ?it/s]"
          ],
          "name": "stderr"
        },
        {
          "output_type": "stream",
          "text": [
            "\n",
            "Test set: Average loss: 0.0266, Test Accuracy: 9923/10000 (99.23%)\n",
            "\n",
            "Approach: Loss, BN =  nll GBN epoch = 22\n"
          ],
          "name": "stdout"
        },
        {
          "output_type": "stream",
          "text": [
            "loss=0.18833589553833008 batch_id=117 Train Accuracy=98.14: 100%|██████████| 118/118 [00:10<00:00, 10.77it/s]\n",
            "  0%|          | 0/118 [00:00<?, ?it/s]"
          ],
          "name": "stderr"
        },
        {
          "output_type": "stream",
          "text": [
            "\n",
            "Test set: Average loss: 0.0267, Test Accuracy: 9921/10000 (99.21%)\n",
            "\n",
            "Approach: Loss, BN =  nll GBN epoch = 23\n"
          ],
          "name": "stdout"
        },
        {
          "output_type": "stream",
          "text": [
            "loss=0.06634799391031265 batch_id=117 Train Accuracy=98.18: 100%|██████████| 118/118 [00:11<00:00, 10.64it/s]\n",
            "  0%|          | 0/118 [00:00<?, ?it/s]"
          ],
          "name": "stderr"
        },
        {
          "output_type": "stream",
          "text": [
            "\n",
            "Test set: Average loss: 0.0268, Test Accuracy: 9922/10000 (99.22%)\n",
            "\n",
            "Approach: Loss, BN =  nll GBN epoch = 24\n"
          ],
          "name": "stdout"
        },
        {
          "output_type": "stream",
          "text": [
            "loss=0.06513607501983643 batch_id=117 Train Accuracy=98.23: 100%|██████████| 118/118 [00:10<00:00, 10.82it/s]\n",
            "  0%|          | 0/118 [00:00<?, ?it/s]"
          ],
          "name": "stderr"
        },
        {
          "output_type": "stream",
          "text": [
            "\n",
            "Test set: Average loss: 0.0268, Test Accuracy: 9922/10000 (99.22%)\n",
            "\n",
            "Approach: Loss, BN =  nll GBN epoch = 25\n"
          ],
          "name": "stdout"
        },
        {
          "output_type": "stream",
          "text": [
            "loss=0.13099141418933868 batch_id=117 Train Accuracy=98.30: 100%|██████████| 118/118 [00:10<00:00, 10.77it/s]\n"
          ],
          "name": "stderr"
        },
        {
          "output_type": "stream",
          "text": [
            "\n",
            "Test set: Average loss: 0.0267, Test Accuracy: 9923/10000 (99.23%)\n",
            "\n"
          ],
          "name": "stdout"
        },
        {
          "output_type": "display_data",
          "data": {
            "image/png": "[encoded data removed]",
            "text/plain": [
              "<Figure size 864x864 with 25 Axes>"
            ]
          },
          "metadata": {
            "tags": []
          }
        },
        {
          "output_type": "stream",
          "text": [
            "\r  0%|          | 0/118 [00:00<?, ?it/s]"
          ],
          "name": "stderr"
        },
        {
          "output_type": "stream",
          "text": [
            "Approach: Loss, BN =  L1L2 GBN epoch = 1\n"
          ],
          "name": "stdout"
        },
        {
          "output_type": "stream",
          "text": [
            "loss=0.23107244074344635 batch_id=117 Train Accuracy=78.55: 100%|██████████| 118/118 [00:11<00:00, 10.03it/s]\n",
            "  0%|          | 0/118 [00:00<?, ?it/s]"
          ],
          "name": "stderr"
        },
        {
          "output_type": "stream",
          "text": [
            "\n",
            "Test set: Average loss: 0.1123, Test Accuracy: 9737/10000 (97.37%)\n",
            "\n",
            "Approach: Loss, BN =  L1L2 GBN epoch = 2\n"
          ],
          "name": "stdout"
        },
        {
          "output_type": "stream",
          "text": [
            "loss=0.23866687715053558 batch_id=117 Train Accuracy=95.63: 100%|██████████| 118/118 [00:11<00:00, 10.18it/s]\n",
            "  0%|          | 0/118 [00:00<?, ?it/s]"
          ],
          "name": "stderr"
        },
        {
          "output_type": "stream",
          "text": [
            "\n",
            "Test set: Average loss: 0.0636, Test Accuracy: 9823/10000 (98.23%)\n",
            "\n",
            "Approach: Loss, BN =  L1L2 GBN epoch = 3\n"
          ],
          "name": "stdout"
        },
        {
          "output_type": "stream",
          "text": [
            "loss=0.18982736766338348 batch_id=117 Train Accuracy=96.78: 100%|██████████| 118/118 [00:11<00:00, 10.30it/s]\n",
            "  0%|          | 0/118 [00:00<?, ?it/s]"
          ],
          "name": "stderr"
        },
        {
          "output_type": "stream",
          "text": [
            "\n",
            "Test set: Average loss: 0.0500, Test Accuracy: 9860/10000 (98.60%)\n",
            "\n",
            "Approach: Loss, BN =  L1L2 GBN epoch = 4\n"
          ],
          "name": "stdout"
        },
        {
          "output_type": "stream",
          "text": [
            "loss=0.09896625578403473 batch_id=117 Train Accuracy=97.15: 100%|██████████| 118/118 [00:11<00:00, 10.13it/s]\n",
            "  0%|          | 0/118 [00:00<?, ?it/s]"
          ],
          "name": "stderr"
        },
        {
          "output_type": "stream",
          "text": [
            "\n",
            "Test set: Average loss: 0.0462, Test Accuracy: 9872/10000 (98.72%)\n",
            "\n",
            "Approach: Loss, BN =  L1L2 GBN epoch = 5\n"
          ],
          "name": "stdout"
        },
        {
          "output_type": "stream",
          "text": [
            "loss=0.09378693997859955 batch_id=117 Train Accuracy=97.52: 100%|██████████| 118/118 [00:11<00:00, 10.11it/s]\n",
            "  0%|          | 0/118 [00:00<?, ?it/s]"
          ],
          "name": "stderr"
        },
        {
          "output_type": "stream",
          "text": [
            "\n",
            "Test set: Average loss: 0.0375, Test Accuracy: 9894/10000 (98.94%)\n",
            "\n",
            "Approach: Loss, BN =  L1L2 GBN epoch = 6\n"
          ],
          "name": "stdout"
        },
        {
          "output_type": "stream",
          "text": [
            "loss=0.07351352274417877 batch_id=117 Train Accuracy=97.70: 100%|██████████| 118/118 [00:11<00:00, 10.05it/s]\n",
            "  0%|          | 0/118 [00:00<?, ?it/s]"
          ],
          "name": "stderr"
        },
        {
          "output_type": "stream",
          "text": [
            "\n",
            "Test set: Average loss: 0.0376, Test Accuracy: 9883/10000 (98.83%)\n",
            "\n",
            "Approach: Loss, BN =  L1L2 GBN epoch = 7\n"
          ],
          "name": "stdout"
        },
        {
          "output_type": "stream",
          "text": [
            "loss=0.06261307001113892 batch_id=117 Train Accuracy=97.91: 100%|██████████| 118/118 [00:11<00:00, 10.01it/s]\n",
            "  0%|          | 0/118 [00:00<?, ?it/s]"
          ],
          "name": "stderr"
        },
        {
          "output_type": "stream",
          "text": [
            "\n",
            "Test set: Average loss: 0.0284, Test Accuracy: 9915/10000 (99.15%)\n",
            "\n",
            "Approach: Loss, BN =  L1L2 GBN epoch = 8\n"
          ],
          "name": "stdout"
        },
        {
          "output_type": "stream",
          "text": [
            "loss=0.05799790844321251 batch_id=117 Train Accuracy=98.11: 100%|██████████| 118/118 [00:11<00:00, 10.19it/s]\n",
            "  0%|          | 0/118 [00:00<?, ?it/s]"
          ],
          "name": "stderr"
        },
        {
          "output_type": "stream",
          "text": [
            "\n",
            "Test set: Average loss: 0.0281, Test Accuracy: 9912/10000 (99.12%)\n",
            "\n",
            "Approach: Loss, BN =  L1L2 GBN epoch = 9\n"
          ],
          "name": "stdout"
        },
        {
          "output_type": "stream",
          "text": [
            "loss=0.06739656627178192 batch_id=117 Train Accuracy=98.11: 100%|██████████| 118/118 [00:11<00:00, 10.05it/s]\n",
            "  0%|          | 0/118 [00:00<?, ?it/s]"
          ],
          "name": "stderr"
        },
        {
          "output_type": "stream",
          "text": [
            "\n",
            "Test set: Average loss: 0.0277, Test Accuracy: 9916/10000 (99.16%)\n",
            "\n",
            "Approach: Loss, BN =  L1L2 GBN epoch = 10\n"
          ],
          "name": "stdout"
        },
        {
          "output_type": "stream",
          "text": [
            "loss=0.04247921705245972 batch_id=117 Train Accuracy=98.24: 100%|██████████| 118/118 [00:11<00:00, 10.15it/s]\n",
            "  0%|          | 0/118 [00:00<?, ?it/s]"
          ],
          "name": "stderr"
        },
        {
          "output_type": "stream",
          "text": [
            "\n",
            "Test set: Average loss: 0.0272, Test Accuracy: 9913/10000 (99.13%)\n",
            "\n",
            "Approach: Loss, BN =  L1L2 GBN epoch = 11\n"
          ],
          "name": "stdout"
        },
        {
          "output_type": "stream",
          "text": [
            "loss=0.07507313787937164 batch_id=117 Train Accuracy=98.22: 100%|██████████| 118/118 [00:11<00:00, 10.17it/s]\n",
            "  0%|          | 0/118 [00:00<?, ?it/s]"
          ],
          "name": "stderr"
        },
        {
          "output_type": "stream",
          "text": [
            "\n",
            "Test set: Average loss: 0.0270, Test Accuracy: 9920/10000 (99.20%)\n",
            "\n",
            "Approach: Loss, BN =  L1L2 GBN epoch = 12\n"
          ],
          "name": "stdout"
        },
        {
          "output_type": "stream",
          "text": [
            "loss=0.047184161841869354 batch_id=117 Train Accuracy=98.22: 100%|██████████| 118/118 [00:11<00:00, 10.15it/s]\n",
            "  0%|          | 0/118 [00:00<?, ?it/s]"
          ],
          "name": "stderr"
        },
        {
          "output_type": "stream",
          "text": [
            "\n",
            "Test set: Average loss: 0.0263, Test Accuracy: 9920/10000 (99.20%)\n",
            "\n",
            "Approach: Loss, BN =  L1L2 GBN epoch = 13\n"
          ],
          "name": "stdout"
        },
        {
          "output_type": "stream",
          "text": [
            "loss=0.09537750482559204 batch_id=117 Train Accuracy=98.19: 100%|██████████| 118/118 [00:11<00:00, 10.05it/s]\n",
            "  0%|          | 0/118 [00:00<?, ?it/s]"
          ],
          "name": "stderr"
        },
        {
          "output_type": "stream",
          "text": [
            "\n",
            "Test set: Average loss: 0.0266, Test Accuracy: 9916/10000 (99.16%)\n",
            "\n",
            "Approach: Loss, BN =  L1L2 GBN epoch = 14\n"
          ],
          "name": "stdout"
        },
        {
          "output_type": "stream",
          "text": [
            "loss=0.06424667686223984 batch_id=117 Train Accuracy=98.30: 100%|██████████| 118/118 [00:11<00:00, 10.18it/s]\n",
            "  0%|          | 0/118 [00:00<?, ?it/s]"
          ],
          "name": "stderr"
        },
        {
          "output_type": "stream",
          "text": [
            "\n",
            "Test set: Average loss: 0.0264, Test Accuracy: 9920/10000 (99.20%)\n",
            "\n",
            "Approach: Loss, BN =  L1L2 GBN epoch = 15\n"
          ],
          "name": "stdout"
        },
        {
          "output_type": "stream",
          "text": [
            "loss=0.10035780817270279 batch_id=117 Train Accuracy=98.21: 100%|██████████| 118/118 [00:11<00:00, 10.27it/s]\n",
            "  0%|          | 0/118 [00:00<?, ?it/s]"
          ],
          "name": "stderr"
        },
        {
          "output_type": "stream",
          "text": [
            "\n",
            "Test set: Average loss: 0.0266, Test Accuracy: 9918/10000 (99.18%)\n",
            "\n",
            "Approach: Loss, BN =  L1L2 GBN epoch = 16\n"
          ],
          "name": "stdout"
        },
        {
          "output_type": "stream",
          "text": [
            "loss=0.08316715061664581 batch_id=117 Train Accuracy=98.24: 100%|██████████| 118/118 [00:11<00:00, 10.22it/s]\n",
            "  0%|          | 0/118 [00:00<?, ?it/s]"
          ],
          "name": "stderr"
        },
        {
          "output_type": "stream",
          "text": [
            "\n",
            "Test set: Average loss: 0.0265, Test Accuracy: 9916/10000 (99.16%)\n",
            "\n",
            "Approach: Loss, BN =  L1L2 GBN epoch = 17\n"
          ],
          "name": "stdout"
        },
        {
          "output_type": "stream",
          "text": [
            "loss=0.08263342827558517 batch_id=117 Train Accuracy=98.20: 100%|██████████| 118/118 [00:11<00:00, 10.16it/s]\n",
            "  0%|          | 0/118 [00:00<?, ?it/s]"
          ],
          "name": "stderr"
        },
        {
          "output_type": "stream",
          "text": [
            "\n",
            "Test set: Average loss: 0.0263, Test Accuracy: 9918/10000 (99.18%)\n",
            "\n",
            "Approach: Loss, BN =  L1L2 GBN epoch = 18\n"
          ],
          "name": "stdout"
        },
        {
          "output_type": "stream",
          "text": [
            "loss=0.06014908850193024 batch_id=117 Train Accuracy=98.28: 100%|██████████| 118/118 [00:11<00:00, 10.16it/s]\n",
            "  0%|          | 0/118 [00:00<?, ?it/s]"
          ],
          "name": "stderr"
        },
        {
          "output_type": "stream",
          "text": [
            "\n",
            "Test set: Average loss: 0.0265, Test Accuracy: 9917/10000 (99.17%)\n",
            "\n",
            "Approach: Loss, BN =  L1L2 GBN epoch = 19\n"
          ],
          "name": "stdout"
        },
        {
          "output_type": "stream",
          "text": [
            "loss=0.0332847498357296 batch_id=117 Train Accuracy=98.29: 100%|██████████| 118/118 [00:11<00:00, 10.43it/s]\n",
            "  0%|          | 0/118 [00:00<?, ?it/s]"
          ],
          "name": "stderr"
        },
        {
          "output_type": "stream",
          "text": [
            "\n",
            "Test set: Average loss: 0.0263, Test Accuracy: 9918/10000 (99.18%)\n",
            "\n",
            "Approach: Loss, BN =  L1L2 GBN epoch = 20\n"
          ],
          "name": "stdout"
        },
        {
          "output_type": "stream",
          "text": [
            "loss=0.09423951059579849 batch_id=117 Train Accuracy=98.33: 100%|██████████| 118/118 [00:11<00:00, 10.42it/s]\n",
            "  0%|          | 0/118 [00:00<?, ?it/s]"
          ],
          "name": "stderr"
        },
        {
          "output_type": "stream",
          "text": [
            "\n",
            "Test set: Average loss: 0.0265, Test Accuracy: 9918/10000 (99.18%)\n",
            "\n",
            "Approach: Loss, BN =  L1L2 GBN epoch = 21\n"
          ],
          "name": "stdout"
        },
        {
          "output_type": "stream",
          "text": [
            "loss=0.14064271748065948 batch_id=117 Train Accuracy=98.22: 100%|██████████| 118/118 [00:11<00:00, 10.51it/s]\n",
            "  0%|          | 0/118 [00:00<?, ?it/s]"
          ],
          "name": "stderr"
        },
        {
          "output_type": "stream",
          "text": [
            "\n",
            "Test set: Average loss: 0.0264, Test Accuracy: 9920/10000 (99.20%)\n",
            "\n",
            "Approach: Loss, BN =  L1L2 GBN epoch = 22\n"
          ],
          "name": "stdout"
        },
        {
          "output_type": "stream",
          "text": [
            "loss=0.0651528388261795 batch_id=117 Train Accuracy=98.31: 100%|██████████| 118/118 [00:11<00:00, 10.65it/s]\n",
            "  0%|          | 0/118 [00:00<?, ?it/s]"
          ],
          "name": "stderr"
        },
        {
          "output_type": "stream",
          "text": [
            "\n",
            "Test set: Average loss: 0.0264, Test Accuracy: 9918/10000 (99.18%)\n",
            "\n",
            "Approach: Loss, BN =  L1L2 GBN epoch = 23\n"
          ],
          "name": "stdout"
        },
        {
          "output_type": "stream",
          "text": [
            "loss=0.09942738711833954 batch_id=117 Train Accuracy=98.33: 100%|██████████| 118/118 [00:11<00:00, 10.49it/s]\n",
            "  0%|          | 0/118 [00:00<?, ?it/s]"
          ],
          "name": "stderr"
        },
        {
          "output_type": "stream",
          "text": [
            "\n",
            "Test set: Average loss: 0.0263, Test Accuracy: 9919/10000 (99.19%)\n",
            "\n",
            "Approach: Loss, BN =  L1L2 GBN epoch = 24\n"
          ],
          "name": "stdout"
        },
        {
          "output_type": "stream",
          "text": [
            "loss=0.06602192670106888 batch_id=117 Train Accuracy=98.29: 100%|██████████| 118/118 [00:11<00:00, 10.33it/s]\n",
            "  0%|          | 0/118 [00:00<?, ?it/s]"
          ],
          "name": "stderr"
        },
        {
          "output_type": "stream",
          "text": [
            "\n",
            "Test set: Average loss: 0.0265, Test Accuracy: 9918/10000 (99.18%)\n",
            "\n",
            "Approach: Loss, BN =  L1L2 GBN epoch = 25\n"
          ],
          "name": "stdout"
        },
        {
          "output_type": "stream",
          "text": [
            "loss=0.05011240020394325 batch_id=117 Train Accuracy=98.34: 100%|██████████| 118/118 [00:11<00:00, 10.21it/s]\n"
          ],
          "name": "stderr"
        },
        {
          "output_type": "stream",
          "text": [
            "\n",
            "Test set: Average loss: 0.0264, Test Accuracy: 9918/10000 (99.18%)\n",
            "\n"
          ],
          "name": "stdout"
        }
      ]
    },
    {
      "cell_type": "code",
      "metadata": {
        "id": "RLcssDlJ-UQf",
        "colab_type": "code",
        "colab": {}
      },
      "source": [
        "#%matplotlib inline\n",
        "#import matplotlib.pyplot as plt\n",
        "\n",
        "#fig, axs = plt.subplots(2,2,figsize=(15,10))\n",
        "#axs[0, 0].plot(train_losses)\n",
        "#axs[0, 0].set_title(\"Training Loss\")\n",
        "#axs[1, 0].plot(train_acc)\n",
        "#axs[1, 0].set_title(\"Training Accuracy\")\n",
        "#axs[0, 1].plot(test_losses)\n",
        "#axs[0, 1].set_title(\"Test Loss\")\n",
        "#axs[1, 1].plot(test_acc)\n",
        "#axs[1, 1].set_title(\"Test Accuracy\")"
      ],
      "execution_count": 11,
      "outputs": []
    },
    {
      "cell_type": "markdown",
      "metadata": {
        "id": "FbdZF1KdYxjP",
        "colab_type": "text"
      },
      "source": [
        "# Validation Accuracy"
      ]
    },
    {
      "cell_type": "code",
      "metadata": {
        "id": "TUV1OikzYY1J",
        "colab_type": "code",
        "colab": {
          "base_uri": "https://localhost:8080/",
          "height": 567
        },
        "outputId": "55f075e5-bd8c-4bb9-9599-b33c05328b47"
      },
      "source": [
        "%matplotlib inline\n",
        "import matplotlib.pyplot as plt\n",
        "import pickle\n",
        "plt.style.use(\"dark_background\")\n",
        "fig = plt.figure(figsize=(11, 9))\n",
        "\n",
        "\n",
        "for label, approach_dict in approach_dicts.items():\n",
        "  plt.plot(approach_dict['test_acc'],label = label)\n",
        "\n",
        "\n",
        "plt.title('Validation Accuracy vs. Epoch')\n",
        "plt.xlabel('Epoch')\n",
        "plt.ylabel('Accuracy')\n",
        "plt.legend()\n",
        "if os.path.exists('evas6-acc.png'):\n",
        "    os.remove('evas6-acc.png') #this deletes the file\n",
        "fig.savefig('evas6-acc.png',dpi=150)\n",
        "plt.show()\n",
        "\n",
        "from google.colab import files\n",
        "files.download('evas6-acc.png')\n"
      ],
      "execution_count": 12,
      "outputs": [
        {
          "output_type": "display_data",
          "data": {
            "image/png": "[encoded data removed]",
            "text/plain": [
              "<Figure size 792x648 with 1 Axes>"
            ]
          },
          "metadata": {
            "tags": []
          }
        },
        {
          "output_type": "display_data",
          "data": {
            "application/javascript": [
              "\n",
              "    async function download(id, filename, size) {\n",
              "      if (!google.colab.kernel.accessAllowed) {\n",
              "        return;\n",
              "      }\n",
              "      const div = document.createElement('div');\n",
              "      const label = document.createElement('label');\n",
              "      label.textContent = `Downloading \"${filename}\": `;\n",
              "      div.appendChild(label);\n",
              "      const progress = document.createElement('progress');\n",
              "      progress.max = size;\n",
              "      div.appendChild(progress);\n",
              "      document.body.appendChild(div);\n",
              "\n",
              "      const buffers = [];\n",
              "      let downloaded = 0;\n",
              "\n",
              "      const channel = await google.colab.kernel.comms.open(id);\n",
              "      // Send a message to notify the kernel that we're ready.\n",
              "      channel.send({})\n",
              "\n",
              "      for await (const message of channel.messages) {\n",
              "        // Send a message to notify the kernel that we're ready.\n",
              "        channel.send({})\n",
              "        if (message.buffers) {\n",
              "          for (const buffer of message.buffers) {\n",
              "            buffers.push(buffer);\n",
              "            downloaded += buffer.byteLength;\n",
              "            progress.value = downloaded;\n",
              "          }\n",
              "        }\n",
              "      }\n",
              "      const blob = new Blob(buffers, {type: 'application/binary'});\n",
              "      const a = document.createElement('a');\n",
              "      a.href = window.URL.createObjectURL(blob);\n",
              "      a.download = filename;\n",
              "      div.appendChild(a);\n",
              "      a.click();\n",
              "      div.remove();\n",
              "    }\n",
              "  "
            ],
            "text/plain": [
              "<IPython.core.display.Javascript object>"
            ]
          },
          "metadata": {
            "tags": []
          }
        },
        {
          "output_type": "display_data",
          "data": {
            "application/javascript": [
              "download(\"download_3365c9c9-78a8-4c2c-8650-f88b8f824131\", \"evas6-acc.png\", 131059)"
            ],
            "text/plain": [
              "<IPython.core.display.Javascript object>"
            ]
          },
          "metadata": {
            "tags": []
          }
        }
      ]
    },
    {
      "cell_type": "markdown",
      "metadata": {
        "id": "POT43Zr9Y3PI",
        "colab_type": "text"
      },
      "source": [
        "# Test Loss"
      ]
    },
    {
      "cell_type": "code",
      "metadata": {
        "id": "pcjKt3SaY8vj",
        "colab_type": "code",
        "colab": {
          "base_uri": "https://localhost:8080/",
          "height": 567
        },
        "outputId": "3b6eadee-21ec-4ad4-961a-a814f0828019"
      },
      "source": [
        "%matplotlib inline\n",
        "import matplotlib.pyplot as plt\n",
        "plt.style.use(\"dark_background\")\n",
        "fig = plt.figure(figsize=(11, 9))\n",
        "from google.colab import files\n",
        "\n",
        "for label, approach_dict in approach_dicts.items():\n",
        "  plt.plot(approach_dict['test_acc'],label = label)\n",
        "  files.download('EVAS6-' + label + '.pkl')\n",
        "\n",
        "\n",
        "plt.title('Validation Loss vs. Epoch')\n",
        "plt.xlabel('Epoch')\n",
        "plt.ylabel('Loss')\n",
        "plt.legend()\n",
        "fig.savefig('evas6-loss.png',dpi=150)\n",
        "files.download('evas6-loss.png')\n"
      ],
      "execution_count": 13,
      "outputs": [
        {
          "output_type": "display_data",
          "data": {
            "application/javascript": [
              "\n",
              "    async function download(id, filename, size) {\n",
              "      if (!google.colab.kernel.accessAllowed) {\n",
              "        return;\n",
              "      }\n",
              "      const div = document.createElement('div');\n",
              "      const label = document.createElement('label');\n",
              "      label.textContent = `Downloading \"${filename}\": `;\n",
              "      div.appendChild(label);\n",
              "      const progress = document.createElement('progress');\n",
              "      progress.max = size;\n",
              "      div.appendChild(progress);\n",
              "      document.body.appendChild(div);\n",
              "\n",
              "      const buffers = [];\n",
              "      let downloaded = 0;\n",
              "\n",
              "      const channel = await google.colab.kernel.comms.open(id);\n",
              "      // Send a message to notify the kernel that we're ready.\n",
              "      channel.send({})\n",
              "\n",
              "      for await (const message of channel.messages) {\n",
              "        // Send a message to notify the kernel that we're ready.\n",
              "        channel.send({})\n",
              "        if (message.buffers) {\n",
              "          for (const buffer of message.buffers) {\n",
              "            buffers.push(buffer);\n",
              "            downloaded += buffer.byteLength;\n",
              "            progress.value = downloaded;\n",
              "          }\n",
              "        }\n",
              "      }\n",
              "      const blob = new Blob(buffers, {type: 'application/binary'});\n",
              "      const a = document.createElement('a');\n",
              "      a.href = window.URL.createObjectURL(blob);\n",
              "      a.download = filename;\n",
              "      div.appendChild(a);\n",
              "      a.click();\n",
              "      div.remove();\n",
              "    }\n",
              "  "
            ],
            "text/plain": [
              "<IPython.core.display.Javascript object>"
            ]
          },
          "metadata": {
            "tags": []
          }
        },
        {
          "output_type": "display_data",
          "data": {
            "application/javascript": [
              "download(\"download_079a98d4-ea8f-496c-aacc-b14b5dc9067e\", \"EVAS6-nll with BN.pkl\", 501)"
            ],
            "text/plain": [
              "<IPython.core.display.Javascript object>"
            ]
          },
          "metadata": {
            "tags": []
          }
        },
        {
          "output_type": "display_data",
          "data": {
            "application/javascript": [
              "\n",
              "    async function download(id, filename, size) {\n",
              "      if (!google.colab.kernel.accessAllowed) {\n",
              "        return;\n",
              "      }\n",
              "      const div = document.createElement('div');\n",
              "      const label = document.createElement('label');\n",
              "      label.textContent = `Downloading \"${filename}\": `;\n",
              "      div.appendChild(label);\n",
              "      const progress = document.createElement('progress');\n",
              "      progress.max = size;\n",
              "      div.appendChild(progress);\n",
              "      document.body.appendChild(div);\n",
              "\n",
              "      const buffers = [];\n",
              "      let downloaded = 0;\n",
              "\n",
              "      const channel = await google.colab.kernel.comms.open(id);\n",
              "      // Send a message to notify the kernel that we're ready.\n",
              "      channel.send({})\n",
              "\n",
              "      for await (const message of channel.messages) {\n",
              "        // Send a message to notify the kernel that we're ready.\n",
              "        channel.send({})\n",
              "        if (message.buffers) {\n",
              "          for (const buffer of message.buffers) {\n",
              "            buffers.push(buffer);\n",
              "            downloaded += buffer.byteLength;\n",
              "            progress.value = downloaded;\n",
              "          }\n",
              "        }\n",
              "      }\n",
              "      const blob = new Blob(buffers, {type: 'application/binary'});\n",
              "      const a = document.createElement('a');\n",
              "      a.href = window.URL.createObjectURL(blob);\n",
              "      a.download = filename;\n",
              "      div.appendChild(a);\n",
              "      a.click();\n",
              "      div.remove();\n",
              "    }\n",
              "  "
            ],
            "text/plain": [
              "<IPython.core.display.Javascript object>"
            ]
          },
          "metadata": {
            "tags": []
          }
        },
        {
          "output_type": "display_data",
          "data": {
            "application/javascript": [
              "download(\"download_986f76e0-68fb-4a84-ac63-bf074ad13aed\", \"EVAS6-L1 with BN.pkl\", 501)"
            ],
            "text/plain": [
              "<IPython.core.display.Javascript object>"
            ]
          },
          "metadata": {
            "tags": []
          }
        },
        {
          "output_type": "display_data",
          "data": {
            "application/javascript": [
              "\n",
              "    async function download(id, filename, size) {\n",
              "      if (!google.colab.kernel.accessAllowed) {\n",
              "        return;\n",
              "      }\n",
              "      const div = document.createElement('div');\n",
              "      const label = document.createElement('label');\n",
              "      label.textContent = `Downloading \"${filename}\": `;\n",
              "      div.appendChild(label);\n",
              "      const progress = document.createElement('progress');\n",
              "      progress.max = size;\n",
              "      div.appendChild(progress);\n",
              "      document.body.appendChild(div);\n",
              "\n",
              "      const buffers = [];\n",
              "      let downloaded = 0;\n",
              "\n",
              "      const channel = await google.colab.kernel.comms.open(id);\n",
              "      // Send a message to notify the kernel that we're ready.\n",
              "      channel.send({})\n",
              "\n",
              "      for await (const message of channel.messages) {\n",
              "        // Send a message to notify the kernel that we're ready.\n",
              "        channel.send({})\n",
              "        if (message.buffers) {\n",
              "          for (const buffer of message.buffers) {\n",
              "            buffers.push(buffer);\n",
              "            downloaded += buffer.byteLength;\n",
              "            progress.value = downloaded;\n",
              "          }\n",
              "        }\n",
              "      }\n",
              "      const blob = new Blob(buffers, {type: 'application/binary'});\n",
              "      const a = document.createElement('a');\n",
              "      a.href = window.URL.createObjectURL(blob);\n",
              "      a.download = filename;\n",
              "      div.appendChild(a);\n",
              "      a.click();\n",
              "      div.remove();\n",
              "    }\n",
              "  "
            ],
            "text/plain": [
              "<IPython.core.display.Javascript object>"
            ]
          },
          "metadata": {
            "tags": []
          }
        },
        {
          "output_type": "display_data",
          "data": {
            "application/javascript": [
              "download(\"download_4e3e9f1f-b6b3-4603-a760-5a1c85380827\", \"EVAS6-L2 with BN.pkl\", 501)"
            ],
            "text/plain": [
              "<IPython.core.display.Javascript object>"
            ]
          },
          "metadata": {
            "tags": []
          }
        },
        {
          "output_type": "display_data",
          "data": {
            "application/javascript": [
              "\n",
              "    async function download(id, filename, size) {\n",
              "      if (!google.colab.kernel.accessAllowed) {\n",
              "        return;\n",
              "      }\n",
              "      const div = document.createElement('div');\n",
              "      const label = document.createElement('label');\n",
              "      label.textContent = `Downloading \"${filename}\": `;\n",
              "      div.appendChild(label);\n",
              "      const progress = document.createElement('progress');\n",
              "      progress.max = size;\n",
              "      div.appendChild(progress);\n",
              "      document.body.appendChild(div);\n",
              "\n",
              "      const buffers = [];\n",
              "      let downloaded = 0;\n",
              "\n",
              "      const channel = await google.colab.kernel.comms.open(id);\n",
              "      // Send a message to notify the kernel that we're ready.\n",
              "      channel.send({})\n",
              "\n",
              "      for await (const message of channel.messages) {\n",
              "        // Send a message to notify the kernel that we're ready.\n",
              "        channel.send({})\n",
              "        if (message.buffers) {\n",
              "          for (const buffer of message.buffers) {\n",
              "            buffers.push(buffer);\n",
              "            downloaded += buffer.byteLength;\n",
              "            progress.value = downloaded;\n",
              "          }\n",
              "        }\n",
              "      }\n",
              "      const blob = new Blob(buffers, {type: 'application/binary'});\n",
              "      const a = document.createElement('a');\n",
              "      a.href = window.URL.createObjectURL(blob);\n",
              "      a.download = filename;\n",
              "      div.appendChild(a);\n",
              "      a.click();\n",
              "      div.remove();\n",
              "    }\n",
              "  "
            ],
            "text/plain": [
              "<IPython.core.display.Javascript object>"
            ]
          },
          "metadata": {
            "tags": []
          }
        },
        {
          "output_type": "display_data",
          "data": {
            "application/javascript": [
              "download(\"download_35e2bd18-c44f-41b3-b265-541428c45c34\", \"EVAS6-L1L2 with BN.pkl\", 501)"
            ],
            "text/plain": [
              "<IPython.core.display.Javascript object>"
            ]
          },
          "metadata": {
            "tags": []
          }
        },
        {
          "output_type": "display_data",
          "data": {
            "application/javascript": [
              "\n",
              "    async function download(id, filename, size) {\n",
              "      if (!google.colab.kernel.accessAllowed) {\n",
              "        return;\n",
              "      }\n",
              "      const div = document.createElement('div');\n",
              "      const label = document.createElement('label');\n",
              "      label.textContent = `Downloading \"${filename}\": `;\n",
              "      div.appendChild(label);\n",
              "      const progress = document.createElement('progress');\n",
              "      progress.max = size;\n",
              "      div.appendChild(progress);\n",
              "      document.body.appendChild(div);\n",
              "\n",
              "      const buffers = [];\n",
              "      let downloaded = 0;\n",
              "\n",
              "      const channel = await google.colab.kernel.comms.open(id);\n",
              "      // Send a message to notify the kernel that we're ready.\n",
              "      channel.send({})\n",
              "\n",
              "      for await (const message of channel.messages) {\n",
              "        // Send a message to notify the kernel that we're ready.\n",
              "        channel.send({})\n",
              "        if (message.buffers) {\n",
              "          for (const buffer of message.buffers) {\n",
              "            buffers.push(buffer);\n",
              "            downloaded += buffer.byteLength;\n",
              "            progress.value = downloaded;\n",
              "          }\n",
              "        }\n",
              "      }\n",
              "      const blob = new Blob(buffers, {type: 'application/binary'});\n",
              "      const a = document.createElement('a');\n",
              "      a.href = window.URL.createObjectURL(blob);\n",
              "      a.download = filename;\n",
              "      div.appendChild(a);\n",
              "      a.click();\n",
              "      div.remove();\n",
              "    }\n",
              "  "
            ],
            "text/plain": [
              "<IPython.core.display.Javascript object>"
            ]
          },
          "metadata": {
            "tags": []
          }
        },
        {
          "output_type": "display_data",
          "data": {
            "application/javascript": [
              "download(\"download_51b0cc2d-5709-42ff-9382-a9bc7095982e\", \"EVAS6-nll with GBN.pkl\", 501)"
            ],
            "text/plain": [
              "<IPython.core.display.Javascript object>"
            ]
          },
          "metadata": {
            "tags": []
          }
        },
        {
          "output_type": "display_data",
          "data": {
            "application/javascript": [
              "\n",
              "    async function download(id, filename, size) {\n",
              "      if (!google.colab.kernel.accessAllowed) {\n",
              "        return;\n",
              "      }\n",
              "      const div = document.createElement('div');\n",
              "      const label = document.createElement('label');\n",
              "      label.textContent = `Downloading \"${filename}\": `;\n",
              "      div.appendChild(label);\n",
              "      const progress = document.createElement('progress');\n",
              "      progress.max = size;\n",
              "      div.appendChild(progress);\n",
              "      document.body.appendChild(div);\n",
              "\n",
              "      const buffers = [];\n",
              "      let downloaded = 0;\n",
              "\n",
              "      const channel = await google.colab.kernel.comms.open(id);\n",
              "      // Send a message to notify the kernel that we're ready.\n",
              "      channel.send({})\n",
              "\n",
              "      for await (const message of channel.messages) {\n",
              "        // Send a message to notify the kernel that we're ready.\n",
              "        channel.send({})\n",
              "        if (message.buffers) {\n",
              "          for (const buffer of message.buffers) {\n",
              "            buffers.push(buffer);\n",
              "            downloaded += buffer.byteLength;\n",
              "            progress.value = downloaded;\n",
              "          }\n",
              "        }\n",
              "      }\n",
              "      const blob = new Blob(buffers, {type: 'application/binary'});\n",
              "      const a = document.createElement('a');\n",
              "      a.href = window.URL.createObjectURL(blob);\n",
              "      a.download = filename;\n",
              "      div.appendChild(a);\n",
              "      a.click();\n",
              "      div.remove();\n",
              "    }\n",
              "  "
            ],
            "text/plain": [
              "<IPython.core.display.Javascript object>"
            ]
          },
          "metadata": {
            "tags": []
          }
        },
        {
          "output_type": "display_data",
          "data": {
            "application/javascript": [
              "download(\"download_6f2dbc85-fb18-46ec-9b54-3b0cde892a86\", \"EVAS6-L1L2 with GBN.pkl\", 501)"
            ],
            "text/plain": [
              "<IPython.core.display.Javascript object>"
            ]
          },
          "metadata": {
            "tags": []
          }
        },
        {
          "output_type": "display_data",
          "data": {
            "application/javascript": [
              "\n",
              "    async function download(id, filename, size) {\n",
              "      if (!google.colab.kernel.accessAllowed) {\n",
              "        return;\n",
              "      }\n",
              "      const div = document.createElement('div');\n",
              "      const label = document.createElement('label');\n",
              "      label.textContent = `Downloading \"${filename}\": `;\n",
              "      div.appendChild(label);\n",
              "      const progress = document.createElement('progress');\n",
              "      progress.max = size;\n",
              "      div.appendChild(progress);\n",
              "      document.body.appendChild(div);\n",
              "\n",
              "      const buffers = [];\n",
              "      let downloaded = 0;\n",
              "\n",
              "      const channel = await google.colab.kernel.comms.open(id);\n",
              "      // Send a message to notify the kernel that we're ready.\n",
              "      channel.send({})\n",
              "\n",
              "      for await (const message of channel.messages) {\n",
              "        // Send a message to notify the kernel that we're ready.\n",
              "        channel.send({})\n",
              "        if (message.buffers) {\n",
              "          for (const buffer of message.buffers) {\n",
              "            buffers.push(buffer);\n",
              "            downloaded += buffer.byteLength;\n",
              "            progress.value = downloaded;\n",
              "          }\n",
              "        }\n",
              "      }\n",
              "      const blob = new Blob(buffers, {type: 'application/binary'});\n",
              "      const a = document.createElement('a');\n",
              "      a.href = window.URL.createObjectURL(blob);\n",
              "      a.download = filename;\n",
              "      div.appendChild(a);\n",
              "      a.click();\n",
              "      div.remove();\n",
              "    }\n",
              "  "
            ],
            "text/plain": [
              "<IPython.core.display.Javascript object>"
            ]
          },
          "metadata": {
            "tags": []
          }
        },
        {
          "output_type": "display_data",
          "data": {
            "application/javascript": [
              "download(\"download_42965356-1468-426b-9e31-271944c4c540\", \"evas6-loss.png\", 128223)"
            ],
            "text/plain": [
              "<IPython.core.display.Javascript object>"
            ]
          },
          "metadata": {
            "tags": []
          }
        },
        {
          "output_type": "display_data",
          "data": {
            "image/png": "[encoded data removed]",
            "text/plain": [
              "<Figure size 792x648 with 1 Axes>"
            ]
          },
          "metadata": {
            "tags": []
          }
        }
      ]
    }
  ]
}