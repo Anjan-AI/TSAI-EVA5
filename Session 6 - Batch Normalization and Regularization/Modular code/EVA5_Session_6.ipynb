{
  "nbformat": 4,
  "nbformat_minor": 0,
  "metadata": {
    "accelerator": "GPU",
    "colab": {
      "name": "EVA5_Session_6.ipynb",
      "provenance": [],
      "collapsed_sections": []
    },
    "kernelspec": {
      "display_name": "Python 3",
      "language": "python",
      "name": "python3"
    },
    "language_info": {
      "codemirror_mode": {
        "name": "ipython",
        "version": 3
      },
      "file_extension": ".py",
      "mimetype": "text/x-python",
      "name": "python",
      "nbconvert_exporter": "python",
      "pygments_lexer": "ipython3",
      "version": "3.8.5-final"
    },
    "widgets": {
      "application/vnd.jupyter.widget-state+json": {
        "63f7c2680dbd4ce3b84918bc186c841c": {
          "model_module": "@jupyter-widgets/controls",
          "model_name": "HBoxModel",
          "state": {
            "_view_name": "HBoxView",
            "_dom_classes": [],
            "_model_name": "HBoxModel",
            "_view_module": "@jupyter-widgets/controls",
            "_model_module_version": "1.5.0",
            "_view_count": null,
            "_view_module_version": "1.5.0",
            "box_style": "",
            "layout": "IPY_MODEL_bdfd3ab04b114f63abfbb1418549add2",
            "_model_module": "@jupyter-widgets/controls",
            "children": [
              "IPY_MODEL_a577a36ddad84fa0928c41a32849f60d",
              "IPY_MODEL_8d94bcee03a6467ea60e699621da866f"
            ]
          }
        },
        "bdfd3ab04b114f63abfbb1418549add2": {
          "model_module": "@jupyter-widgets/base",
          "model_name": "LayoutModel",
          "state": {
            "_view_name": "LayoutView",
            "grid_template_rows": null,
            "right": null,
            "justify_content": null,
            "_view_module": "@jupyter-widgets/base",
            "overflow": null,
            "_model_module_version": "1.2.0",
            "_view_count": null,
            "flex_flow": null,
            "width": null,
            "min_width": null,
            "border": null,
            "align_items": null,
            "bottom": null,
            "_model_module": "@jupyter-widgets/base",
            "top": null,
            "grid_column": null,
            "overflow_y": null,
            "overflow_x": null,
            "grid_auto_flow": null,
            "grid_area": null,
            "grid_template_columns": null,
            "flex": null,
            "_model_name": "LayoutModel",
            "justify_items": null,
            "grid_row": null,
            "max_height": null,
            "align_content": null,
            "visibility": null,
            "align_self": null,
            "height": null,
            "min_height": null,
            "padding": null,
            "grid_auto_rows": null,
            "grid_gap": null,
            "max_width": null,
            "order": null,
            "_view_module_version": "1.2.0",
            "grid_template_areas": null,
            "object_position": null,
            "object_fit": null,
            "grid_auto_columns": null,
            "margin": null,
            "display": null,
            "left": null
          }
        },
        "a577a36ddad84fa0928c41a32849f60d": {
          "model_module": "@jupyter-widgets/controls",
          "model_name": "FloatProgressModel",
          "state": {
            "_view_name": "ProgressView",
            "style": "IPY_MODEL_9654462f98b74cceb5b880ba13812a7a",
            "_dom_classes": [],
            "description": "",
            "_model_name": "FloatProgressModel",
            "bar_style": "info",
            "max": 1,
            "_view_module": "@jupyter-widgets/controls",
            "_model_module_version": "1.5.0",
            "value": 1,
            "_view_count": null,
            "_view_module_version": "1.5.0",
            "orientation": "horizontal",
            "min": 0,
            "description_tooltip": null,
            "_model_module": "@jupyter-widgets/controls",
            "layout": "IPY_MODEL_ab920b72c40c4342b492fb8492ac43f4"
          }
        },
        "8d94bcee03a6467ea60e699621da866f": {
          "model_module": "@jupyter-widgets/controls",
          "model_name": "HTMLModel",
          "state": {
            "_view_name": "HTMLView",
            "style": "IPY_MODEL_20bd9dad4f1b4311a3466c1ea64b7ddd",
            "_dom_classes": [],
            "description": "",
            "_model_name": "HTMLModel",
            "placeholder": "​",
            "_view_module": "@jupyter-widgets/controls",
            "_model_module_version": "1.5.0",
            "value": " 9920512/? [00:20&lt;00:00, 1868340.75it/s]",
            "_view_count": null,
            "_view_module_version": "1.5.0",
            "description_tooltip": null,
            "_model_module": "@jupyter-widgets/controls",
            "layout": "IPY_MODEL_35e32b3e2cb14cfcb403c837ad660f8c"
          }
        },
        "9654462f98b74cceb5b880ba13812a7a": {
          "model_module": "@jupyter-widgets/controls",
          "model_name": "ProgressStyleModel",
          "state": {
            "_view_name": "StyleView",
            "_model_name": "ProgressStyleModel",
            "description_width": "initial",
            "_view_module": "@jupyter-widgets/base",
            "_model_module_version": "1.5.0",
            "_view_count": null,
            "_view_module_version": "1.2.0",
            "bar_color": null,
            "_model_module": "@jupyter-widgets/controls"
          }
        },
        "ab920b72c40c4342b492fb8492ac43f4": {
          "model_module": "@jupyter-widgets/base",
          "model_name": "LayoutModel",
          "state": {
            "_view_name": "LayoutView",
            "grid_template_rows": null,
            "right": null,
            "justify_content": null,
            "_view_module": "@jupyter-widgets/base",
            "overflow": null,
            "_model_module_version": "1.2.0",
            "_view_count": null,
            "flex_flow": null,
            "width": null,
            "min_width": null,
            "border": null,
            "align_items": null,
            "bottom": null,
            "_model_module": "@jupyter-widgets/base",
            "top": null,
            "grid_column": null,
            "overflow_y": null,
            "overflow_x": null,
            "grid_auto_flow": null,
            "grid_area": null,
            "grid_template_columns": null,
            "flex": null,
            "_model_name": "LayoutModel",
            "justify_items": null,
            "grid_row": null,
            "max_height": null,
            "align_content": null,
            "visibility": null,
            "align_self": null,
            "height": null,
            "min_height": null,
            "padding": null,
            "grid_auto_rows": null,
            "grid_gap": null,
            "max_width": null,
            "order": null,
            "_view_module_version": "1.2.0",
            "grid_template_areas": null,
            "object_position": null,
            "object_fit": null,
            "grid_auto_columns": null,
            "margin": null,
            "display": null,
            "left": null
          }
        },
        "20bd9dad4f1b4311a3466c1ea64b7ddd": {
          "model_module": "@jupyter-widgets/controls",
          "model_name": "DescriptionStyleModel",
          "state": {
            "_view_name": "StyleView",
            "_model_name": "DescriptionStyleModel",
            "description_width": "",
            "_view_module": "@jupyter-widgets/base",
            "_model_module_version": "1.5.0",
            "_view_count": null,
            "_view_module_version": "1.2.0",
            "_model_module": "@jupyter-widgets/controls"
          }
        },
        "35e32b3e2cb14cfcb403c837ad660f8c": {
          "model_module": "@jupyter-widgets/base",
          "model_name": "LayoutModel",
          "state": {
            "_view_name": "LayoutView",
            "grid_template_rows": null,
            "right": null,
            "justify_content": null,
            "_view_module": "@jupyter-widgets/base",
            "overflow": null,
            "_model_module_version": "1.2.0",
            "_view_count": null,
            "flex_flow": null,
            "width": null,
            "min_width": null,
            "border": null,
            "align_items": null,
            "bottom": null,
            "_model_module": "@jupyter-widgets/base",
            "top": null,
            "grid_column": null,
            "overflow_y": null,
            "overflow_x": null,
            "grid_auto_flow": null,
            "grid_area": null,
            "grid_template_columns": null,
            "flex": null,
            "_model_name": "LayoutModel",
            "justify_items": null,
            "grid_row": null,
            "max_height": null,
            "align_content": null,
            "visibility": null,
            "align_self": null,
            "height": null,
            "min_height": null,
            "padding": null,
            "grid_auto_rows": null,
            "grid_gap": null,
            "max_width": null,
            "order": null,
            "_view_module_version": "1.2.0",
            "grid_template_areas": null,
            "object_position": null,
            "object_fit": null,
            "grid_auto_columns": null,
            "margin": null,
            "display": null,
            "left": null
          }
        },
        "edaadc0c67a244c58e81f185a4550e2e": {
          "model_module": "@jupyter-widgets/controls",
          "model_name": "HBoxModel",
          "state": {
            "_view_name": "HBoxView",
            "_dom_classes": [],
            "_model_name": "HBoxModel",
            "_view_module": "@jupyter-widgets/controls",
            "_model_module_version": "1.5.0",
            "_view_count": null,
            "_view_module_version": "1.5.0",
            "box_style": "",
            "layout": "IPY_MODEL_3b9eb516330f407199ff0c66437b88af",
            "_model_module": "@jupyter-widgets/controls",
            "children": [
              "IPY_MODEL_5140e07f77cb417081fa9d525da22098",
              "IPY_MODEL_d0f8ea5407ea4f3f9be203983b0cc5c8"
            ]
          }
        },
        "3b9eb516330f407199ff0c66437b88af": {
          "model_module": "@jupyter-widgets/base",
          "model_name": "LayoutModel",
          "state": {
            "_view_name": "LayoutView",
            "grid_template_rows": null,
            "right": null,
            "justify_content": null,
            "_view_module": "@jupyter-widgets/base",
            "overflow": null,
            "_model_module_version": "1.2.0",
            "_view_count": null,
            "flex_flow": null,
            "width": null,
            "min_width": null,
            "border": null,
            "align_items": null,
            "bottom": null,
            "_model_module": "@jupyter-widgets/base",
            "top": null,
            "grid_column": null,
            "overflow_y": null,
            "overflow_x": null,
            "grid_auto_flow": null,
            "grid_area": null,
            "grid_template_columns": null,
            "flex": null,
            "_model_name": "LayoutModel",
            "justify_items": null,
            "grid_row": null,
            "max_height": null,
            "align_content": null,
            "visibility": null,
            "align_self": null,
            "height": null,
            "min_height": null,
            "padding": null,
            "grid_auto_rows": null,
            "grid_gap": null,
            "max_width": null,
            "order": null,
            "_view_module_version": "1.2.0",
            "grid_template_areas": null,
            "object_position": null,
            "object_fit": null,
            "grid_auto_columns": null,
            "margin": null,
            "display": null,
            "left": null
          }
        },
        "5140e07f77cb417081fa9d525da22098": {
          "model_module": "@jupyter-widgets/controls",
          "model_name": "FloatProgressModel",
          "state": {
            "_view_name": "ProgressView",
            "style": "IPY_MODEL_c97e4e7c148440eda3a1344e4e0e64f8",
            "_dom_classes": [],
            "description": "  0%",
            "_model_name": "FloatProgressModel",
            "bar_style": "info",
            "max": 1,
            "_view_module": "@jupyter-widgets/controls",
            "_model_module_version": "1.5.0",
            "value": 0,
            "_view_count": null,
            "_view_module_version": "1.5.0",
            "orientation": "horizontal",
            "min": 0,
            "description_tooltip": null,
            "_model_module": "@jupyter-widgets/controls",
            "layout": "IPY_MODEL_f398aa5b1d9d4e22aadc1da3c6b49fae"
          }
        },
        "d0f8ea5407ea4f3f9be203983b0cc5c8": {
          "model_module": "@jupyter-widgets/controls",
          "model_name": "HTMLModel",
          "state": {
            "_view_name": "HTMLView",
            "style": "IPY_MODEL_e4f6a792693c4dfebd431139f7d65390",
            "_dom_classes": [],
            "description": "",
            "_model_name": "HTMLModel",
            "placeholder": "​",
            "_view_module": "@jupyter-widgets/controls",
            "_model_module_version": "1.5.0",
            "value": " 0/28881 [00:00&lt;?, ?it/s]",
            "_view_count": null,
            "_view_module_version": "1.5.0",
            "description_tooltip": null,
            "_model_module": "@jupyter-widgets/controls",
            "layout": "IPY_MODEL_c554eb1205054fd780c404975d0c754a"
          }
        },
        "c97e4e7c148440eda3a1344e4e0e64f8": {
          "model_module": "@jupyter-widgets/controls",
          "model_name": "ProgressStyleModel",
          "state": {
            "_view_name": "StyleView",
            "_model_name": "ProgressStyleModel",
            "description_width": "initial",
            "_view_module": "@jupyter-widgets/base",
            "_model_module_version": "1.5.0",
            "_view_count": null,
            "_view_module_version": "1.2.0",
            "bar_color": null,
            "_model_module": "@jupyter-widgets/controls"
          }
        },
        "f398aa5b1d9d4e22aadc1da3c6b49fae": {
          "model_module": "@jupyter-widgets/base",
          "model_name": "LayoutModel",
          "state": {
            "_view_name": "LayoutView",
            "grid_template_rows": null,
            "right": null,
            "justify_content": null,
            "_view_module": "@jupyter-widgets/base",
            "overflow": null,
            "_model_module_version": "1.2.0",
            "_view_count": null,
            "flex_flow": null,
            "width": null,
            "min_width": null,
            "border": null,
            "align_items": null,
            "bottom": null,
            "_model_module": "@jupyter-widgets/base",
            "top": null,
            "grid_column": null,
            "overflow_y": null,
            "overflow_x": null,
            "grid_auto_flow": null,
            "grid_area": null,
            "grid_template_columns": null,
            "flex": null,
            "_model_name": "LayoutModel",
            "justify_items": null,
            "grid_row": null,
            "max_height": null,
            "align_content": null,
            "visibility": null,
            "align_self": null,
            "height": null,
            "min_height": null,
            "padding": null,
            "grid_auto_rows": null,
            "grid_gap": null,
            "max_width": null,
            "order": null,
            "_view_module_version": "1.2.0",
            "grid_template_areas": null,
            "object_position": null,
            "object_fit": null,
            "grid_auto_columns": null,
            "margin": null,
            "display": null,
            "left": null
          }
        },
        "e4f6a792693c4dfebd431139f7d65390": {
          "model_module": "@jupyter-widgets/controls",
          "model_name": "DescriptionStyleModel",
          "state": {
            "_view_name": "StyleView",
            "_model_name": "DescriptionStyleModel",
            "description_width": "",
            "_view_module": "@jupyter-widgets/base",
            "_model_module_version": "1.5.0",
            "_view_count": null,
            "_view_module_version": "1.2.0",
            "_model_module": "@jupyter-widgets/controls"
          }
        },
        "c554eb1205054fd780c404975d0c754a": {
          "model_module": "@jupyter-widgets/base",
          "model_name": "LayoutModel",
          "state": {
            "_view_name": "LayoutView",
            "grid_template_rows": null,
            "right": null,
            "justify_content": null,
            "_view_module": "@jupyter-widgets/base",
            "overflow": null,
            "_model_module_version": "1.2.0",
            "_view_count": null,
            "flex_flow": null,
            "width": null,
            "min_width": null,
            "border": null,
            "align_items": null,
            "bottom": null,
            "_model_module": "@jupyter-widgets/base",
            "top": null,
            "grid_column": null,
            "overflow_y": null,
            "overflow_x": null,
            "grid_auto_flow": null,
            "grid_area": null,
            "grid_template_columns": null,
            "flex": null,
            "_model_name": "LayoutModel",
            "justify_items": null,
            "grid_row": null,
            "max_height": null,
            "align_content": null,
            "visibility": null,
            "align_self": null,
            "height": null,
            "min_height": null,
            "padding": null,
            "grid_auto_rows": null,
            "grid_gap": null,
            "max_width": null,
            "order": null,
            "_view_module_version": "1.2.0",
            "grid_template_areas": null,
            "object_position": null,
            "object_fit": null,
            "grid_auto_columns": null,
            "margin": null,
            "display": null,
            "left": null
          }
        },
        "c9c2d438ce054db4875b6963866d6aa7": {
          "model_module": "@jupyter-widgets/controls",
          "model_name": "HBoxModel",
          "state": {
            "_view_name": "HBoxView",
            "_dom_classes": [],
            "_model_name": "HBoxModel",
            "_view_module": "@jupyter-widgets/controls",
            "_model_module_version": "1.5.0",
            "_view_count": null,
            "_view_module_version": "1.5.0",
            "box_style": "",
            "layout": "IPY_MODEL_67705cb2ab4a44d29787997b80ed544d",
            "_model_module": "@jupyter-widgets/controls",
            "children": [
              "IPY_MODEL_1fca37d8de384a7b84f97998a8ca5031",
              "IPY_MODEL_23290be7e40145e49727bf560e3640b7"
            ]
          }
        },
        "67705cb2ab4a44d29787997b80ed544d": {
          "model_module": "@jupyter-widgets/base",
          "model_name": "LayoutModel",
          "state": {
            "_view_name": "LayoutView",
            "grid_template_rows": null,
            "right": null,
            "justify_content": null,
            "_view_module": "@jupyter-widgets/base",
            "overflow": null,
            "_model_module_version": "1.2.0",
            "_view_count": null,
            "flex_flow": null,
            "width": null,
            "min_width": null,
            "border": null,
            "align_items": null,
            "bottom": null,
            "_model_module": "@jupyter-widgets/base",
            "top": null,
            "grid_column": null,
            "overflow_y": null,
            "overflow_x": null,
            "grid_auto_flow": null,
            "grid_area": null,
            "grid_template_columns": null,
            "flex": null,
            "_model_name": "LayoutModel",
            "justify_items": null,
            "grid_row": null,
            "max_height": null,
            "align_content": null,
            "visibility": null,
            "align_self": null,
            "height": null,
            "min_height": null,
            "padding": null,
            "grid_auto_rows": null,
            "grid_gap": null,
            "max_width": null,
            "order": null,
            "_view_module_version": "1.2.0",
            "grid_template_areas": null,
            "object_position": null,
            "object_fit": null,
            "grid_auto_columns": null,
            "margin": null,
            "display": null,
            "left": null
          }
        },
        "1fca37d8de384a7b84f97998a8ca5031": {
          "model_module": "@jupyter-widgets/controls",
          "model_name": "FloatProgressModel",
          "state": {
            "_view_name": "ProgressView",
            "style": "IPY_MODEL_ec11b766302b4a9cbf34bdfa5c9520d7",
            "_dom_classes": [],
            "description": "",
            "_model_name": "FloatProgressModel",
            "bar_style": "success",
            "max": 1,
            "_view_module": "@jupyter-widgets/controls",
            "_model_module_version": "1.5.0",
            "value": 1,
            "_view_count": null,
            "_view_module_version": "1.5.0",
            "orientation": "horizontal",
            "min": 0,
            "description_tooltip": null,
            "_model_module": "@jupyter-widgets/controls",
            "layout": "IPY_MODEL_d1dbe720400f40af821d99cb8d30d247"
          }
        },
        "23290be7e40145e49727bf560e3640b7": {
          "model_module": "@jupyter-widgets/controls",
          "model_name": "HTMLModel",
          "state": {
            "_view_name": "HTMLView",
            "style": "IPY_MODEL_407331c29e254eac957403df16fff98e",
            "_dom_classes": [],
            "description": "",
            "_model_name": "HTMLModel",
            "placeholder": "​",
            "_view_module": "@jupyter-widgets/controls",
            "_model_module_version": "1.5.0",
            "value": " 1654784/? [00:01&lt;00:00, 1494019.36it/s]",
            "_view_count": null,
            "_view_module_version": "1.5.0",
            "description_tooltip": null,
            "_model_module": "@jupyter-widgets/controls",
            "layout": "IPY_MODEL_73743ddcca7746398d8737c0f62588fc"
          }
        },
        "ec11b766302b4a9cbf34bdfa5c9520d7": {
          "model_module": "@jupyter-widgets/controls",
          "model_name": "ProgressStyleModel",
          "state": {
            "_view_name": "StyleView",
            "_model_name": "ProgressStyleModel",
            "description_width": "initial",
            "_view_module": "@jupyter-widgets/base",
            "_model_module_version": "1.5.0",
            "_view_count": null,
            "_view_module_version": "1.2.0",
            "bar_color": null,
            "_model_module": "@jupyter-widgets/controls"
          }
        },
        "d1dbe720400f40af821d99cb8d30d247": {
          "model_module": "@jupyter-widgets/base",
          "model_name": "LayoutModel",
          "state": {
            "_view_name": "LayoutView",
            "grid_template_rows": null,
            "right": null,
            "justify_content": null,
            "_view_module": "@jupyter-widgets/base",
            "overflow": null,
            "_model_module_version": "1.2.0",
            "_view_count": null,
            "flex_flow": null,
            "width": null,
            "min_width": null,
            "border": null,
            "align_items": null,
            "bottom": null,
            "_model_module": "@jupyter-widgets/base",
            "top": null,
            "grid_column": null,
            "overflow_y": null,
            "overflow_x": null,
            "grid_auto_flow": null,
            "grid_area": null,
            "grid_template_columns": null,
            "flex": null,
            "_model_name": "LayoutModel",
            "justify_items": null,
            "grid_row": null,
            "max_height": null,
            "align_content": null,
            "visibility": null,
            "align_self": null,
            "height": null,
            "min_height": null,
            "padding": null,
            "grid_auto_rows": null,
            "grid_gap": null,
            "max_width": null,
            "order": null,
            "_view_module_version": "1.2.0",
            "grid_template_areas": null,
            "object_position": null,
            "object_fit": null,
            "grid_auto_columns": null,
            "margin": null,
            "display": null,
            "left": null
          }
        },
        "407331c29e254eac957403df16fff98e": {
          "model_module": "@jupyter-widgets/controls",
          "model_name": "DescriptionStyleModel",
          "state": {
            "_view_name": "StyleView",
            "_model_name": "DescriptionStyleModel",
            "description_width": "",
            "_view_module": "@jupyter-widgets/base",
            "_model_module_version": "1.5.0",
            "_view_count": null,
            "_view_module_version": "1.2.0",
            "_model_module": "@jupyter-widgets/controls"
          }
        },
        "73743ddcca7746398d8737c0f62588fc": {
          "model_module": "@jupyter-widgets/base",
          "model_name": "LayoutModel",
          "state": {
            "_view_name": "LayoutView",
            "grid_template_rows": null,
            "right": null,
            "justify_content": null,
            "_view_module": "@jupyter-widgets/base",
            "overflow": null,
            "_model_module_version": "1.2.0",
            "_view_count": null,
            "flex_flow": null,
            "width": null,
            "min_width": null,
            "border": null,
            "align_items": null,
            "bottom": null,
            "_model_module": "@jupyter-widgets/base",
            "top": null,
            "grid_column": null,
            "overflow_y": null,
            "overflow_x": null,
            "grid_auto_flow": null,
            "grid_area": null,
            "grid_template_columns": null,
            "flex": null,
            "_model_name": "LayoutModel",
            "justify_items": null,
            "grid_row": null,
            "max_height": null,
            "align_content": null,
            "visibility": null,
            "align_self": null,
            "height": null,
            "min_height": null,
            "padding": null,
            "grid_auto_rows": null,
            "grid_gap": null,
            "max_width": null,
            "order": null,
            "_view_module_version": "1.2.0",
            "grid_template_areas": null,
            "object_position": null,
            "object_fit": null,
            "grid_auto_columns": null,
            "margin": null,
            "display": null,
            "left": null
          }
        },
        "11481b73f64c4fab9916ca02931065a6": {
          "model_module": "@jupyter-widgets/controls",
          "model_name": "HBoxModel",
          "state": {
            "_view_name": "HBoxView",
            "_dom_classes": [],
            "_model_name": "HBoxModel",
            "_view_module": "@jupyter-widgets/controls",
            "_model_module_version": "1.5.0",
            "_view_count": null,
            "_view_module_version": "1.5.0",
            "box_style": "",
            "layout": "IPY_MODEL_d502445ee9fe4b2492b7da264855d874",
            "_model_module": "@jupyter-widgets/controls",
            "children": [
              "IPY_MODEL_5dfdf70db1e8497a90f0d41ce92ea286",
              "IPY_MODEL_dbd1c87639724b9a989ba95a624bde9e"
            ]
          }
        },
        "d502445ee9fe4b2492b7da264855d874": {
          "model_module": "@jupyter-widgets/base",
          "model_name": "LayoutModel",
          "state": {
            "_view_name": "LayoutView",
            "grid_template_rows": null,
            "right": null,
            "justify_content": null,
            "_view_module": "@jupyter-widgets/base",
            "overflow": null,
            "_model_module_version": "1.2.0",
            "_view_count": null,
            "flex_flow": null,
            "width": null,
            "min_width": null,
            "border": null,
            "align_items": null,
            "bottom": null,
            "_model_module": "@jupyter-widgets/base",
            "top": null,
            "grid_column": null,
            "overflow_y": null,
            "overflow_x": null,
            "grid_auto_flow": null,
            "grid_area": null,
            "grid_template_columns": null,
            "flex": null,
            "_model_name": "LayoutModel",
            "justify_items": null,
            "grid_row": null,
            "max_height": null,
            "align_content": null,
            "visibility": null,
            "align_self": null,
            "height": null,
            "min_height": null,
            "padding": null,
            "grid_auto_rows": null,
            "grid_gap": null,
            "max_width": null,
            "order": null,
            "_view_module_version": "1.2.0",
            "grid_template_areas": null,
            "object_position": null,
            "object_fit": null,
            "grid_auto_columns": null,
            "margin": null,
            "display": null,
            "left": null
          }
        },
        "5dfdf70db1e8497a90f0d41ce92ea286": {
          "model_module": "@jupyter-widgets/controls",
          "model_name": "FloatProgressModel",
          "state": {
            "_view_name": "ProgressView",
            "style": "IPY_MODEL_50d601a70bd74777981d2b173e1185dd",
            "_dom_classes": [],
            "description": "",
            "_model_name": "FloatProgressModel",
            "bar_style": "success",
            "max": 1,
            "_view_module": "@jupyter-widgets/controls",
            "_model_module_version": "1.5.0",
            "value": 1,
            "_view_count": null,
            "_view_module_version": "1.5.0",
            "orientation": "horizontal",
            "min": 0,
            "description_tooltip": null,
            "_model_module": "@jupyter-widgets/controls",
            "layout": "IPY_MODEL_ad5466415e0247b4a31526c10a99c3ca"
          }
        },
        "dbd1c87639724b9a989ba95a624bde9e": {
          "model_module": "@jupyter-widgets/controls",
          "model_name": "HTMLModel",
          "state": {
            "_view_name": "HTMLView",
            "style": "IPY_MODEL_c442521520d14c2eb380c6de081a7cc6",
            "_dom_classes": [],
            "description": "",
            "_model_name": "HTMLModel",
            "placeholder": "​",
            "_view_module": "@jupyter-widgets/controls",
            "_model_module_version": "1.5.0",
            "value": " 8192/? [00:00&lt;00:00, 22215.73it/s]",
            "_view_count": null,
            "_view_module_version": "1.5.0",
            "description_tooltip": null,
            "_model_module": "@jupyter-widgets/controls",
            "layout": "IPY_MODEL_614054b107c5425fa8866c4ae45acf43"
          }
        },
        "50d601a70bd74777981d2b173e1185dd": {
          "model_module": "@jupyter-widgets/controls",
          "model_name": "ProgressStyleModel",
          "state": {
            "_view_name": "StyleView",
            "_model_name": "ProgressStyleModel",
            "description_width": "initial",
            "_view_module": "@jupyter-widgets/base",
            "_model_module_version": "1.5.0",
            "_view_count": null,
            "_view_module_version": "1.2.0",
            "bar_color": null,
            "_model_module": "@jupyter-widgets/controls"
          }
        },
        "ad5466415e0247b4a31526c10a99c3ca": {
          "model_module": "@jupyter-widgets/base",
          "model_name": "LayoutModel",
          "state": {
            "_view_name": "LayoutView",
            "grid_template_rows": null,
            "right": null,
            "justify_content": null,
            "_view_module": "@jupyter-widgets/base",
            "overflow": null,
            "_model_module_version": "1.2.0",
            "_view_count": null,
            "flex_flow": null,
            "width": null,
            "min_width": null,
            "border": null,
            "align_items": null,
            "bottom": null,
            "_model_module": "@jupyter-widgets/base",
            "top": null,
            "grid_column": null,
            "overflow_y": null,
            "overflow_x": null,
            "grid_auto_flow": null,
            "grid_area": null,
            "grid_template_columns": null,
            "flex": null,
            "_model_name": "LayoutModel",
            "justify_items": null,
            "grid_row": null,
            "max_height": null,
            "align_content": null,
            "visibility": null,
            "align_self": null,
            "height": null,
            "min_height": null,
            "padding": null,
            "grid_auto_rows": null,
            "grid_gap": null,
            "max_width": null,
            "order": null,
            "_view_module_version": "1.2.0",
            "grid_template_areas": null,
            "object_position": null,
            "object_fit": null,
            "grid_auto_columns": null,
            "margin": null,
            "display": null,
            "left": null
          }
        },
        "c442521520d14c2eb380c6de081a7cc6": {
          "model_module": "@jupyter-widgets/controls",
          "model_name": "DescriptionStyleModel",
          "state": {
            "_view_name": "StyleView",
            "_model_name": "DescriptionStyleModel",
            "description_width": "",
            "_view_module": "@jupyter-widgets/base",
            "_model_module_version": "1.5.0",
            "_view_count": null,
            "_view_module_version": "1.2.0",
            "_model_module": "@jupyter-widgets/controls"
          }
        },
        "614054b107c5425fa8866c4ae45acf43": {
          "model_module": "@jupyter-widgets/base",
          "model_name": "LayoutModel",
          "state": {
            "_view_name": "LayoutView",
            "grid_template_rows": null,
            "right": null,
            "justify_content": null,
            "_view_module": "@jupyter-widgets/base",
            "overflow": null,
            "_model_module_version": "1.2.0",
            "_view_count": null,
            "flex_flow": null,
            "width": null,
            "min_width": null,
            "border": null,
            "align_items": null,
            "bottom": null,
            "_model_module": "@jupyter-widgets/base",
            "top": null,
            "grid_column": null,
            "overflow_y": null,
            "overflow_x": null,
            "grid_auto_flow": null,
            "grid_area": null,
            "grid_template_columns": null,
            "flex": null,
            "_model_name": "LayoutModel",
            "justify_items": null,
            "grid_row": null,
            "max_height": null,
            "align_content": null,
            "visibility": null,
            "align_self": null,
            "height": null,
            "min_height": null,
            "padding": null,
            "grid_auto_rows": null,
            "grid_gap": null,
            "max_width": null,
            "order": null,
            "_view_module_version": "1.2.0",
            "grid_template_areas": null,
            "object_position": null,
            "object_fit": null,
            "grid_auto_columns": null,
            "margin": null,
            "display": null,
            "left": null
          }
        }
      }
    }
  },
  "cells": [
    {
      "cell_type": "markdown",
      "metadata": {
        "colab_type": "text",
        "id": "ZryMFKwj5oq0"
      },
      "source": [
        "# Session 6:\n",
        "## Target: \n",
        "Run below versions for 25 epochs and report findings:<br>\n",
        "with L1 + BN <br>\n",
        "with L2 + BN <br>\n",
        "with L1 and L2 with BN <br>\n",
        "with GBN <br>\n",
        "with L1 and L2 with GBN <br>\n",
        "\n",
        "## Results:\n",
        "Parameters: 8786 <br>\n",
        "Base Model NLL with BN (Batch size 128) - Train Accuracy / Test Accuracy:  98.72% (max 98.79%) / 99.51% (max 99.53%) <br>\n",
        "with L1 + BN (Batch size 128) - Train Accuracy / Test Accuracy:  98.78% (max 98.83%) / 99.42% (max 99.43%) <br>\n",
        "with L2 + BN (Batch size 128) - Train Accuracy / Test Accuracy: 98.77% (max 98.79%) / 99.36% (max 99.38%) <br>\n",
        "with L1 and L2 with BN (Batch size 128) - Train Accuracy / Test Accuracy: 98.77% (max 98.80%) / 99.42% (max 99.45%) <br>\n",
        "with GBN (Batch size 512) - Train Accuracy / Test Accuracy: 98.3 (max 98.3) / 99.23 (max 99.24) <br>\n",
        "with L1 and L2 with GBN (Batch size 512) - Train Accuracy / Test Accuracy: 98.34% (max 98.34%) / 99.18% (max 99.20%) <br>\n",
        "\n",
        "## Analysis: <br>\n",
        "- L1 Regularization reduces the gap between train and test accuracies, in this case train accuracy increased and test accuracy decreased. As expected from regularization. <br>\n",
        "\n",
        "- L2 Regularization reduces the gap between train and test accuracies, in this case train accuracy increased and test accuracy decreased. As expected from regularization. <br>\n",
        "\n",
        "- L1+L2 regularisation seems to give better results, with test accuracy also increasing while the gap between train and test reduced.\n",
        "\n",
        "- For L1+L2 with / without GBN, it is seen that Ghost Batch normalisation seems to reduce the gap between train and test accuracy, in this case increased the train accuracy but decreased the test accuracy. <br>\n",
        "However, if we look NLL + BN and NLL + GBN comparison, NLL + BN gives higher train and test accuracy. <br>\n"
      ]
    },
    {
      "cell_type": "code",
      "metadata": {
        "id": "F5009Hzd7Gdp",
        "colab_type": "code",
        "colab": {
          "resources": {
            "http://localhost:8080/nbextensions/google.colab/files.js": {
              "data": "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",
              "ok": true,
              "headers": [
                [
                  "content-type",
                  "application/javascript"
                ]
              ],
              "status": 200,
              "status_text": ""
            }
          },
          "base_uri": "https://localhost:8080/",
          "height": 310
        },
        "outputId": "5eb00163-db45-4853-9937-71eb189b7fda"
      },
      "source": [
        "from google.colab import files\n",
        "import os, sys\n",
        "\n",
        "if os.path.exists(os.path.join(sys.path[0], 's6model.py')) == False:\n",
        "  uploaded = files.upload()\n",
        "if os.path.exists(\"models\") == False:\n",
        "  !mkdir models\n",
        "\n",
        "if os.path.exists(\"graphs\") == False:\n",
        "  !mkdir graphs\n"
      ],
      "execution_count": 1,
      "outputs": [
        {
          "output_type": "display_data",
          "data": {
            "text/html": [
              "\n",
              "     <input type=\"file\" id=\"files-3c9dfab9-9ffd-4923-889f-0b304808246d\" name=\"files[]\" multiple disabled\n",
              "        style=\"border:none\" />\n",
              "     <output id=\"result-3c9dfab9-9ffd-4923-889f-0b304808246d\">\n",
              "      Upload widget is only available when the cell has been executed in the\n",
              "      current browser session. Please rerun this cell to enable.\n",
              "      </output>\n",
              "      <script src=\"/nbextensions/google.colab/files.js\"></script> "
            ],
            "text/plain": [
              "<IPython.core.display.HTML object>"
            ]
          },
          "metadata": {
            "tags": []
          }
        },
        {
          "output_type": "stream",
          "text": [
            "Saving config.py to config.py\n",
            "Saving data_transformer_loader.py to data_transformer_loader.py\n",
            "Saving graphs_plotter.py to graphs_plotter.py\n",
            "Saving regularization.py to regularization.py\n",
            "Saving s6model_Avnish.py to s6model_Avnish.py\n",
            "Saving s6model.py to s6model.py\n",
            "Saving test.py to test.py\n",
            "Saving train.py to train.py\n"
          ],
          "name": "stdout"
        }
      ]
    },
    {
      "cell_type": "markdown",
      "metadata": {
        "colab_type": "text",
        "id": "SQQkQgSFay9z"
      },
      "source": [
        "# Import Libraries"
      ]
    },
    {
      "cell_type": "code",
      "metadata": {
        "colab_type": "code",
        "id": "0m2JWFliFfKT",
        "colab": {}
      },
      "source": [
        "# importing all the Python Packages & torch Library.\n",
        "from __future__ import print_function\n",
        "import torch\n",
        "import torch.nn as nn\n",
        "import torch.nn.functional as F\n",
        "import torch.optim as optim\n",
        "from s6model import Net\n",
        "import config\n",
        "import train\n",
        "import test\n",
        "import data_transformer_loader as dtl\n",
        "import graphs_plotter as gp\n"
      ],
      "execution_count": 2,
      "outputs": []
    },
    {
      "cell_type": "markdown",
      "metadata": {
        "colab_type": "text",
        "id": "lMkoC-Q_a-cv"
      },
      "source": [
        "# Print Summary of Model"
      ]
    },
    {
      "cell_type": "code",
      "metadata": {
        "colab_type": "code",
        "id": "xdydjYTZFyi3",
        "tags": [],
        "colab": {
          "base_uri": "https://localhost:8080/",
          "height": 765
        },
        "outputId": "07f57088-706f-4a4b-8354-75f4cfba35c4"
      },
      "source": [
        "!pip install torchsummary\n",
        "from torchsummary import summary\n",
        "torch.manual_seed(config.SEED)\n",
        "\n",
        "config.use_cuda = torch.cuda.is_available()\n",
        "if config.use_cuda:\n",
        "    torch.cuda.manual_seed(config.SEED)\n",
        "\n",
        "# this is the batch size , in 1 pas no of images passed together.\n",
        "print(\"CUDA Available?\", config.use_cuda)\n",
        "\n",
        "device = torch.device(\"cuda\" if config.use_cuda else \"cpu\")\n",
        "model = Net(\"BN\").to(device)\n",
        "summary(model, input_size=(1, 28, 28))"
      ],
      "execution_count": 3,
      "outputs": [
        {
          "output_type": "stream",
          "text": [
            "Requirement already satisfied: torchsummary in /usr/local/lib/python3.6/dist-packages (1.5.1)\n",
            "CUDA Available? True\n",
            "----------------------------------------------------------------\n",
            "        Layer (type)               Output Shape         Param #\n",
            "================================================================\n",
            "            Conv2d-1           [-1, 10, 28, 28]              90\n",
            "              ReLU-2           [-1, 10, 28, 28]               0\n",
            "       BatchNorm2d-3           [-1, 10, 28, 28]              20\n",
            "           Dropout-4           [-1, 10, 28, 28]               0\n",
            "            Conv2d-5           [-1, 24, 26, 26]           2,160\n",
            "              ReLU-6           [-1, 24, 26, 26]               0\n",
            "       BatchNorm2d-7           [-1, 24, 26, 26]              48\n",
            "           Dropout-8           [-1, 24, 26, 26]               0\n",
            "            Conv2d-9           [-1, 10, 26, 26]             240\n",
            "             ReLU-10           [-1, 10, 26, 26]               0\n",
            "        MaxPool2d-11           [-1, 10, 13, 13]               0\n",
            "           Conv2d-12           [-1, 10, 13, 13]             900\n",
            "             ReLU-13           [-1, 10, 13, 13]               0\n",
            "      BatchNorm2d-14           [-1, 10, 13, 13]              20\n",
            "          Dropout-15           [-1, 10, 13, 13]               0\n",
            "           Conv2d-16           [-1, 16, 11, 11]           1,440\n",
            "             ReLU-17           [-1, 16, 11, 11]               0\n",
            "      BatchNorm2d-18           [-1, 16, 11, 11]              32\n",
            "          Dropout-19           [-1, 16, 11, 11]               0\n",
            "           Conv2d-20             [-1, 16, 9, 9]           2,304\n",
            "             ReLU-21             [-1, 16, 9, 9]               0\n",
            "      BatchNorm2d-22             [-1, 16, 9, 9]              32\n",
            "          Dropout-23             [-1, 16, 9, 9]               0\n",
            "           Conv2d-24             [-1, 16, 7, 7]           2,304\n",
            "             ReLU-25             [-1, 16, 7, 7]               0\n",
            "      BatchNorm2d-26             [-1, 16, 7, 7]              32\n",
            "          Dropout-27             [-1, 16, 7, 7]               0\n",
            "        AvgPool2d-28             [-1, 16, 1, 1]               0\n",
            "           Conv2d-29             [-1, 10, 1, 1]             160\n",
            "================================================================\n",
            "Total params: 9,782\n",
            "Trainable params: 9,782\n",
            "Non-trainable params: 0\n",
            "----------------------------------------------------------------\n",
            "Input size (MB): 0.00\n",
            "Forward/backward pass size (MB): 1.02\n",
            "Params size (MB): 0.04\n",
            "Estimated Total Size (MB): 1.07\n",
            "----------------------------------------------------------------\n"
          ],
          "name": "stdout"
        }
      ]
    },
    {
      "cell_type": "code",
      "metadata": {
        "colab_type": "code",
        "id": "MMWbLWO6FuHb",
        "tags": [],
        "colab": {
          "base_uri": "https://localhost:8080/",
          "height": 1000,
          "referenced_widgets": [
            "63f7c2680dbd4ce3b84918bc186c841c",
            "bdfd3ab04b114f63abfbb1418549add2",
            "a577a36ddad84fa0928c41a32849f60d",
            "8d94bcee03a6467ea60e699621da866f",
            "9654462f98b74cceb5b880ba13812a7a",
            "ab920b72c40c4342b492fb8492ac43f4",
            "20bd9dad4f1b4311a3466c1ea64b7ddd",
            "35e32b3e2cb14cfcb403c837ad660f8c",
            "edaadc0c67a244c58e81f185a4550e2e",
            "3b9eb516330f407199ff0c66437b88af",
            "5140e07f77cb417081fa9d525da22098",
            "d0f8ea5407ea4f3f9be203983b0cc5c8",
            "c97e4e7c148440eda3a1344e4e0e64f8",
            "f398aa5b1d9d4e22aadc1da3c6b49fae",
            "e4f6a792693c4dfebd431139f7d65390",
            "c554eb1205054fd780c404975d0c754a",
            "c9c2d438ce054db4875b6963866d6aa7",
            "67705cb2ab4a44d29787997b80ed544d",
            "1fca37d8de384a7b84f97998a8ca5031",
            "23290be7e40145e49727bf560e3640b7",
            "ec11b766302b4a9cbf34bdfa5c9520d7",
            "d1dbe720400f40af821d99cb8d30d247",
            "407331c29e254eac957403df16fff98e",
            "73743ddcca7746398d8737c0f62588fc",
            "11481b73f64c4fab9916ca02931065a6",
            "d502445ee9fe4b2492b7da264855d874",
            "5dfdf70db1e8497a90f0d41ce92ea286",
            "dbd1c87639724b9a989ba95a624bde9e",
            "50d601a70bd74777981d2b173e1185dd",
            "ad5466415e0247b4a31526c10a99c3ca",
            "c442521520d14c2eb380c6de081a7cc6",
            "614054b107c5425fa8866c4ae45acf43"
          ]
        },
        "outputId": "4fdf2b83-e7f3-47ca-bfb1-8b2c8f501b4d"
      },
      "source": [
        "from torch.optim.lr_scheduler import StepLR\n",
        "import pickle, os\n",
        "\n",
        "# Load Data from MNIST dataset\n",
        "dtl.LoadData()\n",
        "\n",
        "# with L1 + BN\n",
        "# with L2 + BN\n",
        "# with L1 and L2 with BN\n",
        "# with GBN\n",
        "# with L1 and L2 with GBN \n",
        "approach_options = [[\"nll\", \"BN\"],[\"L1\", \"BN\"], [\"L2\", \"BN\"], [\"L1L2\", \"BN\"], [\"nll\", \"GBN\"], [\"L1L2\", \"GBN\"]]\n",
        "# approach_options = [[\"nll\", \"BN\"]]\n",
        "approach_dicts = {}\n",
        "gbn_misclassified = []\n",
        "gbn_predictions = []\n",
        "\n",
        "for approach in approach_options:\n",
        "  train.train_losses = []\n",
        "  test.test_losses = []\n",
        "  train.train_acc = []\n",
        "  test.test_acc = []\n",
        "\n",
        "  # print (\"approach = \", approach)\n",
        "  label = approach[0] + ' with ' + approach[1]\n",
        "  if approach[1] == \"GBN\":\n",
        "    config.batch_size = 512\n",
        "  else:\n",
        "    config.batch_size = 128\n",
        "    #train_loader.batch_size = 512\n",
        "    #test_loader.batch_size = 512\n",
        "    # dataloader arguments - something you'll fetch these from cmdprmt\n",
        "\n",
        "  dtl.InitialiseDataLoaders()\n",
        "  model = Net(approach[1]).to(device) # move the model to device.\n",
        "\n",
        "  if (config.overwrite == False) and os.path.isfile(os.path.join(sys.path[0], 'models/EVAS6-' + label + '.pkl')):\n",
        "    with open (os.path.join(sys.path[0],'models/EVAS6-' + label + '.pkl'),'rb') as f:\n",
        "      approach_dicts[label] = pickle.load(f)\n",
        "    #from google.colab import files\n",
        "    #files.download('EVAS6-' + label + '.pkl')\n",
        "\n",
        "  else:\n",
        "    if (approach[0] == \"L2\") or (approach[0] == \"L1L2\"):\n",
        "      optimizer = optim.SGD(model.parameters(), lr=0.1, momentum=0.9, weight_decay=1e-5)  # intiating the SGD optimizer\n",
        "    else:\n",
        "      optimizer = optim.SGD(model.parameters(), lr=0.1, momentum=0.9)  # intiating the SGD optimizer\n",
        "\n",
        "    scheduler = StepLR(optimizer, step_size=6, gamma=0.1)\n",
        "    approach_dict = {}\n",
        "\n",
        "    for epoch in range(1, config.TOTAL_EPOCHS + 1):\n",
        "      print(\"Approach: Loss, BN = \",approach[0], approach[1],\"epoch =\", epoch)\n",
        "      train.train(model, device, dtl.train_loader, optimizer, epoch, approach[0])\n",
        "      scheduler.step()\n",
        "      test.test(model, device, dtl.test_loader)\n",
        "    \n",
        "    # print (\"test_acc = \", test.test_acc)\n",
        "\n",
        "    approach_dict[\"train_losses\"] = train.train_losses\n",
        "    approach_dict[\"train_acc\"] = train.train_acc\n",
        "    approach_dict[\"test_losses\"] = test.test_losses\n",
        "    approach_dict[\"test_acc\"] = test.test_acc\n",
        "    approach_dicts[label] = approach_dict\n",
        "    val_data = {'test_acc':test.test_acc,'test_losses':test.test_losses}\n",
        "    \n",
        "    pklfilepath = None\n",
        "    if (sys.path[0] != ''):\n",
        "      pklfilepath = os.path.join(sys.path[0], 'models/EVAS6-' + label + '.pkl')\n",
        "    else:\n",
        "      pklfilepath = os.path.join(os.getcwd(), 'models/EVAS6-' + label + '.pkl')\n",
        "\n",
        "    if (config.overwrite == True) and os.path.exists(pklfilepath):\n",
        "      os.remove(pklfilepath) #this deletes the file\n",
        "    with open(pklfilepath,'wb') as f:\n",
        "      pickle.dump(val_data,f)\n",
        "  if (approach[0] == \"nll\") and (approach[1] == \"GBN\"):\n",
        "    #gbn_misclassified, _, gbn_predictions = find_missclassified(model)\n",
        "    gp.Plot_misclassifed(model, device, dtl.test_loader)\n",
        "\n",
        "\n"
      ],
      "execution_count": 4,
      "outputs": [
        {
          "output_type": "stream",
          "text": [
            "Downloading http://yann.lecun.com/exdb/mnist/train-images-idx3-ubyte.gz to ./data/MNIST/raw/train-images-idx3-ubyte.gz\n"
          ],
          "name": "stdout"
        },
        {
          "output_type": "display_data",
          "data": {
            "application/vnd.jupyter.widget-view+json": {
              "model_id": "63f7c2680dbd4ce3b84918bc186c841c",
              "version_minor": 0,
              "version_major": 2
            },
            "text/plain": [
              "HBox(children=(FloatProgress(value=1.0, bar_style='info', max=1.0), HTML(value='')))"
            ]
          },
          "metadata": {
            "tags": []
          }
        },
        {
          "output_type": "stream",
          "text": [
            "Extracting ./data/MNIST/raw/train-images-idx3-ubyte.gz to ./data/MNIST/raw\n",
            "Downloading http://yann.lecun.com/exdb/mnist/train-labels-idx1-ubyte.gz to ./data/MNIST/raw/train-labels-idx1-ubyte.gz\n"
          ],
          "name": "stdout"
        },
        {
          "output_type": "display_data",
          "data": {
            "application/vnd.jupyter.widget-view+json": {
              "model_id": "edaadc0c67a244c58e81f185a4550e2e",
              "version_minor": 0,
              "version_major": 2
            },
            "text/plain": [
              "HBox(children=(FloatProgress(value=1.0, bar_style='info', max=1.0), HTML(value='')))"
            ]
          },
          "metadata": {
            "tags": []
          }
        },
        {
          "output_type": "stream",
          "text": [
            "Extracting ./data/MNIST/raw/train-labels-idx1-ubyte.gz to ./data/MNIST/raw\n",
            "Downloading http://yann.lecun.com/exdb/mnist/t10k-images-idx3-ubyte.gz to ./data/MNIST/raw/t10k-images-idx3-ubyte.gz\n"
          ],
          "name": "stdout"
        },
        {
          "output_type": "display_data",
          "data": {
            "application/vnd.jupyter.widget-view+json": {
              "model_id": "c9c2d438ce054db4875b6963866d6aa7",
              "version_minor": 0,
              "version_major": 2
            },
            "text/plain": [
              "HBox(children=(FloatProgress(value=1.0, bar_style='info', max=1.0), HTML(value='')))"
            ]
          },
          "metadata": {
            "tags": []
          }
        },
        {
          "output_type": "stream",
          "text": [
            "Extracting ./data/MNIST/raw/t10k-images-idx3-ubyte.gz to ./data/MNIST/raw\n",
            "Downloading http://yann.lecun.com/exdb/mnist/t10k-labels-idx1-ubyte.gz to ./data/MNIST/raw/t10k-labels-idx1-ubyte.gz\n"
          ],
          "name": "stdout"
        },
        {
          "output_type": "display_data",
          "data": {
            "application/vnd.jupyter.widget-view+json": {
              "model_id": "11481b73f64c4fab9916ca02931065a6",
              "version_minor": 0,
              "version_major": 2
            },
            "text/plain": [
              "HBox(children=(FloatProgress(value=1.0, bar_style='info', max=1.0), HTML(value='')))"
            ]
          },
          "metadata": {
            "tags": []
          }
        },
        {
          "output_type": "stream",
          "text": [
            "/usr/local/lib/python3.6/dist-packages/torchvision/datasets/mnist.py:469: UserWarning: The given NumPy array is not writeable, and PyTorch does not support non-writeable tensors. This means you can write to the underlying (supposedly non-writeable) NumPy array using the tensor. You may want to copy the array to protect its data or make it writeable before converting it to a tensor. This type of warning will be suppressed for the rest of this program. (Triggered internally at  /pytorch/torch/csrc/utils/tensor_numpy.cpp:141.)\n",
            "  return torch.from_numpy(parsed.astype(m[2], copy=False)).view(*s)\n",
            "\r  0%|          | 0/469 [00:00<?, ?it/s]"
          ],
          "name": "stderr"
        },
        {
          "output_type": "stream",
          "text": [
            "Extracting ./data/MNIST/raw/t10k-labels-idx1-ubyte.gz to ./data/MNIST/raw\n",
            "Processing...\n",
            "Done!\n",
            "\n",
            "\n",
            "Approach: Loss, BN =  nll BN epoch = 1\n"
          ],
          "name": "stdout"
        },
        {
          "output_type": "stream",
          "text": [
            "loss=0.04832474887371063 batch_id=468 Train Accuracy=91.69%: 100%|██████████| 469/469 [00:14<00:00, 32.29it/s]\n",
            "  0%|          | 0/469 [00:00<?, ?it/s]"
          ],
          "name": "stderr"
        },
        {
          "output_type": "stream",
          "text": [
            "\n",
            "Test set: Average loss: 0.0540, Test Accuracy: 9824/10000 (98.24%)\n",
            "\n",
            "Approach: Loss, BN =  nll BN epoch = 2\n"
          ],
          "name": "stdout"
        },
        {
          "output_type": "stream",
          "text": [
            "loss=0.1015397310256958 batch_id=468 Train Accuracy=97.50%: 100%|██████████| 469/469 [00:14<00:00, 32.25it/s]\n",
            "  0%|          | 0/469 [00:00<?, ?it/s]"
          ],
          "name": "stderr"
        },
        {
          "output_type": "stream",
          "text": [
            "\n",
            "Test set: Average loss: 0.0333, Test Accuracy: 9904/10000 (99.04%)\n",
            "\n",
            "Approach: Loss, BN =  nll BN epoch = 3\n"
          ],
          "name": "stdout"
        },
        {
          "output_type": "stream",
          "text": [
            "loss=0.045692648738622665 batch_id=468 Train Accuracy=97.91%: 100%|██████████| 469/469 [00:14<00:00, 32.35it/s]\n",
            "  0%|          | 0/469 [00:00<?, ?it/s]"
          ],
          "name": "stderr"
        },
        {
          "output_type": "stream",
          "text": [
            "\n",
            "Test set: Average loss: 0.0277, Test Accuracy: 9907/10000 (99.07%)\n",
            "\n",
            "Approach: Loss, BN =  nll BN epoch = 4\n"
          ],
          "name": "stdout"
        },
        {
          "output_type": "stream",
          "text": [
            "loss=0.06838365644216537 batch_id=468 Train Accuracy=98.22%: 100%|██████████| 469/469 [00:14<00:00, 31.98it/s]\n",
            "  0%|          | 0/469 [00:00<?, ?it/s]"
          ],
          "name": "stderr"
        },
        {
          "output_type": "stream",
          "text": [
            "\n",
            "Test set: Average loss: 0.0274, Test Accuracy: 9909/10000 (99.09%)\n",
            "\n",
            "Approach: Loss, BN =  nll BN epoch = 5\n"
          ],
          "name": "stdout"
        },
        {
          "output_type": "stream",
          "text": [
            "loss=0.010827011428773403 batch_id=468 Train Accuracy=98.33%: 100%|██████████| 469/469 [00:14<00:00, 32.14it/s]\n",
            "  0%|          | 0/469 [00:00<?, ?it/s]"
          ],
          "name": "stderr"
        },
        {
          "output_type": "stream",
          "text": [
            "\n",
            "Test set: Average loss: 0.0369, Test Accuracy: 9879/10000 (98.79%)\n",
            "\n",
            "Approach: Loss, BN =  nll BN epoch = 6\n"
          ],
          "name": "stdout"
        },
        {
          "output_type": "stream",
          "text": [
            "loss=0.06964240968227386 batch_id=468 Train Accuracy=98.33%: 100%|██████████| 469/469 [00:14<00:00, 31.98it/s]\n",
            "  0%|          | 0/469 [00:00<?, ?it/s]"
          ],
          "name": "stderr"
        },
        {
          "output_type": "stream",
          "text": [
            "\n",
            "Test set: Average loss: 0.0270, Test Accuracy: 9919/10000 (99.19%)\n",
            "\n",
            "Approach: Loss, BN =  nll BN epoch = 7\n"
          ],
          "name": "stdout"
        },
        {
          "output_type": "stream",
          "text": [
            "loss=0.01892491988837719 batch_id=468 Train Accuracy=98.77%: 100%|██████████| 469/469 [00:14<00:00, 31.95it/s]\n",
            "  0%|          | 0/469 [00:00<?, ?it/s]"
          ],
          "name": "stderr"
        },
        {
          "output_type": "stream",
          "text": [
            "\n",
            "Test set: Average loss: 0.0207, Test Accuracy: 9934/10000 (99.34%)\n",
            "\n",
            "Approach: Loss, BN =  nll BN epoch = 8\n"
          ],
          "name": "stdout"
        },
        {
          "output_type": "stream",
          "text": [
            "loss=0.0364554300904274 batch_id=468 Train Accuracy=98.86%: 100%|██████████| 469/469 [00:14<00:00, 31.67it/s]\n",
            "  0%|          | 0/469 [00:00<?, ?it/s]"
          ],
          "name": "stderr"
        },
        {
          "output_type": "stream",
          "text": [
            "\n",
            "Test set: Average loss: 0.0203, Test Accuracy: 9935/10000 (99.35%)\n",
            "\n",
            "Approach: Loss, BN =  nll BN epoch = 9\n"
          ],
          "name": "stdout"
        },
        {
          "output_type": "stream",
          "text": [
            "loss=0.01761585660278797 batch_id=468 Train Accuracy=98.87%: 100%|██████████| 469/469 [00:14<00:00, 31.43it/s]\n",
            "  0%|          | 0/469 [00:00<?, ?it/s]"
          ],
          "name": "stderr"
        },
        {
          "output_type": "stream",
          "text": [
            "\n",
            "Test set: Average loss: 0.0207, Test Accuracy: 9937/10000 (99.37%)\n",
            "\n",
            "Approach: Loss, BN =  nll BN epoch = 10\n"
          ],
          "name": "stdout"
        },
        {
          "output_type": "stream",
          "text": [
            "loss=0.07196719199419022 batch_id=468 Train Accuracy=98.92%: 100%|██████████| 469/469 [00:14<00:00, 31.36it/s]\n",
            "  0%|          | 0/469 [00:00<?, ?it/s]"
          ],
          "name": "stderr"
        },
        {
          "output_type": "stream",
          "text": [
            "\n",
            "Test set: Average loss: 0.0193, Test Accuracy: 9941/10000 (99.41%)\n",
            "\n",
            "Approach: Loss, BN =  nll BN epoch = 11\n"
          ],
          "name": "stdout"
        },
        {
          "output_type": "stream",
          "text": [
            "loss=0.003033926710486412 batch_id=468 Train Accuracy=98.94%: 100%|██████████| 469/469 [00:14<00:00, 31.36it/s]\n",
            "  0%|          | 0/469 [00:00<?, ?it/s]"
          ],
          "name": "stderr"
        },
        {
          "output_type": "stream",
          "text": [
            "\n",
            "Test set: Average loss: 0.0184, Test Accuracy: 9944/10000 (99.44%)\n",
            "\n",
            "Approach: Loss, BN =  nll BN epoch = 12\n"
          ],
          "name": "stdout"
        },
        {
          "output_type": "stream",
          "text": [
            "loss=0.06343873590230942 batch_id=468 Train Accuracy=98.93%: 100%|██████████| 469/469 [00:14<00:00, 31.51it/s]\n",
            "  0%|          | 0/469 [00:00<?, ?it/s]"
          ],
          "name": "stderr"
        },
        {
          "output_type": "stream",
          "text": [
            "\n",
            "Test set: Average loss: 0.0188, Test Accuracy: 9940/10000 (99.40%)\n",
            "\n",
            "Approach: Loss, BN =  nll BN epoch = 13\n"
          ],
          "name": "stdout"
        },
        {
          "output_type": "stream",
          "text": [
            "loss=0.007028305437415838 batch_id=468 Train Accuracy=98.94%: 100%|██████████| 469/469 [00:14<00:00, 31.53it/s]\n",
            "  0%|          | 0/469 [00:00<?, ?it/s]"
          ],
          "name": "stderr"
        },
        {
          "output_type": "stream",
          "text": [
            "\n",
            "Test set: Average loss: 0.0190, Test Accuracy: 9943/10000 (99.43%)\n",
            "\n",
            "Approach: Loss, BN =  nll BN epoch = 14\n"
          ],
          "name": "stdout"
        },
        {
          "output_type": "stream",
          "text": [
            "loss=0.017442116513848305 batch_id=468 Train Accuracy=98.99%: 100%|██████████| 469/469 [00:14<00:00, 31.35it/s]\n",
            "  0%|          | 0/469 [00:00<?, ?it/s]"
          ],
          "name": "stderr"
        },
        {
          "output_type": "stream",
          "text": [
            "\n",
            "Test set: Average loss: 0.0184, Test Accuracy: 9943/10000 (99.43%)\n",
            "\n",
            "Approach: Loss, BN =  nll BN epoch = 15\n"
          ],
          "name": "stdout"
        },
        {
          "output_type": "stream",
          "text": [
            "loss=0.06346192955970764 batch_id=468 Train Accuracy=98.96%: 100%|██████████| 469/469 [00:14<00:00, 31.86it/s]\n",
            "  0%|          | 0/469 [00:00<?, ?it/s]"
          ],
          "name": "stderr"
        },
        {
          "output_type": "stream",
          "text": [
            "\n",
            "Test set: Average loss: 0.0184, Test Accuracy: 9945/10000 (99.45%)\n",
            "\n",
            "Approach: Loss, BN =  nll BN epoch = 16\n"
          ],
          "name": "stdout"
        },
        {
          "output_type": "stream",
          "text": [
            "loss=0.02397730015218258 batch_id=468 Train Accuracy=98.96%: 100%|██████████| 469/469 [00:15<00:00, 30.96it/s]\n",
            "  0%|          | 0/469 [00:00<?, ?it/s]"
          ],
          "name": "stderr"
        },
        {
          "output_type": "stream",
          "text": [
            "\n",
            "Test set: Average loss: 0.0187, Test Accuracy: 9940/10000 (99.40%)\n",
            "\n",
            "Approach: Loss, BN =  nll BN epoch = 17\n"
          ],
          "name": "stdout"
        },
        {
          "output_type": "stream",
          "text": [
            "loss=0.009351682849228382 batch_id=468 Train Accuracy=98.97%: 100%|██████████| 469/469 [00:14<00:00, 31.79it/s]\n",
            "  0%|          | 0/469 [00:00<?, ?it/s]"
          ],
          "name": "stderr"
        },
        {
          "output_type": "stream",
          "text": [
            "\n",
            "Test set: Average loss: 0.0188, Test Accuracy: 9942/10000 (99.42%)\n",
            "\n",
            "Approach: Loss, BN =  nll BN epoch = 18\n"
          ],
          "name": "stdout"
        },
        {
          "output_type": "stream",
          "text": [
            "loss=0.019504820927977562 batch_id=468 Train Accuracy=98.93%: 100%|██████████| 469/469 [00:14<00:00, 31.52it/s]\n",
            "  0%|          | 0/469 [00:00<?, ?it/s]"
          ],
          "name": "stderr"
        },
        {
          "output_type": "stream",
          "text": [
            "\n",
            "Test set: Average loss: 0.0184, Test Accuracy: 9941/10000 (99.41%)\n",
            "\n",
            "Approach: Loss, BN =  nll BN epoch = 19\n"
          ],
          "name": "stdout"
        },
        {
          "output_type": "stream",
          "text": [
            "loss=0.006722204852849245 batch_id=468 Train Accuracy=98.90%: 100%|██████████| 469/469 [00:14<00:00, 31.93it/s]\n",
            "  0%|          | 0/469 [00:00<?, ?it/s]"
          ],
          "name": "stderr"
        },
        {
          "output_type": "stream",
          "text": [
            "\n",
            "Test set: Average loss: 0.0193, Test Accuracy: 9938/10000 (99.38%)\n",
            "\n",
            "Approach: Loss, BN =  nll BN epoch = 20\n"
          ],
          "name": "stdout"
        },
        {
          "output_type": "stream",
          "text": [
            "loss=0.041506070643663406 batch_id=468 Train Accuracy=98.97%: 100%|██████████| 469/469 [00:14<00:00, 31.92it/s]\n",
            "  0%|          | 0/469 [00:00<?, ?it/s]"
          ],
          "name": "stderr"
        },
        {
          "output_type": "stream",
          "text": [
            "\n",
            "Test set: Average loss: 0.0183, Test Accuracy: 9942/10000 (99.42%)\n",
            "\n",
            "Approach: Loss, BN =  nll BN epoch = 21\n"
          ],
          "name": "stdout"
        },
        {
          "output_type": "stream",
          "text": [
            "loss=0.003189921611919999 batch_id=468 Train Accuracy=98.97%: 100%|██████████| 469/469 [00:14<00:00, 32.01it/s]\n",
            "  0%|          | 0/469 [00:00<?, ?it/s]"
          ],
          "name": "stderr"
        },
        {
          "output_type": "stream",
          "text": [
            "\n",
            "Test set: Average loss: 0.0183, Test Accuracy: 9940/10000 (99.40%)\n",
            "\n",
            "Approach: Loss, BN =  nll BN epoch = 22\n"
          ],
          "name": "stdout"
        },
        {
          "output_type": "stream",
          "text": [
            "loss=0.018822763115167618 batch_id=468 Train Accuracy=98.93%: 100%|██████████| 469/469 [00:14<00:00, 31.81it/s]\n",
            "  0%|          | 0/469 [00:00<?, ?it/s]"
          ],
          "name": "stderr"
        },
        {
          "output_type": "stream",
          "text": [
            "\n",
            "Test set: Average loss: 0.0185, Test Accuracy: 9941/10000 (99.41%)\n",
            "\n",
            "Approach: Loss, BN =  nll BN epoch = 23\n"
          ],
          "name": "stdout"
        },
        {
          "output_type": "stream",
          "text": [
            "loss=0.04436212405562401 batch_id=468 Train Accuracy=98.99%: 100%|██████████| 469/469 [00:14<00:00, 32.13it/s]\n",
            "  0%|          | 0/469 [00:00<?, ?it/s]"
          ],
          "name": "stderr"
        },
        {
          "output_type": "stream",
          "text": [
            "\n",
            "Test set: Average loss: 0.0193, Test Accuracy: 9937/10000 (99.37%)\n",
            "\n",
            "Approach: Loss, BN =  nll BN epoch = 24\n"
          ],
          "name": "stdout"
        },
        {
          "output_type": "stream",
          "text": [
            "loss=0.010509326122701168 batch_id=468 Train Accuracy=98.97%: 100%|██████████| 469/469 [00:14<00:00, 31.87it/s]\n",
            "  0%|          | 0/469 [00:00<?, ?it/s]"
          ],
          "name": "stderr"
        },
        {
          "output_type": "stream",
          "text": [
            "\n",
            "Test set: Average loss: 0.0189, Test Accuracy: 9937/10000 (99.37%)\n",
            "\n",
            "Approach: Loss, BN =  nll BN epoch = 25\n"
          ],
          "name": "stdout"
        },
        {
          "output_type": "stream",
          "text": [
            "loss=0.023546844720840454 batch_id=468 Train Accuracy=98.94%: 100%|██████████| 469/469 [00:14<00:00, 31.99it/s]\n",
            "  0%|          | 0/469 [00:00<?, ?it/s]"
          ],
          "name": "stderr"
        },
        {
          "output_type": "stream",
          "text": [
            "\n",
            "Test set: Average loss: 0.0186, Test Accuracy: 9940/10000 (99.40%)\n",
            "\n",
            "Approach: Loss, BN =  L1 BN epoch = 1\n"
          ],
          "name": "stdout"
        },
        {
          "output_type": "stream",
          "text": [
            "loss=0.07269302755594254 batch_id=468 Train Accuracy=92.81%: 100%|██████████| 469/469 [00:15<00:00, 29.64it/s]\n",
            "  0%|          | 0/469 [00:00<?, ?it/s]"
          ],
          "name": "stderr"
        },
        {
          "output_type": "stream",
          "text": [
            "\n",
            "Test set: Average loss: 0.0533, Test Accuracy: 9835/10000 (98.35%)\n",
            "\n",
            "Approach: Loss, BN =  L1 BN epoch = 2\n"
          ],
          "name": "stdout"
        },
        {
          "output_type": "stream",
          "text": [
            "loss=0.11469266563653946 batch_id=468 Train Accuracy=97.66%: 100%|██████████| 469/469 [00:15<00:00, 29.82it/s]\n",
            "  0%|          | 0/469 [00:00<?, ?it/s]"
          ],
          "name": "stderr"
        },
        {
          "output_type": "stream",
          "text": [
            "\n",
            "Test set: Average loss: 0.0436, Test Accuracy: 9867/10000 (98.67%)\n",
            "\n",
            "Approach: Loss, BN =  L1 BN epoch = 3\n"
          ],
          "name": "stdout"
        },
        {
          "output_type": "stream",
          "text": [
            "loss=0.048737190663814545 batch_id=468 Train Accuracy=98.03%: 100%|██████████| 469/469 [00:15<00:00, 29.49it/s]\n",
            "  0%|          | 0/469 [00:00<?, ?it/s]"
          ],
          "name": "stderr"
        },
        {
          "output_type": "stream",
          "text": [
            "\n",
            "Test set: Average loss: 0.0345, Test Accuracy: 9898/10000 (98.98%)\n",
            "\n",
            "Approach: Loss, BN =  L1 BN epoch = 4\n"
          ],
          "name": "stdout"
        },
        {
          "output_type": "stream",
          "text": [
            "loss=0.061037883162498474 batch_id=468 Train Accuracy=98.29%: 100%|██████████| 469/469 [00:15<00:00, 29.35it/s]\n",
            "  0%|          | 0/469 [00:00<?, ?it/s]"
          ],
          "name": "stderr"
        },
        {
          "output_type": "stream",
          "text": [
            "\n",
            "Test set: Average loss: 0.0318, Test Accuracy: 9897/10000 (98.97%)\n",
            "\n",
            "Approach: Loss, BN =  L1 BN epoch = 5\n"
          ],
          "name": "stdout"
        },
        {
          "output_type": "stream",
          "text": [
            "loss=0.11546148359775543 batch_id=468 Train Accuracy=98.32%: 100%|██████████| 469/469 [00:15<00:00, 29.85it/s]\n",
            "  0%|          | 0/469 [00:00<?, ?it/s]"
          ],
          "name": "stderr"
        },
        {
          "output_type": "stream",
          "text": [
            "\n",
            "Test set: Average loss: 0.0306, Test Accuracy: 9889/10000 (98.89%)\n",
            "\n",
            "Approach: Loss, BN =  L1 BN epoch = 6\n"
          ],
          "name": "stdout"
        },
        {
          "output_type": "stream",
          "text": [
            "loss=0.0422254242002964 batch_id=468 Train Accuracy=98.50%: 100%|██████████| 469/469 [00:15<00:00, 29.35it/s]\n",
            "  0%|          | 0/469 [00:00<?, ?it/s]"
          ],
          "name": "stderr"
        },
        {
          "output_type": "stream",
          "text": [
            "\n",
            "Test set: Average loss: 0.0363, Test Accuracy: 9874/10000 (98.74%)\n",
            "\n",
            "Approach: Loss, BN =  L1 BN epoch = 7\n"
          ],
          "name": "stdout"
        },
        {
          "output_type": "stream",
          "text": [
            "loss=0.05111721158027649 batch_id=468 Train Accuracy=98.86%: 100%|██████████| 469/469 [00:15<00:00, 29.68it/s]\n",
            "  0%|          | 0/469 [00:00<?, ?it/s]"
          ],
          "name": "stderr"
        },
        {
          "output_type": "stream",
          "text": [
            "\n",
            "Test set: Average loss: 0.0198, Test Accuracy: 9931/10000 (99.31%)\n",
            "\n",
            "Approach: Loss, BN =  L1 BN epoch = 8\n"
          ],
          "name": "stdout"
        },
        {
          "output_type": "stream",
          "text": [
            "loss=0.03255819156765938 batch_id=468 Train Accuracy=98.93%: 100%|██████████| 469/469 [00:15<00:00, 29.33it/s]\n",
            "  0%|          | 0/469 [00:00<?, ?it/s]"
          ],
          "name": "stderr"
        },
        {
          "output_type": "stream",
          "text": [
            "\n",
            "Test set: Average loss: 0.0186, Test Accuracy: 9938/10000 (99.38%)\n",
            "\n",
            "Approach: Loss, BN =  L1 BN epoch = 9\n"
          ],
          "name": "stdout"
        },
        {
          "output_type": "stream",
          "text": [
            "loss=0.01990632712841034 batch_id=468 Train Accuracy=98.92%: 100%|██████████| 469/469 [00:15<00:00, 29.41it/s]\n",
            "  0%|          | 0/469 [00:00<?, ?it/s]"
          ],
          "name": "stderr"
        },
        {
          "output_type": "stream",
          "text": [
            "\n",
            "Test set: Average loss: 0.0182, Test Accuracy: 9938/10000 (99.38%)\n",
            "\n",
            "Approach: Loss, BN =  L1 BN epoch = 10\n"
          ],
          "name": "stdout"
        },
        {
          "output_type": "stream",
          "text": [
            "loss=0.06046324968338013 batch_id=468 Train Accuracy=99.00%: 100%|██████████| 469/469 [00:15<00:00, 29.59it/s]\n",
            "  0%|          | 0/469 [00:00<?, ?it/s]"
          ],
          "name": "stderr"
        },
        {
          "output_type": "stream",
          "text": [
            "\n",
            "Test set: Average loss: 0.0170, Test Accuracy: 9945/10000 (99.45%)\n",
            "\n",
            "Approach: Loss, BN =  L1 BN epoch = 11\n"
          ],
          "name": "stdout"
        },
        {
          "output_type": "stream",
          "text": [
            "loss=0.034037571400403976 batch_id=468 Train Accuracy=99.00%: 100%|██████████| 469/469 [00:16<00:00, 29.11it/s]\n",
            "  0%|          | 0/469 [00:00<?, ?it/s]"
          ],
          "name": "stderr"
        },
        {
          "output_type": "stream",
          "text": [
            "\n",
            "Test set: Average loss: 0.0175, Test Accuracy: 9939/10000 (99.39%)\n",
            "\n",
            "Approach: Loss, BN =  L1 BN epoch = 12\n"
          ],
          "name": "stdout"
        },
        {
          "output_type": "stream",
          "text": [
            "loss=0.024532340466976166 batch_id=468 Train Accuracy=98.94%: 100%|██████████| 469/469 [00:16<00:00, 28.65it/s]\n",
            "  0%|          | 0/469 [00:00<?, ?it/s]"
          ],
          "name": "stderr"
        },
        {
          "output_type": "stream",
          "text": [
            "\n",
            "Test set: Average loss: 0.0182, Test Accuracy: 9945/10000 (99.45%)\n",
            "\n",
            "Approach: Loss, BN =  L1 BN epoch = 13\n"
          ],
          "name": "stdout"
        },
        {
          "output_type": "stream",
          "text": [
            "loss=0.0696178674697876 batch_id=468 Train Accuracy=99.01%: 100%|██████████| 469/469 [00:16<00:00, 28.17it/s]\n",
            "  0%|          | 0/469 [00:00<?, ?it/s]"
          ],
          "name": "stderr"
        },
        {
          "output_type": "stream",
          "text": [
            "\n",
            "Test set: Average loss: 0.0175, Test Accuracy: 9940/10000 (99.40%)\n",
            "\n",
            "Approach: Loss, BN =  L1 BN epoch = 14\n"
          ],
          "name": "stdout"
        },
        {
          "output_type": "stream",
          "text": [
            "loss=0.10004047304391861 batch_id=468 Train Accuracy=99.00%: 100%|██████████| 469/469 [00:16<00:00, 28.71it/s]\n",
            "  0%|          | 0/469 [00:00<?, ?it/s]"
          ],
          "name": "stderr"
        },
        {
          "output_type": "stream",
          "text": [
            "\n",
            "Test set: Average loss: 0.0174, Test Accuracy: 9943/10000 (99.43%)\n",
            "\n",
            "Approach: Loss, BN =  L1 BN epoch = 15\n"
          ],
          "name": "stdout"
        },
        {
          "output_type": "stream",
          "text": [
            "loss=0.03776056319475174 batch_id=468 Train Accuracy=99.06%: 100%|██████████| 469/469 [00:16<00:00, 29.18it/s]\n",
            "  0%|          | 0/469 [00:00<?, ?it/s]"
          ],
          "name": "stderr"
        },
        {
          "output_type": "stream",
          "text": [
            "\n",
            "Test set: Average loss: 0.0171, Test Accuracy: 9941/10000 (99.41%)\n",
            "\n",
            "Approach: Loss, BN =  L1 BN epoch = 16\n"
          ],
          "name": "stdout"
        },
        {
          "output_type": "stream",
          "text": [
            "loss=0.07777490466833115 batch_id=468 Train Accuracy=99.02%: 100%|██████████| 469/469 [00:15<00:00, 29.43it/s]\n",
            "  0%|          | 0/469 [00:00<?, ?it/s]"
          ],
          "name": "stderr"
        },
        {
          "output_type": "stream",
          "text": [
            "\n",
            "Test set: Average loss: 0.0173, Test Accuracy: 9941/10000 (99.41%)\n",
            "\n",
            "Approach: Loss, BN =  L1 BN epoch = 17\n"
          ],
          "name": "stdout"
        },
        {
          "output_type": "stream",
          "text": [
            "loss=0.022467859089374542 batch_id=468 Train Accuracy=99.02%: 100%|██████████| 469/469 [00:16<00:00, 29.27it/s]\n",
            "  0%|          | 0/469 [00:00<?, ?it/s]"
          ],
          "name": "stderr"
        },
        {
          "output_type": "stream",
          "text": [
            "\n",
            "Test set: Average loss: 0.0178, Test Accuracy: 9941/10000 (99.41%)\n",
            "\n",
            "Approach: Loss, BN =  L1 BN epoch = 18\n"
          ],
          "name": "stdout"
        },
        {
          "output_type": "stream",
          "text": [
            "loss=0.07258181273937225 batch_id=468 Train Accuracy=98.95%: 100%|██████████| 469/469 [00:15<00:00, 29.43it/s]\n",
            "  0%|          | 0/469 [00:00<?, ?it/s]"
          ],
          "name": "stderr"
        },
        {
          "output_type": "stream",
          "text": [
            "\n",
            "Test set: Average loss: 0.0174, Test Accuracy: 9945/10000 (99.45%)\n",
            "\n",
            "Approach: Loss, BN =  L1 BN epoch = 19\n"
          ],
          "name": "stdout"
        },
        {
          "output_type": "stream",
          "text": [
            "loss=0.037562157958745956 batch_id=468 Train Accuracy=99.07%: 100%|██████████| 469/469 [00:15<00:00, 29.75it/s]\n",
            "  0%|          | 0/469 [00:00<?, ?it/s]"
          ],
          "name": "stderr"
        },
        {
          "output_type": "stream",
          "text": [
            "\n",
            "Test set: Average loss: 0.0169, Test Accuracy: 9944/10000 (99.44%)\n",
            "\n",
            "Approach: Loss, BN =  L1 BN epoch = 20\n"
          ],
          "name": "stdout"
        },
        {
          "output_type": "stream",
          "text": [
            "loss=0.02238352596759796 batch_id=468 Train Accuracy=99.06%: 100%|██████████| 469/469 [00:16<00:00, 29.29it/s]\n",
            "  0%|          | 0/469 [00:00<?, ?it/s]"
          ],
          "name": "stderr"
        },
        {
          "output_type": "stream",
          "text": [
            "\n",
            "Test set: Average loss: 0.0177, Test Accuracy: 9939/10000 (99.39%)\n",
            "\n",
            "Approach: Loss, BN =  L1 BN epoch = 21\n"
          ],
          "name": "stdout"
        },
        {
          "output_type": "stream",
          "text": [
            "loss=0.026082729920744896 batch_id=468 Train Accuracy=99.07%: 100%|██████████| 469/469 [00:16<00:00, 29.31it/s]\n",
            "  0%|          | 0/469 [00:00<?, ?it/s]"
          ],
          "name": "stderr"
        },
        {
          "output_type": "stream",
          "text": [
            "\n",
            "Test set: Average loss: 0.0171, Test Accuracy: 9943/10000 (99.43%)\n",
            "\n",
            "Approach: Loss, BN =  L1 BN epoch = 22\n"
          ],
          "name": "stdout"
        },
        {
          "output_type": "stream",
          "text": [
            "loss=0.01710859127342701 batch_id=468 Train Accuracy=99.01%: 100%|██████████| 469/469 [00:16<00:00, 28.48it/s]\n",
            "  0%|          | 0/469 [00:00<?, ?it/s]"
          ],
          "name": "stderr"
        },
        {
          "output_type": "stream",
          "text": [
            "\n",
            "Test set: Average loss: 0.0175, Test Accuracy: 9939/10000 (99.39%)\n",
            "\n",
            "Approach: Loss, BN =  L1 BN epoch = 23\n"
          ],
          "name": "stdout"
        },
        {
          "output_type": "stream",
          "text": [
            "loss=0.037831004709005356 batch_id=468 Train Accuracy=99.02%: 100%|██████████| 469/469 [00:16<00:00, 28.00it/s]\n",
            "  0%|          | 0/469 [00:00<?, ?it/s]"
          ],
          "name": "stderr"
        },
        {
          "output_type": "stream",
          "text": [
            "\n",
            "Test set: Average loss: 0.0172, Test Accuracy: 9943/10000 (99.43%)\n",
            "\n",
            "Approach: Loss, BN =  L1 BN epoch = 24\n"
          ],
          "name": "stdout"
        },
        {
          "output_type": "stream",
          "text": [
            "loss=0.12528251111507416 batch_id=468 Train Accuracy=99.05%: 100%|██████████| 469/469 [00:15<00:00, 29.36it/s]\n",
            "  0%|          | 0/469 [00:00<?, ?it/s]"
          ],
          "name": "stderr"
        },
        {
          "output_type": "stream",
          "text": [
            "\n",
            "Test set: Average loss: 0.0173, Test Accuracy: 9940/10000 (99.40%)\n",
            "\n",
            "Approach: Loss, BN =  L1 BN epoch = 25\n"
          ],
          "name": "stdout"
        },
        {
          "output_type": "stream",
          "text": [
            "loss=0.05263638123869896 batch_id=468 Train Accuracy=99.00%: 100%|██████████| 469/469 [00:16<00:00, 29.15it/s]\n",
            "  0%|          | 0/469 [00:00<?, ?it/s]"
          ],
          "name": "stderr"
        },
        {
          "output_type": "stream",
          "text": [
            "\n",
            "Test set: Average loss: 0.0183, Test Accuracy: 9939/10000 (99.39%)\n",
            "\n",
            "Approach: Loss, BN =  L2 BN epoch = 1\n"
          ],
          "name": "stdout"
        },
        {
          "output_type": "stream",
          "text": [
            "loss=0.06513268500566483 batch_id=468 Train Accuracy=92.68%: 100%|██████████| 469/469 [00:15<00:00, 31.10it/s]\n",
            "  0%|          | 0/469 [00:00<?, ?it/s]"
          ],
          "name": "stderr"
        },
        {
          "output_type": "stream",
          "text": [
            "\n",
            "Test set: Average loss: 0.1279, Test Accuracy: 9593/10000 (95.93%)\n",
            "\n",
            "Approach: Loss, BN =  L2 BN epoch = 2\n"
          ],
          "name": "stdout"
        },
        {
          "output_type": "stream",
          "text": [
            "loss=0.08759921044111252 batch_id=468 Train Accuracy=97.60%: 100%|██████████| 469/469 [00:15<00:00, 31.26it/s]\n",
            "  0%|          | 0/469 [00:00<?, ?it/s]"
          ],
          "name": "stderr"
        },
        {
          "output_type": "stream",
          "text": [
            "\n",
            "Test set: Average loss: 0.0474, Test Accuracy: 9845/10000 (98.45%)\n",
            "\n",
            "Approach: Loss, BN =  L2 BN epoch = 3\n"
          ],
          "name": "stdout"
        },
        {
          "output_type": "stream",
          "text": [
            "loss=0.0492023266851902 batch_id=468 Train Accuracy=98.04%: 100%|██████████| 469/469 [00:14<00:00, 31.54it/s]\n",
            "  0%|          | 0/469 [00:00<?, ?it/s]"
          ],
          "name": "stderr"
        },
        {
          "output_type": "stream",
          "text": [
            "\n",
            "Test set: Average loss: 0.0465, Test Accuracy: 9853/10000 (98.53%)\n",
            "\n",
            "Approach: Loss, BN =  L2 BN epoch = 4\n"
          ],
          "name": "stdout"
        },
        {
          "output_type": "stream",
          "text": [
            "loss=0.044598642736673355 batch_id=468 Train Accuracy=98.21%: 100%|██████████| 469/469 [00:15<00:00, 30.07it/s]\n",
            "  0%|          | 0/469 [00:00<?, ?it/s]"
          ],
          "name": "stderr"
        },
        {
          "output_type": "stream",
          "text": [
            "\n",
            "Test set: Average loss: 0.0342, Test Accuracy: 9887/10000 (98.87%)\n",
            "\n",
            "Approach: Loss, BN =  L2 BN epoch = 5\n"
          ],
          "name": "stdout"
        },
        {
          "output_type": "stream",
          "text": [
            "loss=0.03501547500491142 batch_id=468 Train Accuracy=98.36%: 100%|██████████| 469/469 [00:15<00:00, 31.03it/s]\n",
            "  0%|          | 0/469 [00:00<?, ?it/s]"
          ],
          "name": "stderr"
        },
        {
          "output_type": "stream",
          "text": [
            "\n",
            "Test set: Average loss: 0.0314, Test Accuracy: 9902/10000 (99.02%)\n",
            "\n",
            "Approach: Loss, BN =  L2 BN epoch = 6\n"
          ],
          "name": "stdout"
        },
        {
          "output_type": "stream",
          "text": [
            "loss=0.015480094589293003 batch_id=468 Train Accuracy=98.44%: 100%|██████████| 469/469 [00:15<00:00, 30.48it/s]\n",
            "  0%|          | 0/469 [00:00<?, ?it/s]"
          ],
          "name": "stderr"
        },
        {
          "output_type": "stream",
          "text": [
            "\n",
            "Test set: Average loss: 0.0224, Test Accuracy: 9926/10000 (99.26%)\n",
            "\n",
            "Approach: Loss, BN =  L2 BN epoch = 7\n"
          ],
          "name": "stdout"
        },
        {
          "output_type": "stream",
          "text": [
            "loss=0.006322639063000679 batch_id=468 Train Accuracy=98.83%: 100%|██████████| 469/469 [00:15<00:00, 30.39it/s]\n",
            "  0%|          | 0/469 [00:00<?, ?it/s]"
          ],
          "name": "stderr"
        },
        {
          "output_type": "stream",
          "text": [
            "\n",
            "Test set: Average loss: 0.0206, Test Accuracy: 9928/10000 (99.28%)\n",
            "\n",
            "Approach: Loss, BN =  L2 BN epoch = 8\n"
          ],
          "name": "stdout"
        },
        {
          "output_type": "stream",
          "text": [
            "loss=0.0781107246875763 batch_id=468 Train Accuracy=98.89%: 100%|██████████| 469/469 [00:15<00:00, 29.93it/s]\n",
            "  0%|          | 0/469 [00:00<?, ?it/s]"
          ],
          "name": "stderr"
        },
        {
          "output_type": "stream",
          "text": [
            "\n",
            "Test set: Average loss: 0.0198, Test Accuracy: 9926/10000 (99.26%)\n",
            "\n",
            "Approach: Loss, BN =  L2 BN epoch = 9\n"
          ],
          "name": "stdout"
        },
        {
          "output_type": "stream",
          "text": [
            "loss=0.016720589250326157 batch_id=468 Train Accuracy=98.93%: 100%|██████████| 469/469 [00:15<00:00, 29.89it/s]\n",
            "  0%|          | 0/469 [00:00<?, ?it/s]"
          ],
          "name": "stderr"
        },
        {
          "output_type": "stream",
          "text": [
            "\n",
            "Test set: Average loss: 0.0191, Test Accuracy: 9930/10000 (99.30%)\n",
            "\n",
            "Approach: Loss, BN =  L2 BN epoch = 10\n"
          ],
          "name": "stdout"
        },
        {
          "output_type": "stream",
          "text": [
            "loss=0.036811161786317825 batch_id=468 Train Accuracy=98.91%: 100%|██████████| 469/469 [00:14<00:00, 31.46it/s]\n",
            "  0%|          | 0/469 [00:00<?, ?it/s]"
          ],
          "name": "stderr"
        },
        {
          "output_type": "stream",
          "text": [
            "\n",
            "Test set: Average loss: 0.0199, Test Accuracy: 9931/10000 (99.31%)\n",
            "\n",
            "Approach: Loss, BN =  L2 BN epoch = 11\n"
          ],
          "name": "stdout"
        },
        {
          "output_type": "stream",
          "text": [
            "loss=0.04256543517112732 batch_id=468 Train Accuracy=98.88%: 100%|██████████| 469/469 [00:14<00:00, 31.75it/s]\n",
            "  0%|          | 0/469 [00:00<?, ?it/s]"
          ],
          "name": "stderr"
        },
        {
          "output_type": "stream",
          "text": [
            "\n",
            "Test set: Average loss: 0.0200, Test Accuracy: 9929/10000 (99.29%)\n",
            "\n",
            "Approach: Loss, BN =  L2 BN epoch = 12\n"
          ],
          "name": "stdout"
        },
        {
          "output_type": "stream",
          "text": [
            "loss=0.040648385882377625 batch_id=468 Train Accuracy=98.94%: 100%|██████████| 469/469 [00:14<00:00, 31.39it/s]\n",
            "  0%|          | 0/469 [00:00<?, ?it/s]"
          ],
          "name": "stderr"
        },
        {
          "output_type": "stream",
          "text": [
            "\n",
            "Test set: Average loss: 0.0197, Test Accuracy: 9932/10000 (99.32%)\n",
            "\n",
            "Approach: Loss, BN =  L2 BN epoch = 13\n"
          ],
          "name": "stdout"
        },
        {
          "output_type": "stream",
          "text": [
            "loss=0.03300413861870766 batch_id=468 Train Accuracy=98.94%: 100%|██████████| 469/469 [00:14<00:00, 31.42it/s]\n",
            "  0%|          | 0/469 [00:00<?, ?it/s]"
          ],
          "name": "stderr"
        },
        {
          "output_type": "stream",
          "text": [
            "\n",
            "Test set: Average loss: 0.0192, Test Accuracy: 9931/10000 (99.31%)\n",
            "\n",
            "Approach: Loss, BN =  L2 BN epoch = 14\n"
          ],
          "name": "stdout"
        },
        {
          "output_type": "stream",
          "text": [
            "loss=0.09095745533704758 batch_id=468 Train Accuracy=98.98%: 100%|██████████| 469/469 [00:14<00:00, 31.42it/s]\n",
            "  0%|          | 0/469 [00:00<?, ?it/s]"
          ],
          "name": "stderr"
        },
        {
          "output_type": "stream",
          "text": [
            "\n",
            "Test set: Average loss: 0.0192, Test Accuracy: 9935/10000 (99.35%)\n",
            "\n",
            "Approach: Loss, BN =  L2 BN epoch = 15\n"
          ],
          "name": "stdout"
        },
        {
          "output_type": "stream",
          "text": [
            "loss=0.03211084380745888 batch_id=468 Train Accuracy=99.00%: 100%|██████████| 469/469 [00:15<00:00, 31.23it/s]\n",
            "  0%|          | 0/469 [00:00<?, ?it/s]"
          ],
          "name": "stderr"
        },
        {
          "output_type": "stream",
          "text": [
            "\n",
            "Test set: Average loss: 0.0191, Test Accuracy: 9932/10000 (99.32%)\n",
            "\n",
            "Approach: Loss, BN =  L2 BN epoch = 16\n"
          ],
          "name": "stdout"
        },
        {
          "output_type": "stream",
          "text": [
            "loss=0.013200432993471622 batch_id=468 Train Accuracy=98.92%: 100%|██████████| 469/469 [00:14<00:00, 31.35it/s]\n",
            "  0%|          | 0/469 [00:00<?, ?it/s]"
          ],
          "name": "stderr"
        },
        {
          "output_type": "stream",
          "text": [
            "\n",
            "Test set: Average loss: 0.0188, Test Accuracy: 9932/10000 (99.32%)\n",
            "\n",
            "Approach: Loss, BN =  L2 BN epoch = 17\n"
          ],
          "name": "stdout"
        },
        {
          "output_type": "stream",
          "text": [
            "loss=0.01551202591508627 batch_id=468 Train Accuracy=98.89%: 100%|██████████| 469/469 [00:14<00:00, 31.34it/s]\n",
            "  0%|          | 0/469 [00:00<?, ?it/s]"
          ],
          "name": "stderr"
        },
        {
          "output_type": "stream",
          "text": [
            "\n",
            "Test set: Average loss: 0.0192, Test Accuracy: 9933/10000 (99.33%)\n",
            "\n",
            "Approach: Loss, BN =  L2 BN epoch = 18\n"
          ],
          "name": "stdout"
        },
        {
          "output_type": "stream",
          "text": [
            "loss=0.02812223695218563 batch_id=468 Train Accuracy=98.95%: 100%|██████████| 469/469 [00:14<00:00, 31.34it/s]\n",
            "  0%|          | 0/469 [00:00<?, ?it/s]"
          ],
          "name": "stderr"
        },
        {
          "output_type": "stream",
          "text": [
            "\n",
            "Test set: Average loss: 0.0188, Test Accuracy: 9932/10000 (99.32%)\n",
            "\n",
            "Approach: Loss, BN =  L2 BN epoch = 19\n"
          ],
          "name": "stdout"
        },
        {
          "output_type": "stream",
          "text": [
            "loss=0.052591633051633835 batch_id=468 Train Accuracy=98.95%: 100%|██████████| 469/469 [00:15<00:00, 31.06it/s]\n",
            "  0%|          | 0/469 [00:00<?, ?it/s]"
          ],
          "name": "stderr"
        },
        {
          "output_type": "stream",
          "text": [
            "\n",
            "Test set: Average loss: 0.0189, Test Accuracy: 9933/10000 (99.33%)\n",
            "\n",
            "Approach: Loss, BN =  L2 BN epoch = 20\n"
          ],
          "name": "stdout"
        },
        {
          "output_type": "stream",
          "text": [
            "loss=0.07310593873262405 batch_id=468 Train Accuracy=98.99%: 100%|██████████| 469/469 [00:15<00:00, 30.97it/s]\n",
            "  0%|          | 0/469 [00:00<?, ?it/s]"
          ],
          "name": "stderr"
        },
        {
          "output_type": "stream",
          "text": [
            "\n",
            "Test set: Average loss: 0.0186, Test Accuracy: 9935/10000 (99.35%)\n",
            "\n",
            "Approach: Loss, BN =  L2 BN epoch = 21\n"
          ],
          "name": "stdout"
        },
        {
          "output_type": "stream",
          "text": [
            "loss=0.05992690101265907 batch_id=468 Train Accuracy=98.93%: 100%|██████████| 469/469 [00:14<00:00, 31.47it/s]\n",
            "  0%|          | 0/469 [00:00<?, ?it/s]"
          ],
          "name": "stderr"
        },
        {
          "output_type": "stream",
          "text": [
            "\n",
            "Test set: Average loss: 0.0194, Test Accuracy: 9931/10000 (99.31%)\n",
            "\n",
            "Approach: Loss, BN =  L2 BN epoch = 22\n"
          ],
          "name": "stdout"
        },
        {
          "output_type": "stream",
          "text": [
            "loss=0.03323556110262871 batch_id=468 Train Accuracy=99.05%: 100%|██████████| 469/469 [00:15<00:00, 31.20it/s]\n",
            "  0%|          | 0/469 [00:00<?, ?it/s]"
          ],
          "name": "stderr"
        },
        {
          "output_type": "stream",
          "text": [
            "\n",
            "Test set: Average loss: 0.0189, Test Accuracy: 9935/10000 (99.35%)\n",
            "\n",
            "Approach: Loss, BN =  L2 BN epoch = 23\n"
          ],
          "name": "stdout"
        },
        {
          "output_type": "stream",
          "text": [
            "loss=0.06301514804363251 batch_id=468 Train Accuracy=98.95%: 100%|██████████| 469/469 [00:14<00:00, 31.80it/s]\n",
            "  0%|          | 0/469 [00:00<?, ?it/s]"
          ],
          "name": "stderr"
        },
        {
          "output_type": "stream",
          "text": [
            "\n",
            "Test set: Average loss: 0.0193, Test Accuracy: 9930/10000 (99.30%)\n",
            "\n",
            "Approach: Loss, BN =  L2 BN epoch = 24\n"
          ],
          "name": "stdout"
        },
        {
          "output_type": "stream",
          "text": [
            "loss=0.08973702788352966 batch_id=468 Train Accuracy=99.02%: 100%|██████████| 469/469 [00:14<00:00, 31.79it/s]\n",
            "  0%|          | 0/469 [00:00<?, ?it/s]"
          ],
          "name": "stderr"
        },
        {
          "output_type": "stream",
          "text": [
            "\n",
            "Test set: Average loss: 0.0186, Test Accuracy: 9932/10000 (99.32%)\n",
            "\n",
            "Approach: Loss, BN =  L2 BN epoch = 25\n"
          ],
          "name": "stdout"
        },
        {
          "output_type": "stream",
          "text": [
            "loss=0.055334363132715225 batch_id=468 Train Accuracy=98.93%: 100%|██████████| 469/469 [00:14<00:00, 31.56it/s]\n",
            "  0%|          | 0/469 [00:00<?, ?it/s]"
          ],
          "name": "stderr"
        },
        {
          "output_type": "stream",
          "text": [
            "\n",
            "Test set: Average loss: 0.0194, Test Accuracy: 9932/10000 (99.32%)\n",
            "\n",
            "Approach: Loss, BN =  L1L2 BN epoch = 1\n"
          ],
          "name": "stdout"
        },
        {
          "output_type": "stream",
          "text": [
            "loss=0.04516937583684921 batch_id=468 Train Accuracy=91.58%: 100%|██████████| 469/469 [00:15<00:00, 29.36it/s]\n",
            "  0%|          | 0/469 [00:00<?, ?it/s]"
          ],
          "name": "stderr"
        },
        {
          "output_type": "stream",
          "text": [
            "\n",
            "Test set: Average loss: 0.0580, Test Accuracy: 9822/10000 (98.22%)\n",
            "\n",
            "Approach: Loss, BN =  L1L2 BN epoch = 2\n"
          ],
          "name": "stdout"
        },
        {
          "output_type": "stream",
          "text": [
            "loss=0.12061123549938202 batch_id=468 Train Accuracy=97.25%: 100%|██████████| 469/469 [00:15<00:00, 29.62it/s]\n",
            "  0%|          | 0/469 [00:00<?, ?it/s]"
          ],
          "name": "stderr"
        },
        {
          "output_type": "stream",
          "text": [
            "\n",
            "Test set: Average loss: 0.0409, Test Accuracy: 9874/10000 (98.74%)\n",
            "\n",
            "Approach: Loss, BN =  L1L2 BN epoch = 3\n"
          ],
          "name": "stdout"
        },
        {
          "output_type": "stream",
          "text": [
            "loss=0.038315482437610626 batch_id=468 Train Accuracy=97.85%: 100%|██████████| 469/469 [00:15<00:00, 29.60it/s]\n",
            "  0%|          | 0/469 [00:00<?, ?it/s]"
          ],
          "name": "stderr"
        },
        {
          "output_type": "stream",
          "text": [
            "\n",
            "Test set: Average loss: 0.0346, Test Accuracy: 9888/10000 (98.88%)\n",
            "\n",
            "Approach: Loss, BN =  L1L2 BN epoch = 4\n"
          ],
          "name": "stdout"
        },
        {
          "output_type": "stream",
          "text": [
            "loss=0.06729096919298172 batch_id=468 Train Accuracy=98.06%: 100%|██████████| 469/469 [00:15<00:00, 29.69it/s]\n",
            "  0%|          | 0/469 [00:00<?, ?it/s]"
          ],
          "name": "stderr"
        },
        {
          "output_type": "stream",
          "text": [
            "\n",
            "Test set: Average loss: 0.0347, Test Accuracy: 9896/10000 (98.96%)\n",
            "\n",
            "Approach: Loss, BN =  L1L2 BN epoch = 5\n"
          ],
          "name": "stdout"
        },
        {
          "output_type": "stream",
          "text": [
            "loss=0.08497165888547897 batch_id=468 Train Accuracy=98.22%: 100%|██████████| 469/469 [00:15<00:00, 29.41it/s]\n",
            "  0%|          | 0/469 [00:00<?, ?it/s]"
          ],
          "name": "stderr"
        },
        {
          "output_type": "stream",
          "text": [
            "\n",
            "Test set: Average loss: 0.0356, Test Accuracy: 9883/10000 (98.83%)\n",
            "\n",
            "Approach: Loss, BN =  L1L2 BN epoch = 6\n"
          ],
          "name": "stdout"
        },
        {
          "output_type": "stream",
          "text": [
            "loss=0.06344051659107208 batch_id=468 Train Accuracy=98.35%: 100%|██████████| 469/469 [00:15<00:00, 29.75it/s]\n",
            "  0%|          | 0/469 [00:00<?, ?it/s]"
          ],
          "name": "stderr"
        },
        {
          "output_type": "stream",
          "text": [
            "\n",
            "Test set: Average loss: 0.0291, Test Accuracy: 9905/10000 (99.05%)\n",
            "\n",
            "Approach: Loss, BN =  L1L2 BN epoch = 7\n"
          ],
          "name": "stdout"
        },
        {
          "output_type": "stream",
          "text": [
            "loss=0.0299328975379467 batch_id=468 Train Accuracy=98.69%: 100%|██████████| 469/469 [00:15<00:00, 29.68it/s]\n",
            "  0%|          | 0/469 [00:00<?, ?it/s]"
          ],
          "name": "stderr"
        },
        {
          "output_type": "stream",
          "text": [
            "\n",
            "Test set: Average loss: 0.0187, Test Accuracy: 9941/10000 (99.41%)\n",
            "\n",
            "Approach: Loss, BN =  L1L2 BN epoch = 8\n"
          ],
          "name": "stdout"
        },
        {
          "output_type": "stream",
          "text": [
            "loss=0.06394918262958527 batch_id=468 Train Accuracy=98.82%: 100%|██████████| 469/469 [00:15<00:00, 29.46it/s]\n",
            "  0%|          | 0/469 [00:00<?, ?it/s]"
          ],
          "name": "stderr"
        },
        {
          "output_type": "stream",
          "text": [
            "\n",
            "Test set: Average loss: 0.0177, Test Accuracy: 9938/10000 (99.38%)\n",
            "\n",
            "Approach: Loss, BN =  L1L2 BN epoch = 9\n"
          ],
          "name": "stdout"
        },
        {
          "output_type": "stream",
          "text": [
            "loss=0.03282927721738815 batch_id=468 Train Accuracy=98.91%: 100%|██████████| 469/469 [00:15<00:00, 29.42it/s]\n",
            "  0%|          | 0/469 [00:00<?, ?it/s]"
          ],
          "name": "stderr"
        },
        {
          "output_type": "stream",
          "text": [
            "\n",
            "Test set: Average loss: 0.0169, Test Accuracy: 9944/10000 (99.44%)\n",
            "\n",
            "Approach: Loss, BN =  L1L2 BN epoch = 10\n"
          ],
          "name": "stdout"
        },
        {
          "output_type": "stream",
          "text": [
            "loss=0.04601616412401199 batch_id=468 Train Accuracy=98.89%: 100%|██████████| 469/469 [00:15<00:00, 29.62it/s]\n",
            "  0%|          | 0/469 [00:00<?, ?it/s]"
          ],
          "name": "stderr"
        },
        {
          "output_type": "stream",
          "text": [
            "\n",
            "Test set: Average loss: 0.0164, Test Accuracy: 9949/10000 (99.49%)\n",
            "\n",
            "Approach: Loss, BN =  L1L2 BN epoch = 11\n"
          ],
          "name": "stdout"
        },
        {
          "output_type": "stream",
          "text": [
            "loss=0.0297658983618021 batch_id=468 Train Accuracy=98.84%: 100%|██████████| 469/469 [00:15<00:00, 29.99it/s]\n",
            "  0%|          | 0/469 [00:00<?, ?it/s]"
          ],
          "name": "stderr"
        },
        {
          "output_type": "stream",
          "text": [
            "\n",
            "Test set: Average loss: 0.0171, Test Accuracy: 9943/10000 (99.43%)\n",
            "\n",
            "Approach: Loss, BN =  L1L2 BN epoch = 12\n"
          ],
          "name": "stdout"
        },
        {
          "output_type": "stream",
          "text": [
            "loss=0.05131983384490013 batch_id=468 Train Accuracy=98.89%: 100%|██████████| 469/469 [00:15<00:00, 29.71it/s]\n",
            "  0%|          | 0/469 [00:00<?, ?it/s]"
          ],
          "name": "stderr"
        },
        {
          "output_type": "stream",
          "text": [
            "\n",
            "Test set: Average loss: 0.0165, Test Accuracy: 9946/10000 (99.46%)\n",
            "\n",
            "Approach: Loss, BN =  L1L2 BN epoch = 13\n"
          ],
          "name": "stdout"
        },
        {
          "output_type": "stream",
          "text": [
            "loss=0.04810422658920288 batch_id=468 Train Accuracy=98.97%: 100%|██████████| 469/469 [00:16<00:00, 28.93it/s]\n",
            "  0%|          | 0/469 [00:00<?, ?it/s]"
          ],
          "name": "stderr"
        },
        {
          "output_type": "stream",
          "text": [
            "\n",
            "Test set: Average loss: 0.0170, Test Accuracy: 9943/10000 (99.43%)\n",
            "\n",
            "Approach: Loss, BN =  L1L2 BN epoch = 14\n"
          ],
          "name": "stdout"
        },
        {
          "output_type": "stream",
          "text": [
            "loss=0.031465962529182434 batch_id=468 Train Accuracy=98.97%: 100%|██████████| 469/469 [00:15<00:00, 29.35it/s]\n",
            "  0%|          | 0/469 [00:00<?, ?it/s]"
          ],
          "name": "stderr"
        },
        {
          "output_type": "stream",
          "text": [
            "\n",
            "Test set: Average loss: 0.0168, Test Accuracy: 9941/10000 (99.41%)\n",
            "\n",
            "Approach: Loss, BN =  L1L2 BN epoch = 15\n"
          ],
          "name": "stdout"
        },
        {
          "output_type": "stream",
          "text": [
            "loss=0.022934310138225555 batch_id=468 Train Accuracy=98.89%: 100%|██████████| 469/469 [00:16<00:00, 29.24it/s]\n",
            "  0%|          | 0/469 [00:00<?, ?it/s]"
          ],
          "name": "stderr"
        },
        {
          "output_type": "stream",
          "text": [
            "\n",
            "Test set: Average loss: 0.0167, Test Accuracy: 9942/10000 (99.42%)\n",
            "\n",
            "Approach: Loss, BN =  L1L2 BN epoch = 16\n"
          ],
          "name": "stdout"
        },
        {
          "output_type": "stream",
          "text": [
            "loss=0.020220348611474037 batch_id=468 Train Accuracy=98.97%: 100%|██████████| 469/469 [00:16<00:00, 29.10it/s]\n",
            "  0%|          | 0/469 [00:00<?, ?it/s]"
          ],
          "name": "stderr"
        },
        {
          "output_type": "stream",
          "text": [
            "\n",
            "Test set: Average loss: 0.0169, Test Accuracy: 9937/10000 (99.37%)\n",
            "\n",
            "Approach: Loss, BN =  L1L2 BN epoch = 17\n"
          ],
          "name": "stdout"
        },
        {
          "output_type": "stream",
          "text": [
            "loss=0.031860075891017914 batch_id=468 Train Accuracy=98.95%: 100%|██████████| 469/469 [00:16<00:00, 29.20it/s]\n",
            "  0%|          | 0/469 [00:00<?, ?it/s]"
          ],
          "name": "stderr"
        },
        {
          "output_type": "stream",
          "text": [
            "\n",
            "Test set: Average loss: 0.0171, Test Accuracy: 9940/10000 (99.40%)\n",
            "\n",
            "Approach: Loss, BN =  L1L2 BN epoch = 18\n"
          ],
          "name": "stdout"
        },
        {
          "output_type": "stream",
          "text": [
            "loss=0.10525364428758621 batch_id=468 Train Accuracy=98.93%: 100%|██████████| 469/469 [00:16<00:00, 28.99it/s]\n",
            "  0%|          | 0/469 [00:00<?, ?it/s]"
          ],
          "name": "stderr"
        },
        {
          "output_type": "stream",
          "text": [
            "\n",
            "Test set: Average loss: 0.0165, Test Accuracy: 9943/10000 (99.43%)\n",
            "\n",
            "Approach: Loss, BN =  L1L2 BN epoch = 19\n"
          ],
          "name": "stdout"
        },
        {
          "output_type": "stream",
          "text": [
            "loss=0.05395226180553436 batch_id=468 Train Accuracy=98.95%: 100%|██████████| 469/469 [00:15<00:00, 29.42it/s]\n",
            "  0%|          | 0/469 [00:00<?, ?it/s]"
          ],
          "name": "stderr"
        },
        {
          "output_type": "stream",
          "text": [
            "\n",
            "Test set: Average loss: 0.0167, Test Accuracy: 9945/10000 (99.45%)\n",
            "\n",
            "Approach: Loss, BN =  L1L2 BN epoch = 20\n"
          ],
          "name": "stdout"
        },
        {
          "output_type": "stream",
          "text": [
            "loss=0.04418740049004555 batch_id=468 Train Accuracy=98.94%: 100%|██████████| 469/469 [00:15<00:00, 29.43it/s]\n",
            "  0%|          | 0/469 [00:00<?, ?it/s]"
          ],
          "name": "stderr"
        },
        {
          "output_type": "stream",
          "text": [
            "\n",
            "Test set: Average loss: 0.0166, Test Accuracy: 9941/10000 (99.41%)\n",
            "\n",
            "Approach: Loss, BN =  L1L2 BN epoch = 21\n"
          ],
          "name": "stdout"
        },
        {
          "output_type": "stream",
          "text": [
            "loss=0.0254807248711586 batch_id=468 Train Accuracy=98.91%: 100%|██████████| 469/469 [00:15<00:00, 29.60it/s]\n",
            "  0%|          | 0/469 [00:00<?, ?it/s]"
          ],
          "name": "stderr"
        },
        {
          "output_type": "stream",
          "text": [
            "\n",
            "Test set: Average loss: 0.0167, Test Accuracy: 9942/10000 (99.42%)\n",
            "\n",
            "Approach: Loss, BN =  L1L2 BN epoch = 22\n"
          ],
          "name": "stdout"
        },
        {
          "output_type": "stream",
          "text": [
            "loss=0.05088205635547638 batch_id=468 Train Accuracy=98.92%: 100%|██████████| 469/469 [00:16<00:00, 29.16it/s]\n",
            "  0%|          | 0/469 [00:00<?, ?it/s]"
          ],
          "name": "stderr"
        },
        {
          "output_type": "stream",
          "text": [
            "\n",
            "Test set: Average loss: 0.0165, Test Accuracy: 9943/10000 (99.43%)\n",
            "\n",
            "Approach: Loss, BN =  L1L2 BN epoch = 23\n"
          ],
          "name": "stdout"
        },
        {
          "output_type": "stream",
          "text": [
            "loss=0.05615212023258209 batch_id=468 Train Accuracy=98.95%: 100%|██████████| 469/469 [00:16<00:00, 29.11it/s]\n",
            "  0%|          | 0/469 [00:00<?, ?it/s]"
          ],
          "name": "stderr"
        },
        {
          "output_type": "stream",
          "text": [
            "\n",
            "Test set: Average loss: 0.0165, Test Accuracy: 9945/10000 (99.45%)\n",
            "\n",
            "Approach: Loss, BN =  L1L2 BN epoch = 24\n"
          ],
          "name": "stdout"
        },
        {
          "output_type": "stream",
          "text": [
            "loss=0.026746001094579697 batch_id=468 Train Accuracy=98.91%: 100%|██████████| 469/469 [00:15<00:00, 29.32it/s]\n",
            "  0%|          | 0/469 [00:00<?, ?it/s]"
          ],
          "name": "stderr"
        },
        {
          "output_type": "stream",
          "text": [
            "\n",
            "Test set: Average loss: 0.0168, Test Accuracy: 9941/10000 (99.41%)\n",
            "\n",
            "Approach: Loss, BN =  L1L2 BN epoch = 25\n"
          ],
          "name": "stdout"
        },
        {
          "output_type": "stream",
          "text": [
            "loss=0.06895182281732559 batch_id=468 Train Accuracy=98.93%: 100%|██████████| 469/469 [00:15<00:00, 29.36it/s]\n",
            "  0%|          | 0/118 [00:00<?, ?it/s]"
          ],
          "name": "stderr"
        },
        {
          "output_type": "stream",
          "text": [
            "\n",
            "Test set: Average loss: 0.0165, Test Accuracy: 9942/10000 (99.42%)\n",
            "\n",
            "Approach: Loss, BN =  nll GBN epoch = 1\n"
          ],
          "name": "stdout"
        },
        {
          "output_type": "stream",
          "text": [
            "loss=0.13000468909740448 batch_id=117 Train Accuracy=82.72%: 100%|██████████| 118/118 [00:11<00:00, 10.08it/s]\n",
            "  0%|          | 0/118 [00:00<?, ?it/s]"
          ],
          "name": "stderr"
        },
        {
          "output_type": "stream",
          "text": [
            "\n",
            "Test set: Average loss: 0.0985, Test Accuracy: 9669/10000 (96.69%)\n",
            "\n",
            "Approach: Loss, BN =  nll GBN epoch = 2\n"
          ],
          "name": "stdout"
        },
        {
          "output_type": "stream",
          "text": [
            "loss=0.053568433970212936 batch_id=117 Train Accuracy=96.96%: 100%|██████████| 118/118 [00:11<00:00, 10.00it/s]\n",
            "  0%|          | 0/118 [00:00<?, ?it/s]"
          ],
          "name": "stderr"
        },
        {
          "output_type": "stream",
          "text": [
            "\n",
            "Test set: Average loss: 0.0612, Test Accuracy: 9815/10000 (98.15%)\n",
            "\n",
            "Approach: Loss, BN =  nll GBN epoch = 3\n"
          ],
          "name": "stdout"
        },
        {
          "output_type": "stream",
          "text": [
            "loss=0.11550042033195496 batch_id=117 Train Accuracy=97.63%: 100%|██████████| 118/118 [00:11<00:00, 10.12it/s]\n",
            "  0%|          | 0/118 [00:00<?, ?it/s]"
          ],
          "name": "stderr"
        },
        {
          "output_type": "stream",
          "text": [
            "\n",
            "Test set: Average loss: 0.0360, Test Accuracy: 9892/10000 (98.92%)\n",
            "\n",
            "Approach: Loss, BN =  nll GBN epoch = 4\n"
          ],
          "name": "stdout"
        },
        {
          "output_type": "stream",
          "text": [
            "loss=0.03553686663508415 batch_id=117 Train Accuracy=97.94%: 100%|██████████| 118/118 [00:11<00:00, 10.03it/s]\n",
            "  0%|          | 0/118 [00:00<?, ?it/s]"
          ],
          "name": "stderr"
        },
        {
          "output_type": "stream",
          "text": [
            "\n",
            "Test set: Average loss: 0.0424, Test Accuracy: 9869/10000 (98.69%)\n",
            "\n",
            "Approach: Loss, BN =  nll GBN epoch = 5\n"
          ],
          "name": "stdout"
        },
        {
          "output_type": "stream",
          "text": [
            "loss=0.015103325247764587 batch_id=117 Train Accuracy=98.26%: 100%|██████████| 118/118 [00:11<00:00, 10.08it/s]\n",
            "  0%|          | 0/118 [00:00<?, ?it/s]"
          ],
          "name": "stderr"
        },
        {
          "output_type": "stream",
          "text": [
            "\n",
            "Test set: Average loss: 0.0399, Test Accuracy: 9877/10000 (98.77%)\n",
            "\n",
            "Approach: Loss, BN =  nll GBN epoch = 6\n"
          ],
          "name": "stdout"
        },
        {
          "output_type": "stream",
          "text": [
            "loss=0.08951371908187866 batch_id=117 Train Accuracy=98.30%: 100%|██████████| 118/118 [00:11<00:00, 10.04it/s]\n",
            "  0%|          | 0/118 [00:00<?, ?it/s]"
          ],
          "name": "stderr"
        },
        {
          "output_type": "stream",
          "text": [
            "\n",
            "Test set: Average loss: 0.0366, Test Accuracy: 9894/10000 (98.94%)\n",
            "\n",
            "Approach: Loss, BN =  nll GBN epoch = 7\n"
          ],
          "name": "stdout"
        },
        {
          "output_type": "stream",
          "text": [
            "loss=0.014004647731781006 batch_id=117 Train Accuracy=98.64%: 100%|██████████| 118/118 [00:11<00:00,  9.94it/s]\n",
            "  0%|          | 0/118 [00:00<?, ?it/s]"
          ],
          "name": "stderr"
        },
        {
          "output_type": "stream",
          "text": [
            "\n",
            "Test set: Average loss: 0.0259, Test Accuracy: 9923/10000 (99.23%)\n",
            "\n",
            "Approach: Loss, BN =  nll GBN epoch = 8\n"
          ],
          "name": "stdout"
        },
        {
          "output_type": "stream",
          "text": [
            "loss=0.042370568960905075 batch_id=117 Train Accuracy=98.75%: 100%|██████████| 118/118 [00:11<00:00, 10.13it/s]\n",
            "  0%|          | 0/118 [00:00<?, ?it/s]"
          ],
          "name": "stderr"
        },
        {
          "output_type": "stream",
          "text": [
            "\n",
            "Test set: Average loss: 0.0231, Test Accuracy: 9934/10000 (99.34%)\n",
            "\n",
            "Approach: Loss, BN =  nll GBN epoch = 9\n"
          ],
          "name": "stdout"
        },
        {
          "output_type": "stream",
          "text": [
            "loss=0.005635775160044432 batch_id=117 Train Accuracy=98.75%: 100%|██████████| 118/118 [00:11<00:00, 10.03it/s]\n",
            "  0%|          | 0/118 [00:00<?, ?it/s]"
          ],
          "name": "stderr"
        },
        {
          "output_type": "stream",
          "text": [
            "\n",
            "Test set: Average loss: 0.0231, Test Accuracy: 9932/10000 (99.32%)\n",
            "\n",
            "Approach: Loss, BN =  nll GBN epoch = 10\n"
          ],
          "name": "stdout"
        },
        {
          "output_type": "stream",
          "text": [
            "loss=0.0630536749958992 batch_id=117 Train Accuracy=98.78%: 100%|██████████| 118/118 [00:11<00:00, 10.10it/s]\n",
            "  0%|          | 0/118 [00:00<?, ?it/s]"
          ],
          "name": "stderr"
        },
        {
          "output_type": "stream",
          "text": [
            "\n",
            "Test set: Average loss: 0.0232, Test Accuracy: 9933/10000 (99.33%)\n",
            "\n",
            "Approach: Loss, BN =  nll GBN epoch = 11\n"
          ],
          "name": "stdout"
        },
        {
          "output_type": "stream",
          "text": [
            "loss=0.016944488510489464 batch_id=117 Train Accuracy=98.85%: 100%|██████████| 118/118 [00:11<00:00, 10.16it/s]\n",
            "  0%|          | 0/118 [00:00<?, ?it/s]"
          ],
          "name": "stderr"
        },
        {
          "output_type": "stream",
          "text": [
            "\n",
            "Test set: Average loss: 0.0227, Test Accuracy: 9938/10000 (99.38%)\n",
            "\n",
            "Approach: Loss, BN =  nll GBN epoch = 12\n"
          ],
          "name": "stdout"
        },
        {
          "output_type": "stream",
          "text": [
            "loss=0.04161171242594719 batch_id=117 Train Accuracy=98.80%: 100%|██████████| 118/118 [00:11<00:00, 10.10it/s]\n",
            "  0%|          | 0/118 [00:00<?, ?it/s]"
          ],
          "name": "stderr"
        },
        {
          "output_type": "stream",
          "text": [
            "\n",
            "Test set: Average loss: 0.0225, Test Accuracy: 9934/10000 (99.34%)\n",
            "\n",
            "Approach: Loss, BN =  nll GBN epoch = 13\n"
          ],
          "name": "stdout"
        },
        {
          "output_type": "stream",
          "text": [
            "loss=0.05763552710413933 batch_id=117 Train Accuracy=98.88%: 100%|██████████| 118/118 [00:11<00:00,  9.98it/s]\n",
            "  0%|          | 0/118 [00:00<?, ?it/s]"
          ],
          "name": "stderr"
        },
        {
          "output_type": "stream",
          "text": [
            "\n",
            "Test set: Average loss: 0.0229, Test Accuracy: 9934/10000 (99.34%)\n",
            "\n",
            "Approach: Loss, BN =  nll GBN epoch = 14\n"
          ],
          "name": "stdout"
        },
        {
          "output_type": "stream",
          "text": [
            "loss=0.09875761717557907 batch_id=117 Train Accuracy=98.84%: 100%|██████████| 118/118 [00:11<00:00, 10.02it/s]\n",
            "  0%|          | 0/118 [00:00<?, ?it/s]"
          ],
          "name": "stderr"
        },
        {
          "output_type": "stream",
          "text": [
            "\n",
            "Test set: Average loss: 0.0231, Test Accuracy: 9934/10000 (99.34%)\n",
            "\n",
            "Approach: Loss, BN =  nll GBN epoch = 15\n"
          ],
          "name": "stdout"
        },
        {
          "output_type": "stream",
          "text": [
            "loss=0.04802417755126953 batch_id=117 Train Accuracy=98.89%: 100%|██████████| 118/118 [00:11<00:00, 10.01it/s]\n",
            "  0%|          | 0/118 [00:00<?, ?it/s]"
          ],
          "name": "stderr"
        },
        {
          "output_type": "stream",
          "text": [
            "\n",
            "Test set: Average loss: 0.0231, Test Accuracy: 9934/10000 (99.34%)\n",
            "\n",
            "Approach: Loss, BN =  nll GBN epoch = 16\n"
          ],
          "name": "stdout"
        },
        {
          "output_type": "stream",
          "text": [
            "loss=0.030985301360487938 batch_id=117 Train Accuracy=98.89%: 100%|██████████| 118/118 [00:11<00:00, 10.05it/s]\n",
            "  0%|          | 0/118 [00:00<?, ?it/s]"
          ],
          "name": "stderr"
        },
        {
          "output_type": "stream",
          "text": [
            "\n",
            "Test set: Average loss: 0.0230, Test Accuracy: 9933/10000 (99.33%)\n",
            "\n",
            "Approach: Loss, BN =  nll GBN epoch = 17\n"
          ],
          "name": "stdout"
        },
        {
          "output_type": "stream",
          "text": [
            "loss=0.039572007954120636 batch_id=117 Train Accuracy=98.85%: 100%|██████████| 118/118 [00:11<00:00, 10.07it/s]\n",
            "  0%|          | 0/118 [00:00<?, ?it/s]"
          ],
          "name": "stderr"
        },
        {
          "output_type": "stream",
          "text": [
            "\n",
            "Test set: Average loss: 0.0226, Test Accuracy: 9932/10000 (99.32%)\n",
            "\n",
            "Approach: Loss, BN =  nll GBN epoch = 18\n"
          ],
          "name": "stdout"
        },
        {
          "output_type": "stream",
          "text": [
            "loss=0.08542626351118088 batch_id=117 Train Accuracy=98.94%: 100%|██████████| 118/118 [00:11<00:00,  9.98it/s]\n",
            "  0%|          | 0/118 [00:00<?, ?it/s]"
          ],
          "name": "stderr"
        },
        {
          "output_type": "stream",
          "text": [
            "\n",
            "Test set: Average loss: 0.0230, Test Accuracy: 9938/10000 (99.38%)\n",
            "\n",
            "Approach: Loss, BN =  nll GBN epoch = 19\n"
          ],
          "name": "stdout"
        },
        {
          "output_type": "stream",
          "text": [
            "loss=0.024761267006397247 batch_id=117 Train Accuracy=98.84%: 100%|██████████| 118/118 [00:11<00:00, 10.12it/s]\n",
            "  0%|          | 0/118 [00:00<?, ?it/s]"
          ],
          "name": "stderr"
        },
        {
          "output_type": "stream",
          "text": [
            "\n",
            "Test set: Average loss: 0.0221, Test Accuracy: 9938/10000 (99.38%)\n",
            "\n",
            "Approach: Loss, BN =  nll GBN epoch = 20\n"
          ],
          "name": "stdout"
        },
        {
          "output_type": "stream",
          "text": [
            "loss=0.05066390335559845 batch_id=117 Train Accuracy=98.86%: 100%|██████████| 118/118 [00:11<00:00, 10.04it/s]\n",
            "  0%|          | 0/118 [00:00<?, ?it/s]"
          ],
          "name": "stderr"
        },
        {
          "output_type": "stream",
          "text": [
            "\n",
            "Test set: Average loss: 0.0228, Test Accuracy: 9938/10000 (99.38%)\n",
            "\n",
            "Approach: Loss, BN =  nll GBN epoch = 21\n"
          ],
          "name": "stdout"
        },
        {
          "output_type": "stream",
          "text": [
            "loss=0.01865459978580475 batch_id=117 Train Accuracy=98.84%: 100%|██████████| 118/118 [00:11<00:00, 10.02it/s]\n",
            "  0%|          | 0/118 [00:00<?, ?it/s]"
          ],
          "name": "stderr"
        },
        {
          "output_type": "stream",
          "text": [
            "\n",
            "Test set: Average loss: 0.0222, Test Accuracy: 9938/10000 (99.38%)\n",
            "\n",
            "Approach: Loss, BN =  nll GBN epoch = 22\n"
          ],
          "name": "stdout"
        },
        {
          "output_type": "stream",
          "text": [
            "loss=0.035163458436727524 batch_id=117 Train Accuracy=98.87%: 100%|██████████| 118/118 [00:11<00:00,  9.93it/s]\n",
            "  0%|          | 0/118 [00:00<?, ?it/s]"
          ],
          "name": "stderr"
        },
        {
          "output_type": "stream",
          "text": [
            "\n",
            "Test set: Average loss: 0.0227, Test Accuracy: 9937/10000 (99.37%)\n",
            "\n",
            "Approach: Loss, BN =  nll GBN epoch = 23\n"
          ],
          "name": "stdout"
        },
        {
          "output_type": "stream",
          "text": [
            "loss=0.06390953809022903 batch_id=117 Train Accuracy=98.89%: 100%|██████████| 118/118 [00:11<00:00, 10.07it/s]\n",
            "  0%|          | 0/118 [00:00<?, ?it/s]"
          ],
          "name": "stderr"
        },
        {
          "output_type": "stream",
          "text": [
            "\n",
            "Test set: Average loss: 0.0226, Test Accuracy: 9940/10000 (99.40%)\n",
            "\n",
            "Approach: Loss, BN =  nll GBN epoch = 24\n"
          ],
          "name": "stdout"
        },
        {
          "output_type": "stream",
          "text": [
            "loss=0.0036833693739026785 batch_id=117 Train Accuracy=98.87%: 100%|██████████| 118/118 [00:11<00:00, 10.00it/s]\n",
            "  0%|          | 0/118 [00:00<?, ?it/s]"
          ],
          "name": "stderr"
        },
        {
          "output_type": "stream",
          "text": [
            "\n",
            "Test set: Average loss: 0.0225, Test Accuracy: 9935/10000 (99.35%)\n",
            "\n",
            "Approach: Loss, BN =  nll GBN epoch = 25\n"
          ],
          "name": "stdout"
        },
        {
          "output_type": "stream",
          "text": [
            "loss=0.015571615658700466 batch_id=117 Train Accuracy=98.81%: 100%|██████████| 118/118 [00:11<00:00, 10.06it/s]\n"
          ],
          "name": "stderr"
        },
        {
          "output_type": "stream",
          "text": [
            "\n",
            "Test set: Average loss: 0.0229, Test Accuracy: 9936/10000 (99.36%)\n",
            "\n"
          ],
          "name": "stdout"
        },
        {
          "output_type": "display_data",
          "data": {
            "image/png": "[encoded data removed]",
            "text/plain": [
              "<Figure size 864x864 with 25 Axes>"
            ]
          },
          "metadata": {
            "tags": []
          }
        },
        {
          "output_type": "stream",
          "text": [
            "\r  0%|          | 0/118 [00:00<?, ?it/s]"
          ],
          "name": "stderr"
        },
        {
          "output_type": "stream",
          "text": [
            "Approach: Loss, BN =  L1L2 GBN epoch = 1\n"
          ],
          "name": "stdout"
        },
        {
          "output_type": "stream",
          "text": [
            "loss=0.1379985511302948 batch_id=117 Train Accuracy=82.86%: 100%|██████████| 118/118 [00:12<00:00,  9.50it/s]\n",
            "  0%|          | 0/118 [00:00<?, ?it/s]"
          ],
          "name": "stderr"
        },
        {
          "output_type": "stream",
          "text": [
            "\n",
            "Test set: Average loss: 0.0866, Test Accuracy: 9753/10000 (97.53%)\n",
            "\n",
            "Approach: Loss, BN =  L1L2 GBN epoch = 2\n"
          ],
          "name": "stdout"
        },
        {
          "output_type": "stream",
          "text": [
            "loss=0.05534755438566208 batch_id=117 Train Accuracy=97.21%: 100%|██████████| 118/118 [00:12<00:00,  9.39it/s]\n",
            "  0%|          | 0/118 [00:00<?, ?it/s]"
          ],
          "name": "stderr"
        },
        {
          "output_type": "stream",
          "text": [
            "\n",
            "Test set: Average loss: 0.0482, Test Accuracy: 9854/10000 (98.54%)\n",
            "\n",
            "Approach: Loss, BN =  L1L2 GBN epoch = 3\n"
          ],
          "name": "stdout"
        },
        {
          "output_type": "stream",
          "text": [
            "loss=0.07030986249446869 batch_id=117 Train Accuracy=97.84%: 100%|██████████| 118/118 [00:12<00:00,  9.50it/s]\n",
            "  0%|          | 0/118 [00:00<?, ?it/s]"
          ],
          "name": "stderr"
        },
        {
          "output_type": "stream",
          "text": [
            "\n",
            "Test set: Average loss: 0.0409, Test Accuracy: 9872/10000 (98.72%)\n",
            "\n",
            "Approach: Loss, BN =  L1L2 GBN epoch = 4\n"
          ],
          "name": "stdout"
        },
        {
          "output_type": "stream",
          "text": [
            "loss=0.03670239821076393 batch_id=117 Train Accuracy=98.12%: 100%|██████████| 118/118 [00:12<00:00,  9.53it/s]\n",
            "  0%|          | 0/118 [00:00<?, ?it/s]"
          ],
          "name": "stderr"
        },
        {
          "output_type": "stream",
          "text": [
            "\n",
            "Test set: Average loss: 0.0419, Test Accuracy: 9874/10000 (98.74%)\n",
            "\n",
            "Approach: Loss, BN =  L1L2 GBN epoch = 5\n"
          ],
          "name": "stdout"
        },
        {
          "output_type": "stream",
          "text": [
            "loss=0.09520463645458221 batch_id=117 Train Accuracy=98.31%: 100%|██████████| 118/118 [00:12<00:00,  9.42it/s]\n",
            "  0%|          | 0/118 [00:00<?, ?it/s]"
          ],
          "name": "stderr"
        },
        {
          "output_type": "stream",
          "text": [
            "\n",
            "Test set: Average loss: 0.0333, Test Accuracy: 9885/10000 (98.85%)\n",
            "\n",
            "Approach: Loss, BN =  L1L2 GBN epoch = 6\n"
          ],
          "name": "stdout"
        },
        {
          "output_type": "stream",
          "text": [
            "loss=0.07138729095458984 batch_id=117 Train Accuracy=98.40%: 100%|██████████| 118/118 [00:12<00:00,  9.42it/s]\n",
            "  0%|          | 0/118 [00:00<?, ?it/s]"
          ],
          "name": "stderr"
        },
        {
          "output_type": "stream",
          "text": [
            "\n",
            "Test set: Average loss: 0.0352, Test Accuracy: 9885/10000 (98.85%)\n",
            "\n",
            "Approach: Loss, BN =  L1L2 GBN epoch = 7\n"
          ],
          "name": "stdout"
        },
        {
          "output_type": "stream",
          "text": [
            "loss=0.041105642914772034 batch_id=117 Train Accuracy=98.69%: 100%|██████████| 118/118 [00:12<00:00,  9.40it/s]\n",
            "  0%|          | 0/118 [00:00<?, ?it/s]"
          ],
          "name": "stderr"
        },
        {
          "output_type": "stream",
          "text": [
            "\n",
            "Test set: Average loss: 0.0252, Test Accuracy: 9915/10000 (99.15%)\n",
            "\n",
            "Approach: Loss, BN =  L1L2 GBN epoch = 8\n"
          ],
          "name": "stdout"
        },
        {
          "output_type": "stream",
          "text": [
            "loss=0.1808243691921234 batch_id=117 Train Accuracy=98.81%: 100%|██████████| 118/118 [00:12<00:00,  9.50it/s]\n",
            "  0%|          | 0/118 [00:00<?, ?it/s]"
          ],
          "name": "stderr"
        },
        {
          "output_type": "stream",
          "text": [
            "\n",
            "Test set: Average loss: 0.0233, Test Accuracy: 9923/10000 (99.23%)\n",
            "\n",
            "Approach: Loss, BN =  L1L2 GBN epoch = 9\n"
          ],
          "name": "stdout"
        },
        {
          "output_type": "stream",
          "text": [
            "loss=0.19328539073467255 batch_id=117 Train Accuracy=98.85%: 100%|██████████| 118/118 [00:12<00:00,  9.47it/s]\n",
            "  0%|          | 0/118 [00:00<?, ?it/s]"
          ],
          "name": "stderr"
        },
        {
          "output_type": "stream",
          "text": [
            "\n",
            "Test set: Average loss: 0.0233, Test Accuracy: 9919/10000 (99.19%)\n",
            "\n",
            "Approach: Loss, BN =  L1L2 GBN epoch = 10\n"
          ],
          "name": "stdout"
        },
        {
          "output_type": "stream",
          "text": [
            "loss=0.016793737187981606 batch_id=117 Train Accuracy=98.89%: 100%|██████████| 118/118 [00:12<00:00,  9.54it/s]\n",
            "  0%|          | 0/118 [00:00<?, ?it/s]"
          ],
          "name": "stderr"
        },
        {
          "output_type": "stream",
          "text": [
            "\n",
            "Test set: Average loss: 0.0236, Test Accuracy: 9918/10000 (99.18%)\n",
            "\n",
            "Approach: Loss, BN =  L1L2 GBN epoch = 11\n"
          ],
          "name": "stdout"
        },
        {
          "output_type": "stream",
          "text": [
            "loss=0.07893956452608109 batch_id=117 Train Accuracy=98.85%: 100%|██████████| 118/118 [00:12<00:00,  9.49it/s]\n",
            "  0%|          | 0/118 [00:00<?, ?it/s]"
          ],
          "name": "stderr"
        },
        {
          "output_type": "stream",
          "text": [
            "\n",
            "Test set: Average loss: 0.0234, Test Accuracy: 9921/10000 (99.21%)\n",
            "\n",
            "Approach: Loss, BN =  L1L2 GBN epoch = 12\n"
          ],
          "name": "stdout"
        },
        {
          "output_type": "stream",
          "text": [
            "loss=0.04272640496492386 batch_id=117 Train Accuracy=98.87%: 100%|██████████| 118/118 [00:12<00:00,  9.50it/s]\n",
            "  0%|          | 0/118 [00:00<?, ?it/s]"
          ],
          "name": "stderr"
        },
        {
          "output_type": "stream",
          "text": [
            "\n",
            "Test set: Average loss: 0.0231, Test Accuracy: 9920/10000 (99.20%)\n",
            "\n",
            "Approach: Loss, BN =  L1L2 GBN epoch = 13\n"
          ],
          "name": "stdout"
        },
        {
          "output_type": "stream",
          "text": [
            "loss=0.06738866865634918 batch_id=117 Train Accuracy=98.86%: 100%|██████████| 118/118 [00:12<00:00,  9.53it/s]\n",
            "  0%|          | 0/118 [00:00<?, ?it/s]"
          ],
          "name": "stderr"
        },
        {
          "output_type": "stream",
          "text": [
            "\n",
            "Test set: Average loss: 0.0223, Test Accuracy: 9925/10000 (99.25%)\n",
            "\n",
            "Approach: Loss, BN =  L1L2 GBN epoch = 14\n"
          ],
          "name": "stdout"
        },
        {
          "output_type": "stream",
          "text": [
            "loss=0.10853271931409836 batch_id=117 Train Accuracy=98.91%: 100%|██████████| 118/118 [00:12<00:00,  9.47it/s]\n",
            "  0%|          | 0/118 [00:00<?, ?it/s]"
          ],
          "name": "stderr"
        },
        {
          "output_type": "stream",
          "text": [
            "\n",
            "Test set: Average loss: 0.0222, Test Accuracy: 9922/10000 (99.22%)\n",
            "\n",
            "Approach: Loss, BN =  L1L2 GBN epoch = 15\n"
          ],
          "name": "stdout"
        },
        {
          "output_type": "stream",
          "text": [
            "loss=0.1080855056643486 batch_id=117 Train Accuracy=98.90%: 100%|██████████| 118/118 [00:12<00:00,  9.44it/s]\n",
            "  0%|          | 0/118 [00:00<?, ?it/s]"
          ],
          "name": "stderr"
        },
        {
          "output_type": "stream",
          "text": [
            "\n",
            "Test set: Average loss: 0.0222, Test Accuracy: 9925/10000 (99.25%)\n",
            "\n",
            "Approach: Loss, BN =  L1L2 GBN epoch = 16\n"
          ],
          "name": "stdout"
        },
        {
          "output_type": "stream",
          "text": [
            "loss=0.07531169056892395 batch_id=117 Train Accuracy=98.90%: 100%|██████████| 118/118 [00:12<00:00,  9.29it/s]\n",
            "  0%|          | 0/118 [00:00<?, ?it/s]"
          ],
          "name": "stderr"
        },
        {
          "output_type": "stream",
          "text": [
            "\n",
            "Test set: Average loss: 0.0224, Test Accuracy: 9922/10000 (99.22%)\n",
            "\n",
            "Approach: Loss, BN =  L1L2 GBN epoch = 17\n"
          ],
          "name": "stdout"
        },
        {
          "output_type": "stream",
          "text": [
            "loss=0.07317623496055603 batch_id=117 Train Accuracy=98.91%: 100%|██████████| 118/118 [00:12<00:00,  9.39it/s]\n",
            "  0%|          | 0/118 [00:00<?, ?it/s]"
          ],
          "name": "stderr"
        },
        {
          "output_type": "stream",
          "text": [
            "\n",
            "Test set: Average loss: 0.0226, Test Accuracy: 9922/10000 (99.22%)\n",
            "\n",
            "Approach: Loss, BN =  L1L2 GBN epoch = 18\n"
          ],
          "name": "stdout"
        },
        {
          "output_type": "stream",
          "text": [
            "loss=0.026380721479654312 batch_id=117 Train Accuracy=98.90%: 100%|██████████| 118/118 [00:12<00:00,  9.38it/s]\n",
            "  0%|          | 0/118 [00:00<?, ?it/s]"
          ],
          "name": "stderr"
        },
        {
          "output_type": "stream",
          "text": [
            "\n",
            "Test set: Average loss: 0.0221, Test Accuracy: 9929/10000 (99.29%)\n",
            "\n",
            "Approach: Loss, BN =  L1L2 GBN epoch = 19\n"
          ],
          "name": "stdout"
        },
        {
          "output_type": "stream",
          "text": [
            "loss=0.0531112477183342 batch_id=117 Train Accuracy=98.89%: 100%|██████████| 118/118 [00:12<00:00,  9.46it/s]\n",
            "  0%|          | 0/118 [00:00<?, ?it/s]"
          ],
          "name": "stderr"
        },
        {
          "output_type": "stream",
          "text": [
            "\n",
            "Test set: Average loss: 0.0227, Test Accuracy: 9918/10000 (99.18%)\n",
            "\n",
            "Approach: Loss, BN =  L1L2 GBN epoch = 20\n"
          ],
          "name": "stdout"
        },
        {
          "output_type": "stream",
          "text": [
            "loss=0.06152107194066048 batch_id=117 Train Accuracy=98.88%: 100%|██████████| 118/118 [00:12<00:00,  9.42it/s]\n",
            "  0%|          | 0/118 [00:00<?, ?it/s]"
          ],
          "name": "stderr"
        },
        {
          "output_type": "stream",
          "text": [
            "\n",
            "Test set: Average loss: 0.0225, Test Accuracy: 9923/10000 (99.23%)\n",
            "\n",
            "Approach: Loss, BN =  L1L2 GBN epoch = 21\n"
          ],
          "name": "stdout"
        },
        {
          "output_type": "stream",
          "text": [
            "loss=0.02386525087058544 batch_id=117 Train Accuracy=98.90%: 100%|██████████| 118/118 [00:12<00:00,  9.62it/s]\n",
            "  0%|          | 0/118 [00:00<?, ?it/s]"
          ],
          "name": "stderr"
        },
        {
          "output_type": "stream",
          "text": [
            "\n",
            "Test set: Average loss: 0.0223, Test Accuracy: 9920/10000 (99.20%)\n",
            "\n",
            "Approach: Loss, BN =  L1L2 GBN epoch = 22\n"
          ],
          "name": "stdout"
        },
        {
          "output_type": "stream",
          "text": [
            "loss=0.032783616334199905 batch_id=117 Train Accuracy=98.94%: 100%|██████████| 118/118 [00:12<00:00,  9.72it/s]\n",
            "  0%|          | 0/118 [00:00<?, ?it/s]"
          ],
          "name": "stderr"
        },
        {
          "output_type": "stream",
          "text": [
            "\n",
            "Test set: Average loss: 0.0225, Test Accuracy: 9922/10000 (99.22%)\n",
            "\n",
            "Approach: Loss, BN =  L1L2 GBN epoch = 23\n"
          ],
          "name": "stdout"
        },
        {
          "output_type": "stream",
          "text": [
            "loss=0.030973993241786957 batch_id=117 Train Accuracy=98.89%: 100%|██████████| 118/118 [00:12<00:00,  9.81it/s]\n",
            "  0%|          | 0/118 [00:00<?, ?it/s]"
          ],
          "name": "stderr"
        },
        {
          "output_type": "stream",
          "text": [
            "\n",
            "Test set: Average loss: 0.0220, Test Accuracy: 9923/10000 (99.23%)\n",
            "\n",
            "Approach: Loss, BN =  L1L2 GBN epoch = 24\n"
          ],
          "name": "stdout"
        },
        {
          "output_type": "stream",
          "text": [
            "loss=0.05512089282274246 batch_id=117 Train Accuracy=98.91%: 100%|██████████| 118/118 [00:11<00:00,  9.89it/s]\n",
            "  0%|          | 0/118 [00:00<?, ?it/s]"
          ],
          "name": "stderr"
        },
        {
          "output_type": "stream",
          "text": [
            "\n",
            "Test set: Average loss: 0.0223, Test Accuracy: 9929/10000 (99.29%)\n",
            "\n",
            "Approach: Loss, BN =  L1L2 GBN epoch = 25\n"
          ],
          "name": "stdout"
        },
        {
          "output_type": "stream",
          "text": [
            "loss=0.01846391335129738 batch_id=117 Train Accuracy=98.97%: 100%|██████████| 118/118 [00:11<00:00, 10.03it/s]\n"
          ],
          "name": "stderr"
        },
        {
          "output_type": "stream",
          "text": [
            "\n",
            "Test set: Average loss: 0.0218, Test Accuracy: 9928/10000 (99.28%)\n",
            "\n"
          ],
          "name": "stdout"
        }
      ]
    },
    {
      "cell_type": "code",
      "metadata": {
        "colab_type": "code",
        "id": "TUV1OikzYY1J",
        "tags": [],
        "colab": {
          "base_uri": "https://localhost:8080/",
          "height": 1000
        },
        "outputId": "34eefa02-fbbe-4cb6-c252-d4ea8dd5af44"
      },
      "source": [
        "\n",
        "# Plot Graphs\n",
        "gp.PlotValidationGraph(approach_dicts)\n",
        "gp.PlotLossGraph(approach_dicts)\n"
      ],
      "execution_count": 5,
      "outputs": [
        {
          "output_type": "stream",
          "text": [
            "PlotValidationGraph: test_acc:  [98.24, 99.04, 99.07, 99.09, 98.79, 99.19, 99.34, 99.35, 99.37, 99.41, 99.44, 99.4, 99.43, 99.43, 99.45, 99.4, 99.42, 99.41, 99.38, 99.42, 99.4, 99.41, 99.37, 99.37, 99.4]\n",
            "PlotValidationGraph: test_acc:  [98.35, 98.67, 98.98, 98.97, 98.89, 98.74, 99.31, 99.38, 99.38, 99.45, 99.39, 99.45, 99.4, 99.43, 99.41, 99.41, 99.41, 99.45, 99.44, 99.39, 99.43, 99.39, 99.43, 99.4, 99.39]\n",
            "PlotValidationGraph: test_acc:  [95.93, 98.45, 98.53, 98.87, 99.02, 99.26, 99.28, 99.26, 99.3, 99.31, 99.29, 99.32, 99.31, 99.35, 99.32, 99.32, 99.33, 99.32, 99.33, 99.35, 99.31, 99.35, 99.3, 99.32, 99.32]\n",
            "PlotValidationGraph: test_acc:  [98.22, 98.74, 98.88, 98.96, 98.83, 99.05, 99.41, 99.38, 99.44, 99.49, 99.43, 99.46, 99.43, 99.41, 99.42, 99.37, 99.4, 99.43, 99.45, 99.41, 99.42, 99.43, 99.45, 99.41, 99.42]\n",
            "PlotValidationGraph: test_acc:  [96.69, 98.15, 98.92, 98.69, 98.77, 98.94, 99.23, 99.34, 99.32, 99.33, 99.38, 99.34, 99.34, 99.34, 99.34, 99.33, 99.32, 99.38, 99.38, 99.38, 99.38, 99.37, 99.4, 99.35, 99.36]\n",
            "PlotValidationGraph: test_acc:  [97.53, 98.54, 98.72, 98.74, 98.85, 98.85, 99.15, 99.23, 99.19, 99.18, 99.21, 99.2, 99.25, 99.22, 99.25, 99.22, 99.22, 99.29, 99.18, 99.23, 99.2, 99.22, 99.23, 99.29, 99.28]\n"
          ],
          "name": "stdout"
        },
        {
          "output_type": "display_data",
          "data": {
            "image/png": "[encoded data removed]",
            "text/plain": [
              "<Figure size 792x648 with 1 Axes>"
            ]
          },
          "metadata": {
            "tags": []
          }
        },
        {
          "output_type": "display_data",
          "data": {
            "image/png": "[encoded data removed]",
            "text/plain": [
              "<Figure size 792x648 with 1 Axes>"
            ]
          },
          "metadata": {
            "tags": []
          }
        }
      ]
    },
    {
      "cell_type": "code",
      "metadata": {
        "id": "SgEL3IP4PLeX",
        "colab_type": "code",
        "colab": {
          "base_uri": "https://localhost:8080/",
          "height": 204
        },
        "outputId": "b7235dba-4509-47f1-c1dd-aa348b6ac8cc"
      },
      "source": [
        "!zip -r ./graphs.zip ./graphs/\n",
        "!zip -r ./models.zip ./models/\n"
      ],
      "execution_count": 6,
      "outputs": [
        {
          "output_type": "stream",
          "text": [
            "  adding: graphs/ (stored 0%)\n",
            "  adding: graphs/evas6_misclassified.png (deflated 23%)\n",
            "  adding: graphs/evas6-loss.png (deflated 11%)\n",
            "  adding: graphs/evas6-acc.png (deflated 11%)\n",
            "  adding: models/ (stored 0%)\n",
            "  adding: models/EVAS6-nll with BN.pkl (deflated 26%)\n",
            "  adding: models/EVAS6-L1 with BN.pkl (deflated 26%)\n",
            "  adding: models/EVAS6-L1L2 with BN.pkl (deflated 28%)\n",
            "  adding: models/EVAS6-nll with GBN.pkl (deflated 28%)\n",
            "  adding: models/EVAS6-L1L2 with GBN.pkl (deflated 26%)\n",
            "  adding: models/EVAS6-L2 with BN.pkl (deflated 28%)\n"
          ],
          "name": "stdout"
        }
      ]
    },
    {
      "cell_type": "code",
      "metadata": {
        "id": "Tv683d6yZPuH",
        "colab_type": "code",
        "colab": {
          "base_uri": "https://localhost:8080/",
          "height": 17
        },
        "outputId": "f04a139f-f613-4ee8-a437-203fda3d82b7"
      },
      "source": [
        "from google.colab import files\n",
        "files.download('graphs.zip')\n",
        "files.download('models.zip')\n"
      ],
      "execution_count": 7,
      "outputs": [
        {
          "output_type": "display_data",
          "data": {
            "application/javascript": [
              "\n",
              "    async function download(id, filename, size) {\n",
              "      if (!google.colab.kernel.accessAllowed) {\n",
              "        return;\n",
              "      }\n",
              "      const div = document.createElement('div');\n",
              "      const label = document.createElement('label');\n",
              "      label.textContent = `Downloading \"${filename}\": `;\n",
              "      div.appendChild(label);\n",
              "      const progress = document.createElement('progress');\n",
              "      progress.max = size;\n",
              "      div.appendChild(progress);\n",
              "      document.body.appendChild(div);\n",
              "\n",
              "      const buffers = [];\n",
              "      let downloaded = 0;\n",
              "\n",
              "      const channel = await google.colab.kernel.comms.open(id);\n",
              "      // Send a message to notify the kernel that we're ready.\n",
              "      channel.send({})\n",
              "\n",
              "      for await (const message of channel.messages) {\n",
              "        // Send a message to notify the kernel that we're ready.\n",
              "        channel.send({})\n",
              "        if (message.buffers) {\n",
              "          for (const buffer of message.buffers) {\n",
              "            buffers.push(buffer);\n",
              "            downloaded += buffer.byteLength;\n",
              "            progress.value = downloaded;\n",
              "          }\n",
              "        }\n",
              "      }\n",
              "      const blob = new Blob(buffers, {type: 'application/binary'});\n",
              "      const a = document.createElement('a');\n",
              "      a.href = window.URL.createObjectURL(blob);\n",
              "      a.download = filename;\n",
              "      div.appendChild(a);\n",
              "      a.click();\n",
              "      div.remove();\n",
              "    }\n",
              "  "
            ],
            "text/plain": [
              "<IPython.core.display.Javascript object>"
            ]
          },
          "metadata": {
            "tags": []
          }
        },
        {
          "output_type": "display_data",
          "data": {
            "application/javascript": [
              "download(\"download_44014583-5277-4d7e-9d5c-8f3a513838ea\", \"graphs.zip\", 279582)"
            ],
            "text/plain": [
              "<IPython.core.display.Javascript object>"
            ]
          },
          "metadata": {
            "tags": []
          }
        },
        {
          "output_type": "display_data",
          "data": {
            "application/javascript": [
              "\n",
              "    async function download(id, filename, size) {\n",
              "      if (!google.colab.kernel.accessAllowed) {\n",
              "        return;\n",
              "      }\n",
              "      const div = document.createElement('div');\n",
              "      const label = document.createElement('label');\n",
              "      label.textContent = `Downloading \"${filename}\": `;\n",
              "      div.appendChild(label);\n",
              "      const progress = document.createElement('progress');\n",
              "      progress.max = size;\n",
              "      div.appendChild(progress);\n",
              "      document.body.appendChild(div);\n",
              "\n",
              "      const buffers = [];\n",
              "      let downloaded = 0;\n",
              "\n",
              "      const channel = await google.colab.kernel.comms.open(id);\n",
              "      // Send a message to notify the kernel that we're ready.\n",
              "      channel.send({})\n",
              "\n",
              "      for await (const message of channel.messages) {\n",
              "        // Send a message to notify the kernel that we're ready.\n",
              "        channel.send({})\n",
              "        if (message.buffers) {\n",
              "          for (const buffer of message.buffers) {\n",
              "            buffers.push(buffer);\n",
              "            downloaded += buffer.byteLength;\n",
              "            progress.value = downloaded;\n",
              "          }\n",
              "        }\n",
              "      }\n",
              "      const blob = new Blob(buffers, {type: 'application/binary'});\n",
              "      const a = document.createElement('a');\n",
              "      a.href = window.URL.createObjectURL(blob);\n",
              "      a.download = filename;\n",
              "      div.appendChild(a);\n",
              "      a.click();\n",
              "      div.remove();\n",
              "    }\n",
              "  "
            ],
            "text/plain": [
              "<IPython.core.display.Javascript object>"
            ]
          },
          "metadata": {
            "tags": []
          }
        },
        {
          "output_type": "display_data",
          "data": {
            "application/javascript": [
              "download(\"download_fb083d9d-88f4-4ac1-aa57-a965363fcc32\", \"models.zip\", 3472)"
            ],
            "text/plain": [
              "<IPython.core.display.Javascript object>"
            ]
          },
          "metadata": {
            "tags": []
          }
        }
      ]
    }
  ]
}