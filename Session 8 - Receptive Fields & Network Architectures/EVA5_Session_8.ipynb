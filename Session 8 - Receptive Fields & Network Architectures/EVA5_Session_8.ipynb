{
  "nbformat": 4,
  "nbformat_minor": 0,
  "metadata": {
    "colab": {
      "name": "EVA5_Session 8.ipynb",
      "provenance": [],
      "authorship_tag": "ABX9TyOvDA3TxzkgSquf05WIY3cz",
      "include_colab_link": true
    },
    "kernelspec": {
      "name": "python3",
      "display_name": "Python 3"
    },
    "accelerator": "GPU"
  },
  "cells": [
    {
      "cell_type": "markdown",
      "metadata": {
        "id": "view-in-github",
        "colab_type": "text"
      },
      "source": [
        "<a href=\"https://colab.research.google.com/github/Anjan-AI/TSAI-EVA5/blob/Anjan/Session%208%20-%20Receptive%20Fields%20%26%20Network%20Architectures/EVA5_Session_8.ipynb\" target=\"_parent\"><img src=\"https://colab.research.google.com/assets/colab-badge.svg\" alt=\"Open In Colab\"/></a>"
      ]
    },
    {
      "cell_type": "code",
      "metadata": {
        "id": "tPl_Sz9moaWX",
        "colab_type": "code",
        "colab": {
          "base_uri": "https://localhost:8080/",
          "height": 136
        },
        "outputId": "cd655751-23f0-4105-9a12-31019aa92155"
      },
      "source": [
        "!git clone -b Anjan https://github.com/Anjan-AI/TSAI-EVA5.git\n"
      ],
      "execution_count": 1,
      "outputs": [
        {
          "output_type": "stream",
          "text": [
            "Cloning into 'TSAI-EVA5'...\n",
            "remote: Enumerating objects: 206, done.\u001b[K\n",
            "remote: Counting objects: 100% (206/206), done.\u001b[K\n",
            "remote: Compressing objects: 100% (179/179), done.\u001b[K\n",
            "remote: Total 401 (delta 49), reused 155 (delta 22), pack-reused 195\u001b[K\n",
            "Receiving objects: 100% (401/401), 3.85 MiB | 6.51 MiB/s, done.\n",
            "Resolving deltas: 100% (122/122), done.\n"
          ],
          "name": "stdout"
        }
      ]
    },
    {
      "cell_type": "code",
      "metadata": {
        "id": "aOoPAaslrHKa",
        "colab_type": "code",
        "colab": {
          "base_uri": "https://localhost:8080/",
          "height": 129
        },
        "outputId": "d65e33b0-372d-4cc6-bfb2-19dc45e4226d"
      },
      "source": [
        ""
      ],
      "execution_count": 4,
      "outputs": [
        {
          "output_type": "error",
          "ename": "SyntaxError",
          "evalue": "ignored",
          "traceback": [
            "\u001b[0;36m  File \u001b[0;32m\"<ipython-input-4-73454c27a344>\"\u001b[0;36m, line \u001b[0;32m1\u001b[0m\n\u001b[0;31m    from Session 8-Recptive Fileds & Netwrok Architectures.Dataset.dataset import Dataset,cifar10_classes\u001b[0m\n\u001b[0m                 ^\u001b[0m\n\u001b[0;31mSyntaxError\u001b[0m\u001b[0;31m:\u001b[0m invalid syntax\n"
          ]
        }
      ]
    }
  ]
}