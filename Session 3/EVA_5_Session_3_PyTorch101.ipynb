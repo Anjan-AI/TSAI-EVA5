{
  "nbformat": 4,
  "nbformat_minor": 0,
  "metadata": {
    "colab": {
      "name": "EVA 5 : Session 3_PyTorch101.ipynb",
      "provenance": [],
      "collapsed_sections": [],
      "include_colab_link": true
    },
    "kernelspec": {
      "name": "python3",
      "display_name": "Python 3"
    }
  },
  "cells": [
    {
      "cell_type": "markdown",
      "metadata": {
        "id": "view-in-github",
        "colab_type": "text"
      },
      "source": [
        "<a href=\"https://colab.research.google.com/github/Anjan-AI/TSAI-EVA5/blob/master/Session%203/EVA_5_Session_3_PyTorch101.ipynb\" target=\"_parent\"><img src=\"https://colab.research.google.com/assets/colab-badge.svg\" alt=\"Open In Colab\"/></a>"
      ]
    },
    {
      "cell_type": "markdown",
      "metadata": {
        "id": "_kYM3ylzYo1Q",
        "colab_type": "text"
      },
      "source": [
        "![PyTorch](https://devblogs.nvidia.com/wp-content/uploads/2017/04/pytorch-logo-dark.png)\n",
        "\n",
        "An open source machine learning framework that accelerates the path from research prototyping to production deployment.\n",
        "\n"
      ]
    },
    {
      "cell_type": "markdown",
      "metadata": {
        "id": "WcVqSTrWY6oz",
        "colab_type": "text"
      },
      "source": [
        "# Tensor - Pytorch's core data structure\n",
        "\n",
        "In Python we can create lists, lists of lists, lists of lists and so on. In NumPy there is a `numpy.ndarray` which represents `n`- dimensional array. In math there is a special name for the generalization of vectors and matrices to a higher dimensional space - a tensor\n",
        "\n",
        "Tensor is an entity with a defined number of dimensions called an order (rank). \n",
        "\n",
        "**Scalar** can be considered as a rank-0-tensor. \n",
        "\n",
        "**Vector** can be introduced as a rank-1-tensor. \n",
        "\n",
        "**Matrices** can be considered as a rank-2-tensor.\n",
        "\n",
        "# Tensor Basics\n",
        "\n",
        "Let's import the torch module first."
      ]
    },
    {
      "cell_type": "code",
      "metadata": {
        "id": "e-oFVL2tYYqp",
        "colab_type": "code",
        "colab": {}
      },
      "source": [
        "import numpy as np\n",
        "import torch"
      ],
      "execution_count": null,
      "outputs": []
    },
    {
      "cell_type": "markdown",
      "metadata": {
        "id": "uGxuR5IEaFJa",
        "colab_type": "text"
      },
      "source": [
        "## Tensor Creation\n",
        "Let's view examples of matrices and tensors generation\n",
        "\n",
        "2-dimensional (rank-2) tensor of zeros:"
      ]
    },
    {
      "cell_type": "code",
      "metadata": {
        "id": "897JQc25aD3E",
        "colab_type": "code",
        "colab": {
          "base_uri": "https://localhost:8080/",
          "height": 68
        },
        "outputId": "1d27d3df-e6b5-4e8f-956d-d6155c923c85"
      },
      "source": [
        "torch.zeros(3, 4)"
      ],
      "execution_count": null,
      "outputs": [
        {
          "output_type": "execute_result",
          "data": {
            "text/plain": [
              "tensor([[0., 0., 0., 0.],\n",
              "        [0., 0., 0., 0.],\n",
              "        [0., 0., 0., 0.]])"
            ]
          },
          "metadata": {
            "tags": []
          },
          "execution_count": 2
        }
      ]
    },
    {
      "cell_type": "markdown",
      "metadata": {
        "id": "pujmpEBhaPRA",
        "colab_type": "text"
      },
      "source": [
        "Random rank-3 tensor:\n",
        "_read the print below and convince yourself how this is a rank-3-tensor and learn what those 2, 3, 4 values are there for_"
      ]
    },
    {
      "cell_type": "code",
      "metadata": {
        "id": "mBrznTNhaOL7",
        "colab_type": "code",
        "colab": {
          "base_uri": "https://localhost:8080/",
          "height": 136
        },
        "outputId": "0e5a45d9-1cf7-4191-8765-5efafd607ab6"
      },
      "source": [
        "torch.rand(2, 3, 4)"
      ],
      "execution_count": null,
      "outputs": [
        {
          "output_type": "execute_result",
          "data": {
            "text/plain": [
              "tensor([[[0.1183, 0.8739, 0.7071, 0.8512],\n",
              "         [0.2894, 0.5546, 0.5722, 0.3534],\n",
              "         [0.3402, 0.8147, 0.0334, 0.5540]],\n",
              "\n",
              "        [[0.0583, 0.9217, 0.9551, 0.4999],\n",
              "         [0.9169, 0.8042, 0.3048, 0.9660],\n",
              "         [0.5759, 0.5963, 0.8971, 0.0882]]])"
            ]
          },
          "metadata": {
            "tags": []
          },
          "execution_count": 4
        }
      ]
    },
    {
      "cell_type": "markdown",
      "metadata": {
        "id": "kO4fIr15asdi",
        "colab_type": "text"
      },
      "source": [
        "I am hoping you have noticed 4-elements in a row, 3 rows making one block and there are 2 blocks. \n",
        "\n",
        "Random rank-4-tensor:"
      ]
    },
    {
      "cell_type": "code",
      "metadata": {
        "id": "KiCLvMGCaVZ3",
        "colab_type": "code",
        "colab": {
          "base_uri": "https://localhost:8080/",
          "height": 221
        },
        "outputId": "b3ef2a53-8a24-4274-fd45-ebcf38ed8625"
      },
      "source": [
        "torch.rand(2, 2, 2, 3)"
      ],
      "execution_count": null,
      "outputs": [
        {
          "output_type": "execute_result",
          "data": {
            "text/plain": [
              "tensor([[[[0.0996, 0.9366, 0.2015],\n",
              "          [0.2976, 0.6795, 0.7643]],\n",
              "\n",
              "         [[0.2751, 0.2800, 0.9105],\n",
              "          [0.1247, 0.6351, 0.7455]]],\n",
              "\n",
              "\n",
              "        [[[0.4573, 0.7096, 0.4611],\n",
              "          [0.1918, 0.3424, 0.1411]],\n",
              "\n",
              "         [[0.4497, 0.4886, 0.9478],\n",
              "          [0.0440, 0.8752, 0.2268]]]])"
            ]
          },
          "metadata": {
            "tags": []
          },
          "execution_count": 5
        }
      ]
    },
    {
      "cell_type": "markdown",
      "metadata": {
        "id": "lF6VL68s3AMV",
        "colab_type": "text"
      },
      "source": [
        "## Question 1:\n",
        "\n",
        "How many dimensions are there in a tensor defined as below?"
      ]
    },
    {
      "cell_type": "code",
      "metadata": {
        "id": "8IbXcI3x3Ibt",
        "colab_type": "code",
        "colab": {
          "base_uri": "https://localhost:8080/",
          "height": 34
        },
        "outputId": "e4ea7646-6947-41fd-c330-2227d180cd4e"
      },
      "source": [
        " torch.rand(1, 1, 1, 1) # no of Dims : 4\n"
      ],
      "execution_count": null,
      "outputs": [
        {
          "output_type": "execute_result",
          "data": {
            "text/plain": [
              "tensor([[[[0.1099]]]])"
            ]
          },
          "metadata": {
            "tags": []
          },
          "execution_count": 6
        }
      ]
    },
    {
      "cell_type": "markdown",
      "metadata": {
        "id": "qmgpqssRa9jF",
        "colab_type": "text"
      },
      "source": [
        ".\n",
        "\n",
        "---\n",
        "\n",
        "\n",
        "There are many more ways to create tensor using some restrictions on values it should contatn - for the full reference, please follow the [official docs](https://pytorch.org/docs/stable/torch.html#creation-ops). \n",
        "\n",
        "\n",
        ".\n",
        "---\n",
        "\n",
        "\n",
        "# Python / NumPy / Pytorch interoperability\n",
        "\n",
        "You can create tensors from python as well as numpy arrays. You can also convert torch tensors to numpy arrays. So, the interoperability between torch and numpy is pretty good. "
      ]
    },
    {
      "cell_type": "code",
      "metadata": {
        "id": "ipgpeWPfa6gE",
        "colab_type": "code",
        "colab": {
          "base_uri": "https://localhost:8080/",
          "height": 119
        },
        "outputId": "c31b707d-bd3a-4a2d-cfb8-1455bd4af58d"
      },
      "source": [
        "# Simple Python List\n",
        "python_list = [1, 2]\n",
        "\n",
        "# Create a numpy array from python list\n",
        "numpy_array = np.array(python_list)\n",
        "\n",
        "# Create a torch Tensor from python list\n",
        "tensor_from_list = torch.tensor(python_list)\n",
        "\n",
        "# Create a torch Tensor from Numpy array\n",
        "tensor_from_array = torch.tensor(numpy_array)\n",
        "\n",
        "# Another way to create a torch Tensor from Numpy array (share same storage)\n",
        "tensor_from_array_v2 = torch.from_numpy(numpy_array)\n",
        "\n",
        "# Convert torch tensor to numpy array\n",
        "array_from_tensor = tensor_from_array.numpy()\n",
        "\n",
        "print('List:   ', python_list)\n",
        "print('Array:  ', numpy_array)\n",
        "print('Tensor: ', tensor_from_list)\n",
        "print('Tensor: ', tensor_from_array)\n",
        "print('Tensor: ', tensor_from_array_v2)\n",
        "print('Array:  ', array_from_tensor)"
      ],
      "execution_count": null,
      "outputs": [
        {
          "output_type": "stream",
          "text": [
            "List:    [1, 2]\n",
            "Array:   [1 2]\n",
            "Tensor:  tensor([1, 2])\n",
            "Tensor:  tensor([1, 2])\n",
            "Tensor:  tensor([1, 2])\n",
            "Array:   [1 2]\n"
          ],
          "name": "stdout"
        }
      ]
    },
    {
      "cell_type": "markdown",
      "metadata": {
        "id": "X_x-86B8gqik",
        "colab_type": "text"
      },
      "source": [
        "**Difference between** `torch.Tensor` **and** `torch.from_numpy`\n",
        "\n",
        "Pytorch aims to be an effective library for computations. What does it mean? It means that pytorch avoids memory copying if it can. "
      ]
    },
    {
      "cell_type": "code",
      "metadata": {
        "id": "eHCKDGpygn_d",
        "colab_type": "code",
        "colab": {
          "base_uri": "https://localhost:8080/",
          "height": 68
        },
        "outputId": "b25daf78-e418-484b-9543-ae81d3e58b97"
      },
      "source": [
        "numpy_array[0] = 10\n",
        "\n",
        "print('Array:  ', numpy_array)\n",
        "print('Tensor: ', tensor_from_array)\n",
        "print('Tensor: ', tensor_from_array_v2)"
      ],
      "execution_count": null,
      "outputs": [
        {
          "output_type": "stream",
          "text": [
            "Array:   [10  2]\n",
            "Tensor:  tensor([1, 2])\n",
            "Tensor:  tensor([10,  2])\n"
          ],
          "name": "stdout"
        }
      ]
    },
    {
      "cell_type": "markdown",
      "metadata": {
        "id": "-CKtdNRM3SMp",
        "colab_type": "text"
      },
      "source": [
        "## Question 2:\n",
        "\n",
        "Assume that we moved our complete (cats vs dogs) image dataset to numpy arrays. Then we use torch.from_numpy to convert these images to tensor. Then we apply a specific data augmentation strategy called \"CutOut\" which blocks a portion of the image directly on these tensors. What will happen to the accuracy of a model trained on this strategy compared to the one without this strategy? CutOut strategy is shown below: \n",
        "\n",
        "![CutOut](https://encrypted-tbn0.gstatic.com/images?q=tbn%3AANd9GcSnSyN835AmtQPKQbPjDHX-FmshNilbtexX95cRGQPwl56QCGDn)\n",
        "\n",
        "## Question 3:\n",
        "Why do you think we are observing this behavior?\n",
        "\n",
        "\n",
        "\n",
        "---\n",
        "\n",
        "\n"
      ]
    },
    {
      "cell_type": "markdown",
      "metadata": {
        "id": "dZq7O-aihSOA",
        "colab_type": "text"
      },
      "source": [
        "We have two different ways to create tensor from its NumPy counterpart - one copies memory and another one shares the same underlying storage. It works in the opposite way:"
      ]
    },
    {
      "cell_type": "code",
      "metadata": {
        "id": "TNFOwV8EhPwQ",
        "colab_type": "code",
        "colab": {
          "base_uri": "https://localhost:8080/",
          "height": 85
        },
        "outputId": "d7670d3e-c8a7-4db4-bbd2-9c1373d74d55"
      },
      "source": [
        "array_from_tensor = tensor_from_array.numpy()\n",
        "print('Tensor: ', tensor_from_array)\n",
        "print('Array: ', array_from_tensor)\n",
        "\n",
        "tensor_from_array[0] = 11\n",
        "print('Tensor: ', tensor_from_array)\n",
        "print('Array: ', array_from_tensor)"
      ],
      "execution_count": null,
      "outputs": [
        {
          "output_type": "stream",
          "text": [
            "Tensor:  tensor([1, 2])\n",
            "Array:  [1 2]\n",
            "Tensor:  tensor([11,  2])\n",
            "Array:  [11  2]\n"
          ],
          "name": "stdout"
        }
      ]
    },
    {
      "cell_type": "markdown",
      "metadata": {
        "id": "UM9ytbvKhtCw",
        "colab_type": "text"
      },
      "source": [
        "## Data types\n",
        "\n",
        "The basic data type of all Deep Learning-related operations is float, but sometimes you may need something else. Pytorch support different number types for its tensors the same way NumPy does it - by specifying the data type on tensor creation or via casting. Ths full list of supported data types can be found [here](https://pytorch.org/docs/stable/tensors.html). "
      ]
    },
    {
      "cell_type": "code",
      "metadata": {
        "id": "Bd6WkzJ4hpYi",
        "colab_type": "code",
        "colab": {
          "base_uri": "https://localhost:8080/",
          "height": 153
        },
        "outputId": "ef30deb1-6cb6-4711-cd44-fb34d64a5661"
      },
      "source": [
        "tensor = torch.zeros(2, 2)\n",
        "print('Tensor with default type: ', tensor)\n",
        "tensor = torch.zeros(2, 2, dtype=torch.float16)\n",
        "print('Tensor with 16-bit float: ', tensor)\n",
        "tensor = torch.zeros(2, 2, dtype=torch.int16)\n",
        "print('Tensor with integers: ', tensor)\n",
        "tensor = torch.zeros(2, 2, dtype=torch.bool)\n",
        "print('Tensor with boolean data: ', tensor)"
      ],
      "execution_count": null,
      "outputs": [
        {
          "output_type": "stream",
          "text": [
            "Tensor with default type:  tensor([[0., 0.],\n",
            "        [0., 0.]])\n",
            "Tensor with 16-bit float:  tensor([[0., 0.],\n",
            "        [0., 0.]], dtype=torch.float16)\n",
            "Tensor with integers:  tensor([[0, 0],\n",
            "        [0, 0]], dtype=torch.int16)\n",
            "Tensor with boolean data:  tensor([[False, False],\n",
            "        [False, False]])\n"
          ],
          "name": "stdout"
        }
      ]
    },
    {
      "cell_type": "markdown",
      "metadata": {
        "id": "a9F4Dkdr40TE",
        "colab_type": "text"
      },
      "source": [
        "\n",
        "\n",
        "---\n",
        "\n",
        "\n",
        "## Question 4:\n",
        "We saw above that some times numpy and tensors share same storage and changing one changes the other. \n",
        "If we define a rank-2-tensor with ones (dtype of f16), and then convert it into a numpy data type using tensor.numpy() and store it in a variable called \"num\", and then we perform this operation `num = num * 0.5`, will the original tensor have 1.0s or 0.5s as its element values? \n"
      ]
    },
    {
      "cell_type": "code",
      "metadata": {
        "id": "gAsSHtSSRMS8",
        "colab_type": "code",
        "colab": {
          "base_uri": "https://localhost:8080/",
          "height": 153
        },
        "outputId": "5cb31567-a018-4be9-bf80-d6e68eb6ef73"
      },
      "source": [
        "t = torch.ones(2,2,dtype = torch.float16)\n",
        "print(\"tensor is \" ,t)\n",
        "num = t.numpy()\n",
        "print (\" numpy is \" ,num)\n",
        "num[:]= num* 0.5\n",
        "print(\"after processing tensor is \" ,t)\n",
        "print (\" numpy is \" ,num)\n"
      ],
      "execution_count": null,
      "outputs": [
        {
          "output_type": "stream",
          "text": [
            "tensor is  tensor([[1., 1.],\n",
            "        [1., 1.]], dtype=torch.float16)\n",
            " numpy is  [[1. 1.]\n",
            " [1. 1.]]\n",
            "after processing tensor is  tensor([[0.5000, 0.5000],\n",
            "        [0.5000, 0.5000]], dtype=torch.float16)\n",
            " numpy is  [[0.5 0.5]\n",
            " [0.5 0.5]]\n"
          ],
          "name": "stdout"
        }
      ]
    },
    {
      "cell_type": "markdown",
      "metadata": {
        "id": "OiQt8Mmm51OE",
        "colab_type": "text"
      },
      "source": [
        "\n",
        "\n",
        "---\n",
        "\n",
        "## Question 5: \n",
        "If the operation `num = num*5` is changed to `num[:] = num*5` will the original tensor have 1.0s or 0.5s as its element values? \n",
        "\n",
        "\n",
        "\n",
        "---\n",
        "\n"
      ]
    },
    {
      "cell_type": "markdown",
      "metadata": {
        "id": "vzh8UB8KiVmb",
        "colab_type": "text"
      },
      "source": [
        "## Indexing\n",
        "\n",
        "Tensor provides access to its elements via the same `[]` operation as a regular python list or NumPy array. However, as you may recall from NumPy usage, the full power of math libraries is accessible only via vectorized operations, i.e. operations without explicit looping over all vector elements in python and using implicit optimized loops in C/C++/CUDA/Fortran/etc. available via special function calls. Pytorch employs the same paradigm and provides a wide range of vectorized operations. Let's take a look at some examples. \n",
        "\n",
        "Joining a list of tensors together with `torch.cat`"
      ]
    },
    {
      "cell_type": "code",
      "metadata": {
        "id": "GMaCDKPhiUAb",
        "colab_type": "code",
        "colab": {
          "base_uri": "https://localhost:8080/",
          "height": 187
        },
        "outputId": "3863b55c-8724-4562-8817-b153fa42fdff"
      },
      "source": [
        "a = torch.zeros(3, 2)\n",
        "b = torch.ones(3, 2)\n",
        "print(torch.cat((a, b), dim=1).t())\n",
        "print(torch.cat((a, b), dim=0))"
      ],
      "execution_count": null,
      "outputs": [
        {
          "output_type": "stream",
          "text": [
            "tensor([[0., 0., 0.],\n",
            "        [0., 0., 0.],\n",
            "        [1., 1., 1.],\n",
            "        [1., 1., 1.]])\n",
            "tensor([[0., 0.],\n",
            "        [0., 0.],\n",
            "        [0., 0.],\n",
            "        [1., 1.],\n",
            "        [1., 1.],\n",
            "        [1., 1.]])\n"
          ],
          "name": "stdout"
        }
      ]
    },
    {
      "cell_type": "markdown",
      "metadata": {
        "id": "5bj4aeE86zdH",
        "colab_type": "text"
      },
      "source": [
        "\n",
        "\n",
        "---\n",
        "\n",
        "## Question 6: \n",
        "Is the transpose of concatenated a & b tensor on dimension 1, same as the contatenated tensor of a & b on dimension 0? \n",
        "\n",
        "\n",
        "\n",
        "---\n",
        "\n"
      ]
    },
    {
      "cell_type": "markdown",
      "metadata": {
        "id": "0TXNne69j7LP",
        "colab_type": "text"
      },
      "source": [
        "Indexing with another tenxor/array:"
      ]
    },
    {
      "cell_type": "code",
      "metadata": {
        "id": "KiE-Fsi4jVd6",
        "colab_type": "code",
        "colab": {
          "base_uri": "https://localhost:8080/",
          "height": 102
        },
        "outputId": "0e05a762-54a1-465b-cf08-2d25311134bc"
      },
      "source": [
        "a = torch.arange(start=0, end=10)\n",
        "indices = np.arange(0, 10) > 5\n",
        "print(a)\n",
        "print(indices)\n",
        "print(a[indices])\n",
        "\n",
        "indices = torch.arange(start=0, end=10) %5\n",
        "print(indices)\n",
        "print(a[indices])"
      ],
      "execution_count": null,
      "outputs": [
        {
          "output_type": "stream",
          "text": [
            "tensor([0, 1, 2, 3, 4, 5, 6, 7, 8, 9])\n",
            "[False False False False False False  True  True  True  True]\n",
            "tensor([6, 7, 8, 9])\n",
            "tensor([0, 1, 2, 3, 4, 0, 1, 2, 3, 4])\n",
            "tensor([0, 1, 2, 3, 4, 0, 1, 2, 3, 4])\n"
          ],
          "name": "stdout"
        }
      ]
    },
    {
      "cell_type": "markdown",
      "metadata": {
        "id": "LS4dnlu47WQu",
        "colab_type": "text"
      },
      "source": [
        "\n",
        "\n",
        "---\n",
        "\n",
        "## Question 7:\n",
        "\n",
        "`a` is defined as `torch.arange(start=0, end=10)`. We will create `b` using the two operations as below. In both cases do we get the same value?\n",
        "\n",
        "\n",
        "1.   indices variable created by the modulo operation on arange between 0 and 10. Then a new varialble `b` is created from `a` using the last 5 elements of indices. \n",
        "2.   indices variable created by the modulo operation on arange betwenn 1 and 11. Then a new varialble `b` is created from `a` using the last 5 elements of indices. \n",
        "\n",
        "\n",
        "\n",
        "---\n",
        "\n",
        "\n"
      ]
    },
    {
      "cell_type": "code",
      "metadata": {
        "id": "1UPG5HPmX6fD",
        "colab_type": "code",
        "colab": {
          "base_uri": "https://localhost:8080/",
          "height": 51
        },
        "outputId": "83c6f380-2e88-4775-af6d-eac842bf7f2a"
      },
      "source": [
        "a= torch.arange(start =0, end =10)\n",
        "indices_1 = torch.arange(start=0, end=10) %5\n",
        "b_1 = a[indices_1[-5:]]\n",
        "print('b1 is ' ,b_1)\n",
        "indices_2 = torch.arange(start=0, end=11) %5\n",
        "b_2 = a[indices_2[-5:]]\n",
        "print('b2 is ' ,b_2)"
      ],
      "execution_count": null,
      "outputs": [
        {
          "output_type": "stream",
          "text": [
            "b1 is  tensor([0, 1, 2, 3, 4])\n",
            "b2 is  tensor([1, 2, 3, 4, 0])\n"
          ],
          "name": "stdout"
        }
      ]
    },
    {
      "cell_type": "markdown",
      "metadata": {
        "id": "eQ4ZCVsTk-KH",
        "colab_type": "text"
      },
      "source": [
        "What should we do if we have, say, rank-2-tensor and want to select only some rows?"
      ]
    },
    {
      "cell_type": "code",
      "metadata": {
        "id": "_GtRpotjkt1q",
        "colab_type": "code",
        "colab": {
          "base_uri": "https://localhost:8080/",
          "height": 136
        },
        "outputId": "5279aedd-76a6-45cf-a5fe-28f042ed5bc2"
      },
      "source": [
        "tensor = torch.rand((5, 3))\n",
        "rows = torch.tensor([0, 2])\n",
        "print(tensor)\n",
        "tensor[rows]"
      ],
      "execution_count": null,
      "outputs": [
        {
          "output_type": "stream",
          "text": [
            "tensor([[0.5864, 0.6536, 0.0320],\n",
            "        [0.4346, 0.4440, 0.2919],\n",
            "        [0.9432, 0.0291, 0.4182],\n",
            "        [0.1115, 0.9840, 0.5682],\n",
            "        [0.9251, 0.2696, 0.6269]])\n"
          ],
          "name": "stdout"
        },
        {
          "output_type": "execute_result",
          "data": {
            "text/plain": [
              "tensor([[0.5864, 0.6536, 0.0320],\n",
              "        [0.9432, 0.0291, 0.4182]])"
            ]
          },
          "metadata": {
            "tags": []
          },
          "execution_count": 15
        }
      ]
    },
    {
      "cell_type": "markdown",
      "metadata": {
        "id": "zIJnr_N2_Qaf",
        "colab_type": "text"
      },
      "source": [
        "\n",
        "\n",
        "---\n",
        "\n",
        "## Question 8: \n",
        "\n",
        "Consider a tensor defined as `torch.rand((6, 5))`. Is the shape of the new tensor created by taking the 0th, 2nd and 4th row of the old tensor same as the shape of the a newer tensor created by taking the 0th, 2nd and 4th row of the old tensor after transposing it by operation `torch.transpose(tensor, 0, 1)` ?\n",
        "\n",
        "\n",
        "\n",
        "---\n",
        "\n",
        "\n"
      ]
    },
    {
      "cell_type": "code",
      "metadata": {
        "id": "vU4Y9bt6h9St",
        "colab_type": "code",
        "colab": {
          "base_uri": "https://localhost:8080/",
          "height": 119
        },
        "outputId": "ac4e24a6-bc31-46aa-9b8a-b08dcf601419"
      },
      "source": [
        "a = torch.rand(6,5)\n",
        "b=  a[[0, 2, 4], :]\n",
        "print(b)\n",
        "c= torch.transpose(a,0,1)\n",
        "d= c[[0, 2, 4], :]\n",
        "print(d)"
      ],
      "execution_count": null,
      "outputs": [
        {
          "output_type": "stream",
          "text": [
            "tensor([[0.8020, 0.4699, 0.0967, 0.4822, 0.1515],\n",
            "        [0.9176, 0.0588, 0.1331, 0.9951, 0.2414],\n",
            "        [0.9727, 0.3682, 0.6380, 0.6849, 0.7707]])\n",
            "tensor([[0.8020, 0.1835, 0.9176, 0.5686, 0.9727, 0.0432],\n",
            "        [0.0967, 0.1841, 0.1331, 0.2245, 0.6380, 0.6914],\n",
            "        [0.1515, 0.0631, 0.2414, 0.4799, 0.7707, 0.5421]])\n"
          ],
          "name": "stdout"
        }
      ]
    },
    {
      "cell_type": "markdown",
      "metadata": {
        "id": "naDzFMkslU0b",
        "colab_type": "text"
      },
      "source": [
        "## Tensor Shapes\n",
        "\n",
        "Reshaping a tensor is a frequently used operation. We can change the shape of a tensor without the memory copying overhead. There are two methods for that: `reshape` and `view`. \n",
        "\n",
        "The difference is the following: \n",
        "\n",
        "\n",
        "*   view tries to return a tensor, and it shares the same memory with the original tensor. In case, if it cannot reuse the same memory due to [some reason](https://pytorch.org/docs/stable/tensors.html?highlight=view#torch.Tensor.view), it just fails. \n",
        "*   reshape always returns the tensor with the desired shape and tries to reuse the memory. If it cannot, it creates a copy\n",
        "\n",
        "Let's see with the help of an example:"
      ]
    },
    {
      "cell_type": "code",
      "metadata": {
        "id": "HClDkqLLlMJh",
        "colab_type": "code",
        "colab": {
          "base_uri": "https://localhost:8080/",
          "height": 170
        },
        "outputId": "2fbc18dd-120e-43f1-a4ae-9bf0a63aff66"
      },
      "source": [
        "tensor = torch.rand(2, 3, 4)\n",
        "print('Pointer to data: ', tensor.data_ptr())\n",
        "print('Shape: ', tensor.shape)\n",
        "\n",
        "reshaped = tensor.reshape(24)\n",
        "\n",
        "view = tensor.view(3, 2, 4)\n",
        "print('Reshaped tensor - pointer to data', reshaped.data_ptr())\n",
        "print('Reshaped tensor shape ', reshaped.shape)\n",
        "\n",
        "print('Viewed tensor - pointer to data', view.data_ptr())\n",
        "print('Viewed tensor shape ', view.shape)\n",
        "\n",
        "assert tensor.data_ptr() == view.data_ptr()\n",
        "\n",
        "assert np.all(np.equal(tensor.numpy().flat, reshaped.numpy().flat))\n",
        "\n",
        "print('Original stride: ', tensor.stride())\n",
        "print('Reshaped stride: ', reshaped.stride())\n",
        "print('Viewed stride: ', view.stride())"
      ],
      "execution_count": null,
      "outputs": [
        {
          "output_type": "stream",
          "text": [
            "Pointer to data:  106853760\n",
            "Shape:  torch.Size([2, 3, 4])\n",
            "Reshaped tensor - pointer to data 106853760\n",
            "Reshaped tensor shape  torch.Size([24])\n",
            "Viewed tensor - pointer to data 106853760\n",
            "Viewed tensor shape  torch.Size([3, 2, 4])\n",
            "Original stride:  (12, 4, 1)\n",
            "Reshaped stride:  (1,)\n",
            "Viewed stride:  (8, 4, 1)\n"
          ],
          "name": "stdout"
        }
      ]
    },
    {
      "cell_type": "markdown",
      "metadata": {
        "id": "jIN5jSppm4yC",
        "colab_type": "text"
      },
      "source": [
        "The basic rule about reshaping the tensor is definitely that you cannot change the total number of elements in it, so the product of all tensor's dimensions should always be the same. It gives us the ability to avoid specifying one dimension when reshaping the tensor - Pytorch can calculate it for us:"
      ]
    },
    {
      "cell_type": "code",
      "metadata": {
        "id": "e3D19ERFmzOl",
        "colab_type": "code",
        "colab": {
          "base_uri": "https://localhost:8080/",
          "height": 68
        },
        "outputId": "6c42093e-e105-4098-a26b-b31e64cbb3a5"
      },
      "source": [
        "print(tensor.reshape(3, 2, 4).shape)\n",
        "print(tensor.reshape(3, 2, -1).shape)\n",
        "print(tensor.reshape(3, -1, 4).shape)"
      ],
      "execution_count": null,
      "outputs": [
        {
          "output_type": "stream",
          "text": [
            "torch.Size([3, 2, 4])\n",
            "torch.Size([3, 2, 4])\n",
            "torch.Size([3, 2, 4])\n"
          ],
          "name": "stdout"
        }
      ]
    },
    {
      "cell_type": "markdown",
      "metadata": {
        "id": "ObgCQKUiETak",
        "colab_type": "text"
      },
      "source": [
        "\n",
        "\n",
        "---\n",
        "\n",
        "\n",
        "## Question 9:\n",
        "\n",
        "Consider a tensor `a` created with [1, 2, 3] and [1, 2, 3] of size (2, 3) is reshaped with operation `.reshape(-1, 2)`. Also consider a tensor `b` created with [[2, 1]] and of size (1, 2), later operated with `view(2, -1)` operation. \n",
        "\n",
        "If we do a dot product of a and b (using `torch.mm`) and perform the sum of all the elements (using `torch.sum`) what do we get? (enter int value without any decimal point in the quiz)\n",
        "\n",
        "\n",
        "\n",
        "---\n",
        "\n"
      ]
    },
    {
      "cell_type": "code",
      "metadata": {
        "id": "1sK2-SP4XDhQ",
        "colab_type": "code",
        "colab": {
          "base_uri": "https://localhost:8080/",
          "height": 204
        },
        "outputId": "2a2cc766-da6a-452b-84f5-4fbd0e9f7d01"
      },
      "source": [
        "a = torch.tensor([[1,2,3], [1, 2, 3]])\n",
        "print ('shape of a is',a.shape)\n",
        "a_reshape = a.reshape(-1,2)\n",
        "print('shape of a_reshpae is ' , a_reshape.shape, \" data is \", a_reshape)\n",
        "b = torch.tensor([[2, 1]])\n",
        "print ('shape of b is',b.shape)\n",
        "b_view  = b.view(2,-1)\n",
        "print('shape of b_view is ' , b_view.shape, \" b_view is \", b_view)\n",
        "dot_prod = torch.mm(a_reshape,b_view)\n",
        "print('shape of dot_prod is ' , dot_prod.shape, \" dot_prod is \", dot_prod)\n",
        "sum_elm = torch.sum(dot_prod)\n",
        "print('sum is ' , sum_elm)"
      ],
      "execution_count": null,
      "outputs": [
        {
          "output_type": "stream",
          "text": [
            "shape of a is torch.Size([2, 3])\n",
            "shape of a_reshpae is  torch.Size([3, 2])  data is  tensor([[1, 2],\n",
            "        [3, 1],\n",
            "        [2, 3]])\n",
            "shape of b is torch.Size([1, 2])\n",
            "shape of b_view is  torch.Size([2, 1])  b_view is  tensor([[2],\n",
            "        [1]])\n",
            "shape of dot_prod is  torch.Size([3, 1])  dot_prod is  tensor([[4],\n",
            "        [7],\n",
            "        [7]])\n",
            "sum is  tensor(18)\n"
          ],
          "name": "stdout"
        }
      ]
    },
    {
      "cell_type": "markdown",
      "metadata": {
        "id": "mza7QPg3ndeV",
        "colab_type": "text"
      },
      "source": [
        "**Alternative ways to view tensors** - `expand` or `expand_as`.\n",
        "\n",
        "\n",
        "\n",
        "*   `expand` - requires the desired shape as an input\n",
        "*   `expand_as` - uses the shape of another tensor\n",
        "\n",
        "These operations \"repeat\" tensor's values along the specified axes without actually copying the data. \n",
        "\n",
        "As the documentation says, expand:\n",
        "\n",
        "\n",
        "> returns a new view of the self tensor with singleton dimensions expanded to a larger size. Tensor can be also expanded to a larger number of dimensions, and the new ones will be appended at the front. For the new dimensions, the size cannot be set to -1. \n",
        "\n",
        "**Use case:**\n",
        "\n",
        "\n",
        "\n",
        "*   index multi-channel tensor with single-channel mask - imagine a color image with 3 channels (RGB) and binary mask for the area of interest on that image. We cannot index the image with this kind of mask directly since the dimensions are different, but we can use `expand_as` operation to create a view of the mask that has the same dimensions as the image we want to apply it to, but has not copied the data. "
      ]
    },
    {
      "cell_type": "code",
      "metadata": {
        "id": "iz33E-V7nPQT",
        "colab_type": "code",
        "colab": {
          "base_uri": "https://localhost:8080/",
          "height": 595
        },
        "outputId": "4ca1b8f0-8ee4-4f86-80d2-3b6cafd5793a"
      },
      "source": [
        "%matplotlib inline\n",
        "from matplotlib import pyplot as plt\n",
        "\n",
        "# Create a black image\n",
        "image = torch.zeros(size=(3, 256, 256), dtype=torch.int)\n",
        "\n",
        "# Leave the borders and make the rest of the image Green\n",
        "image[1, 18:256 - 18, 18:256 - 18] = 255\n",
        "\n",
        "# Create a mask of the same size\n",
        "mask = torch.zeros(size=(256, 256), dtype=torch.bool)\n",
        "\n",
        "# Assuming the green region in the original image is the Region of interest, change the mask to white for that area\n",
        "mask[18:256 - 18, 18:256 - 18] = 1\n",
        "\n",
        "# Create a view of the mask with the same dimensions as the original image\n",
        "mask_expanded = mask.expand_as(image)\n",
        "print(mask_expanded.shape)\n",
        "\n",
        "mask_np = mask_expanded.numpy().transpose(1, 2, 0) * 255\n",
        "image_np = image.numpy().transpose(1, 2, 0)\n",
        "\n",
        "fig, ax = plt.subplots(1, 2)\n",
        "ax[0].imshow(image_np)\n",
        "ax[1].imshow(mask_np)\n",
        "plt.show()\n",
        "\n",
        "image[0, mask] += 128\n",
        "fig, ax = plt.subplots(1, 2)\n",
        "ax[0].imshow(image_np)\n",
        "ax[1].imshow(mask_np)\n",
        "plt.show()\n",
        "\n",
        "image[mask_expanded] += 128\n",
        "image.clamp_(0, 255)\n",
        "fig, ax = plt.subplots(1, 2)\n",
        "ax[0].imshow(image_np)\n",
        "ax[1].imshow(mask_np)\n",
        "plt.show()"
      ],
      "execution_count": null,
      "outputs": [
        {
          "output_type": "stream",
          "text": [
            "torch.Size([3, 256, 256])\n"
          ],
          "name": "stdout"
        },
        {
          "output_type": "display_data",
          "data": {
            "image/png": "[encoded data removed]",
            "text/plain": [
              "<Figure size 432x288 with 2 Axes>"
            ]
          },
          "metadata": {
            "tags": [],
            "needs_background": "light"
          }
        },
        {
          "output_type": "display_data",
          "data": {
            "image/png": "[encoded data removed]",
            "text/plain": [
              "<Figure size 432x288 with 2 Axes>"
            ]
          },
          "metadata": {
            "tags": [],
            "needs_background": "light"
          }
        },
        {
          "output_type": "display_data",
          "data": {
            "image/png": "[encoded data removed]",
            "text/plain": [
              "<Figure size 432x288 with 2 Axes>"
            ]
          },
          "metadata": {
            "tags": [],
            "needs_background": "light"
          }
        }
      ]
    },
    {
      "cell_type": "markdown",
      "metadata": {
        "id": "jiXBx0k3ptOI",
        "colab_type": "text"
      },
      "source": [
        "In the example above, one can also find a couple of useful tricks:\n",
        "\n",
        "\n",
        "*   `clamp` method and function is a Pytorch's analogue of NumPy's `clip` function\n",
        "*   many operations on tensors have in-place form, that does not return modified data, but change values in the tensor. The in-place version of the operation has trailing underscore according to Pytorch's naming convension - in the exmaple above it is `clamp_`\n",
        "*   tensors have the same indexing as Numpy's arrays - one can use `:` seperated range, negative indexes and so on.\n",
        "\n",
        "\n",
        ".\n",
        "\n",
        "\n",
        "---\n",
        "\n",
        "# Images and their representations\n",
        "\n",
        "Now, let's discuss images, their representations and how different Python librarties work with them. \n",
        "\n",
        "Probably, the most well-known library for image loading and simple processing is [Pillow](https://pillow.readthedocs.io/en/stable/). \n",
        "\n",
        "However, many people in deep learning area stick with OpenCV for image loading and processing with some usage of another libraries when it is justified by performance/functionality. This is because OpenCV is in general much faster than the other libraries. Here you can find a couple of benchmarks: \n",
        "\n",
        "*   https://www.kaggle.com/zfturbo/benchmark-2019-speed-of-image-reading\n",
        "*   https://github.com/albumentations-team/albumentations#benchmarking-results\n",
        "\n",
        "To sum up the benchmarks above, there are two most common image formats, PNG and JPEGs. If your data is in PNG format - use OpenCV to read it. If it is in JPEG - use libturbojpeg. For image processing, use OpenCV if possible. _We will be using PIL a lot along with these._\n",
        "\n",
        "As you will read the code from others, you may find out that some of them use Pillow/something else to read data. You should know, that color image representations in OpenCV and other libraries are different - OpenCV uses \"BGR\" channel order, while others use \"RGB\" one. \n",
        "\n",
        "To change \"BRG\" <-> \"RGB\" the only thing we need to do it to change channel order."
      ]
    },
    {
      "cell_type": "code",
      "metadata": {
        "id": "ZYv4sZMmpndu",
        "colab_type": "code",
        "colab": {
          "base_uri": "https://localhost:8080/",
          "height": 248
        },
        "outputId": "70629fa7-8d8e-4e7d-b3ef-7d53f231324a"
      },
      "source": [
        "%matplotlib inline\n",
        "from matplotlib import pyplot as plt\n",
        "import cv2\n",
        "\n",
        "\n",
        "bgr_image = cv2.imread('mars.jpg') \n",
        "# remember to add your own image in case you run this block, if you want to use the same image, \n",
        "# download it from: https://encrypted-tbn0.gstatic.com/images?q=tbn%3AANd9GcRCA40ftnscVzfV8ft8e7vIzQXfXeZdtco8nknJrfCUW6INI40U\n",
        "rgb_image = bgr_image[..., ::-1]\n",
        "fig, ax = plt.subplots(1, 2)\n",
        "ax[0].imshow(bgr_image)\n",
        "ax[1].imshow(rgb_image)\n",
        "plt.show()"
      ],
      "execution_count": null,
      "outputs": [
        {
          "output_type": "error",
          "ename": "TypeError",
          "evalue": "ignored",
          "traceback": [
            "\u001b[0;31m---------------------------------------------------------------------------\u001b[0m",
            "\u001b[0;31mTypeError\u001b[0m                                 Traceback (most recent call last)",
            "\u001b[0;32m<ipython-input-21-72c49219a822>\u001b[0m in \u001b[0;36m<module>\u001b[0;34m()\u001b[0m\n\u001b[1;32m      7\u001b[0m \u001b[0;31m# remember to add your own image in case you run this block, if you want to use the same image,\u001b[0m\u001b[0;34m\u001b[0m\u001b[0;34m\u001b[0m\u001b[0;34m\u001b[0m\u001b[0m\n\u001b[1;32m      8\u001b[0m \u001b[0;31m# download it from: https://encrypted-tbn0.gstatic.com/images?q=tbn%3AANd9GcRCA40ftnscVzfV8ft8e7vIzQXfXeZdtco8nknJrfCUW6INI40U\u001b[0m\u001b[0;34m\u001b[0m\u001b[0;34m\u001b[0m\u001b[0;34m\u001b[0m\u001b[0m\n\u001b[0;32m----> 9\u001b[0;31m \u001b[0mrgb_image\u001b[0m \u001b[0;34m=\u001b[0m \u001b[0mbgr_image\u001b[0m\u001b[0;34m[\u001b[0m\u001b[0;34m...\u001b[0m\u001b[0;34m,\u001b[0m \u001b[0;34m:\u001b[0m\u001b[0;34m:\u001b[0m\u001b[0;34m-\u001b[0m\u001b[0;36m1\u001b[0m\u001b[0;34m]\u001b[0m\u001b[0;34m\u001b[0m\u001b[0;34m\u001b[0m\u001b[0m\n\u001b[0m\u001b[1;32m     10\u001b[0m \u001b[0mfig\u001b[0m\u001b[0;34m,\u001b[0m \u001b[0max\u001b[0m \u001b[0;34m=\u001b[0m \u001b[0mplt\u001b[0m\u001b[0;34m.\u001b[0m\u001b[0msubplots\u001b[0m\u001b[0;34m(\u001b[0m\u001b[0;36m1\u001b[0m\u001b[0;34m,\u001b[0m \u001b[0;36m2\u001b[0m\u001b[0;34m)\u001b[0m\u001b[0;34m\u001b[0m\u001b[0;34m\u001b[0m\u001b[0m\n\u001b[1;32m     11\u001b[0m \u001b[0max\u001b[0m\u001b[0;34m[\u001b[0m\u001b[0;36m0\u001b[0m\u001b[0;34m]\u001b[0m\u001b[0;34m.\u001b[0m\u001b[0mimshow\u001b[0m\u001b[0;34m(\u001b[0m\u001b[0mbgr_image\u001b[0m\u001b[0;34m)\u001b[0m\u001b[0;34m\u001b[0m\u001b[0;34m\u001b[0m\u001b[0m\n",
            "\u001b[0;31mTypeError\u001b[0m: 'NoneType' object is not subscriptable"
          ]
        }
      ]
    },
    {
      "cell_type": "markdown",
      "metadata": {
        "id": "yoi4TeNBGHle",
        "colab_type": "text"
      },
      "source": [
        "\n",
        "\n",
        "---\n",
        "\n",
        "## Question 10:\n",
        "\n",
        "Looking at the results above it can be said that the pixel values in the blue channels would be very small compared to red channel. True/False?\n",
        "\n",
        "\n",
        "---\n",
        "\n",
        "\n"
      ]
    },
    {
      "cell_type": "markdown",
      "metadata": {
        "id": "b3ugFd57zNwa",
        "colab_type": "text"
      },
      "source": [
        "# Autograd\n",
        "\n",
        "Pytorch supports automatic differentiation. The module which implements this is called **AutoGrad**. It calculates the gradients and keeps track in forward and backward passes. For primitive tensors, you need to enable or disable it using the `required_grad` flag. But, for advanced tensors, it is enabled by default"
      ]
    },
    {
      "cell_type": "code",
      "metadata": {
        "id": "VMOp4aiou6JR",
        "colab_type": "code",
        "colab": {
          "base_uri": "https://localhost:8080/",
          "height": 187
        },
        "outputId": "fa0250e6-7cc7-4f0e-96a6-cc15ccee8acf"
      },
      "source": [
        "a = torch.rand((3, 5), requires_grad = True)\n",
        "print(a)\n",
        "result = a * 5\n",
        "print(result)\n",
        "\n",
        "# grad can be implicitly created only for scalar outputs\n",
        "# so let's calculate the sum here so that the output becomes a scalar and we can apply a backward pass\n",
        "mean_result = result.sum()\n",
        "print(mean_result)\n",
        "# calculate gradient\n",
        "mean_result.backward()\n",
        "# print gradient of a\n",
        "print(a.grad)"
      ],
      "execution_count": null,
      "outputs": [
        {
          "output_type": "stream",
          "text": [
            "tensor([[0.1627, 0.1531, 0.1326, 0.5894, 0.9843],\n",
            "        [0.3733, 0.5043, 0.4532, 0.1969, 0.2769],\n",
            "        [0.7128, 0.4919, 0.1289, 0.8218, 0.8223]], requires_grad=True)\n",
            "tensor([[0.8133, 0.7655, 0.6629, 2.9469, 4.9215],\n",
            "        [1.8664, 2.5214, 2.2658, 0.9845, 1.3845],\n",
            "        [3.5641, 2.4594, 0.6446, 4.1090, 4.1115]], grad_fn=<MulBackward0>)\n",
            "tensor(34.0213, grad_fn=<SumBackward0>)\n",
            "tensor([[5., 5., 5., 5., 5.],\n",
            "        [5., 5., 5., 5., 5.],\n",
            "        [5., 5., 5., 5., 5.]])\n"
          ],
          "name": "stdout"
        }
      ]
    },
    {
      "cell_type": "markdown",
      "metadata": {
        "id": "ym0Amk2IGfLx",
        "colab_type": "text"
      },
      "source": [
        "\n",
        "\n",
        "---\n",
        "\n",
        "## Question 11: \n",
        "\n",
        "Why the gradient of a is all 5s above?\n",
        "\n",
        "\n",
        "\n",
        "---\n",
        "\n"
      ]
    },
    {
      "cell_type": "markdown",
      "metadata": {
        "id": "7PDgGq2R0k7I",
        "colab_type": "text"
      },
      "source": [
        "As we see, Pytorch automagically calculated the gradient value for us. It looks to be the correct value - we multiplied an input by 5, so the gradient of this operation equals to 5.\n",
        "\n",
        "# Disabling Autograd for tensors\n",
        "\n",
        "We don't need to compute gradients for all the variables that are involved in the pipeline. The Pytorch API provides 2 ways to disable autograd.\n",
        "\n",
        "`detach` - returns a copy of the tensor with autograd disabled. This \n",
        "\n",
        "1.   copy is built on the same memory as the original tensor, so in-place size / stride / storage changes (such as resize_ / resizeas / set / transpose) modifications are not allowed.\n",
        "2.   torch.no_grad() - It is a context manager that allows you to guard a series of operations from autograd without creating new tensors."
      ]
    },
    {
      "cell_type": "code",
      "metadata": {
        "id": "yqVG9fQb0cLW",
        "colab_type": "code",
        "colab": {
          "base_uri": "https://localhost:8080/",
          "height": 68
        },
        "outputId": "58027a25-8446-474f-bfc0-e211252df962"
      },
      "source": [
        "a = torch.rand((3, 5), requires_grad=True)\n",
        "detached_a = a.detach()\n",
        "detached_result = detached_a * 5\n",
        "result = a * 10\n",
        "# we cannot do backward pass that is required for autograd using multideminsional output,\n",
        "# so let's calculate the sum here\n",
        "mean_result = result.sum()\n",
        "mean_result.backward()\n",
        "a.grad"
      ],
      "execution_count": null,
      "outputs": [
        {
          "output_type": "execute_result",
          "data": {
            "text/plain": [
              "tensor([[10., 10., 10., 10., 10.],\n",
              "        [10., 10., 10., 10., 10.],\n",
              "        [10., 10., 10., 10., 10.]])"
            ]
          },
          "metadata": {
            "tags": []
          },
          "execution_count": 23
        }
      ]
    },
    {
      "cell_type": "code",
      "metadata": {
        "id": "uqpch2Be02J7",
        "colab_type": "code",
        "colab": {
          "base_uri": "https://localhost:8080/",
          "height": 68
        },
        "outputId": "ac85d4eb-f57e-4554-835f-589529f724a8"
      },
      "source": [
        "a = torch.rand((3, 5), requires_grad=True)\n",
        "with torch.no_grad():\n",
        "    detached_result = a * 5\n",
        "result = a * 10\n",
        "# we cannot do backward pass that is required for autograd using multideminsional output,\n",
        "# so let's calculate the sum here\n",
        "mean_result = result.sum()\n",
        "mean_result.backward()\n",
        "a.grad"
      ],
      "execution_count": null,
      "outputs": [
        {
          "output_type": "execute_result",
          "data": {
            "text/plain": [
              "tensor([[10., 10., 10., 10., 10.],\n",
              "        [10., 10., 10., 10., 10.],\n",
              "        [10., 10., 10., 10., 10.]])"
            ]
          },
          "metadata": {
            "tags": []
          },
          "execution_count": 24
        }
      ]
    },
    {
      "cell_type": "markdown",
      "metadata": {
        "id": "vjh2rYOPJUAZ",
        "colab_type": "text"
      },
      "source": [
        "# Custom Network\n",
        "\n",
        "A fully-connected ReLU network with one hidden layer and no biases, trained to predict y from x by minimizing squared Euclidean distance.\n",
        "\n",
        "This implementation uses PyTorch tensors to manually compute the forward pass, loss, and backward pass.\n",
        "\n",
        "A PyTorch Tensor is basically the same as a numpy array: it does not know anything about deep learning or computational graphs or gradients, and is just a generic n-dimensional array to be used for arbitrary numeric computation.\n",
        "\n",
        "The biggest difference between a numpy array and a PyTorch Tensor is that a PyTorch Tensor can run on either CPU or GPU. To run operations on the GPU, just cast the Tensor to a cuda datatype."
      ]
    },
    {
      "cell_type": "code",
      "metadata": {
        "id": "0nf5RaB104Vp",
        "colab_type": "code",
        "colab": {
          "base_uri": "https://localhost:8080/",
          "height": 1000
        },
        "outputId": "3a8ca86f-f9a0-4384-b290-f48b94c1c317"
      },
      "source": [
        "dtype = torch.float\n",
        "device = torch.device(\"cpu\")\n",
        "# device = torch.device(\"cuda:0\") # Uncomment this to run on GPU\n",
        "\n",
        "# N is batch size; D_in is input dimension;\n",
        "# H is hidden dimension; D_out is output dimension.\n",
        "N, D_in, H, D_out = 64, 1000, 100, 10\n",
        "\n",
        "# Create random input and output data\n",
        "x = torch.randn(N, D_in, device=device, dtype=dtype)\n",
        "y = torch.randn(N, D_out, device=device, dtype=dtype)\n",
        "\n",
        "# Randomly initialize weights\n",
        "w1 = torch.randn(D_in, H, device=device, dtype=dtype)\n",
        "w2 = torch.randn(H, D_out, device=device, dtype=dtype)\n",
        "\n",
        "learning_rate = 1e-6\n",
        "for t in range(500):\n",
        "    # Forward pass: compute predicted y\n",
        "    h = x.mm(w1)\n",
        "    h_relu = h.clamp(min=0)\n",
        "    y_pred = h_relu.mm(w2)\n",
        "\n",
        "    # Compute and print loss\n",
        "    loss = (y_pred - y).pow(2).sum().item()\n",
        "    print(t, loss)\n",
        "\n",
        "    # Backprop to compute gradients of w1 and w2 with respect to loss\n",
        "    grad_y_pred = 2*(y_pred - y)\n",
        "    grad_w2 = h_relu.t().mm(grad_y_pred)\n",
        "    grad_h_relu = grad_y_pred.mm(w2.t())\n",
        "    grad_h = grad_h_relu.clone()\n",
        "    grad_h[h < 0] = 0\n",
        "    grad_w1 = x.t().mm(grad_h)\n",
        "\n",
        "    # Update weights using gradient descent\n",
        "    w1 -= learning_rate * grad_w1\n",
        "    w2 -= learning_rate * grad_w2"
      ],
      "execution_count": null,
      "outputs": [
        {
          "output_type": "stream",
          "text": [
            "0 31136328.0\n",
            "1 28028574.0\n",
            "2 27628768.0\n",
            "3 25748084.0\n",
            "4 21026584.0\n",
            "5 14566360.0\n",
            "6 8899993.0\n",
            "7 5071538.0\n",
            "8 2922783.0\n",
            "9 1789378.5\n",
            "10 1194324.375\n",
            "11 864415.625\n",
            "12 666623.375\n",
            "13 536694.3125\n",
            "14 444193.40625\n",
            "15 374317.0625\n",
            "16 319273.21875\n",
            "17 274838.75\n",
            "18 238185.796875\n",
            "19 207576.5625\n",
            "20 181730.3125\n",
            "21 159758.96875\n",
            "22 140964.640625\n",
            "23 124806.2265625\n",
            "24 110849.96875\n",
            "25 98751.0703125\n",
            "26 88209.96875\n",
            "27 78990.59375\n",
            "28 70902.21875\n",
            "29 63782.984375\n",
            "30 57492.7578125\n",
            "31 51920.71875\n",
            "32 46974.25390625\n",
            "33 42577.46875\n",
            "34 38658.1953125\n",
            "35 35151.4453125\n",
            "36 32009.43359375\n",
            "37 29191.9453125\n",
            "38 26657.033203125\n",
            "39 24377.4140625\n",
            "40 22320.28515625\n",
            "41 20459.6875\n",
            "42 18775.048828125\n",
            "43 17248.427734375\n",
            "44 15861.044921875\n",
            "45 14598.91015625\n",
            "46 13448.99609375\n",
            "47 12400.1943359375\n",
            "48 11442.869140625\n",
            "49 10568.724609375\n",
            "50 9768.8037109375\n",
            "51 9036.111328125\n",
            "52 8364.2783203125\n",
            "53 7747.7392578125\n",
            "54 7181.55029296875\n",
            "55 6661.1005859375\n",
            "56 6182.6923828125\n",
            "57 5742.03271484375\n",
            "58 5335.65478515625\n",
            "59 4960.9677734375\n",
            "60 4615.21142578125\n",
            "61 4295.9462890625\n",
            "62 4001.02197265625\n",
            "63 3728.182373046875\n",
            "64 3475.833984375\n",
            "65 3241.92626953125\n",
            "66 3025.151611328125\n",
            "67 2824.129150390625\n",
            "68 2637.626220703125\n",
            "69 2464.56201171875\n",
            "70 2303.805419921875\n",
            "71 2154.58203125\n",
            "72 2016.355712890625\n",
            "73 1887.57177734375\n",
            "74 1767.708740234375\n",
            "75 1656.09423828125\n",
            "76 1552.101806640625\n",
            "77 1455.219482421875\n",
            "78 1364.7984619140625\n",
            "79 1280.43115234375\n",
            "80 1201.9326171875\n",
            "81 1128.4920654296875\n",
            "82 1059.8565673828125\n",
            "83 995.7074584960938\n",
            "84 935.7138671875\n",
            "85 879.6046142578125\n",
            "86 827.1835327148438\n",
            "87 778.1022338867188\n",
            "88 732.1226806640625\n",
            "89 689.1014404296875\n",
            "90 648.743408203125\n",
            "91 610.8815307617188\n",
            "92 575.3724975585938\n",
            "93 542.06591796875\n",
            "94 510.8150329589844\n",
            "95 481.45306396484375\n",
            "96 453.8843688964844\n",
            "97 427.9888610839844\n",
            "98 403.6646728515625\n",
            "99 380.81298828125\n",
            "100 359.3140869140625\n",
            "101 339.0961608886719\n",
            "102 320.087646484375\n",
            "103 302.18243408203125\n",
            "104 285.33935546875\n",
            "105 269.48651123046875\n",
            "106 254.5538330078125\n",
            "107 240.48529052734375\n",
            "108 227.238037109375\n",
            "109 214.773681640625\n",
            "110 203.01699829101562\n",
            "111 191.9281768798828\n",
            "112 181.469970703125\n",
            "113 171.6111602783203\n",
            "114 162.3099822998047\n",
            "115 153.5439453125\n",
            "116 145.272705078125\n",
            "117 137.46353149414062\n",
            "118 130.09405517578125\n",
            "119 123.14794158935547\n",
            "120 116.58079528808594\n",
            "121 110.37165832519531\n",
            "122 104.50647735595703\n",
            "123 98.9670181274414\n",
            "124 93.73004150390625\n",
            "125 88.78126525878906\n",
            "126 84.10537719726562\n",
            "127 79.67953491210938\n",
            "128 75.49916076660156\n",
            "129 71.54342651367188\n",
            "130 67.80476379394531\n",
            "131 64.27005004882812\n",
            "132 60.921226501464844\n",
            "133 57.75189208984375\n",
            "134 54.75284957885742\n",
            "135 51.917293548583984\n",
            "136 49.23102569580078\n",
            "137 46.68727111816406\n",
            "138 44.2811279296875\n",
            "139 42.00092315673828\n",
            "140 39.84135055541992\n",
            "141 37.797054290771484\n",
            "142 35.86250305175781\n",
            "143 34.028690338134766\n",
            "144 32.289886474609375\n",
            "145 30.64249610900879\n",
            "146 29.08214569091797\n",
            "147 27.602237701416016\n",
            "148 26.200050354003906\n",
            "149 24.8713436126709\n",
            "150 23.61118507385254\n",
            "151 22.41583824157715\n",
            "152 21.283693313598633\n",
            "153 20.209556579589844\n",
            "154 19.192340850830078\n",
            "155 18.22726058959961\n",
            "156 17.310945510864258\n",
            "157 16.441465377807617\n",
            "158 15.616926193237305\n",
            "159 14.834600448608398\n",
            "160 14.092741012573242\n",
            "161 13.388010025024414\n",
            "162 12.719915390014648\n",
            "163 12.085330963134766\n",
            "164 11.483489036560059\n",
            "165 10.911787986755371\n",
            "166 10.370281219482422\n",
            "167 9.856502532958984\n",
            "168 9.367000579833984\n",
            "169 8.902877807617188\n",
            "170 8.462423324584961\n",
            "171 8.044055938720703\n",
            "172 7.646572113037109\n",
            "173 7.2689666748046875\n",
            "174 6.911219120025635\n",
            "175 6.57056999206543\n",
            "176 6.247262954711914\n",
            "177 5.940074443817139\n",
            "178 5.648042678833008\n",
            "179 5.370600700378418\n",
            "180 5.107897758483887\n",
            "181 4.857738018035889\n",
            "182 4.620171070098877\n",
            "183 4.393958568572998\n",
            "184 4.179345607757568\n",
            "185 3.9753265380859375\n",
            "186 3.7810823917388916\n",
            "187 3.596998691558838\n",
            "188 3.4217960834503174\n",
            "189 3.255110740661621\n",
            "190 3.096769332885742\n",
            "191 2.9459643363952637\n",
            "192 2.803138017654419\n",
            "193 2.667407274246216\n",
            "194 2.5380141735076904\n",
            "195 2.4152021408081055\n",
            "196 2.2978858947753906\n",
            "197 2.1866374015808105\n",
            "198 2.0810532569885254\n",
            "199 1.980544090270996\n",
            "200 1.8850914239883423\n",
            "201 1.7941652536392212\n",
            "202 1.7075586318969727\n",
            "203 1.6251405477523804\n",
            "204 1.5469146966934204\n",
            "205 1.472294569015503\n",
            "206 1.4016945362091064\n",
            "207 1.3343616724014282\n",
            "208 1.270370364189148\n",
            "209 1.2094075679779053\n",
            "210 1.1512107849121094\n",
            "211 1.0961089134216309\n",
            "212 1.043541431427002\n",
            "213 0.9935469627380371\n",
            "214 0.9459465742111206\n",
            "215 0.9008692502975464\n",
            "216 0.8578067421913147\n",
            "217 0.816709041595459\n",
            "218 0.777701735496521\n",
            "219 0.7405868172645569\n",
            "220 0.705317497253418\n",
            "221 0.6717678308486938\n",
            "222 0.6397026181221008\n",
            "223 0.6092193126678467\n",
            "224 0.5802520513534546\n",
            "225 0.5526251792907715\n",
            "226 0.5263552069664001\n",
            "227 0.5013630390167236\n",
            "228 0.47753942012786865\n",
            "229 0.45484963059425354\n",
            "230 0.4332353174686432\n",
            "231 0.41273418068885803\n",
            "232 0.39315029978752136\n",
            "233 0.3744317889213562\n",
            "234 0.35677504539489746\n",
            "235 0.33988484740257263\n",
            "236 0.3237875998020172\n",
            "237 0.3084811568260193\n",
            "238 0.2938699722290039\n",
            "239 0.28004759550094604\n",
            "240 0.2668125331401825\n",
            "241 0.25413885712623596\n",
            "242 0.24214521050453186\n",
            "243 0.23073378205299377\n",
            "244 0.21986646950244904\n",
            "245 0.20947249233722687\n",
            "246 0.19960589706897736\n",
            "247 0.19022169709205627\n",
            "248 0.18125364184379578\n",
            "249 0.17274382710456848\n",
            "250 0.1646304726600647\n",
            "251 0.15685582160949707\n",
            "252 0.1494666039943695\n",
            "253 0.142470121383667\n",
            "254 0.13579529523849487\n",
            "255 0.1294250339269638\n",
            "256 0.12335537374019623\n",
            "257 0.11758945882320404\n",
            "258 0.11201469600200653\n",
            "259 0.10678426176309586\n",
            "260 0.10176593065261841\n",
            "261 0.09699854254722595\n",
            "262 0.09245818108320236\n",
            "263 0.08815446496009827\n",
            "264 0.08404026180505753\n",
            "265 0.0800916776061058\n",
            "266 0.07631095498800278\n",
            "267 0.07276991009712219\n",
            "268 0.06936304271221161\n",
            "269 0.06613590568304062\n",
            "270 0.06304552406072617\n",
            "271 0.06009022518992424\n",
            "272 0.05730024725198746\n",
            "273 0.0546112060546875\n",
            "274 0.05209239944815636\n",
            "275 0.049669280648231506\n",
            "276 0.04736161231994629\n",
            "277 0.045159321278333664\n",
            "278 0.04305197298526764\n",
            "279 0.04105139523744583\n",
            "280 0.03915661573410034\n",
            "281 0.0373302698135376\n",
            "282 0.03560919687151909\n",
            "283 0.033941369503736496\n",
            "284 0.032367680221796036\n",
            "285 0.03085259348154068\n",
            "286 0.029449377208948135\n",
            "287 0.028074339032173157\n",
            "288 0.026780344545841217\n",
            "289 0.025547344237565994\n",
            "290 0.02437414973974228\n",
            "291 0.02324599400162697\n",
            "292 0.022177064791321754\n",
            "293 0.0211460143327713\n",
            "294 0.020174473524093628\n",
            "295 0.019245794042944908\n",
            "296 0.01835799403488636\n",
            "297 0.017520040273666382\n",
            "298 0.01672443188726902\n",
            "299 0.015965785831212997\n",
            "300 0.015232475474476814\n",
            "301 0.014529947191476822\n",
            "302 0.01386331021785736\n",
            "303 0.013231189921498299\n",
            "304 0.012640569359064102\n",
            "305 0.012064963579177856\n",
            "306 0.011515527963638306\n",
            "307 0.01100459136068821\n",
            "308 0.01050537545233965\n",
            "309 0.010033125057816505\n",
            "310 0.009577726013958454\n",
            "311 0.009146394208073616\n",
            "312 0.008738603442907333\n",
            "313 0.00834569614380598\n",
            "314 0.007979082874953747\n",
            "315 0.007619267329573631\n",
            "316 0.007289068773388863\n",
            "317 0.0069608381018042564\n",
            "318 0.006658139638602734\n",
            "319 0.006365478038787842\n",
            "320 0.006084795109927654\n",
            "321 0.005823694169521332\n",
            "322 0.005566531326621771\n",
            "323 0.005322782322764397\n",
            "324 0.005094433203339577\n",
            "325 0.004870610777288675\n",
            "326 0.004666496533900499\n",
            "327 0.004468054044991732\n",
            "328 0.004273167811334133\n",
            "329 0.004094437696039677\n",
            "330 0.0039177946746349335\n",
            "331 0.0037503670901060104\n",
            "332 0.003591567510738969\n",
            "333 0.0034401677548885345\n",
            "334 0.0032974216155707836\n",
            "335 0.0031641938257962465\n",
            "336 0.0030335146002471447\n",
            "337 0.0029052100144326687\n",
            "338 0.0027898470871150494\n",
            "339 0.0026745940558612347\n",
            "340 0.0025654686614871025\n",
            "341 0.0024614352732896805\n",
            "342 0.0023643469903618097\n",
            "343 0.0022709197364747524\n",
            "344 0.002180609619244933\n",
            "345 0.00209253397770226\n",
            "346 0.002006859751418233\n",
            "347 0.0019317747792229056\n",
            "348 0.0018563478952273726\n",
            "349 0.0017879989463835955\n",
            "350 0.0017204047180712223\n",
            "351 0.001653134822845459\n",
            "352 0.0015929928049445152\n",
            "353 0.0015308331931009889\n",
            "354 0.001475120079703629\n",
            "355 0.001418678555637598\n",
            "356 0.0013657441595569253\n",
            "357 0.0013151845196262002\n",
            "358 0.001270001521334052\n",
            "359 0.0012255361070856452\n",
            "360 0.0011794742895290256\n",
            "361 0.00113728828728199\n",
            "362 0.0010973744792863727\n",
            "363 0.001060043228790164\n",
            "364 0.0010244558798149228\n",
            "365 0.000987619743682444\n",
            "366 0.0009534256532788277\n",
            "367 0.0009208155097439885\n",
            "368 0.0008899708045646548\n",
            "369 0.0008602389134466648\n",
            "370 0.0008302484638988972\n",
            "371 0.0008040167740546167\n",
            "372 0.0007769039366394281\n",
            "373 0.0007514939061366022\n",
            "374 0.0007273849914781749\n",
            "375 0.0007038756739348173\n",
            "376 0.0006807563477195799\n",
            "377 0.000657594995573163\n",
            "378 0.0006378628313541412\n",
            "379 0.0006175153539516032\n",
            "380 0.0005973181687295437\n",
            "381 0.0005806443514302373\n",
            "382 0.0005617316346615553\n",
            "383 0.0005454478086903691\n",
            "384 0.000529364449903369\n",
            "385 0.0005125830648466945\n",
            "386 0.0004980148514732718\n",
            "387 0.0004821493639610708\n",
            "388 0.0004677430843003094\n",
            "389 0.00045465881703421474\n",
            "390 0.0004413517308421433\n",
            "391 0.0004293313540983945\n",
            "392 0.00041668806807138026\n",
            "393 0.00040480532334186137\n",
            "394 0.0003942557377740741\n",
            "395 0.00038245972245931625\n",
            "396 0.0003727887524291873\n",
            "397 0.00036304141394793987\n",
            "398 0.000352485163602978\n",
            "399 0.00034353489172644913\n",
            "400 0.00033483695005998015\n",
            "401 0.00032654585083946586\n",
            "402 0.0003177288454025984\n",
            "403 0.00030899076955392957\n",
            "404 0.0003020098665729165\n",
            "405 0.0002942238061223179\n",
            "406 0.0002861344546545297\n",
            "407 0.0002789620484691113\n",
            "408 0.00027193367714062333\n",
            "409 0.0002654667478054762\n",
            "410 0.0002584510075394064\n",
            "411 0.00025214237393811345\n",
            "412 0.0002457191585563123\n",
            "413 0.00024026629398576915\n",
            "414 0.00023475159832742065\n",
            "415 0.00022902364435140043\n",
            "416 0.00022402559989131987\n",
            "417 0.00021824533178005368\n",
            "418 0.00021329379524104297\n",
            "419 0.00020908532314933836\n",
            "420 0.0002045267610810697\n",
            "421 0.00019907756359316409\n",
            "422 0.00019518614863045514\n",
            "423 0.00019085461099166423\n",
            "424 0.00018679123604670167\n",
            "425 0.0001821835758164525\n",
            "426 0.00017853689496405423\n",
            "427 0.0001751650415826589\n",
            "428 0.00017066707368940115\n",
            "429 0.00016709105693735182\n",
            "430 0.00016320701979566365\n",
            "431 0.00015975131827872247\n",
            "432 0.00015665512182749808\n",
            "433 0.00015376732335425913\n",
            "434 0.00015027860354166478\n",
            "435 0.0001473162556067109\n",
            "436 0.00014456891221925616\n",
            "437 0.0001416964369127527\n",
            "438 0.00013881386257708073\n",
            "439 0.0001359122688882053\n",
            "440 0.0001333812833763659\n",
            "441 0.00013078282063361257\n",
            "442 0.00012786456500180066\n",
            "443 0.00012595255975611508\n",
            "444 0.0001230024645337835\n",
            "445 0.00012091020471416414\n",
            "446 0.00011863921827170998\n",
            "447 0.00011625078332144767\n",
            "448 0.00011423927207943052\n",
            "449 0.00011192083911737427\n",
            "450 0.00010993970499839634\n",
            "451 0.0001081917725969106\n",
            "452 0.00010570253652986139\n",
            "453 0.00010397777077741921\n",
            "454 0.00010237331298412755\n",
            "455 0.00010075278987642378\n",
            "456 9.868480265140533e-05\n",
            "457 9.70880500972271e-05\n",
            "458 9.533078991807997e-05\n",
            "459 9.373215289087966e-05\n",
            "460 9.196788596455008e-05\n",
            "461 9.032078378368169e-05\n",
            "462 8.889746095519513e-05\n",
            "463 8.759302727412432e-05\n",
            "464 8.616386185167357e-05\n",
            "465 8.474149217363447e-05\n",
            "466 8.343644731212407e-05\n",
            "467 8.189436630345881e-05\n",
            "468 8.062243432505056e-05\n",
            "469 7.94281077105552e-05\n",
            "470 7.846797961974517e-05\n",
            "471 7.728884520474821e-05\n",
            "472 7.582351827295497e-05\n",
            "473 7.498420018237084e-05\n",
            "474 7.343749894062057e-05\n",
            "475 7.23127304809168e-05\n",
            "476 7.115417247405276e-05\n",
            "477 7.034857117105275e-05\n",
            "478 6.925815250724554e-05\n",
            "479 6.824501906521618e-05\n",
            "480 6.752243643859401e-05\n",
            "481 6.643949018325657e-05\n",
            "482 6.539672904182225e-05\n",
            "483 6.449704233091325e-05\n",
            "484 6.349517207127064e-05\n",
            "485 6.268302968237549e-05\n",
            "486 6.193182343849912e-05\n",
            "487 6.101318649598397e-05\n",
            "488 6.017202395014465e-05\n",
            "489 5.9458852774696425e-05\n",
            "490 5.870470340596512e-05\n",
            "491 5.754142694058828e-05\n",
            "492 5.6813347327988595e-05\n",
            "493 5.6094959290931e-05\n",
            "494 5.558221891988069e-05\n",
            "495 5.4768486734246835e-05\n",
            "496 5.4085132433101535e-05\n",
            "497 5.323157529346645e-05\n",
            "498 5.259619138087146e-05\n",
            "499 5.206389687373303e-05\n"
          ],
          "name": "stdout"
        }
      ]
    },
    {
      "cell_type": "markdown",
      "metadata": {
        "id": "ycwxAPHZLNST",
        "colab_type": "text"
      },
      "source": [
        "\n",
        "\n",
        "---\n",
        "## Question 12\n",
        "\n",
        "In the code above, why do we have 2 in '2.0*(y_pred - y)`?\n",
        "\n",
        "## Question 13\n",
        "In the code above, what does `grad_h[h < 0] = 0` signify?\n",
        "\n",
        "## Question 14\n",
        "In the code above, how many \"epochs\" have we trained the model for? \n",
        "\n",
        "## Question 15\n",
        "In the code above, if we take the trained model, and run it on fresh  inputs, the trained model will be able to predict fresh output with high accuracy. \n",
        "\n",
        "## Question 16\n",
        "In the code above, if we dont use clone in `grad_h = grad_h_relu.clone()` the model will still train without any issues. "
      ]
    },
    {
      "cell_type": "code",
      "metadata": {
        "id": "PnJ49I07JJI6",
        "colab_type": "code",
        "colab": {}
      },
      "source": [
        ""
      ],
      "execution_count": null,
      "outputs": []
    }
  ]
}